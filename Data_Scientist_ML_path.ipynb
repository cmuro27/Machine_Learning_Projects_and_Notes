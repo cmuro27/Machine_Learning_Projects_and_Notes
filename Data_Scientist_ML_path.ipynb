{
  "nbformat": 4,
  "nbformat_minor": 0,
  "metadata": {
    "colab": {
      "provenance": [],
      "authorship_tag": "ABX9TyOCeWcYl1029FyTkZ86Dfs0",
      "include_colab_link": true
    },
    "kernelspec": {
      "name": "python3",
      "display_name": "Python 3"
    },
    "language_info": {
      "name": "python"
    }
  },
  "cells": [
    {
      "cell_type": "markdown",
      "metadata": {
        "id": "view-in-github",
        "colab_type": "text"
      },
      "source": [
        "<a href=\"https://colab.research.google.com/github/cmuro27/Machine_Learning_Projects_and_Notes/blob/main/Data_Scientist_ML_path.ipynb\" target=\"_parent\"><img src=\"https://colab.research.google.com/assets/colab-badge.svg\" alt=\"Open In Colab\"/></a>"
      ]
    },
    {
      "cell_type": "markdown",
      "source": [
        "# Data Scientis Machine Learning Specialist - Codeacademy"
      ],
      "metadata": {
        "id": "WvUfbFs9lqa-"
      }
    },
    {
      "cell_type": "markdown",
      "source": [
        "## Exploring Data with SQL  \n",
        "  \n",
        "Like most organizations, Codecademy uses SQL (Structured Query Language) to access its database.\n",
        "\n",
        "A database is a set of data stored in a computer. This data is usually structured into tables. Tables can grow large and have a multitude of columns and records.\n",
        "\n",
        "Spreadsheets, like Microsoft Excel and Google Sheets, allow you to view and manipulate data directly: with selecting, filtering, sorting, etc. By applying a number of these operations you can obtain the subset of data you are seeking.\n",
        "\n",
        "SQL (pronounced “S-Q-L” or “sequel”) allows you to write queries which define the subset of data you are seeking. Unlike Excel and Sheets, your computer and SQL will handle how to get the data; you can focus on what data you would like. You can save these queries, refine them, share them, and run them on different databases.\n",
        "\n",
        "It is a great way to access data and a great entry point to programming because its syntax (the specific vocabulary that gives instructions to the computer) is very human-readable. Without knowing any SQL, you might still be able to guess what each command will do."
      ],
      "metadata": {
        "id": "TbLonQjAlsry"
      }
    },
    {
      "cell_type": "code",
      "execution_count": 1,
      "metadata": {
        "id": "eqph4DLzlIxv"
      },
      "outputs": [],
      "source": [
        "# Data Scientis Machine Learning Specialist - Codeacademy"
      ]
    },
    {
      "cell_type": "code",
      "source": [],
      "metadata": {
        "id": "JCHlYi-Zlnim"
      },
      "execution_count": null,
      "outputs": []
    },
    {
      "cell_type": "markdown",
      "source": [],
      "metadata": {
        "id": "aj94YIjjloNZ"
      }
    }
  ]
}