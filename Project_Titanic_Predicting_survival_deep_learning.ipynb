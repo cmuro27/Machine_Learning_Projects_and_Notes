{
 "cells": [
  {
   "attachments": {},
   "cell_type": "markdown",
   "metadata": {},
   "source": [
    "# Titanic - Predicting survival with Deep Learning \n",
    "César Muro.  \n",
    "\n",
    "We are going to create a deep learning model that predicts which passengers survived the Titanic shipwreck. \n",
    "First, we perform an exploratory data analysis on the dataset. Then, we employ tensorflow and Keras to construct neural networks with different tunings as output activation functions and different loss functions."
   ]
  },
  {
   "attachments": {},
   "cell_type": "markdown",
   "metadata": {},
   "source": [
    "We import the data from my github:"
   ]
  },
  {
   "cell_type": "code",
   "execution_count": 189,
   "metadata": {},
   "outputs": [],
   "source": [
    "import pandas as pd\n",
    "import seaborn as sns\n",
    "import numpy as np\n",
    "import matplotlib.pyplot as plt\n",
    "url=\"https://raw.githubusercontent.com/cmuro27/Machine_Learning_Projects_and_Notes/main/datasets/titanic_all_numeric.csv\"\n",
    "titanic=pd.read_csv(url)"
   ]
  },
  {
   "attachments": {},
   "cell_type": "markdown",
   "metadata": {},
   "source": [
    "and perform an exploratory data analysis (EDA) to our data. \n"
   ]
  },
  {
   "attachments": {},
   "cell_type": "markdown",
   "metadata": {},
   "source": [
    "## Exploratory data analysis  \n",
    "First, we look the characteristics of the dataframe"
   ]
  },
  {
   "cell_type": "code",
   "execution_count": 2,
   "metadata": {},
   "outputs": [
    {
     "name": "stdout",
     "output_type": "stream",
     "text": [
      "<class 'pandas.core.frame.DataFrame'>\n",
      "RangeIndex: 891 entries, 0 to 890\n",
      "Data columns (total 11 columns):\n",
      " #   Column                     Non-Null Count  Dtype  \n",
      "---  ------                     --------------  -----  \n",
      " 0   survived                   891 non-null    int64  \n",
      " 1   pclass                     891 non-null    int64  \n",
      " 2   age                        891 non-null    float64\n",
      " 3   sibsp                      891 non-null    int64  \n",
      " 4   parch                      891 non-null    int64  \n",
      " 5   fare                       891 non-null    float64\n",
      " 6   male                       891 non-null    int64  \n",
      " 7   age_was_missing            891 non-null    bool   \n",
      " 8   embarked_from_cherbourg    891 non-null    int64  \n",
      " 9   embarked_from_queenstown   891 non-null    int64  \n",
      " 10  embarked_from_southampton  891 non-null    int64  \n",
      "dtypes: bool(1), float64(2), int64(8)\n",
      "memory usage: 70.6 KB\n"
     ]
    }
   ],
   "source": [
    "titanic.info()"
   ]
  },
  {
   "attachments": {},
   "cell_type": "markdown",
   "metadata": {},
   "source": [
    "We have 891 non-null values. Our target variable is survived and we count with 10 features.  "
   ]
  },
  {
   "cell_type": "code",
   "execution_count": 98,
   "metadata": {},
   "outputs": [
    {
     "data": {
      "text/html": [
       "<div>\n",
       "<style scoped>\n",
       "    .dataframe tbody tr th:only-of-type {\n",
       "        vertical-align: middle;\n",
       "    }\n",
       "\n",
       "    .dataframe tbody tr th {\n",
       "        vertical-align: top;\n",
       "    }\n",
       "\n",
       "    .dataframe thead th {\n",
       "        text-align: right;\n",
       "    }\n",
       "</style>\n",
       "<table border=\"1\" class=\"dataframe\">\n",
       "  <thead>\n",
       "    <tr style=\"text-align: right;\">\n",
       "      <th></th>\n",
       "      <th>survived</th>\n",
       "      <th>pclass</th>\n",
       "      <th>age</th>\n",
       "      <th>sibsp</th>\n",
       "      <th>parch</th>\n",
       "      <th>fare</th>\n",
       "      <th>male</th>\n",
       "      <th>age_was_missing</th>\n",
       "      <th>embarked_from_cherbourg</th>\n",
       "      <th>embarked_from_queenstown</th>\n",
       "      <th>embarked_from_southampton</th>\n",
       "    </tr>\n",
       "  </thead>\n",
       "  <tbody>\n",
       "    <tr>\n",
       "      <th>0</th>\n",
       "      <td>0</td>\n",
       "      <td>3</td>\n",
       "      <td>22.0</td>\n",
       "      <td>1</td>\n",
       "      <td>0</td>\n",
       "      <td>7.2500</td>\n",
       "      <td>1</td>\n",
       "      <td>False</td>\n",
       "      <td>0</td>\n",
       "      <td>0</td>\n",
       "      <td>1</td>\n",
       "    </tr>\n",
       "    <tr>\n",
       "      <th>1</th>\n",
       "      <td>1</td>\n",
       "      <td>1</td>\n",
       "      <td>38.0</td>\n",
       "      <td>1</td>\n",
       "      <td>0</td>\n",
       "      <td>71.2833</td>\n",
       "      <td>0</td>\n",
       "      <td>False</td>\n",
       "      <td>1</td>\n",
       "      <td>0</td>\n",
       "      <td>0</td>\n",
       "    </tr>\n",
       "    <tr>\n",
       "      <th>2</th>\n",
       "      <td>1</td>\n",
       "      <td>3</td>\n",
       "      <td>26.0</td>\n",
       "      <td>0</td>\n",
       "      <td>0</td>\n",
       "      <td>7.9250</td>\n",
       "      <td>0</td>\n",
       "      <td>False</td>\n",
       "      <td>0</td>\n",
       "      <td>0</td>\n",
       "      <td>1</td>\n",
       "    </tr>\n",
       "    <tr>\n",
       "      <th>3</th>\n",
       "      <td>1</td>\n",
       "      <td>1</td>\n",
       "      <td>35.0</td>\n",
       "      <td>1</td>\n",
       "      <td>0</td>\n",
       "      <td>53.1000</td>\n",
       "      <td>0</td>\n",
       "      <td>False</td>\n",
       "      <td>0</td>\n",
       "      <td>0</td>\n",
       "      <td>1</td>\n",
       "    </tr>\n",
       "    <tr>\n",
       "      <th>4</th>\n",
       "      <td>0</td>\n",
       "      <td>3</td>\n",
       "      <td>35.0</td>\n",
       "      <td>0</td>\n",
       "      <td>0</td>\n",
       "      <td>8.0500</td>\n",
       "      <td>1</td>\n",
       "      <td>False</td>\n",
       "      <td>0</td>\n",
       "      <td>0</td>\n",
       "      <td>1</td>\n",
       "    </tr>\n",
       "  </tbody>\n",
       "</table>\n",
       "</div>"
      ],
      "text/plain": [
       "   survived  pclass   age  sibsp  parch     fare  male  age_was_missing  \\\n",
       "0         0       3  22.0      1      0   7.2500     1            False   \n",
       "1         1       1  38.0      1      0  71.2833     0            False   \n",
       "2         1       3  26.0      0      0   7.9250     0            False   \n",
       "3         1       1  35.0      1      0  53.1000     0            False   \n",
       "4         0       3  35.0      0      0   8.0500     1            False   \n",
       "\n",
       "   embarked_from_cherbourg  embarked_from_queenstown  \\\n",
       "0                        0                         0   \n",
       "1                        1                         0   \n",
       "2                        0                         0   \n",
       "3                        0                         0   \n",
       "4                        0                         0   \n",
       "\n",
       "   embarked_from_southampton  \n",
       "0                          1  \n",
       "1                          0  \n",
       "2                          1  \n",
       "3                          1  \n",
       "4                          1  "
      ]
     },
     "execution_count": 98,
     "metadata": {},
     "output_type": "execute_result"
    }
   ],
   "source": [
    "titanic.head()"
   ]
  },
  {
   "cell_type": "code",
   "execution_count": 126,
   "metadata": {},
   "outputs": [
    {
     "data": {
      "text/plain": [
       "0    0.616162\n",
       "1    0.383838\n",
       "Name: survived, dtype: float64"
      ]
     },
     "execution_count": 126,
     "metadata": {},
     "output_type": "execute_result"
    }
   ],
   "source": [
    "titanic.survived.value_counts(1)"
   ]
  },
  {
   "attachments": {},
   "cell_type": "markdown",
   "metadata": {},
   "source": [
    "We observe that just $38 %$ percent of the passengers survived."
   ]
  },
  {
   "cell_type": "code",
   "execution_count": 90,
   "metadata": {},
   "outputs": [
    {
     "data": {
      "text/html": [
       "<div>\n",
       "<style scoped>\n",
       "    .dataframe tbody tr th:only-of-type {\n",
       "        vertical-align: middle;\n",
       "    }\n",
       "\n",
       "    .dataframe tbody tr th {\n",
       "        vertical-align: top;\n",
       "    }\n",
       "\n",
       "    .dataframe thead th {\n",
       "        text-align: right;\n",
       "    }\n",
       "</style>\n",
       "<table border=\"1\" class=\"dataframe\">\n",
       "  <thead>\n",
       "    <tr style=\"text-align: right;\">\n",
       "      <th></th>\n",
       "      <th>survived</th>\n",
       "      <th>pclass</th>\n",
       "      <th>age</th>\n",
       "      <th>sibsp</th>\n",
       "      <th>parch</th>\n",
       "      <th>fare</th>\n",
       "      <th>male</th>\n",
       "      <th>embarked_from_cherbourg</th>\n",
       "      <th>embarked_from_queenstown</th>\n",
       "      <th>embarked_from_southampton</th>\n",
       "    </tr>\n",
       "  </thead>\n",
       "  <tbody>\n",
       "    <tr>\n",
       "      <th>count</th>\n",
       "      <td>891.000000</td>\n",
       "      <td>891.000000</td>\n",
       "      <td>891.000000</td>\n",
       "      <td>891.000000</td>\n",
       "      <td>891.000000</td>\n",
       "      <td>891.000000</td>\n",
       "      <td>891.000000</td>\n",
       "      <td>891.000000</td>\n",
       "      <td>891.000000</td>\n",
       "      <td>891.000000</td>\n",
       "    </tr>\n",
       "    <tr>\n",
       "      <th>mean</th>\n",
       "      <td>0.383838</td>\n",
       "      <td>2.308642</td>\n",
       "      <td>29.699118</td>\n",
       "      <td>0.523008</td>\n",
       "      <td>0.381594</td>\n",
       "      <td>32.204208</td>\n",
       "      <td>0.647587</td>\n",
       "      <td>0.188552</td>\n",
       "      <td>0.086420</td>\n",
       "      <td>0.722783</td>\n",
       "    </tr>\n",
       "    <tr>\n",
       "      <th>std</th>\n",
       "      <td>0.486592</td>\n",
       "      <td>0.836071</td>\n",
       "      <td>13.002015</td>\n",
       "      <td>1.102743</td>\n",
       "      <td>0.806057</td>\n",
       "      <td>49.693429</td>\n",
       "      <td>0.477990</td>\n",
       "      <td>0.391372</td>\n",
       "      <td>0.281141</td>\n",
       "      <td>0.447876</td>\n",
       "    </tr>\n",
       "    <tr>\n",
       "      <th>min</th>\n",
       "      <td>0.000000</td>\n",
       "      <td>1.000000</td>\n",
       "      <td>0.420000</td>\n",
       "      <td>0.000000</td>\n",
       "      <td>0.000000</td>\n",
       "      <td>0.000000</td>\n",
       "      <td>0.000000</td>\n",
       "      <td>0.000000</td>\n",
       "      <td>0.000000</td>\n",
       "      <td>0.000000</td>\n",
       "    </tr>\n",
       "    <tr>\n",
       "      <th>25%</th>\n",
       "      <td>0.000000</td>\n",
       "      <td>2.000000</td>\n",
       "      <td>22.000000</td>\n",
       "      <td>0.000000</td>\n",
       "      <td>0.000000</td>\n",
       "      <td>7.910400</td>\n",
       "      <td>0.000000</td>\n",
       "      <td>0.000000</td>\n",
       "      <td>0.000000</td>\n",
       "      <td>0.000000</td>\n",
       "    </tr>\n",
       "    <tr>\n",
       "      <th>50%</th>\n",
       "      <td>0.000000</td>\n",
       "      <td>3.000000</td>\n",
       "      <td>29.699118</td>\n",
       "      <td>0.000000</td>\n",
       "      <td>0.000000</td>\n",
       "      <td>14.454200</td>\n",
       "      <td>1.000000</td>\n",
       "      <td>0.000000</td>\n",
       "      <td>0.000000</td>\n",
       "      <td>1.000000</td>\n",
       "    </tr>\n",
       "    <tr>\n",
       "      <th>75%</th>\n",
       "      <td>1.000000</td>\n",
       "      <td>3.000000</td>\n",
       "      <td>35.000000</td>\n",
       "      <td>1.000000</td>\n",
       "      <td>0.000000</td>\n",
       "      <td>31.000000</td>\n",
       "      <td>1.000000</td>\n",
       "      <td>0.000000</td>\n",
       "      <td>0.000000</td>\n",
       "      <td>1.000000</td>\n",
       "    </tr>\n",
       "    <tr>\n",
       "      <th>max</th>\n",
       "      <td>1.000000</td>\n",
       "      <td>3.000000</td>\n",
       "      <td>80.000000</td>\n",
       "      <td>8.000000</td>\n",
       "      <td>6.000000</td>\n",
       "      <td>512.329200</td>\n",
       "      <td>1.000000</td>\n",
       "      <td>1.000000</td>\n",
       "      <td>1.000000</td>\n",
       "      <td>1.000000</td>\n",
       "    </tr>\n",
       "  </tbody>\n",
       "</table>\n",
       "</div>"
      ],
      "text/plain": [
       "         survived      pclass         age       sibsp       parch        fare  \\\n",
       "count  891.000000  891.000000  891.000000  891.000000  891.000000  891.000000   \n",
       "mean     0.383838    2.308642   29.699118    0.523008    0.381594   32.204208   \n",
       "std      0.486592    0.836071   13.002015    1.102743    0.806057   49.693429   \n",
       "min      0.000000    1.000000    0.420000    0.000000    0.000000    0.000000   \n",
       "25%      0.000000    2.000000   22.000000    0.000000    0.000000    7.910400   \n",
       "50%      0.000000    3.000000   29.699118    0.000000    0.000000   14.454200   \n",
       "75%      1.000000    3.000000   35.000000    1.000000    0.000000   31.000000   \n",
       "max      1.000000    3.000000   80.000000    8.000000    6.000000  512.329200   \n",
       "\n",
       "             male  embarked_from_cherbourg  embarked_from_queenstown  \\\n",
       "count  891.000000               891.000000                891.000000   \n",
       "mean     0.647587                 0.188552                  0.086420   \n",
       "std      0.477990                 0.391372                  0.281141   \n",
       "min      0.000000                 0.000000                  0.000000   \n",
       "25%      0.000000                 0.000000                  0.000000   \n",
       "50%      1.000000                 0.000000                  0.000000   \n",
       "75%      1.000000                 0.000000                  0.000000   \n",
       "max      1.000000                 1.000000                  1.000000   \n",
       "\n",
       "       embarked_from_southampton  \n",
       "count                 891.000000  \n",
       "mean                    0.722783  \n",
       "std                     0.447876  \n",
       "min                     0.000000  \n",
       "25%                     0.000000  \n",
       "50%                     1.000000  \n",
       "75%                     1.000000  \n",
       "max                     1.000000  "
      ]
     },
     "execution_count": 90,
     "metadata": {},
     "output_type": "execute_result"
    }
   ],
   "source": [
    "titanic.describe()"
   ]
  },
  {
   "attachments": {},
   "cell_type": "markdown",
   "metadata": {},
   "source": [
    "By analyzing the descriptive statistics we find that mean age is 30 years. The majority of the people, around the 75%, was traveling alone and embarked in Southhampton. There were more men than women on the ship."
   ]
  },
  {
   "cell_type": "code",
   "execution_count": 100,
   "metadata": {},
   "outputs": [
    {
     "data": {
      "text/plain": [
       "0    678\n",
       "1    118\n",
       "2     80\n",
       "5      5\n",
       "3      5\n",
       "4      4\n",
       "6      1\n",
       "Name: parch, dtype: int64"
      ]
     },
     "execution_count": 100,
     "metadata": {},
     "output_type": "execute_result"
    }
   ],
   "source": [
    "titanic.parch.value_counts()"
   ]
  },
  {
   "attachments": {},
   "cell_type": "markdown",
   "metadata": {},
   "source": [
    "Now, we explore visually the relations between distinct the features and the target variable"
   ]
  },
  {
   "cell_type": "code",
   "execution_count": 228,
   "metadata": {},
   "outputs": [
    {
     "data": {
      "image/png": "[encoded data removed]",
      "text/plain": [
       "<Figure size 1944x1152 with 6 Axes>"
      ]
     },
     "metadata": {
      "needs_background": "light"
     },
     "output_type": "display_data"
    },
    {
     "data": {
      "image/png": "[encoded data removed]",
      "text/plain": [
       "<Figure size 432x432 with 3 Axes>"
      ]
     },
     "metadata": {
      "needs_background": "light"
     },
     "output_type": "display_data"
    }
   ],
   "source": [
    "total=len(titanic)\n",
    "\n",
    "fig, axes = plt.subplots(2,3,figsize=(27, 16))\n",
    "\n",
    "sns.countplot(x='male',data=titanic,ax=axes[0,0])\n",
    "\n",
    "axes[0,0].set(xticklabels = (['female', 'male']),\n",
    "              title=\"Count of passengers by sex\",\n",
    "              xlabel=None,\n",
    "              ylabel=\"Number of passengers\",\n",
    "              yticks=(np.arange(0,601,50))) \n",
    "\n",
    "for p in axes[0,0].patches:\n",
    "    percentage=f'{100*p.get_height()/total:.1f}%\\n'\n",
    "    x=p.get_x()+p.get_width()/2\n",
    "    y=p.get_height()\n",
    "    axes[0,0].annotate(percentage,(x,y),ha='center',va='center',fontsize=14)\n",
    "\n",
    "sns.countplot(x='survived',hue='male',data=titanic,ax=axes[0,1])\n",
    "\n",
    "axes[0,1].legend(title='Sex', loc='upper right', labels=['Women', 'Men'])\n",
    "axes[0,1].set(yticks=(np.arange(0,551,50)),\n",
    "              title=\"Count of survivors and deaths\",\n",
    "              xticklabels=(['did not survive','survived']))\n",
    "\n",
    "for p in axes[0,1].patches:\n",
    "    percentage=f'{100*p.get_height()/total:.1f}%\\n'\n",
    "    x=p.get_x()+p.get_width()/2\n",
    "    y=p.get_height()\n",
    "    axes[0,1].annotate(percentage,(x,y),ha='center',va='center',fontsize=14)\n",
    "sns.boxplot(ax=axes[0,2],x='survived',y='age',data=titanic)\n",
    "axes[0,2].set(ylabel='age',title=\"Boxplots between survived category and people's ages\",\n",
    "              xlabel=None,\n",
    "              xticklabels=(['did not survive','survived']))\n",
    "\n",
    "sns.boxplot(ax=axes[1,0],\n",
    "            x=titanic['survived'],\n",
    "            y=titanic['fare'])\n",
    "\n",
    "axes[1,0].set(xticklabels=([\"did not survive\",\"survived\"]))\n",
    "\n",
    "sns.countplot(ax=axes[1,1],hue=titanic.male,x=titanic.pclass)\n",
    "\n",
    "axes[1,1].set(title=\"Distribution according to the  class of the ticket\")\n",
    "\n",
    "axes[1,1].legend(title=\"Sex\",labels=[\"Women\",\"Men\"])\n",
    "\n",
    "for p in axes[1,1].patches:\n",
    "    percentage=f'{100*p.get_height()/total:.1f}%\\n'\n",
    "    x=p.get_x()+p.get_width()/2\n",
    "    y=p.get_height()\n",
    "    axes[1,1].annotate(percentage,(x,y),ha='center',va='center',fontsize=14)\n",
    "\n",
    "sns.countplot(ax=axes[1,2],x='pclass',data=titanic,hue='survived')\n",
    "\n",
    "axes[1,2].legend(labels=['did not survived','survived'])\n",
    "axes[1,2].set(title=\"Distribution of survivers according by pclass\")\n",
    "\n",
    "for p in axes[1,2].patches:\n",
    "    percentage=f'{100*p.get_height()/total:.1f}%\\n'\n",
    "    x=p.get_x()+p.get_width()/2\n",
    "    y=p.get_height()\n",
    "    axes[1,2].annotate(percentage,(x,y),ha='center',va='center',fontsize=14)\n",
    "    \n",
    "plt.tight_layout()\n",
    "plt.show()\n",
    "sns.jointplot(x=titanic.age,y=titanic.fare)\n",
    "plt.tight_layout()\n",
    "plt.show()"
   ]
  },
  {
   "attachments": {},
   "cell_type": "markdown",
   "metadata": {},
   "source": [
    "We observe that there were more women survivers than men, and you have more probabilities of survivng with a first ticket class."
   ]
  },
  {
   "cell_type": "code",
   "execution_count": 231,
   "metadata": {},
   "outputs": [
    {
     "name": "stdout",
     "output_type": "stream",
     "text": [
      "The percentege of survivors and deaths in class 1 \n",
      "  1    62.962963\n",
      "0    37.037037\n",
      "Name: survived, dtype: float64\n",
      "The percentege of survivors and deaths in class 2 \n",
      "  0    52.717391\n",
      "1    47.282609\n",
      "Name: survived, dtype: float64\n",
      "The percentege of survivors and deaths in class 3 \n",
      "  0    75.763747\n",
      "1    24.236253\n",
      "Name: survived, dtype: float64\n"
     ]
    }
   ],
   "source": [
    "pclass1=titanic[titanic['pclass']==1]\n",
    "pclass2=titanic[titanic['pclass']==2]\n",
    "pclass3=titanic[titanic['pclass']==3]\n",
    "print(\"The percentege of survivors and deaths in class 1 \\n \", 100*pclass1.survived.value_counts(1))\n",
    "print(\"The percentege of survivors and deaths in class 2 \\n \", 100*pclass2.survived.value_counts(1))\n",
    "print(\"The percentege of survivors and deaths in class 3 \\n \", 100*pclass3.survived.value_counts(1))"
   ]
  },
  {
   "attachments": {},
   "cell_type": "markdown",
   "metadata": {},
   "source": [
    "We observe how, by proportion, the people of first class had more chances to survive, and the ones with third class ticket had, so far, more probabilites of dying."
   ]
  },
  {
   "cell_type": "code",
   "execution_count": 129,
   "metadata": {},
   "outputs": [
    {
     "data": {
      "text/html": [
       "<div>\n",
       "<style scoped>\n",
       "    .dataframe tbody tr th:only-of-type {\n",
       "        vertical-align: middle;\n",
       "    }\n",
       "\n",
       "    .dataframe tbody tr th {\n",
       "        vertical-align: top;\n",
       "    }\n",
       "\n",
       "    .dataframe thead th {\n",
       "        text-align: right;\n",
       "    }\n",
       "</style>\n",
       "<table border=\"1\" class=\"dataframe\">\n",
       "  <thead>\n",
       "    <tr style=\"text-align: right;\">\n",
       "      <th></th>\n",
       "      <th>survived</th>\n",
       "      <th>pclass</th>\n",
       "      <th>age</th>\n",
       "      <th>sibsp</th>\n",
       "      <th>parch</th>\n",
       "      <th>fare</th>\n",
       "      <th>male</th>\n",
       "      <th>age_was_missing</th>\n",
       "      <th>embarked_from_cherbourg</th>\n",
       "      <th>embarked_from_queenstown</th>\n",
       "      <th>embarked_from_southampton</th>\n",
       "    </tr>\n",
       "  </thead>\n",
       "  <tbody>\n",
       "    <tr>\n",
       "      <th>survived</th>\n",
       "      <td>1.000000</td>\n",
       "      <td>-0.338481</td>\n",
       "      <td>-6.980852e-02</td>\n",
       "      <td>-0.035322</td>\n",
       "      <td>0.081629</td>\n",
       "      <td>0.257307</td>\n",
       "      <td>-0.543351</td>\n",
       "      <td>-9.219652e-02</td>\n",
       "      <td>0.168240</td>\n",
       "      <td>0.003650</td>\n",
       "      <td>-0.155660</td>\n",
       "    </tr>\n",
       "    <tr>\n",
       "      <th>pclass</th>\n",
       "      <td>-0.338481</td>\n",
       "      <td>1.000000</td>\n",
       "      <td>-3.313388e-01</td>\n",
       "      <td>0.083081</td>\n",
       "      <td>0.018443</td>\n",
       "      <td>-0.549500</td>\n",
       "      <td>0.131900</td>\n",
       "      <td>1.729329e-01</td>\n",
       "      <td>-0.243292</td>\n",
       "      <td>0.221009</td>\n",
       "      <td>0.081720</td>\n",
       "    </tr>\n",
       "    <tr>\n",
       "      <th>age</th>\n",
       "      <td>-0.069809</td>\n",
       "      <td>-0.331339</td>\n",
       "      <td>1.000000e+00</td>\n",
       "      <td>-0.232625</td>\n",
       "      <td>-0.179191</td>\n",
       "      <td>0.091566</td>\n",
       "      <td>0.084153</td>\n",
       "      <td>-1.303789e-16</td>\n",
       "      <td>0.032024</td>\n",
       "      <td>-0.013855</td>\n",
       "      <td>-0.027121</td>\n",
       "    </tr>\n",
       "    <tr>\n",
       "      <th>sibsp</th>\n",
       "      <td>-0.035322</td>\n",
       "      <td>0.083081</td>\n",
       "      <td>-2.326246e-01</td>\n",
       "      <td>1.000000</td>\n",
       "      <td>0.414838</td>\n",
       "      <td>0.159651</td>\n",
       "      <td>-0.114631</td>\n",
       "      <td>1.895757e-02</td>\n",
       "      <td>-0.059528</td>\n",
       "      <td>-0.026354</td>\n",
       "      <td>0.070941</td>\n",
       "    </tr>\n",
       "    <tr>\n",
       "      <th>parch</th>\n",
       "      <td>0.081629</td>\n",
       "      <td>0.018443</td>\n",
       "      <td>-1.791909e-01</td>\n",
       "      <td>0.414838</td>\n",
       "      <td>1.000000</td>\n",
       "      <td>0.216225</td>\n",
       "      <td>-0.245489</td>\n",
       "      <td>-1.241038e-01</td>\n",
       "      <td>-0.011069</td>\n",
       "      <td>-0.081228</td>\n",
       "      <td>0.063036</td>\n",
       "    </tr>\n",
       "    <tr>\n",
       "      <th>fare</th>\n",
       "      <td>0.257307</td>\n",
       "      <td>-0.549500</td>\n",
       "      <td>9.156609e-02</td>\n",
       "      <td>0.159651</td>\n",
       "      <td>0.216225</td>\n",
       "      <td>1.000000</td>\n",
       "      <td>-0.182333</td>\n",
       "      <td>-1.007071e-01</td>\n",
       "      <td>0.269335</td>\n",
       "      <td>-0.117216</td>\n",
       "      <td>-0.166603</td>\n",
       "    </tr>\n",
       "    <tr>\n",
       "      <th>male</th>\n",
       "      <td>-0.543351</td>\n",
       "      <td>0.131900</td>\n",
       "      <td>8.415344e-02</td>\n",
       "      <td>-0.114631</td>\n",
       "      <td>-0.245489</td>\n",
       "      <td>-0.182333</td>\n",
       "      <td>1.000000</td>\n",
       "      <td>5.521512e-02</td>\n",
       "      <td>-0.082853</td>\n",
       "      <td>-0.074115</td>\n",
       "      <td>0.125722</td>\n",
       "    </tr>\n",
       "    <tr>\n",
       "      <th>age_was_missing</th>\n",
       "      <td>-0.092197</td>\n",
       "      <td>0.172933</td>\n",
       "      <td>-1.303789e-16</td>\n",
       "      <td>0.018958</td>\n",
       "      <td>-0.124104</td>\n",
       "      <td>-0.100707</td>\n",
       "      <td>0.055215</td>\n",
       "      <td>1.000000e+00</td>\n",
       "      <td>0.033270</td>\n",
       "      <td>0.337413</td>\n",
       "      <td>-0.238377</td>\n",
       "    </tr>\n",
       "    <tr>\n",
       "      <th>embarked_from_cherbourg</th>\n",
       "      <td>0.168240</td>\n",
       "      <td>-0.243292</td>\n",
       "      <td>3.202442e-02</td>\n",
       "      <td>-0.059528</td>\n",
       "      <td>-0.011069</td>\n",
       "      <td>0.269335</td>\n",
       "      <td>-0.082853</td>\n",
       "      <td>3.326967e-02</td>\n",
       "      <td>1.000000</td>\n",
       "      <td>-0.148258</td>\n",
       "      <td>-0.778359</td>\n",
       "    </tr>\n",
       "    <tr>\n",
       "      <th>embarked_from_queenstown</th>\n",
       "      <td>0.003650</td>\n",
       "      <td>0.221009</td>\n",
       "      <td>-1.385524e-02</td>\n",
       "      <td>-0.026354</td>\n",
       "      <td>-0.081228</td>\n",
       "      <td>-0.117216</td>\n",
       "      <td>-0.074115</td>\n",
       "      <td>3.374132e-01</td>\n",
       "      <td>-0.148258</td>\n",
       "      <td>1.000000</td>\n",
       "      <td>-0.496624</td>\n",
       "    </tr>\n",
       "    <tr>\n",
       "      <th>embarked_from_southampton</th>\n",
       "      <td>-0.155660</td>\n",
       "      <td>0.081720</td>\n",
       "      <td>-2.712109e-02</td>\n",
       "      <td>0.070941</td>\n",
       "      <td>0.063036</td>\n",
       "      <td>-0.166603</td>\n",
       "      <td>0.125722</td>\n",
       "      <td>-2.383767e-01</td>\n",
       "      <td>-0.778359</td>\n",
       "      <td>-0.496624</td>\n",
       "      <td>1.000000</td>\n",
       "    </tr>\n",
       "  </tbody>\n",
       "</table>\n",
       "</div>"
      ],
      "text/plain": [
       "                           survived    pclass           age     sibsp  \\\n",
       "survived                   1.000000 -0.338481 -6.980852e-02 -0.035322   \n",
       "pclass                    -0.338481  1.000000 -3.313388e-01  0.083081   \n",
       "age                       -0.069809 -0.331339  1.000000e+00 -0.232625   \n",
       "sibsp                     -0.035322  0.083081 -2.326246e-01  1.000000   \n",
       "parch                      0.081629  0.018443 -1.791909e-01  0.414838   \n",
       "fare                       0.257307 -0.549500  9.156609e-02  0.159651   \n",
       "male                      -0.543351  0.131900  8.415344e-02 -0.114631   \n",
       "age_was_missing           -0.092197  0.172933 -1.303789e-16  0.018958   \n",
       "embarked_from_cherbourg    0.168240 -0.243292  3.202442e-02 -0.059528   \n",
       "embarked_from_queenstown   0.003650  0.221009 -1.385524e-02 -0.026354   \n",
       "embarked_from_southampton -0.155660  0.081720 -2.712109e-02  0.070941   \n",
       "\n",
       "                              parch      fare      male  age_was_missing  \\\n",
       "survived                   0.081629  0.257307 -0.543351    -9.219652e-02   \n",
       "pclass                     0.018443 -0.549500  0.131900     1.729329e-01   \n",
       "age                       -0.179191  0.091566  0.084153    -1.303789e-16   \n",
       "sibsp                      0.414838  0.159651 -0.114631     1.895757e-02   \n",
       "parch                      1.000000  0.216225 -0.245489    -1.241038e-01   \n",
       "fare                       0.216225  1.000000 -0.182333    -1.007071e-01   \n",
       "male                      -0.245489 -0.182333  1.000000     5.521512e-02   \n",
       "age_was_missing           -0.124104 -0.100707  0.055215     1.000000e+00   \n",
       "embarked_from_cherbourg   -0.011069  0.269335 -0.082853     3.326967e-02   \n",
       "embarked_from_queenstown  -0.081228 -0.117216 -0.074115     3.374132e-01   \n",
       "embarked_from_southampton  0.063036 -0.166603  0.125722    -2.383767e-01   \n",
       "\n",
       "                           embarked_from_cherbourg  embarked_from_queenstown  \\\n",
       "survived                                  0.168240                  0.003650   \n",
       "pclass                                   -0.243292                  0.221009   \n",
       "age                                       0.032024                 -0.013855   \n",
       "sibsp                                    -0.059528                 -0.026354   \n",
       "parch                                    -0.011069                 -0.081228   \n",
       "fare                                      0.269335                 -0.117216   \n",
       "male                                     -0.082853                 -0.074115   \n",
       "age_was_missing                           0.033270                  0.337413   \n",
       "embarked_from_cherbourg                   1.000000                 -0.148258   \n",
       "embarked_from_queenstown                 -0.148258                  1.000000   \n",
       "embarked_from_southampton                -0.778359                 -0.496624   \n",
       "\n",
       "                           embarked_from_southampton  \n",
       "survived                                   -0.155660  \n",
       "pclass                                      0.081720  \n",
       "age                                        -0.027121  \n",
       "sibsp                                       0.070941  \n",
       "parch                                       0.063036  \n",
       "fare                                       -0.166603  \n",
       "male                                        0.125722  \n",
       "age_was_missing                            -0.238377  \n",
       "embarked_from_cherbourg                    -0.778359  \n",
       "embarked_from_queenstown                   -0.496624  \n",
       "embarked_from_southampton                   1.000000  "
      ]
     },
     "execution_count": 129,
     "metadata": {},
     "output_type": "execute_result"
    }
   ],
   "source": [
    "titanic.corr()"
   ]
  },
  {
   "attachments": {},
   "cell_type": "markdown",
   "metadata": {},
   "source": [
    "## Deep learning implementation  \n",
    "Our intention is to create a model that predics if a passenger could survive. This is a problem of binary classification. We are going to implement neural network with three layers. The activation function of the input layers will be the ReLu function. For the output layer we will compare the softmax and the sigmoid functions.  \n",
    "    \n",
    "Regarding the loss function, we will employ loss=SparseCategoricalCrossentropy(from_logits=True), and loss='categorical_clossentropy'. As metrics we use the accuracy. We employ in the compile function the argument validation_split.  "
   ]
  },
  {
   "attachments": {},
   "cell_type": "markdown",
   "metadata": {},
   "source": [
    "We split our data in the predictors and the target. Recall that tensorflow works with numpy arrays."
   ]
  },
  {
   "cell_type": "code",
   "execution_count": 149,
   "metadata": {},
   "outputs": [],
   "source": [
    "predictors=titanic.drop(\"survived\",axis=1).values.astype(np.float32)\n",
    "target=titanic.survived.values\n",
    "n_cols=predictors.shape[1]"
   ]
  },
  {
   "attachments": {},
   "cell_type": "markdown",
   "metadata": {},
   "source": [
    "We generate the model"
   ]
  },
  {
   "cell_type": "code",
   "execution_count": 150,
   "metadata": {},
   "outputs": [
    {
     "name": "stdout",
     "output_type": "stream",
     "text": [
      "Epoch 1/5\n",
      "20/20 [==============================] - 1s 10ms/step - loss: 1.4922 - accuracy: 0.5987 - val_loss: 0.5832 - val_accuracy: 0.7201\n",
      "Epoch 2/5\n",
      "20/20 [==============================] - 0s 3ms/step - loss: 0.6708 - accuracy: 0.6565 - val_loss: 0.6336 - val_accuracy: 0.6679\n",
      "Epoch 3/5\n",
      "20/20 [==============================] - 0s 3ms/step - loss: 0.7838 - accuracy: 0.6051 - val_loss: 0.6531 - val_accuracy: 0.6604\n",
      "Epoch 4/5\n",
      "20/20 [==============================] - 0s 3ms/step - loss: 0.7376 - accuracy: 0.6549 - val_loss: 0.5606 - val_accuracy: 0.7164\n",
      "Epoch 5/5\n",
      "20/20 [==============================] - 0s 3ms/step - loss: 0.6309 - accuracy: 0.6758 - val_loss: 0.5651 - val_accuracy: 0.7612\n"
     ]
    },
    {
     "data": {
      "text/plain": [
       "<keras.callbacks.History at 0x1996a2bd2b0>"
      ]
     },
     "execution_count": 150,
     "metadata": {},
     "output_type": "execute_result"
    }
   ],
   "source": [
    "import tensorflow as tf\n",
    "tf.random.set_seed(1234)\n",
    "\n",
    "from tensorflow.keras.layers import Dense\n",
    "from tensorflow.keras.models import Sequential\n",
    "from tensorflow.keras.utils import to_categorical\n",
    "target=to_categorical(target)\n",
    "\n",
    "\n",
    "\n",
    "model1=Sequential()\n",
    "model1.add(Dense(100,activation='relu',input_shape=(n_cols,)))\n",
    "model1.add(Dense(100,activation='relu'))\n",
    "model1.add(Dense(2,activation='sigmoid'))\n",
    "model1.compile(optimizer='adam',loss=\"categorical_crossentropy\",metrics=['accuracy'])\n",
    "model1.fit(predictors,target,validation_split=0.3,epochs=5)\n"
   ]
  },
  {
   "attachments": {},
   "cell_type": "markdown",
   "metadata": {},
   "source": [
    "We get a validation accuracy of 76%, not bad.  \n",
    " Let us see if we can improve it by using the softmax in the output layer."
   ]
  },
  {
   "cell_type": "code",
   "execution_count": 151,
   "metadata": {},
   "outputs": [
    {
     "name": "stdout",
     "output_type": "stream",
     "text": [
      "Epoch 1/10\n",
      "20/20 [==============================] - 1s 10ms/step - loss: 0.9346 - accuracy: 0.6035 - val_loss: 0.9357 - val_accuracy: 0.6455\n",
      "Epoch 2/10\n",
      "20/20 [==============================] - 0s 3ms/step - loss: 0.6592 - accuracy: 0.6613 - val_loss: 0.6039 - val_accuracy: 0.6978\n",
      "Epoch 3/10\n",
      "20/20 [==============================] - 0s 6ms/step - loss: 0.7302 - accuracy: 0.6212 - val_loss: 0.6427 - val_accuracy: 0.6381\n",
      "Epoch 4/10\n",
      "20/20 [==============================] - 0s 3ms/step - loss: 0.6688 - accuracy: 0.6581 - val_loss: 0.6130 - val_accuracy: 0.7127\n",
      "Epoch 5/10\n",
      "20/20 [==============================] - 0s 3ms/step - loss: 0.6553 - accuracy: 0.6758 - val_loss: 0.5859 - val_accuracy: 0.7052\n",
      "Epoch 6/10\n",
      "20/20 [==============================] - 0s 3ms/step - loss: 0.6132 - accuracy: 0.6934 - val_loss: 0.5360 - val_accuracy: 0.7388\n",
      "Epoch 7/10\n",
      "20/20 [==============================] - 0s 3ms/step - loss: 0.6379 - accuracy: 0.6822 - val_loss: 0.5131 - val_accuracy: 0.7649\n",
      "Epoch 8/10\n",
      "20/20 [==============================] - 0s 2ms/step - loss: 0.6347 - accuracy: 0.6902 - val_loss: 0.5767 - val_accuracy: 0.7015\n",
      "Epoch 9/10\n",
      "20/20 [==============================] - 0s 3ms/step - loss: 0.6279 - accuracy: 0.7030 - val_loss: 0.5189 - val_accuracy: 0.7612\n",
      "Epoch 10/10\n",
      "20/20 [==============================] - 0s 3ms/step - loss: 0.5868 - accuracy: 0.7063 - val_loss: 0.5043 - val_accuracy: 0.7649\n"
     ]
    },
    {
     "data": {
      "text/plain": [
       "<keras.callbacks.History at 0x1997958d850>"
      ]
     },
     "execution_count": 151,
     "metadata": {},
     "output_type": "execute_result"
    }
   ],
   "source": [
    "from tensorflow.keras.layers import Dense\n",
    "from tensorflow.keras.models import Sequential\n",
    "\n",
    "\n",
    "\n",
    "model2=Sequential()\n",
    "model2.add(Dense(100,activation='relu',input_shape=(n_cols,)))\n",
    "model2.add(Dense(100,activation='relu'))\n",
    "model2.add(Dense(2,activation='softmax'))\n",
    "model2.compile(optimizer='adam',loss=\"categorical_crossentropy\",metrics=['accuracy'])\n",
    "model2.fit(predictors,target,validation_split=0.3,epochs=10)"
   ]
  },
  {
   "attachments": {},
   "cell_type": "markdown",
   "metadata": {},
   "source": [
    "Model 2 is a little bit better than the previous one."
   ]
  },
  {
   "cell_type": "code",
   "execution_count": 164,
   "metadata": {},
   "outputs": [
    {
     "name": "stdout",
     "output_type": "stream",
     "text": [
      "Epoch 1/8\n",
      "20/20 [==============================] - 1s 9ms/step - loss: 0.9914 - accuracy: 0.5971 - val_loss: 0.6621 - val_accuracy: 0.6455\n",
      "Epoch 2/8\n",
      "20/20 [==============================] - 0s 3ms/step - loss: 0.6725 - accuracy: 0.6324 - val_loss: 0.5545 - val_accuracy: 0.7201\n",
      "Epoch 3/8\n",
      "20/20 [==============================] - 0s 5ms/step - loss: 0.6804 - accuracy: 0.6469 - val_loss: 0.6449 - val_accuracy: 0.6791\n",
      "Epoch 4/8\n",
      "20/20 [==============================] - 0s 3ms/step - loss: 0.6567 - accuracy: 0.6533 - val_loss: 0.5777 - val_accuracy: 0.7276\n",
      "Epoch 5/8\n",
      "20/20 [==============================] - 0s 3ms/step - loss: 0.6143 - accuracy: 0.6790 - val_loss: 0.6191 - val_accuracy: 0.7052\n",
      "Epoch 6/8\n",
      "20/20 [==============================] - 0s 3ms/step - loss: 0.6241 - accuracy: 0.6726 - val_loss: 0.5183 - val_accuracy: 0.7500\n",
      "Epoch 7/8\n",
      "20/20 [==============================] - 0s 3ms/step - loss: 0.5866 - accuracy: 0.6934 - val_loss: 0.5149 - val_accuracy: 0.7463\n",
      "Epoch 8/8\n",
      "20/20 [==============================] - 0s 3ms/step - loss: 0.5817 - accuracy: 0.6854 - val_loss: 0.5048 - val_accuracy: 0.7612\n"
     ]
    },
    {
     "data": {
      "text/plain": [
       "<keras.callbacks.History at 0x199022100d0>"
      ]
     },
     "execution_count": 164,
     "metadata": {},
     "output_type": "execute_result"
    }
   ],
   "source": [
    "import tensorflow as tf\n",
    "tf.random.set_seed(1234)\n",
    "from tensorflow.keras.layers import Dense\n",
    "from tensorflow.keras.models import Sequential\n",
    "\n",
    "\n",
    "model3=Sequential()\n",
    "model3.add(Dense(100,activation='relu',input_shape=(n_cols,)))\n",
    "model3.add(Dense(100,activation='relu'))\n",
    "model3.add(Dense(2,activation='softmax'))\n",
    "model3.compile(optimizer='adam',loss=\"BinaryCrossentropy\",metrics=['accuracy'])\n",
    "model3.fit(predictors,target,validation_split=0.3,epochs=8)"
   ]
  },
  {
   "attachments": {},
   "cell_type": "markdown",
   "metadata": {},
   "source": [
    "We get technically the same accuracy in the three models. \n",
    "   \n",
    "We load some data to make predictions. Recall that the predictor set contain the columns: pclass,\tage,\tsibsp,\tparch,\tfare,\tmale,\tage_was_missing,\tembarked_from_cherbourg,\tembarked_from_queenstown,\tembarked_from_southampton."
   ]
  },
  {
   "cell_type": "code",
   "execution_count": 175,
   "metadata": {},
   "outputs": [],
   "source": [
    "pred_data=np.array([[  2.      ,  28.      ,   1.      ,   0.      ,  24.      ,\n",
    "          0.      ,   0.      ,   1.      ,   0.      ,   0.      ],\n",
    "       [  3.      ,  15.      ,   0.      ,   0.      ,   7.225   ,\n",
    "          0.      ,   0.      ,   1.      ,   0.      ,   0.      ],\n",
    "       [  3.      ,  20.      ,   0.      ,   0.      ,   9.8458  ,\n",
    "          1.      ,   0.      ,   0.      ,   0.      ,   1.      ],\n",
    "       [  3.      ,  19.      ,   0.      ,   0.      ,   7.8958  ,\n",
    "          1.      ,   0.      ,   0.      ,   0.      ,   1.      ],\n",
    "       [  3.      ,  29.699118,   0.      ,   0.      ,   7.8958  ,\n",
    "          1.      ,   1.      ,   0.      ,   0.      ,   1.      ],\n",
    "       [  1.      ,  56.      ,   0.      ,   1.      ,  83.1583  ,\n",
    "          0.      ,   0.      ,   1.      ,   0.      ,   0.      ],\n",
    "       [  2.      ,  25.      ,   0.      ,   1.      ,  26.      ,\n",
    "          0.      ,   0.      ,   0.      ,   0.      ,   1.      ],\n",
    "       [  3.      ,  33.      ,   0.      ,   0.      ,   7.8958  ,\n",
    "          1.      ,   0.      ,   0.      ,   0.      ,   1.      ],\n",
    "       [  3.      ,  22.      ,   0.      ,   0.      ,  10.5167  ,\n",
    "          0.      ,   0.      ,   0.      ,   0.      ,   1.      ],\n",
    "       [  2.      ,  28.      ,   0.      ,   0.      ,  10.5     ,\n",
    "          1.      ,   0.      ,   0.      ,   0.      ,   1.      ],\n",
    "       [  3.      ,  25.      ,   0.      ,   0.      ,   7.05    ,\n",
    "          1.      ,   0.      ,   0.      ,   0.      ,   1.      ]])"
   ]
  },
  {
   "cell_type": "code",
   "execution_count": 176,
   "metadata": {},
   "outputs": [
    {
     "name": "stdout",
     "output_type": "stream",
     "text": [
      "This set contains the information of  11  persons\n"
     ]
    }
   ],
   "source": [
    "print(\"This set contains the information of \",pred_data.shape[0],\" persons\")"
   ]
  },
  {
   "attachments": {},
   "cell_type": "markdown",
   "metadata": {},
   "source": [
    "The model 1 predicts:"
   ]
  },
  {
   "cell_type": "code",
   "execution_count": 177,
   "metadata": {},
   "outputs": [
    {
     "name": "stdout",
     "output_type": "stream",
     "text": [
      "1/1 [==============================] - 0s 23ms/step\n",
      "[0.34920067 0.28402987 0.24277702 0.2424457  0.15106331 0.62939864\n",
      " 0.41591153 0.12425816 0.2427714  0.19262578 0.17928274]\n"
     ]
    }
   ],
   "source": [
    "predictions1=model1.predict(pred_data)\n",
    "predicted_prob_true=predictions1[:,1]\n",
    "print(predicted_prob_true)\n"
   ]
  },
  {
   "attachments": {},
   "cell_type": "markdown",
   "metadata": {},
   "source": [
    "The model 2 predicts:"
   ]
  },
  {
   "cell_type": "code",
   "execution_count": 178,
   "metadata": {},
   "outputs": [
    {
     "name": "stdout",
     "output_type": "stream",
     "text": [
      "1/1 [==============================] - 0s 20ms/step\n",
      "[0.508165   0.441081   0.31613737 0.29884863 0.22601575 0.86768126\n",
      " 0.53171486 0.22002822 0.41880515 0.27653453 0.25333232]\n"
     ]
    }
   ],
   "source": [
    "predictions2=model2.predict(pred_data)\n",
    "print(predictions2[:,1])"
   ]
  },
  {
   "attachments": {},
   "cell_type": "markdown",
   "metadata": {},
   "source": [
    "The model 3 predicts:"
   ]
  },
  {
   "cell_type": "code",
   "execution_count": 179,
   "metadata": {},
   "outputs": [
    {
     "name": "stdout",
     "output_type": "stream",
     "text": [
      "1/1 [==============================] - 0s 22ms/step\n",
      "[0.2705339  0.21997024 0.06712581 0.05913372 0.02094331 0.8498045\n",
      " 0.40617627 0.01953601 0.13746999 0.04994587 0.03148439]\n"
     ]
    }
   ],
   "source": [
    "predictions3=model3.predict(pred_data)\n",
    "print(predictions3[:,1])"
   ]
  },
  {
   "attachments": {},
   "cell_type": "markdown",
   "metadata": {},
   "source": [
    "From the prediction and according to our models, the person that survives has the following characteristics:"
   ]
  },
  {
   "cell_type": "code",
   "execution_count": 181,
   "metadata": {},
   "outputs": [
    {
     "name": "stdout",
     "output_type": "stream",
     "text": [
      "[ 1.     56.      0.      1.     83.1583  0.      0.      1.      0.\n",
      "  0.    ]\n"
     ]
    }
   ],
   "source": [
    "print(pred_data[5,:])"
   ]
  },
  {
   "attachments": {},
   "cell_type": "markdown",
   "metadata": {},
   "source": [
    "A 56 years old rich woman with first class ticket. "
   ]
  }
 ],
 "metadata": {
  "kernelspec": {
   "display_name": "base",
   "language": "python",
   "name": "python3"
  },
  "language_info": {
   "codemirror_mode": {
    "name": "ipython",
    "version": 3
   },
   "file_extension": ".py",
   "mimetype": "text/x-python",
   "name": "python",
   "nbconvert_exporter": "python",
   "pygments_lexer": "ipython3",
   "version": "3.9.12"
  },
  "orig_nbformat": 4,
  "vscode": {
   "interpreter": {
    "hash": "0fb0711b8cdf2979cced48acbebbab02854345c5f50d6d8d9071345b4553c792"
   }
  }
 },
 "nbformat": 4,
 "nbformat_minor": 2
}
