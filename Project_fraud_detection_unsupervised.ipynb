{
  "cells": [
    {
      "cell_type": "code",
      "execution_count": 15,
      "metadata": {
        "colab": {
          "base_uri": "https://localhost:8080/"
        },
        "id": "1mN10NtBWzdC",
        "outputId": "d698d297-6343-46af-a53e-1fba6c47cf4d"
      },
      "outputs": [
        {
          "data": {
            "text/plain": [
              "'c:\\\\Users\\\\cmuro\\\\OneDrive\\\\Documentos\\\\Machine_Learning_Projects_and_Notes'"
            ]
          },
          "execution_count": 15,
          "metadata": {},
          "output_type": "execute_result"
        }
      ],
      "source": [
        "import os\n",
        "os.getcwd()"
      ]
    },
    {
      "cell_type": "markdown",
      "metadata": {
        "id": "ALDA26FOUCg7"
      },
      "source": [
        "# Fraud Detection with Python - Notes\n",
        "\n",
        "Examples of fraud detection are insurance fraud, credit card fraud, money laundering, tax evasion, etc.\n",
        "\n",
        "Fraud is:\n",
        "* uncommon\n",
        "* concealed\n",
        "* changing over time\n",
        "* organized   "
      ]
    },
    {
      "cell_type": "code",
      "execution_count": 1,
      "metadata": {
        "colab": {
          "base_uri": "https://localhost:8080/"
        },
        "id": "DhSxb-XiUzOy",
        "outputId": "e012d874-5f1c-4fb0-c60e-57b98c389557"
      },
      "outputs": [
        {
          "name": "stdout",
          "output_type": "stream",
          "text": [
            "<class 'pandas.core.frame.DataFrame'>\n",
            "RangeIndex: 7300 entries, 0 to 7299\n",
            "Data columns (total 31 columns):\n",
            " #   Column      Non-Null Count  Dtype  \n",
            "---  ------      --------------  -----  \n",
            " 0   Unnamed: 0  7300 non-null   int64  \n",
            " 1   V1          7300 non-null   float64\n",
            " 2   V2          7300 non-null   float64\n",
            " 3   V3          7300 non-null   float64\n",
            " 4   V4          7300 non-null   float64\n",
            " 5   V5          7300 non-null   float64\n",
            " 6   V6          7300 non-null   float64\n",
            " 7   V7          7300 non-null   float64\n",
            " 8   V8          7300 non-null   float64\n",
            " 9   V9          7300 non-null   float64\n",
            " 10  V10         7300 non-null   float64\n",
            " 11  V11         7300 non-null   float64\n",
            " 12  V12         7300 non-null   float64\n",
            " 13  V13         7300 non-null   float64\n",
            " 14  V14         7300 non-null   float64\n",
            " 15  V15         7300 non-null   float64\n",
            " 16  V16         7300 non-null   float64\n",
            " 17  V17         7300 non-null   float64\n",
            " 18  V18         7300 non-null   float64\n",
            " 19  V19         7300 non-null   float64\n",
            " 20  V20         7300 non-null   float64\n",
            " 21  V21         7300 non-null   float64\n",
            " 22  V22         7300 non-null   float64\n",
            " 23  V23         7300 non-null   float64\n",
            " 24  V24         7300 non-null   float64\n",
            " 25  V25         7300 non-null   float64\n",
            " 26  V26         7300 non-null   float64\n",
            " 27  V27         7300 non-null   float64\n",
            " 28  V28         7300 non-null   float64\n",
            " 29  Amount      7300 non-null   float64\n",
            " 30  Class       7300 non-null   int64  \n",
            "dtypes: float64(29), int64(2)\n",
            "memory usage: 1.7 MB\n",
            "None\n",
            "<class 'pandas.core.frame.DataFrame'>\n",
            "RangeIndex: 7300 entries, 0 to 7299\n",
            "Data columns (total 30 columns):\n",
            " #   Column  Non-Null Count  Dtype  \n",
            "---  ------  --------------  -----  \n",
            " 0   V1      7300 non-null   float64\n",
            " 1   V2      7300 non-null   float64\n",
            " 2   V3      7300 non-null   float64\n",
            " 3   V4      7300 non-null   float64\n",
            " 4   V5      7300 non-null   float64\n",
            " 5   V6      7300 non-null   float64\n",
            " 6   V7      7300 non-null   float64\n",
            " 7   V8      7300 non-null   float64\n",
            " 8   V9      7300 non-null   float64\n",
            " 9   V10     7300 non-null   float64\n",
            " 10  V11     7300 non-null   float64\n",
            " 11  V12     7300 non-null   float64\n",
            " 12  V13     7300 non-null   float64\n",
            " 13  V14     7300 non-null   float64\n",
            " 14  V15     7300 non-null   float64\n",
            " 15  V16     7300 non-null   float64\n",
            " 16  V17     7300 non-null   float64\n",
            " 17  V18     7300 non-null   float64\n",
            " 18  V19     7300 non-null   float64\n",
            " 19  V20     7300 non-null   float64\n",
            " 20  V21     7300 non-null   float64\n",
            " 21  V22     7300 non-null   float64\n",
            " 22  V23     7300 non-null   float64\n",
            " 23  V24     7300 non-null   float64\n",
            " 24  V25     7300 non-null   float64\n",
            " 25  V26     7300 non-null   float64\n",
            " 26  V27     7300 non-null   float64\n",
            " 27  V28     7300 non-null   float64\n",
            " 28  Amount  7300 non-null   float64\n",
            " 29  Class   7300 non-null   int64  \n",
            "dtypes: float64(29), int64(1)\n",
            "memory usage: 1.7 MB\n",
            "None\n",
            "0    7000\n",
            "1     300\n",
            "Name: Class, dtype: int64\n",
            "The ratio is 0    0.958904\n",
            "1    0.041096\n",
            "Name: Class, dtype: float64\n"
          ]
        }
      ],
      "source": [
        "import pandas as pd\n",
        "import matplotlib.pyplot as plt\n",
        "import numpy as np\n",
        "\n",
        "df_1 = pd.read_csv(\"datasets/fraud_detection_datacamp/chapter_2/creditcard_sampledata_2.csv\")\n",
        "print(df_1.info())\n",
        "\n",
        "df = df_1.drop('Unnamed: 0', axis=1)\n",
        "\n",
        "print(df.info())\n",
        "\n",
        "occ = df[\"Class\"].value_counts()\n",
        "\n",
        "\n",
        "print(occ)\n",
        "\n",
        "print('The ratio is', occ/df.count()[0])"
      ]
    },
    {
      "cell_type": "code",
      "execution_count": 13,
      "metadata": {
        "colab": {
          "base_uri": "https://localhost:8080/",
          "height": 430
        },
        "id": "ba5BzVrzYi1U",
        "outputId": "817dcf6a-5347-4d73-a13a-45820d26155c"
      },
      "outputs": [
        {
          "data": {
            "image/png": "[encoded data removed]",
            "text/plain": [
              "<Figure size 640x480 with 1 Axes>"
            ]
          },
          "metadata": {},
          "output_type": "display_data"
        }
      ],
      "source": [
        "# Define a function to create a scatter plot of our data and labels\n",
        "def plot_data(X, y):\n",
        "\tplt.scatter(X[y == 0, 0], X[y == 0, 1], label=\"Class #0\", alpha=0.5, linewidth=0.15)\n",
        "\tplt.scatter(X[y == 1, 0], X[y == 1, 1], label=\"Class #1\", alpha=0.5, linewidth=0.15, c='r')\n",
        "\tplt.legend()\n",
        "\treturn plt.show()\n",
        "\n",
        "def prep_data(df):\n",
        "    X = df.iloc[:, 1:29]\n",
        "    X = np.array(X).astype(np.float)\n",
        "    y = df.iloc[:, 29]\n",
        "    y=np.array(y).astype(np.float)\n",
        "    return X,y\n",
        "\n",
        "# Create X and y from the prep_data function\n",
        "X = df.loc[:, ~df.columns.isin([\"Class\"])].values\n",
        "y = df['Class'].values\n",
        "\n",
        "# Plot our data by running our plot data function on X and y\n",
        "plot_data(X,y)"
      ]
    },
    {
      "cell_type": "markdown",
      "metadata": {
        "id": "kBX0mAe4gqaI"
      },
      "source": [
        "## Increasing successful detections using data resampling\n"
      ]
    },
    {
      "cell_type": "code",
      "execution_count": null,
      "metadata": {
        "id": "XzC0IHIwa8Wj"
      },
      "outputs": [],
      "source": [
        "#### Oversampling in Python\n",
        "from imblearn.over_sampling import RandomOverSampler\n",
        "method = RandomOverSampler()\n"
      ]
    },
    {
      "cell_type": "markdown",
      "metadata": {},
      "source": [
        "The synthetic minority oversampling technique (SMOTE) is another way of adjusting by oversampling the minority observations, or fraud cases.  \n",
        "\n",
        "When it comes to oversampling, SMOTE is more sophisticated as it does not duplicate data, but it only works well if the fraud cases are quite similar to each other.\n",
        "  \n",
        "Only resampling on the training set.  "
      ]
    },
    {
      "cell_type": "code",
      "execution_count": 14,
      "metadata": {},
      "outputs": [
        {
          "name": "stderr",
          "output_type": "stream",
          "text": [
            "C:\\Users\\cmuro\\AppData\\Local\\Temp\\ipykernel_29892\\2447378725.py:10: DeprecationWarning: `np.float` is a deprecated alias for the builtin `float`. To silence this warning, use `float` by itself. Doing this will not modify any behavior and is safe. If you specifically wanted the numpy scalar type, use `np.float64` here.\n",
            "Deprecated in NumPy 1.20; for more details and guidance: https://numpy.org/devdocs/release/1.20.0-notes.html#deprecations\n",
            "  X = np.array(X).astype(np.float)\n",
            "C:\\Users\\cmuro\\AppData\\Local\\Temp\\ipykernel_29892\\2447378725.py:12: DeprecationWarning: `np.float` is a deprecated alias for the builtin `float`. To silence this warning, use `float` by itself. Doing this will not modify any behavior and is safe. If you specifically wanted the numpy scalar type, use `np.float64` here.\n",
            "Deprecated in NumPy 1.20; for more details and guidance: https://numpy.org/devdocs/release/1.20.0-notes.html#deprecations\n",
            "  y=np.array(y).astype(np.float)\n"
          ]
        }
      ],
      "source": [
        "from imblearn.over_sampling import SMOTE \n",
        "\n",
        "X, y = prep_data(df)\n",
        "\n",
        "# Define the resampling method\n",
        "method = SMOTE()\n",
        "\n",
        "# Create the resampled feature set\n",
        "X_resampled, y_resampled = method.fit_resample(X,y)"
      ]
    },
    {
      "cell_type": "markdown",
      "metadata": {},
      "source": [
        "### Fraud detection using labeled data"
      ]
    },
    {
      "cell_type": "markdown",
      "metadata": {},
      "source": [
        "Let's now create a first random forest classifier for fraud detection"
      ]
    },
    {
      "cell_type": "code",
      "execution_count": 19,
      "metadata": {},
      "outputs": [],
      "source": [
        "from sklearn.ensemble import RandomForestClassifier\n",
        "from sklearn.model_selection import train_test_split\n",
        "from sklearn.metrics import accuracy_score\n",
        "\n",
        "X_train, X_test, y_train, y_test = train_test_split(X,y,test_size=0.3,random_state=42)\n",
        "\n",
        "model = RandomForestClassifier(random_state=5)\n",
        "\n",
        "model.fit(X_train,y_train)\n",
        "\n",
        "predicted = model.predict(X_test)"
      ]
    },
    {
      "cell_type": "code",
      "execution_count": 21,
      "metadata": {},
      "outputs": [
        {
          "name": "stdout",
          "output_type": "stream",
          "text": [
            "0.9922374429223745\n"
          ]
        }
      ],
      "source": [
        "# Print the accuracy performance metric\n",
        "print(accuracy_score(y_test, predicted))"
      ]
    },
    {
      "cell_type": "markdown",
      "metadata": {},
      "source": [
        "Accuracy is not a reliable performance metric for unbalanced data.  \n",
        "For false positive we call them Type 1 error.  \n",
        "For false negative we call them Type 2 error.  \n",
        "\n",
        "For instance, a credit card company wants to catch much fraud as possible and reduce false negative.  \n",
        "On the other hand, an insurance company can not handle many false alarms.  \n",
        "\n",
        "A metric more suitable for the credit card company is the Recall, which is defined as:  \n",
        "$$ Recall = \\frac{ True\\quad positives}{True\\quad positives\\quad +\\quad False\\quad negatives}, $$ \n",
        "  \n",
        "And the insurance company is more intereseted on the precision:  \n",
        "$$ Precision = \\frac{True\\quad positives}{True\\quad positives\\quad +\\quad False\\quad positives}. $$  \n",
        "  \n",
        "The F1 score is a measure that takes into account a balance between precision and recall  \n",
        "$$F1-score = 2*\\frac{Precision*Recall}{Precision + Recall}$$  \n",
        "  \n",
        "Another useful measure is the area under the ROC curve or AUC. AUC provides an aggregate measure of performance across all possible classification thresholds. One way of interpreting AUC is as the probability that the model ranks a random positive example more highly than a random negative example. Higher the AUC, the better the model is at predicting 0 classes as 0 and 1 classes as 1. The ROC curve is plotted with TPR against the FPR where TPR is on the y-axis and FPR is on the x-axis.\n",
        "In scitkit-learn we call the method as:  \n",
        "from sklearn.metrics import roc_auc_score"
      ]
    },
    {
      "cell_type": "code",
      "execution_count": 26,
      "metadata": {},
      "outputs": [
        {
          "name": "stdout",
          "output_type": "stream",
          "text": [
            "The AUROC is :  0.9815584605960975\n",
            "The classification report is \n",
            "               precision    recall  f1-score   support\n",
            "\n",
            "         0.0       0.99      1.00      1.00      2099\n",
            "         1.0       0.96      0.85      0.90        91\n",
            "\n",
            "    accuracy                           0.99      2190\n",
            "   macro avg       0.98      0.92      0.95      2190\n",
            "weighted avg       0.99      0.99      0.99      2190\n",
            "\n",
            "The confusion matrix is: \n",
            " [[2096    3]\n",
            " [  14   77]]\n"
          ]
        }
      ],
      "source": [
        "from sklearn.metrics import roc_auc_score, classification_report, confusion_matrix, average_precision_score, precision_recall_curve\n",
        "#Predicted probabilites\n",
        "probs = model.predict_proba(X_test)\n",
        "\n",
        "print(\"The AUROC is : \",roc_auc_score(y_test,probs[:,1]))\n",
        "print(\"The classification report is \\n\",classification_report(y_test,predicted))\n",
        "print(\"The confusion matrix is: \\n\",confusion_matrix(y_test, predicted))"
      ]
    },
    {
      "cell_type": "code",
      "execution_count": 27,
      "metadata": {},
      "outputs": [],
      "source": [
        "# Calculate average precision and the PR curve\n",
        "average_precision = average_precision_score(y_test, predicted)\n",
        "\n",
        "# Obtain precision and recall \n",
        "precision, recall, _ = precision_recall_curve(y_test, predicted)\n",
        "\n"
      ]
    },
    {
      "cell_type": "markdown",
      "metadata": {},
      "source": [
        "In scikit-learn there are two options to tweak the model for heavily imbalanced data.\n",
        "rf = RandomForestClassifier(class_weight=\"balanced\")  \n",
        "rf = RandomForestClassifier(class_weight =\"balanced_subsample\")  \n",
        "\n",
        "The balanced option is also avalaible in other classifiers.\n",
        "It can alsot takes a manual input(class_weight={0:1,1:4}, random_state = 42)   \n",
        "  \n",
        "#### Hyperparameter tuning  \n",
        "Using GridSearch  \n",
        "from sklearn.model_selection import GridSearchCV  \n",
        "  \n",
        "param_grid = {\n",
        "    'max_depth' = [80,90,100,110],\n",
        "    'max_features' = [2,3],\n",
        "    'min_samples_leaf' = [3,4,5],\n",
        "    'min_samples_split' = [8,10,12],\n",
        "    'n_estimators' = [100,200,300,1000]\n",
        "}  \n",
        "\n",
        "model = RandomForestRegressor()\n",
        "  \n",
        "grid_search_model = GridSearchCV(estimator=model, param_grid = param_grid, cv = 5, n_jobs =-1, scoring = 'f1')  \n",
        "\n",
        "grid_search_model.fit(X_train, y_train)  \n",
        "\n",
        "best_model = grid_seach_model.best_estimator_\n",
        "  \n",
        "best_model.best_params_  \n",
        "best_model.best_score_  \n"
      ]
    },
    {
      "cell_type": "code",
      "execution_count": 29,
      "metadata": {},
      "outputs": [
        {
          "name": "stdout",
          "output_type": "stream",
          "text": [
            "The AUROC is :  0.9762576632514699\n"
          ]
        }
      ],
      "source": [
        "model = RandomForestClassifier(class_weight='balanced_subsample',random_state=66)\n",
        "model.fit(X_train,y_train)\n",
        "\n",
        "predicted = model.predict(X_test)\n",
        "probs = model.predict_proba(X_test)\n",
        "\n",
        "print(\"The AUROC is : \",roc_auc_score(y_test,probs[:,1]))"
      ]
    },
    {
      "cell_type": "code",
      "execution_count": 39,
      "metadata": {},
      "outputs": [],
      "source": [
        "def get_model_results(X_train, y_train, X_test, y_test, model):\n",
        "  model.fit(X_train, y_train)\n",
        "  predicted = model.predict(X_test)\n",
        "  probs = model.predict_proba(X_test)\n",
        "  print (classification_report(y_test, predicted))\n",
        "  print (confusion_matrix(y_test, predicted))\n",
        "  print(\"The area under roc curve is: \",roc_auc_score(y_test,probs[:,1]))\n",
        "  print(\"The average precision score is: \", average_precision_score(y_test,probs[:,1]))\n",
        "  "
      ]
    },
    {
      "cell_type": "code",
      "execution_count": 33,
      "metadata": {},
      "outputs": [
        {
          "name": "stdout",
          "output_type": "stream",
          "text": [
            "              precision    recall  f1-score   support\n",
            "\n",
            "         0.0       0.99      1.00      1.00      2099\n",
            "         1.0       0.93      0.88      0.90        91\n",
            "\n",
            "    accuracy                           0.99      2190\n",
            "   macro avg       0.96      0.94      0.95      2190\n",
            "weighted avg       0.99      0.99      0.99      2190\n",
            "\n",
            "[[2093    6]\n",
            " [  11   80]]\n",
            "0.9774146767953342\n"
          ]
        }
      ],
      "source": [
        "# Change the model options\n",
        "model = RandomForestClassifier(bootstrap=True, class_weight={0:1, 1:12}, criterion='entropy',\n",
        "\t\t\t\n",
        "\t\t\t# Change depth of model\n",
        "            max_depth=10,\n",
        "\t\t\n",
        "\t\t\t# Change the number of samples in leaf nodes\n",
        "            min_samples_leaf=10, \n",
        "\n",
        "\t\t\t# Change the number of trees to use\n",
        "            n_estimators=20, n_jobs=-1, random_state=5)\n",
        "\n",
        "# Run the function get_model_results\n",
        "get_model_results(X_train, y_train, X_test, y_test, model)"
      ]
    },
    {
      "cell_type": "code",
      "execution_count": 34,
      "metadata": {},
      "outputs": [
        {
          "name": "stderr",
          "output_type": "stream",
          "text": [
            "c:\\Users\\cmuro\\anaconda3\\lib\\site-packages\\sklearn\\ensemble\\_forest.py:424: FutureWarning: `max_features='auto'` has been deprecated in 1.1 and will be removed in 1.3. To keep the past behaviour, explicitly set `max_features='sqrt'` or remove this parameter as it is also the default value for RandomForestClassifiers and ExtraTreesClassifiers.\n",
            "  warn(\n"
          ]
        },
        {
          "data": {
            "text/plain": [
              "{'criterion': 'gini',\n",
              " 'max_depth': 8,\n",
              " 'max_features': 'auto',\n",
              " 'n_estimators': 30}"
            ]
          },
          "execution_count": 34,
          "metadata": {},
          "output_type": "execute_result"
        }
      ],
      "source": [
        "from sklearn.model_selection import GridSearchCV\n",
        "\n",
        "# Define the parameter sets to test\n",
        "param_grid = {'n_estimators': [1, 30], 'max_features': ['auto', 'log2'],  'max_depth': [4, 8], 'criterion': ['gini', 'entropy']\n",
        "}\n",
        "\n",
        "# Define the model to use\n",
        "model = RandomForestClassifier(random_state=5)\n",
        "\n",
        "# Combine the parameter sets with the defined model\n",
        "CV_model = GridSearchCV(estimator=model, param_grid=param_grid, cv=5, scoring='recall', n_jobs=-1)\n",
        "\n",
        "# Fit the model to our training data and obtain best parameters\n",
        "CV_model.fit(X_train, y_train)\n",
        "CV_model.best_params_"
      ]
    },
    {
      "cell_type": "code",
      "execution_count": 35,
      "metadata": {},
      "outputs": [
        {
          "data": {
            "text/plain": [
              "0.8133565621370499"
            ]
          },
          "execution_count": 35,
          "metadata": {},
          "output_type": "execute_result"
        }
      ],
      "source": [
        "CV_model.best_score_"
      ]
    },
    {
      "cell_type": "code",
      "execution_count": 40,
      "metadata": {},
      "outputs": [
        {
          "name": "stderr",
          "output_type": "stream",
          "text": [
            "c:\\Users\\cmuro\\anaconda3\\lib\\site-packages\\sklearn\\ensemble\\_forest.py:424: FutureWarning: `max_features='auto'` has been deprecated in 1.1 and will be removed in 1.3. To keep the past behaviour, explicitly set `max_features='sqrt'` or remove this parameter as it is also the default value for RandomForestClassifiers and ExtraTreesClassifiers.\n",
            "  warn(\n"
          ]
        },
        {
          "name": "stdout",
          "output_type": "stream",
          "text": [
            "              precision    recall  f1-score   support\n",
            "\n",
            "         0.0       0.99      1.00      1.00      2099\n",
            "         1.0       0.96      0.85      0.90        91\n",
            "\n",
            "    accuracy                           0.99      2190\n",
            "   macro avg       0.98      0.92      0.95      2190\n",
            "weighted avg       0.99      0.99      0.99      2190\n",
            "\n",
            "[[2096    3]\n",
            " [  14   77]]\n",
            "The area under roc curve is:  0.9739567245522462\n",
            "The average precision score is:  0.9137737566202446\n"
          ]
        }
      ],
      "source": [
        "# Get results from the best model\n",
        "get_model_results(X_train, y_train, X_test, y_test, CV_model.best_estimator_)"
      ]
    },
    {
      "cell_type": "code",
      "execution_count": 41,
      "metadata": {},
      "outputs": [
        {
          "data": {
            "text/plain": [
              "<sklearn.metrics._plot.precision_recall_curve.PrecisionRecallDisplay at 0x1ad54096500>"
            ]
          },
          "execution_count": 41,
          "metadata": {},
          "output_type": "execute_result"
        },
        {
          "data": {
            "image/png": "[encoded data removed]",
            "text/plain": [
              "<Figure size 640x480 with 1 Axes>"
            ]
          },
          "metadata": {},
          "output_type": "display_data"
        }
      ],
      "source": [
        "from sklearn.metrics import precision_recall_curve, PrecisionRecallDisplay\n",
        "precision, recall, threshold = precision_recall_curve(y_test,CV_model.best_estimator_.predict_proba(X_test)[:,1])\n",
        "ap = average_precision_score(y_test,CV_model.best_estimator_.predict_proba(X_test)[:,1])\n",
        "prd = PrecisionRecallDisplay(precision,recall, average_precision=ap)\n",
        "prd.plot()\n"
      ]
    },
    {
      "cell_type": "markdown",
      "metadata": {},
      "source": [
        "## Fraud detection with unlabeled data\n",
        "* Using unsupervised learning to distinguish normal from abnormal behavior   \n",
        "* Abnormal behavior by definition is not always fraudelent  \n",
        "* Challenging because difficult to validate\n"
      ]
    },
    {
      "cell_type": "markdown",
      "metadata": {},
      "source": [
        "What is normal behavior?  \n",
        "* Thouroughly describe your data: plot histograms, check for outliers, investigate correlations and talk with a fraud analyst  \n",
        "* Are there any known historic cases of fraud? What typifies those cases?\n",
        "* Normal behavior of one type of client may not be normal for another   \n",
        "* Check patterns within subgroups of data"
      ]
    },
    {
      "cell_type": "code",
      "execution_count": 5,
      "metadata": {},
      "outputs": [
        {
          "data": {
            "text/plain": [
              "['banksim.csv',\n",
              " 'banksim_adj.csv',\n",
              " 'db_full.pickle',\n",
              " 'labels.pickle',\n",
              " 'labels_full.pickle',\n",
              " 'x_scaled.pickle',\n",
              " 'x_scawed_full.pickle']"
            ]
          },
          "execution_count": 5,
          "metadata": {},
          "output_type": "execute_result"
        }
      ],
      "source": [
        "import os\n",
        "os.listdir(path = \"datasets/fraud_detection_datacamp/chapter_3/\")\n"
      ]
    },
    {
      "cell_type": "code",
      "execution_count": 9,
      "metadata": {},
      "outputs": [
        {
          "data": {
            "text/html": [
              "<div>\n",
              "<style scoped>\n",
              "    .dataframe tbody tr th:only-of-type {\n",
              "        vertical-align: middle;\n",
              "    }\n",
              "\n",
              "    .dataframe tbody tr th {\n",
              "        vertical-align: top;\n",
              "    }\n",
              "\n",
              "    .dataframe thead th {\n",
              "        text-align: right;\n",
              "    }\n",
              "</style>\n",
              "<table border=\"1\" class=\"dataframe\">\n",
              "  <thead>\n",
              "    <tr style=\"text-align: right;\">\n",
              "      <th></th>\n",
              "      <th>age</th>\n",
              "      <th>gender</th>\n",
              "      <th>category</th>\n",
              "      <th>amount</th>\n",
              "      <th>fraud</th>\n",
              "    </tr>\n",
              "  </thead>\n",
              "  <tbody>\n",
              "    <tr>\n",
              "      <th>0</th>\n",
              "      <td>3</td>\n",
              "      <td>F</td>\n",
              "      <td>es_transportation</td>\n",
              "      <td>49.71</td>\n",
              "      <td>0</td>\n",
              "    </tr>\n",
              "    <tr>\n",
              "      <th>1</th>\n",
              "      <td>4</td>\n",
              "      <td>F</td>\n",
              "      <td>es_health</td>\n",
              "      <td>39.29</td>\n",
              "      <td>0</td>\n",
              "    </tr>\n",
              "    <tr>\n",
              "      <th>2</th>\n",
              "      <td>3</td>\n",
              "      <td>F</td>\n",
              "      <td>es_transportation</td>\n",
              "      <td>18.76</td>\n",
              "      <td>0</td>\n",
              "    </tr>\n",
              "    <tr>\n",
              "      <th>3</th>\n",
              "      <td>4</td>\n",
              "      <td>M</td>\n",
              "      <td>es_transportation</td>\n",
              "      <td>13.95</td>\n",
              "      <td>0</td>\n",
              "    </tr>\n",
              "    <tr>\n",
              "      <th>4</th>\n",
              "      <td>2</td>\n",
              "      <td>M</td>\n",
              "      <td>es_transportation</td>\n",
              "      <td>49.87</td>\n",
              "      <td>0</td>\n",
              "    </tr>\n",
              "  </tbody>\n",
              "</table>\n",
              "</div>"
            ],
            "text/plain": [
              "  age gender           category  amount  fraud\n",
              "0   3      F  es_transportation   49.71      0\n",
              "1   4      F          es_health   39.29      0\n",
              "2   3      F  es_transportation   18.76      0\n",
              "3   4      M  es_transportation   13.95      0\n",
              "4   2      M  es_transportation   49.87      0"
            ]
          },
          "execution_count": 9,
          "metadata": {},
          "output_type": "execute_result"
        }
      ],
      "source": [
        "import pandas as pd\n",
        "df_1 = pd.read_csv(\"datasets/fraud_detection_datacamp/chapter_3/banksim.csv\")\n",
        "df = df_1.drop(\"Unnamed: 0\", axis=1)\n",
        "df.head()\n"
      ]
    },
    {
      "cell_type": "code",
      "execution_count": 11,
      "metadata": {},
      "outputs": [
        {
          "name": "stdout",
          "output_type": "stream",
          "text": [
            "                         amount  fraud\n",
            "category                              \n",
            "es_barsandrestaurants   41.5100    0.0\n",
            "es_contents             50.5700    0.0\n",
            "es_fashion              44.0900    0.0\n",
            "es_food                 29.7150    0.0\n",
            "es_health              123.8400    0.0\n",
            "es_home                125.0300    0.0\n",
            "es_hotelservices       228.0500    1.0\n",
            "es_hyper                37.8300    0.0\n",
            "es_leisure             236.1474    1.0\n",
            "es_otherservices       166.9050    1.0\n",
            "es_sportsandtoys       176.8550    1.0\n",
            "es_tech                141.1700    0.0\n",
            "es_transportation       25.8600    0.0\n",
            "es_travel              236.1474    1.0\n",
            "es_wellnessandbeauty    54.0550    0.0\n"
          ]
        },
        {
          "name": "stderr",
          "output_type": "stream",
          "text": [
            "C:\\Users\\cmuro\\AppData\\Local\\Temp\\ipykernel_4360\\3798943943.py:1: FutureWarning: The default value of numeric_only in DataFrameGroupBy.median is deprecated. In a future version, numeric_only will default to False. Either specify numeric_only or select only columns which should be valid for the function.\n",
            "  print(df.groupby(\"category\").median())\n"
          ]
        }
      ],
      "source": [
        "print(df.groupby(\"category\").median())"
      ]
    },
    {
      "cell_type": "code",
      "execution_count": 13,
      "metadata": {},
      "outputs": [
        {
          "name": "stdout",
          "output_type": "stream",
          "text": [
            "        amount     fraud\n",
            "age                     \n",
            "0    49.468935  0.050000\n",
            "1    35.622829  0.026648\n",
            "2    37.228665  0.028718\n",
            "3    37.279338  0.023283\n",
            "4    36.197985  0.035966\n",
            "5    37.547521  0.023990\n",
            "6    36.700852  0.022293\n",
            "U    39.117000  0.000000\n"
          ]
        },
        {
          "name": "stderr",
          "output_type": "stream",
          "text": [
            "C:\\Users\\cmuro\\AppData\\Local\\Temp\\ipykernel_4360\\469801209.py:2: FutureWarning: The default value of numeric_only in DataFrameGroupBy.mean is deprecated. In a future version, numeric_only will default to False. Either specify numeric_only or select only columns which should be valid for the function.\n",
            "  print(df.groupby('age').mean())\n"
          ]
        }
      ],
      "source": [
        "# Group by age groups and get the mean\n",
        "print(df.groupby('age').mean())"
      ]
    },
    {
      "cell_type": "markdown",
      "metadata": {},
      "source": [
        "Using statistics to define normal behavior  \n",
        "  \n",
        "In the previous exercises we saw that fraud is more prevalent in certain transaction categories, but that there is no obvious way to segment our data into for example age groups. This time, let's investigate the average amounts spend in normal transactions versus fraud transactions. This gives you an idea of how fraudulent transactions differ structurally from normal transactions."
      ]
    },
    {
      "cell_type": "code",
      "execution_count": 14,
      "metadata": {},
      "outputs": [
        {
          "data": {
            "image/png": "[encoded data removed]",
            "text/plain": [
              "<Figure size 640x480 with 1 Axes>"
            ]
          },
          "metadata": {},
          "output_type": "display_data"
        }
      ],
      "source": [
        "import matplotlib.pyplot as plt\n",
        "\n",
        "df_fraud = df.loc[df.fraud == 1]\n",
        "df_non_fraud = df.loc[df.fraud == 0]\n",
        "\n",
        "plt.hist(df_fraud.amount, alpha = 0.5, label=\"fraud\")\n",
        "plt.hist(df_non_fraud.amount, alpha =0.5, label= \"nonfraud\")\n",
        "plt.legend()\n",
        "plt.show()"
      ]
    },
    {
      "cell_type": "markdown",
      "metadata": {},
      "source": [
        "As the number fraud observations is much smaller, it is difficult to see the full distribution. Nonetheless, we can see that the fraudulent transactions tend to be on the larger side relative to normal obervations. This is good news, as it helps us later in detecting fraud from non-fraud. We're going to implement a clustering model to distinguish between normal and abnormal transactions, when the fraud labels are no longer available."
      ]
    },
    {
      "cell_type": "markdown",
      "metadata": {},
      "source": [
        "#### Clustering methods to detect fraud  \n",
        "Remind that in K - means we use the distance to cluster centroids. In scikit learn:  \n",
        "  \n",
        "from sklearn.preprocessing import MinMaxScaler    \n",
        "from sklearn.cluster import KMeans  \n",
        "\n",
        "-- We need to transform and scale the data  \n",
        "X = np.array(df).astype(np.float64)  \n",
        "scaler = MinMaxScaler()  \n",
        "X_scaled = scaler.fit_transform(X)  \n",
        "\n",
        "kmeans = KMeans(n_clusters = 6, random_state = 42).fit(X_scaled)  \n",
        "  \n",
        "The drawback of KMeans clustering is that we need to assign the number of clusters beforehand. We can check the right amount of clusters should be by using the  \n",
        "* Silhouette method    \n",
        "* Elbow curve  \n",
        "    \n",
        " clust = range(1,10)  \n",
        " kmeans = [KMeans(n_clusters) for i in clust]     \n",
        " score = [kmeans[i].fit(X_scaled) for i in range(len(kmeans))]   \n",
        " plt.plot(clust,score)  \n",
        " plt.xlabel(\"Number of clusters\")  \n",
        " plt.ylabel(\"Elbow curve\")  \n",
        " plt.show()   \n",
        "\n",
        "\n",
        "\n"
      ]
    },
    {
      "cell_type": "code",
      "execution_count": 26,
      "metadata": {},
      "outputs": [
        {
          "name": "stderr",
          "output_type": "stream",
          "text": [
            "c:\\Users\\cmuro\\anaconda3\\lib\\site-packages\\sklearn\\preprocessing\\_encoders.py:828: FutureWarning: `sparse` was renamed to `sparse_output` in version 1.2 and will be removed in 1.4. `sparse_output` is ignored unless you leave `sparse` to its default value.\n",
            "  warnings.warn(\n"
          ]
        }
      ],
      "source": [
        "from sklearn.preprocessing import MinMaxScaler, LabelEncoder, OneHotEncoder\n",
        "from sklearn.compose import ColumnTransformer\n",
        "from sklearn.pipeline import Pipeline\n",
        "\n",
        "scaler = MinMaxScaler()  \n",
        "\n",
        "X = df.loc[:,~df.columns.isin(['Unnamed: 0', 'fraud'])]\n",
        "y = df[\"fraud\"]\n",
        "\n",
        "num_cols = X.select_dtypes(exclude = 'object').columns.tolist()\n",
        "cat_cols = X.select_dtypes(include = 'object').columns.tolist()\n",
        "\n",
        "cat_pipe = Pipeline([(\"ohe\", OneHotEncoder(handle_unknown=\"ignore\",drop=\"first\",sparse=False))])\n",
        "num_pipe = Pipeline([(\"scaler\",scaler)])\n",
        "\n",
        "preprocess = ColumnTransformer([(\"num_values\",num_pipe,num_cols),(\"cat_values\",cat_pipe,cat_cols)])\n",
        "\n",
        "transform_pipeline = Pipeline([(\"preprocess\",preprocess)])\n",
        "\n",
        "X_transformed = transform_pipeline.fit_transform(X)\n",
        "\n",
        "\n",
        "\n"
      ]
    },
    {
      "cell_type": "markdown",
      "metadata": {},
      "source": [
        " MiniBatch K-means is an efficient way to implement K-means on a large dataset.  \n",
        " Let us get the right number of clusters.  "
      ]
    },
    {
      "cell_type": "code",
      "execution_count": 32,
      "metadata": {},
      "outputs": [
        {
          "name": "stderr",
          "output_type": "stream",
          "text": [
            "c:\\Users\\cmuro\\anaconda3\\lib\\site-packages\\sklearn\\cluster\\_kmeans.py:870: FutureWarning: The default value of `n_init` will change from 3 to 'auto' in 1.4. Set the value of `n_init` explicitly to suppress the warning\n",
            "  warnings.warn(\n",
            "c:\\Users\\cmuro\\anaconda3\\lib\\site-packages\\sklearn\\cluster\\_kmeans.py:1902: UserWarning: MiniBatchKMeans is known to have a memory leak on Windows with MKL, when there are less chunks than available threads. You can prevent it by setting batch_size >= 3072 or by setting the environment variable OMP_NUM_THREADS=4\n",
            "  warnings.warn(\n",
            "c:\\Users\\cmuro\\anaconda3\\lib\\site-packages\\sklearn\\cluster\\_kmeans.py:870: FutureWarning: The default value of `n_init` will change from 3 to 'auto' in 1.4. Set the value of `n_init` explicitly to suppress the warning\n",
            "  warnings.warn(\n",
            "c:\\Users\\cmuro\\anaconda3\\lib\\site-packages\\sklearn\\cluster\\_kmeans.py:1902: UserWarning: MiniBatchKMeans is known to have a memory leak on Windows with MKL, when there are less chunks than available threads. You can prevent it by setting batch_size >= 3072 or by setting the environment variable OMP_NUM_THREADS=4\n",
            "  warnings.warn(\n",
            "c:\\Users\\cmuro\\anaconda3\\lib\\site-packages\\sklearn\\cluster\\_kmeans.py:870: FutureWarning: The default value of `n_init` will change from 3 to 'auto' in 1.4. Set the value of `n_init` explicitly to suppress the warning\n",
            "  warnings.warn(\n",
            "c:\\Users\\cmuro\\anaconda3\\lib\\site-packages\\sklearn\\cluster\\_kmeans.py:1902: UserWarning: MiniBatchKMeans is known to have a memory leak on Windows with MKL, when there are less chunks than available threads. You can prevent it by setting batch_size >= 3072 or by setting the environment variable OMP_NUM_THREADS=4\n",
            "  warnings.warn(\n",
            "c:\\Users\\cmuro\\anaconda3\\lib\\site-packages\\sklearn\\cluster\\_kmeans.py:870: FutureWarning: The default value of `n_init` will change from 3 to 'auto' in 1.4. Set the value of `n_init` explicitly to suppress the warning\n",
            "  warnings.warn(\n",
            "c:\\Users\\cmuro\\anaconda3\\lib\\site-packages\\sklearn\\cluster\\_kmeans.py:1902: UserWarning: MiniBatchKMeans is known to have a memory leak on Windows with MKL, when there are less chunks than available threads. You can prevent it by setting batch_size >= 3072 or by setting the environment variable OMP_NUM_THREADS=4\n",
            "  warnings.warn(\n",
            "c:\\Users\\cmuro\\anaconda3\\lib\\site-packages\\sklearn\\cluster\\_kmeans.py:870: FutureWarning: The default value of `n_init` will change from 3 to 'auto' in 1.4. Set the value of `n_init` explicitly to suppress the warning\n",
            "  warnings.warn(\n",
            "c:\\Users\\cmuro\\anaconda3\\lib\\site-packages\\sklearn\\cluster\\_kmeans.py:1902: UserWarning: MiniBatchKMeans is known to have a memory leak on Windows with MKL, when there are less chunks than available threads. You can prevent it by setting batch_size >= 3072 or by setting the environment variable OMP_NUM_THREADS=4\n",
            "  warnings.warn(\n",
            "c:\\Users\\cmuro\\anaconda3\\lib\\site-packages\\sklearn\\cluster\\_kmeans.py:870: FutureWarning: The default value of `n_init` will change from 3 to 'auto' in 1.4. Set the value of `n_init` explicitly to suppress the warning\n",
            "  warnings.warn(\n",
            "c:\\Users\\cmuro\\anaconda3\\lib\\site-packages\\sklearn\\cluster\\_kmeans.py:1902: UserWarning: MiniBatchKMeans is known to have a memory leak on Windows with MKL, when there are less chunks than available threads. You can prevent it by setting batch_size >= 3072 or by setting the environment variable OMP_NUM_THREADS=4\n",
            "  warnings.warn(\n",
            "c:\\Users\\cmuro\\anaconda3\\lib\\site-packages\\sklearn\\cluster\\_kmeans.py:870: FutureWarning: The default value of `n_init` will change from 3 to 'auto' in 1.4. Set the value of `n_init` explicitly to suppress the warning\n",
            "  warnings.warn(\n",
            "c:\\Users\\cmuro\\anaconda3\\lib\\site-packages\\sklearn\\cluster\\_kmeans.py:1902: UserWarning: MiniBatchKMeans is known to have a memory leak on Windows with MKL, when there are less chunks than available threads. You can prevent it by setting batch_size >= 3072 or by setting the environment variable OMP_NUM_THREADS=4\n",
            "  warnings.warn(\n",
            "c:\\Users\\cmuro\\anaconda3\\lib\\site-packages\\sklearn\\cluster\\_kmeans.py:870: FutureWarning: The default value of `n_init` will change from 3 to 'auto' in 1.4. Set the value of `n_init` explicitly to suppress the warning\n",
            "  warnings.warn(\n",
            "c:\\Users\\cmuro\\anaconda3\\lib\\site-packages\\sklearn\\cluster\\_kmeans.py:1902: UserWarning: MiniBatchKMeans is known to have a memory leak on Windows with MKL, when there are less chunks than available threads. You can prevent it by setting batch_size >= 3072 or by setting the environment variable OMP_NUM_THREADS=4\n",
            "  warnings.warn(\n",
            "c:\\Users\\cmuro\\anaconda3\\lib\\site-packages\\sklearn\\cluster\\_kmeans.py:870: FutureWarning: The default value of `n_init` will change from 3 to 'auto' in 1.4. Set the value of `n_init` explicitly to suppress the warning\n",
            "  warnings.warn(\n",
            "c:\\Users\\cmuro\\anaconda3\\lib\\site-packages\\sklearn\\cluster\\_kmeans.py:1902: UserWarning: MiniBatchKMeans is known to have a memory leak on Windows with MKL, when there are less chunks than available threads. You can prevent it by setting batch_size >= 3072 or by setting the environment variable OMP_NUM_THREADS=4\n",
            "  warnings.warn(\n",
            "No artists with labels found to put in legend.  Note that artists whose label start with an underscore are ignored when legend() is called with no argument.\n"
          ]
        },
        {
          "data": {
            "image/png": "[encoded data removed]",
            "text/plain": [
              "<Figure size 640x480 with 1 Axes>"
            ]
          },
          "metadata": {},
          "output_type": "display_data"
        }
      ],
      "source": [
        "from sklearn.cluster import MiniBatchKMeans\n",
        "\n",
        "clustno = range(1,10)\n",
        "\n",
        "# Run MiniBatch Kmeans over the number of clusters\n",
        "kmeans = [MiniBatchKMeans(n_clusters=i, random_state=0) for i in clustno]\n",
        "\n",
        "# Obtain the score for each model\n",
        "score = [kmeans[i].fit(X_transformed).score(X_transformed) for i in range(len(kmeans))]\n",
        "\n",
        "plt.plot(clustno,score)\n",
        "plt.xlabel(\"Number of clusters\")\n",
        "plt.ylabel(\"Score\")\n",
        "plt.title(\"Elbow curve\")\n",
        "plt.legend()\n",
        "plt.show()"
      ]
    },
    {
      "cell_type": "markdown",
      "metadata": {},
      "source": [
        "We can observe that the ideal number of clusters can be 2 or 3.  \n",
        "\n",
        "Now, how we go from clustering data to fraud detection?  \n",
        "In a nutshell, we take the outliers of each cluster, and flag those as fraud.  \n",
        "\n",
        "In a first step, you need to collect and store the cluster centroids in memory, as that is the starting point to decide what's normal and what's not.  \n",
        "   \n",
        "The next step is to calculate the distance of each point in the dataset to their own cluster centroid. \n",
        "   \n",
        "We also need to define a cut-off point for the distances to define what is an outlier. We do these based on the distributions of the distances collected.  \n",
        "   \n",
        "Suppose you decide everything that has a bigger distance than the top 95th percentile should be considered an outlier, i.e. take the tail of the distribution of the distances.  \n",
        "\n",
        "Those these points can be described as abnormal or suspicious. It does not mean that these observations are also fraudelent. \n",
        "  \n",
        "**Validating the model results**  \n",
        "* Check with the fraud analyst  \n",
        "* Investigate and describe cases that are flagged in more detail \n",
        "* Compare to past known cases of fraud    \n",
        "\n"
      ]
    },
    {
      "cell_type": "code",
      "execution_count": 36,
      "metadata": {},
      "outputs": [
        {
          "name": "stderr",
          "output_type": "stream",
          "text": [
            "c:\\Users\\cmuro\\anaconda3\\lib\\site-packages\\sklearn\\cluster\\_kmeans.py:870: FutureWarning: The default value of `n_init` will change from 3 to 'auto' in 1.4. Set the value of `n_init` explicitly to suppress the warning\n",
            "  warnings.warn(\n",
            "c:\\Users\\cmuro\\anaconda3\\lib\\site-packages\\sklearn\\cluster\\_kmeans.py:1902: UserWarning: MiniBatchKMeans is known to have a memory leak on Windows with MKL, when there are less chunks than available threads. You can prevent it by setting batch_size >= 3072 or by setting the environment variable OMP_NUM_THREADS=4\n",
            "  warnings.warn(\n"
          ]
        }
      ],
      "source": [
        "# Define the K-Means model  \n",
        "kmeans = MiniBatchKMeans(n_clusters=2, \n",
        "                         random_state=66)\n",
        "X_clusters = kmeans.fit_predict(X_transformed)\n",
        "X_clusters_centers = kmeans.cluster_centers_\n",
        "dist = [np.linalg.norm(x-y) for x,y in zip(X_transformed,\n",
        "                                      X_clusters_centers[X_clusters])]  \n",
        "\n",
        "# Create fraud predictions based on outliers on clusters \n",
        "km_y_pred = np.array(dist)\n",
        "km_y_pred[dist >= np.percentile(dist, 95)] = 1\n",
        "km_y_pred[dist < np.percentile(dist, 95)] = 0\n"
      ]
    },
    {
      "cell_type": "code",
      "execution_count": 47,
      "metadata": {},
      "outputs": [
        {
          "data": {
            "text/html": [
              "<div>\n",
              "<style scoped>\n",
              "    .dataframe tbody tr th:only-of-type {\n",
              "        vertical-align: middle;\n",
              "    }\n",
              "\n",
              "    .dataframe tbody tr th {\n",
              "        vertical-align: top;\n",
              "    }\n",
              "\n",
              "    .dataframe thead th {\n",
              "        text-align: right;\n",
              "    }\n",
              "</style>\n",
              "<table border=\"1\" class=\"dataframe\">\n",
              "  <thead>\n",
              "    <tr style=\"text-align: right;\">\n",
              "      <th></th>\n",
              "      <th>age</th>\n",
              "      <th>gender</th>\n",
              "      <th>category</th>\n",
              "      <th>amount</th>\n",
              "      <th>euc_dist</th>\n",
              "      <th>km_y_pred</th>\n",
              "    </tr>\n",
              "  </thead>\n",
              "  <tbody>\n",
              "    <tr>\n",
              "      <th>0</th>\n",
              "      <td>3</td>\n",
              "      <td>F</td>\n",
              "      <td>es_transportation</td>\n",
              "      <td>49.7100</td>\n",
              "      <td>0.896289</td>\n",
              "      <td>0.0</td>\n",
              "    </tr>\n",
              "    <tr>\n",
              "      <th>1</th>\n",
              "      <td>4</td>\n",
              "      <td>F</td>\n",
              "      <td>es_health</td>\n",
              "      <td>39.2900</td>\n",
              "      <td>1.575786</td>\n",
              "      <td>0.0</td>\n",
              "    </tr>\n",
              "    <tr>\n",
              "      <th>2</th>\n",
              "      <td>3</td>\n",
              "      <td>F</td>\n",
              "      <td>es_transportation</td>\n",
              "      <td>18.7600</td>\n",
              "      <td>0.898624</td>\n",
              "      <td>0.0</td>\n",
              "    </tr>\n",
              "    <tr>\n",
              "      <th>3</th>\n",
              "      <td>4</td>\n",
              "      <td>M</td>\n",
              "      <td>es_transportation</td>\n",
              "      <td>13.9500</td>\n",
              "      <td>0.934852</td>\n",
              "      <td>0.0</td>\n",
              "    </tr>\n",
              "    <tr>\n",
              "      <th>4</th>\n",
              "      <td>2</td>\n",
              "      <td>M</td>\n",
              "      <td>es_transportation</td>\n",
              "      <td>49.8700</td>\n",
              "      <td>0.796892</td>\n",
              "      <td>0.0</td>\n",
              "    </tr>\n",
              "    <tr>\n",
              "      <th>...</th>\n",
              "      <td>...</td>\n",
              "      <td>...</td>\n",
              "      <td>...</td>\n",
              "      <td>...</td>\n",
              "      <td>...</td>\n",
              "      <td>...</td>\n",
              "    </tr>\n",
              "    <tr>\n",
              "      <th>7195</th>\n",
              "      <td>5</td>\n",
              "      <td>M</td>\n",
              "      <td>es_hotelservices</td>\n",
              "      <td>236.1474</td>\n",
              "      <td>1.852067</td>\n",
              "      <td>1.0</td>\n",
              "    </tr>\n",
              "    <tr>\n",
              "      <th>7196</th>\n",
              "      <td>5</td>\n",
              "      <td>F</td>\n",
              "      <td>es_hotelservices</td>\n",
              "      <td>139.6000</td>\n",
              "      <td>1.687835</td>\n",
              "      <td>1.0</td>\n",
              "    </tr>\n",
              "    <tr>\n",
              "      <th>7197</th>\n",
              "      <td>1</td>\n",
              "      <td>F</td>\n",
              "      <td>es_travel</td>\n",
              "      <td>236.1474</td>\n",
              "      <td>1.841691</td>\n",
              "      <td>1.0</td>\n",
              "    </tr>\n",
              "    <tr>\n",
              "      <th>7198</th>\n",
              "      <td>1</td>\n",
              "      <td>M</td>\n",
              "      <td>es_hotelservices</td>\n",
              "      <td>236.1474</td>\n",
              "      <td>1.856644</td>\n",
              "      <td>1.0</td>\n",
              "    </tr>\n",
              "    <tr>\n",
              "      <th>7199</th>\n",
              "      <td>4</td>\n",
              "      <td>F</td>\n",
              "      <td>es_health</td>\n",
              "      <td>236.1474</td>\n",
              "      <td>1.787151</td>\n",
              "      <td>1.0</td>\n",
              "    </tr>\n",
              "  </tbody>\n",
              "</table>\n",
              "<p>7200 rows × 6 columns</p>\n",
              "</div>"
            ],
            "text/plain": [
              "     age gender           category    amount  euc_dist  km_y_pred\n",
              "0      3      F  es_transportation   49.7100  0.896289        0.0\n",
              "1      4      F          es_health   39.2900  1.575786        0.0\n",
              "2      3      F  es_transportation   18.7600  0.898624        0.0\n",
              "3      4      M  es_transportation   13.9500  0.934852        0.0\n",
              "4      2      M  es_transportation   49.8700  0.796892        0.0\n",
              "...   ..    ...                ...       ...       ...        ...\n",
              "7195   5      M   es_hotelservices  236.1474  1.852067        1.0\n",
              "7196   5      F   es_hotelservices  139.6000  1.687835        1.0\n",
              "7197   1      F          es_travel  236.1474  1.841691        1.0\n",
              "7198   1      M   es_hotelservices  236.1474  1.856644        1.0\n",
              "7199   4      F          es_health  236.1474  1.787151        1.0\n",
              "\n",
              "[7200 rows x 6 columns]"
            ]
          },
          "execution_count": 47,
          "metadata": {},
          "output_type": "execute_result"
        }
      ],
      "source": [
        "dist_series = pd.Series(dist, name='euc_dist')\n",
        "km_y_pred_series = pd.Series(km_y_pred, name='km_y_pred')\n",
        "\n",
        "\n",
        "X_complete = pd.concat([X, dist_series, km_y_pred_series], axis=1)\n",
        "X_complete"
      ]
    },
    {
      "cell_type": "code",
      "execution_count": 49,
      "metadata": {},
      "outputs": [
        {
          "data": {
            "text/html": [
              "<div>\n",
              "<style scoped>\n",
              "    .dataframe tbody tr th:only-of-type {\n",
              "        vertical-align: middle;\n",
              "    }\n",
              "\n",
              "    .dataframe tbody tr th {\n",
              "        vertical-align: top;\n",
              "    }\n",
              "\n",
              "    .dataframe thead th {\n",
              "        text-align: right;\n",
              "    }\n",
              "</style>\n",
              "<table border=\"1\" class=\"dataframe\">\n",
              "  <thead>\n",
              "    <tr style=\"text-align: right;\">\n",
              "      <th></th>\n",
              "      <th>age</th>\n",
              "      <th>gender</th>\n",
              "      <th>amount</th>\n",
              "      <th>euc_dist</th>\n",
              "      <th>km_y_pred</th>\n",
              "    </tr>\n",
              "    <tr>\n",
              "      <th>category</th>\n",
              "      <th></th>\n",
              "      <th></th>\n",
              "      <th></th>\n",
              "      <th></th>\n",
              "      <th></th>\n",
              "    </tr>\n",
              "  </thead>\n",
              "  <tbody>\n",
              "    <tr>\n",
              "      <th>es_contents</th>\n",
              "      <td>3</td>\n",
              "      <td>3</td>\n",
              "      <td>3</td>\n",
              "      <td>3</td>\n",
              "      <td>3</td>\n",
              "    </tr>\n",
              "    <tr>\n",
              "      <th>es_fashion</th>\n",
              "      <td>22</td>\n",
              "      <td>22</td>\n",
              "      <td>22</td>\n",
              "      <td>22</td>\n",
              "      <td>22</td>\n",
              "    </tr>\n",
              "    <tr>\n",
              "      <th>es_food</th>\n",
              "      <td>26</td>\n",
              "      <td>26</td>\n",
              "      <td>26</td>\n",
              "      <td>26</td>\n",
              "      <td>26</td>\n",
              "    </tr>\n",
              "    <tr>\n",
              "      <th>es_health</th>\n",
              "      <td>105</td>\n",
              "      <td>105</td>\n",
              "      <td>105</td>\n",
              "      <td>105</td>\n",
              "      <td>105</td>\n",
              "    </tr>\n",
              "    <tr>\n",
              "      <th>es_home</th>\n",
              "      <td>14</td>\n",
              "      <td>14</td>\n",
              "      <td>14</td>\n",
              "      <td>14</td>\n",
              "      <td>14</td>\n",
              "    </tr>\n",
              "    <tr>\n",
              "      <th>es_hotelservices</th>\n",
              "      <td>21</td>\n",
              "      <td>21</td>\n",
              "      <td>21</td>\n",
              "      <td>21</td>\n",
              "      <td>21</td>\n",
              "    </tr>\n",
              "    <tr>\n",
              "      <th>es_hyper</th>\n",
              "      <td>13</td>\n",
              "      <td>13</td>\n",
              "      <td>13</td>\n",
              "      <td>13</td>\n",
              "      <td>13</td>\n",
              "    </tr>\n",
              "    <tr>\n",
              "      <th>es_leisure</th>\n",
              "      <td>13</td>\n",
              "      <td>13</td>\n",
              "      <td>13</td>\n",
              "      <td>13</td>\n",
              "      <td>13</td>\n",
              "    </tr>\n",
              "    <tr>\n",
              "      <th>es_otherservices</th>\n",
              "      <td>6</td>\n",
              "      <td>6</td>\n",
              "      <td>6</td>\n",
              "      <td>6</td>\n",
              "      <td>6</td>\n",
              "    </tr>\n",
              "    <tr>\n",
              "      <th>es_sportsandtoys</th>\n",
              "      <td>53</td>\n",
              "      <td>53</td>\n",
              "      <td>53</td>\n",
              "      <td>53</td>\n",
              "      <td>53</td>\n",
              "    </tr>\n",
              "    <tr>\n",
              "      <th>es_tech</th>\n",
              "      <td>26</td>\n",
              "      <td>26</td>\n",
              "      <td>26</td>\n",
              "      <td>26</td>\n",
              "      <td>26</td>\n",
              "    </tr>\n",
              "    <tr>\n",
              "      <th>es_transportation</th>\n",
              "      <td>1</td>\n",
              "      <td>1</td>\n",
              "      <td>1</td>\n",
              "      <td>1</td>\n",
              "      <td>1</td>\n",
              "    </tr>\n",
              "    <tr>\n",
              "      <th>es_travel</th>\n",
              "      <td>17</td>\n",
              "      <td>17</td>\n",
              "      <td>17</td>\n",
              "      <td>17</td>\n",
              "      <td>17</td>\n",
              "    </tr>\n",
              "    <tr>\n",
              "      <th>es_wellnessandbeauty</th>\n",
              "      <td>40</td>\n",
              "      <td>40</td>\n",
              "      <td>40</td>\n",
              "      <td>40</td>\n",
              "      <td>40</td>\n",
              "    </tr>\n",
              "  </tbody>\n",
              "</table>\n",
              "</div>"
            ],
            "text/plain": [
              "                      age  gender  amount  euc_dist  km_y_pred\n",
              "category                                                      \n",
              "es_contents             3       3       3         3          3\n",
              "es_fashion             22      22      22        22         22\n",
              "es_food                26      26      26        26         26\n",
              "es_health             105     105     105       105        105\n",
              "es_home                14      14      14        14         14\n",
              "es_hotelservices       21      21      21        21         21\n",
              "es_hyper               13      13      13        13         13\n",
              "es_leisure             13      13      13        13         13\n",
              "es_otherservices        6       6       6         6          6\n",
              "es_sportsandtoys       53      53      53        53         53\n",
              "es_tech                26      26      26        26         26\n",
              "es_transportation       1       1       1         1          1\n",
              "es_travel              17      17      17        17         17\n",
              "es_wellnessandbeauty   40      40      40        40         40"
            ]
          },
          "execution_count": 49,
          "metadata": {},
          "output_type": "execute_result"
        }
      ],
      "source": [
        "X_complete_abnormal = X_complete[X_complete[\"km_y_pred\"]== 1.0]\n",
        "X_complete_abnormal.groupby(\"category\").count()"
      ]
    },
    {
      "cell_type": "markdown",
      "metadata": {
        "id": "2qQbLWtrT_y_"
      },
      "source": [
        "# Unsupervised Learning for Fraud Detection\n",
        "## César Muro Cabral\n"
      ]
    },
    {
      "cell_type": "markdown",
      "metadata": {
        "id": "9jhUrdN5T_zA"
      },
      "source": [
        "In this project, we employ the clustering methods K-Means and DBSCAN to detect fraud.  \n",
        "  \n",
        "We look at bank payment transaction data. The financial transactions are categorized by type of expense, as well as the amount spent. Moreover, some client characteristics available such as age group and gender. Some of the transactions are labelled as fraud; we'll treat these labels as given and will use those to validate the results.    \n",
        "  \n",
        "We employ two clustering models: minibatchkmeans and dbscan.   \n",
        "  \n",
        "For kmeans, we construct a pipeline with two steps: a preprocessor step to transform the data and the model. We find the best hyperparameters using the library optuna.    \n",
        "  \n",
        "For the dbscan, we initialize the model setting the maximum distance between two samples to 0.9 and the minimum observations in the clusters to 10.   "
      ]
    },
    {
      "cell_type": "markdown",
      "metadata": {
        "id": "53A66aenT_zB"
      },
      "source": [
        "## Exploring data analysis"
      ]
    },
    {
      "cell_type": "markdown",
      "metadata": {
        "id": "je4y0n_qT_zB"
      },
      "source": [
        "The fields or columns of the dataset are:"
      ]
    },
    {
      "cell_type": "code",
      "execution_count": null,
      "metadata": {
        "id": "et9mt0auT_zB",
        "outputId": "927e997b-65a0-40d0-cd52-6d2fb7921651"
      },
      "outputs": [
        {
          "name": "stdout",
          "output_type": "stream",
          "text": [
            "<class 'pandas.core.frame.DataFrame'>\n",
            "RangeIndex: 7200 entries, 0 to 7199\n",
            "Data columns (total 6 columns):\n",
            " #   Column      Non-Null Count  Dtype  \n",
            "---  ------      --------------  -----  \n",
            " 0   Unnamed: 0  7200 non-null   int64  \n",
            " 1   age         7200 non-null   object \n",
            " 2   gender      7200 non-null   object \n",
            " 3   category    7200 non-null   object \n",
            " 4   amount      7200 non-null   float64\n",
            " 5   fraud       7200 non-null   int64  \n",
            "dtypes: float64(1), int64(2), object(3)\n",
            "memory usage: 337.6+ KB\n"
          ]
        }
      ],
      "source": [
        "import pandas as pd\n",
        "import seaborn as sns\n",
        "import matplotlib.pyplot as plt\n",
        "import numpy as np\n",
        "df = pd.read_csv(\"banksim.csv\")\n",
        "df.info()"
      ]
    },
    {
      "cell_type": "code",
      "execution_count": null,
      "metadata": {
        "id": "vRCB7pFnT_zC",
        "outputId": "6d8aa61b-6169-413a-d0fd-5e72c9731324"
      },
      "outputs": [
        {
          "data": {
            "text/html": [
              "<div>\n",
              "<style scoped>\n",
              "    .dataframe tbody tr th:only-of-type {\n",
              "        vertical-align: middle;\n",
              "    }\n",
              "\n",
              "    .dataframe tbody tr th {\n",
              "        vertical-align: top;\n",
              "    }\n",
              "\n",
              "    .dataframe thead th {\n",
              "        text-align: right;\n",
              "    }\n",
              "</style>\n",
              "<table border=\"1\" class=\"dataframe\">\n",
              "  <thead>\n",
              "    <tr style=\"text-align: right;\">\n",
              "      <th></th>\n",
              "      <th>Unnamed: 0</th>\n",
              "      <th>age</th>\n",
              "      <th>gender</th>\n",
              "      <th>category</th>\n",
              "      <th>amount</th>\n",
              "      <th>fraud</th>\n",
              "    </tr>\n",
              "  </thead>\n",
              "  <tbody>\n",
              "    <tr>\n",
              "      <th>0</th>\n",
              "      <td>171915</td>\n",
              "      <td>3</td>\n",
              "      <td>F</td>\n",
              "      <td>es_transportation</td>\n",
              "      <td>49.71</td>\n",
              "      <td>0</td>\n",
              "    </tr>\n",
              "    <tr>\n",
              "      <th>1</th>\n",
              "      <td>426989</td>\n",
              "      <td>4</td>\n",
              "      <td>F</td>\n",
              "      <td>es_health</td>\n",
              "      <td>39.29</td>\n",
              "      <td>0</td>\n",
              "    </tr>\n",
              "    <tr>\n",
              "      <th>2</th>\n",
              "      <td>310539</td>\n",
              "      <td>3</td>\n",
              "      <td>F</td>\n",
              "      <td>es_transportation</td>\n",
              "      <td>18.76</td>\n",
              "      <td>0</td>\n",
              "    </tr>\n",
              "    <tr>\n",
              "      <th>3</th>\n",
              "      <td>215216</td>\n",
              "      <td>4</td>\n",
              "      <td>M</td>\n",
              "      <td>es_transportation</td>\n",
              "      <td>13.95</td>\n",
              "      <td>0</td>\n",
              "    </tr>\n",
              "    <tr>\n",
              "      <th>4</th>\n",
              "      <td>569244</td>\n",
              "      <td>2</td>\n",
              "      <td>M</td>\n",
              "      <td>es_transportation</td>\n",
              "      <td>49.87</td>\n",
              "      <td>0</td>\n",
              "    </tr>\n",
              "    <tr>\n",
              "      <th>5</th>\n",
              "      <td>153631</td>\n",
              "      <td>4</td>\n",
              "      <td>F</td>\n",
              "      <td>es_hyper</td>\n",
              "      <td>57.82</td>\n",
              "      <td>0</td>\n",
              "    </tr>\n",
              "    <tr>\n",
              "      <th>6</th>\n",
              "      <td>290621</td>\n",
              "      <td>5</td>\n",
              "      <td>F</td>\n",
              "      <td>es_transportation</td>\n",
              "      <td>27.26</td>\n",
              "      <td>0</td>\n",
              "    </tr>\n",
              "    <tr>\n",
              "      <th>7</th>\n",
              "      <td>78537</td>\n",
              "      <td>2</td>\n",
              "      <td>F</td>\n",
              "      <td>es_transportation</td>\n",
              "      <td>7.61</td>\n",
              "      <td>0</td>\n",
              "    </tr>\n",
              "    <tr>\n",
              "      <th>8</th>\n",
              "      <td>56239</td>\n",
              "      <td>4</td>\n",
              "      <td>M</td>\n",
              "      <td>es_transportation</td>\n",
              "      <td>42.01</td>\n",
              "      <td>0</td>\n",
              "    </tr>\n",
              "    <tr>\n",
              "      <th>9</th>\n",
              "      <td>562564</td>\n",
              "      <td>2</td>\n",
              "      <td>F</td>\n",
              "      <td>es_transportation</td>\n",
              "      <td>21.08</td>\n",
              "      <td>0</td>\n",
              "    </tr>\n",
              "    <tr>\n",
              "      <th>10</th>\n",
              "      <td>429742</td>\n",
              "      <td>3</td>\n",
              "      <td>M</td>\n",
              "      <td>es_transportation</td>\n",
              "      <td>25.44</td>\n",
              "      <td>0</td>\n",
              "    </tr>\n",
              "    <tr>\n",
              "      <th>11</th>\n",
              "      <td>282044</td>\n",
              "      <td>5</td>\n",
              "      <td>F</td>\n",
              "      <td>es_health</td>\n",
              "      <td>70.65</td>\n",
              "      <td>0</td>\n",
              "    </tr>\n",
              "    <tr>\n",
              "      <th>12</th>\n",
              "      <td>211040</td>\n",
              "      <td>2</td>\n",
              "      <td>F</td>\n",
              "      <td>es_food</td>\n",
              "      <td>41.08</td>\n",
              "      <td>0</td>\n",
              "    </tr>\n",
              "    <tr>\n",
              "      <th>13</th>\n",
              "      <td>115784</td>\n",
              "      <td>2</td>\n",
              "      <td>M</td>\n",
              "      <td>es_transportation</td>\n",
              "      <td>12.44</td>\n",
              "      <td>0</td>\n",
              "    </tr>\n",
              "    <tr>\n",
              "      <th>14</th>\n",
              "      <td>345901</td>\n",
              "      <td>2</td>\n",
              "      <td>M</td>\n",
              "      <td>es_transportation</td>\n",
              "      <td>13.72</td>\n",
              "      <td>0</td>\n",
              "    </tr>\n",
              "  </tbody>\n",
              "</table>\n",
              "</div>"
            ],
            "text/plain": [
              "    Unnamed: 0 age gender           category  amount  fraud\n",
              "0       171915   3      F  es_transportation   49.71      0\n",
              "1       426989   4      F          es_health   39.29      0\n",
              "2       310539   3      F  es_transportation   18.76      0\n",
              "3       215216   4      M  es_transportation   13.95      0\n",
              "4       569244   2      M  es_transportation   49.87      0\n",
              "5       153631   4      F           es_hyper   57.82      0\n",
              "6       290621   5      F  es_transportation   27.26      0\n",
              "7        78537   2      F  es_transportation    7.61      0\n",
              "8        56239   4      M  es_transportation   42.01      0\n",
              "9       562564   2      F  es_transportation   21.08      0\n",
              "10      429742   3      M  es_transportation   25.44      0\n",
              "11      282044   5      F          es_health   70.65      0\n",
              "12      211040   2      F            es_food   41.08      0\n",
              "13      115784   2      M  es_transportation   12.44      0\n",
              "14      345901   2      M  es_transportation   13.72      0"
            ]
          },
          "execution_count": 30,
          "metadata": {},
          "output_type": "execute_result"
        }
      ],
      "source": [
        "df.head(15)"
      ]
    },
    {
      "cell_type": "markdown",
      "metadata": {
        "id": "C6IOkvB4T_zC"
      },
      "source": [
        "Let's visualize the distribution of each field and check whether there are any obvious patterns for the clients.  \n",
        "  \n",
        "The different categories are:"
      ]
    },
    {
      "cell_type": "code",
      "execution_count": null,
      "metadata": {
        "id": "10rz3btBT_zD",
        "outputId": "f98e024d-6708-4840-a694-57a616ea8c4f"
      },
      "outputs": [
        {
          "data": {
            "text/plain": [
              "es_transportation        5975\n",
              "es_food                   294\n",
              "es_health                 243\n",
              "es_wellnessandbeauty      198\n",
              "es_fashion                 97\n",
              "es_barsandrestaurants      89\n",
              "es_hyper                   80\n",
              "es_sportsandtoys           76\n",
              "es_tech                    39\n",
              "es_hotelservices           31\n",
              "es_home                    24\n",
              "es_travel                  18\n",
              "es_contents                13\n",
              "es_leisure                 13\n",
              "es_otherservices           10\n",
              "Name: category, dtype: int64"
            ]
          },
          "execution_count": 44,
          "metadata": {},
          "output_type": "execute_result"
        }
      ],
      "source": [
        "df['category'].value_counts()"
      ]
    },
    {
      "cell_type": "markdown",
      "metadata": {
        "id": "aVOUOmSOT_zD"
      },
      "source": [
        "where their distribution according if they are fraudulent is:"
      ]
    },
    {
      "cell_type": "code",
      "execution_count": null,
      "metadata": {
        "id": "tCJecAMmT_zE",
        "outputId": "60a9aae5-12a6-410c-ab9f-64d4dd9a19f1"
      },
      "outputs": [
        {
          "data": {
            "image/png": "[encoded data removed]",
            "text/plain": [
              "<Figure size 2700x1000 with 1 Axes>"
            ]
          },
          "metadata": {},
          "output_type": "display_data"
        }
      ],
      "source": [
        "total = len(df)\n",
        "fig, axes = plt.subplots(1,1,figsize=(27,10))\n",
        "sns.countplot(x='category', hue='fraud', data=df, ax=axes)\n",
        "axes.set(title=\"Count of individual by category\", xlabel='category')\n",
        "for p in axes.patches:\n",
        "    percentage=f'{100*p.get_height()/total:.1f}%\\n'\n",
        "    x=p.get_x()+p.get_width()/2\n",
        "    y=p.get_height()\n",
        "    axes.annotate(percentage,(x,y),ha='center',va='center',fontsize=14)"
      ]
    },
    {
      "cell_type": "markdown",
      "metadata": {
        "id": "1CjUZ4byT_zE"
      },
      "source": [
        "We observe that the category \"es_sports and toys\" presents more fraudelent cases.  \n",
        "  \n",
        "Now, let us inspect by gender:  "
      ]
    },
    {
      "cell_type": "code",
      "execution_count": null,
      "metadata": {
        "id": "RFmmC9hsT_zG",
        "outputId": "ee7d1152-b598-4135-e6d0-1ec120011534"
      },
      "outputs": [
        {
          "data": {
            "image/png": "[encoded data removed]",
            "text/plain": [
              "<Figure size 2700x1000 with 1 Axes>"
            ]
          },
          "metadata": {},
          "output_type": "display_data"
        }
      ],
      "source": [
        "total = len(df)\n",
        "fig, axes = plt.subplots(1,1,figsize=(27,10))\n",
        "sns.countplot(x='gender', hue='fraud',data=df)\n",
        "axes.set(title=\"Count of individualas by gender\",xlabel=\"gender\")\n",
        "for p in axes.patches:\n",
        "    percentage=f'{100*p.get_height()/total:.1f}%\\n'\n",
        "    x=p.get_x()+p.get_width()/2\n",
        "    y=p.get_height()\n",
        "    axes.annotate(percentage,(x,y),ha='center',va='center',fontsize=14)\n"
      ]
    },
    {
      "cell_type": "markdown",
      "metadata": {
        "id": "LTOVY8zRT_zG"
      },
      "source": [
        "Now, by age in the company:"
      ]
    },
    {
      "cell_type": "code",
      "execution_count": null,
      "metadata": {
        "id": "1V4b15KWT_zG",
        "outputId": "02bdd71c-204c-4819-b46a-cd6909952a3b"
      },
      "outputs": [
        {
          "data": {
            "image/png": "[encoded data removed]",
            "text/plain": [
              "<Figure size 2700x1000 with 1 Axes>"
            ]
          },
          "metadata": {},
          "output_type": "display_data"
        }
      ],
      "source": [
        "import matplotlib.pyplot as plt\n",
        "import seaborn as sns\n",
        "total = len(df)\n",
        "fig, axes = plt.subplots(1,1,figsize=(27,10))\n",
        "sns.countplot(x='age', hue='fraud',data=df)\n",
        "axes.set(title=\"Count of individualas by age\", xlabel=\"age\")\n",
        "for p in axes.patches:\n",
        "    percentage=f'{100*p.get_height()/total:.1f}%\\n'\n",
        "    x=p.get_x()+p.get_width()/2\n",
        "    y=p.get_height()\n",
        "    axes.annotate(percentage,(x,y),ha='center',va='center',fontsize=14)"
      ]
    },
    {
      "cell_type": "markdown",
      "metadata": {
        "id": "IyQG3xIzT_zH"
      },
      "source": [
        "And finally by inspecting the amount:"
      ]
    },
    {
      "cell_type": "code",
      "execution_count": null,
      "metadata": {
        "id": "fLaIXNLoT_zH",
        "outputId": "d6086b48-30fa-4b33-d289-ddd77e68d28c"
      },
      "outputs": [
        {
          "data": {
            "image/png": "[encoded data removed]",
            "text/plain": [
              "<Figure size 640x480 with 1 Axes>"
            ]
          },
          "metadata": {},
          "output_type": "display_data"
        }
      ],
      "source": [
        "sns.histplot(df.loc[df['fraud']==0]['amount'], color='blue', label='Non-fraud',common_norm=False)\n",
        "sns.histplot(df.loc[df['fraud']==1]['amount'], color='red', label='Fraudulent transaction',common_norm=False)\n",
        "plt.legend()\n",
        "plt.show()"
      ]
    },
    {
      "cell_type": "markdown",
      "metadata": {
        "id": "HUD6HJ6xT_zH"
      },
      "source": [
        "We observe that the transactions with higher than $200 tend to be more fraudulent. Moreover, the fraudulent transactions tend to be on the larger side relative to normal obervations. This is good news, as it helps us later in detecting fraud from non-fraud."
      ]
    },
    {
      "cell_type": "markdown",
      "metadata": {
        "id": "QtWQJchlT_zI"
      },
      "source": [
        "## Unsupervised ML model:\n",
        "### K-Means clustering"
      ]
    },
    {
      "cell_type": "markdown",
      "metadata": {
        "id": "MGKO581QT_zI"
      },
      "source": [
        "For ML algorithms using distance based metrics, it is crucial to always scale your data, as features using different scales will distort your results. K-means uses the Euclidian distance to assess distance to cluster centroids.  \n",
        "\n",
        "We use the class MiniBatchKMeans from sklearn.cluster and tuned the hyperparameters n_clusters,\n",
        "max_iter, and batch_sizeby using optuna, where we minimize the inertia to obtain thus the best hyperparameters."
      ]
    },
    {
      "cell_type": "code",
      "execution_count": null,
      "metadata": {
        "id": "_2aWz4kAT_zI",
        "outputId": "dafb3624-2802-4563-f3c1-1dea2965a899"
      },
      "outputs": [
        {
          "name": "stderr",
          "output_type": "stream",
          "text": [
            "\u001b[32m[I 2023-08-01 23:37:54,286]\u001b[0m A new study created in memory with name: no-name-14348202-477b-48a3-a4d6-927fc4d04034\u001b[0m\n",
            "C:\\Users\\cmuro\\anaconda3\\lib\\site-packages\\sklearn\\cluster\\_kmeans.py:870: FutureWarning: The default value of `n_init` will change from 3 to 'auto' in 1.4. Set the value of `n_init` explicitly to suppress the warning\n",
            "  warnings.warn(\n",
            "\u001b[32m[I 2023-08-01 23:37:54,520]\u001b[0m Trial 0 finished with value: 5661.400245142673 and parameters: {'n_clusters': 5, 'max_iter': 237, 'batch_size': 142}. Best is trial 0 with value: 5661.400245142673.\u001b[0m\n",
            "C:\\Users\\cmuro\\anaconda3\\lib\\site-packages\\sklearn\\cluster\\_kmeans.py:870: FutureWarning: The default value of `n_init` will change from 3 to 'auto' in 1.4. Set the value of `n_init` explicitly to suppress the warning\n",
            "  warnings.warn(\n",
            "\u001b[32m[I 2023-08-01 23:37:54,857]\u001b[0m Trial 1 finished with value: 3232.742212406472 and parameters: {'n_clusters': 10, 'max_iter': 378, 'batch_size': 824}. Best is trial 1 with value: 3232.742212406472.\u001b[0m\n",
            "C:\\Users\\cmuro\\anaconda3\\lib\\site-packages\\sklearn\\cluster\\_kmeans.py:870: FutureWarning: The default value of `n_init` will change from 3 to 'auto' in 1.4. Set the value of `n_init` explicitly to suppress the warning\n",
            "  warnings.warn(\n",
            "\u001b[32m[I 2023-08-01 23:37:55,174]\u001b[0m Trial 2 finished with value: 7371.0701360037865 and parameters: {'n_clusters': 3, 'max_iter': 169, 'batch_size': 338}. Best is trial 1 with value: 3232.742212406472.\u001b[0m\n",
            "C:\\Users\\cmuro\\anaconda3\\lib\\site-packages\\sklearn\\cluster\\_kmeans.py:870: FutureWarning: The default value of `n_init` will change from 3 to 'auto' in 1.4. Set the value of `n_init` explicitly to suppress the warning\n",
            "  warnings.warn(\n",
            "\u001b[32m[I 2023-08-01 23:37:55,506]\u001b[0m Trial 3 finished with value: 3164.8207765957604 and parameters: {'n_clusters': 10, 'max_iter': 308, 'batch_size': 868}. Best is trial 3 with value: 3164.8207765957604.\u001b[0m\n",
            "C:\\Users\\cmuro\\anaconda3\\lib\\site-packages\\sklearn\\cluster\\_kmeans.py:870: FutureWarning: The default value of `n_init` will change from 3 to 'auto' in 1.4. Set the value of `n_init` explicitly to suppress the warning\n",
            "  warnings.warn(\n",
            "\u001b[32m[I 2023-08-01 23:37:55,820]\u001b[0m Trial 4 finished with value: 3109.9839547579772 and parameters: {'n_clusters': 10, 'max_iter': 496, 'batch_size': 661}. Best is trial 4 with value: 3109.9839547579772.\u001b[0m\n",
            "C:\\Users\\cmuro\\anaconda3\\lib\\site-packages\\sklearn\\cluster\\_kmeans.py:870: FutureWarning: The default value of `n_init` will change from 3 to 'auto' in 1.4. Set the value of `n_init` explicitly to suppress the warning\n",
            "  warnings.warn(\n",
            "\u001b[32m[I 2023-08-01 23:37:56,131]\u001b[0m Trial 5 finished with value: 8090.005126063522 and parameters: {'n_clusters': 2, 'max_iter': 237, 'batch_size': 986}. Best is trial 4 with value: 3109.9839547579772.\u001b[0m\n",
            "C:\\Users\\cmuro\\anaconda3\\lib\\site-packages\\sklearn\\cluster\\_kmeans.py:870: FutureWarning: The default value of `n_init` will change from 3 to 'auto' in 1.4. Set the value of `n_init` explicitly to suppress the warning\n",
            "  warnings.warn(\n",
            "\u001b[32m[I 2023-08-01 23:37:56,458]\u001b[0m Trial 6 finished with value: 4274.41777068859 and parameters: {'n_clusters': 7, 'max_iter': 201, 'batch_size': 973}. Best is trial 4 with value: 3109.9839547579772.\u001b[0m\n",
            "C:\\Users\\cmuro\\anaconda3\\lib\\site-packages\\sklearn\\cluster\\_kmeans.py:870: FutureWarning: The default value of `n_init` will change from 3 to 'auto' in 1.4. Set the value of `n_init` explicitly to suppress the warning\n",
            "  warnings.warn(\n",
            "\u001b[32m[I 2023-08-01 23:37:56,791]\u001b[0m Trial 7 finished with value: 4904.210496370735 and parameters: {'n_clusters': 6, 'max_iter': 353, 'batch_size': 770}. Best is trial 4 with value: 3109.9839547579772.\u001b[0m\n",
            "C:\\Users\\cmuro\\anaconda3\\lib\\site-packages\\sklearn\\cluster\\_kmeans.py:870: FutureWarning: The default value of `n_init` will change from 3 to 'auto' in 1.4. Set the value of `n_init` explicitly to suppress the warning\n",
            "  warnings.warn(\n",
            "\u001b[32m[I 2023-08-01 23:37:57,123]\u001b[0m Trial 8 finished with value: 5022.1503476260295 and parameters: {'n_clusters': 6, 'max_iter': 376, 'batch_size': 308}. Best is trial 4 with value: 3109.9839547579772.\u001b[0m\n",
            "C:\\Users\\cmuro\\anaconda3\\lib\\site-packages\\sklearn\\cluster\\_kmeans.py:870: FutureWarning: The default value of `n_init` will change from 3 to 'auto' in 1.4. Set the value of `n_init` explicitly to suppress the warning\n",
            "  warnings.warn(\n",
            "\u001b[32m[I 2023-08-01 23:37:57,503]\u001b[0m Trial 9 finished with value: 3732.6948675396097 and parameters: {'n_clusters': 9, 'max_iter': 438, 'batch_size': 146}. Best is trial 4 with value: 3109.9839547579772.\u001b[0m\n"
          ]
        }
      ],
      "source": [
        "from sklearn.preprocessing import MinMaxScaler, OneHotEncoder, LabelEncoder\n",
        "from sklearn.pipeline import Pipeline\n",
        "from sklearn.cluster import MiniBatchKMeans\n",
        "from sklearn.metrics import silhouette_score\n",
        "from sklearn.model_selection import train_test_split\n",
        "from sklearn.impute import SimpleImputer\n",
        "from sklearn.compose import ColumnTransformer\n",
        "import optuna\n",
        "\n",
        "X = df.loc[:,~df.columns.isin(['Unnamed: 0', 'fraud'])]\n",
        "y = df[\"fraud\"]\n",
        "categorical_features = [\"age\",\"gender\",\"category\"]\n",
        "numerical_features = [\"amount\"]\n",
        "\n",
        "# Pipeline for preprocessing the numerical data\n",
        "numerical_transformer =  Pipeline(steps=[('imp_num',\n",
        "                                          SimpleImputer(strategy='median')),\n",
        "                                         ('sc',MinMaxScaler())])\n",
        "\n",
        "# Pipeline for preprocessing the categorical data\n",
        "categorical_transformer=Pipeline(steps=[('imp_cat',\n",
        "                                         SimpleImputer(strategy='most_frequent')),\n",
        "                                        ('onehot',\n",
        "                                         OneHotEncoder(handle_unknown = 'ignore'))])\n",
        "\n",
        "# Preprocessor\n",
        "preprocessor = ColumnTransformer(transformers=[('num',numerical_transformer,\n",
        "                                                numerical_features),\n",
        "                                               ('cat', categorical_transformer,\n",
        "                                                categorical_features)])\n",
        "\n",
        "# The model\n",
        "kmeans_pipeline = Pipeline(steps=[(\"preprocess\",preprocessor),(\"kmeans\",MiniBatchKMeans(random_state=42))])\n",
        "\n",
        "def objective(trial):\n",
        "    n_clusters = trial.suggest_int(\"n_clusters\", 2, 10)\n",
        "    max_iter = trial.suggest_int(\"max_iter\", 100, 500)\n",
        "    batch_size = trial.suggest_int(\"batch_size\", 100, 1000)\n",
        "\n",
        "    kmeans_pipeline.set_params(kmeans__n_clusters=n_clusters,\n",
        "                               kmeans__max_iter=max_iter,\n",
        "                               kmeans__batch_size=batch_size)\n",
        "\n",
        "    kmeans_pipeline.fit(X)\n",
        "\n",
        "    labels = kmeans_pipeline.named_steps['kmeans'].labels_\n",
        "\n",
        "    inertia = kmeans_pipeline.named_steps['kmeans'].inertia_\n",
        "\n",
        "    return inertia\n",
        "\n",
        "study = optuna.create_study(direction=\"minimize\")\n",
        "study.optimize(objective, n_trials=10)"
      ]
    },
    {
      "cell_type": "markdown",
      "metadata": {
        "id": "AuBBBPdtT_zI"
      },
      "source": [
        "Therefore, the best hyperparameters found are:"
      ]
    },
    {
      "cell_type": "code",
      "execution_count": null,
      "metadata": {
        "id": "-ueXRaLZT_zI",
        "outputId": "95aa2e24-9599-4da8-cb08-dc39ff293e0f"
      },
      "outputs": [
        {
          "data": {
            "text/plain": [
              "{'n_clusters': 10, 'max_iter': 496, 'batch_size': 661}"
            ]
          },
          "execution_count": 20,
          "metadata": {},
          "output_type": "execute_result"
        }
      ],
      "source": [
        "study.best_params"
      ]
    },
    {
      "cell_type": "markdown",
      "metadata": {
        "id": "7hpJsyRtT_zJ"
      },
      "source": [
        "Now going to use the K-means algorithm to predict fraud, and compare those predictions to the actual labels that we saved, to sense check our results.\n",
        "\n",
        "The fraudulent transactions are typically flagged as the observations that are furthest aways from the cluster centroid. We select the points that are in the top 5th percentile in distance from the cluster centroids.  "
      ]
    },
    {
      "cell_type": "code",
      "execution_count": null,
      "metadata": {
        "id": "XiYw6_cBT_zJ",
        "outputId": "f9cef5ff-35e0-45da-b81e-a4425f594a04"
      },
      "outputs": [
        {
          "name": "stderr",
          "output_type": "stream",
          "text": [
            "C:\\Users\\cmuro\\anaconda3\\lib\\site-packages\\sklearn\\cluster\\_kmeans.py:870: FutureWarning: The default value of `n_init` will change from 3 to 'auto' in 1.4. Set the value of `n_init` explicitly to suppress the warning\n",
            "  warnings.warn(\n"
          ]
        }
      ],
      "source": [
        "preprocessor = kmeans_pipeline.named_steps['preprocess']\n",
        "\n",
        "X_train, X_test, y_train, y_test = train_test_split(X,y,random_state=0, stratify=y)\n",
        "\n",
        "kmeans_pipeline = Pipeline(steps=[(\"preprocess\",preprocessor),\n",
        "                                  (\"kmeans\",MiniBatchKMeans(**study.best_params,random_state=42))])\n",
        "\n",
        "X_test_numeric= (kmeans_pipeline.named_steps['preprocess'].transform(X_test)).astype(float)\n",
        "\n",
        "kmeans_model = kmeans_pipeline.fit(X_train)\n",
        "\n",
        "# Obtain predictions and calculate distance from cluster centroid\n",
        "X_test_clusters = kmeans_model.predict(X_test)\n",
        "X_test_clusters_centers = kmeans_model.named_steps['kmeans'].cluster_centers_\n",
        "\n",
        "X_test_numeric_dense = X_test_numeric.toarray()\n",
        "\n",
        "dist = [np.linalg.norm(x-y) for x, y in zip(X_test_numeric_dense, X_test_clusters_centers[X_test_clusters])]\n",
        "\n",
        "km_y_pred = np.array(dist)\n",
        "km_y_pred[dist >= np.percentile(dist, 95)] = 1\n",
        "km_y_pred[dist < np.percentile(dist, 95)] = 0"
      ]
    },
    {
      "cell_type": "code",
      "execution_count": null,
      "metadata": {
        "id": "ZNxLOMl2T_zJ",
        "outputId": "77d943bd-e24a-4784-f296-2454b814a84f"
      },
      "outputs": [
        {
          "name": "stdout",
          "output_type": "stream",
          "text": [
            "Our roc_score of our model is: 0.8651428571428572\n"
          ]
        }
      ],
      "source": [
        "from sklearn.metrics import roc_auc_score, confusion_matrix, classification_report, silhouette_score\n",
        "print(f\"Our roc_score of our model is: {roc_auc_score(y_test, km_y_pred)}\")"
      ]
    },
    {
      "cell_type": "markdown",
      "metadata": {
        "id": "ZLYkcSEVT_zJ"
      },
      "source": [
        "Moreover, the confusion matrix and classification report are:"
      ]
    },
    {
      "cell_type": "code",
      "execution_count": null,
      "metadata": {
        "id": "e8N5IpssT_zJ",
        "outputId": "0d1ef05c-18bd-4b77-c5fe-b7e18c4f36ae"
      },
      "outputs": [
        {
          "data": {
            "image/png": "[encoded data removed]",
            "text/plain": [
              "<Figure size 800x600 with 2 Axes>"
            ]
          },
          "metadata": {},
          "output_type": "display_data"
        }
      ],
      "source": [
        "km_cm = confusion_matrix(y_test, km_y_pred)\n",
        "labels = sorted(set(y_test))\n",
        "plt.figure(figsize=(8, 6))\n",
        "sns.heatmap(km_cm, annot=True, fmt='d', cmap='Blues', xticklabels=labels, yticklabels=labels)\n",
        "plt.xlabel('Predicted Labels')\n",
        "plt.ylabel('True Labels')\n",
        "plt.title('Confusion Matrix')\n",
        "plt.show()"
      ]
    },
    {
      "cell_type": "code",
      "execution_count": null,
      "metadata": {
        "id": "eWHH6iKmT_zJ",
        "outputId": "3ab2a642-4da2-43e3-e60b-f05e3291fec5"
      },
      "outputs": [
        {
          "name": "stdout",
          "output_type": "stream",
          "text": [
            "              precision    recall  f1-score   support\n",
            "\n",
            "           0       0.99      0.97      0.98      1750\n",
            "           1       0.42      0.76      0.54        50\n",
            "\n",
            "    accuracy                           0.96      1800\n",
            "   macro avg       0.71      0.87      0.76      1800\n",
            "weighted avg       0.98      0.96      0.97      1800\n",
            "\n"
          ]
        }
      ],
      "source": [
        "print(classification_report(y_test, km_y_pred))"
      ]
    },
    {
      "cell_type": "markdown",
      "metadata": {
        "id": "OFOLsbufT_zJ"
      },
      "source": [
        "## DBSCAN"
      ]
    },
    {
      "cell_type": "markdown",
      "metadata": {
        "id": "WAC9cSnwT_zK"
      },
      "source": [
        "Now, let us use density based clustering method (DBSCAN) to detect fraud.  \n",
        "\n",
        "The advantage of DBSCAN is that we do not need to define the number of clusters beforehand. Also, DBSCAN can handle weirdly shaped data (i.e. non-convex) much better than K-means can.  \n",
        "  \n",
        "Initialize a DBSCAN model setting the maximum distance between two samples to 0.9 and the minimum observations in the clusters to 10.    \n",
        "      \n",
        "This time, we're not going to take the outliers of the clusters and use that for fraud, but take the smallest clusters in the data and label those as fraud."
      ]
    },
    {
      "cell_type": "code",
      "execution_count": null,
      "metadata": {
        "id": "M6kIpA6tT_zK",
        "outputId": "6ea6d710-7885-42a9-bda9-1cf8205b10e3"
      },
      "outputs": [
        {
          "name": "stdout",
          "output_type": "stream",
          "text": [
            "Estimated number of clusters: 54\n",
            "The Silhouette Coefficient: 0.860\n"
          ]
        }
      ],
      "source": [
        "from sklearn.cluster import DBSCAN\n",
        "\n",
        "X_scaled = (kmeans_pipeline.named_steps['preprocess'].transform(X)).toarray()\n",
        "db = DBSCAN(eps=0.9, min_samples=10, n_jobs=-1).fit(kmeans_pipeline.named_steps['preprocess'].transform(X))\n",
        "\n",
        "pred_labels = db.labels_\n",
        "n_clusters = len(set(pred_labels)) - (1 if -1 in labels else 0)\n",
        "\n",
        "print('Estimated number of clusters: %d' % n_clusters)\n",
        "print(\"The Silhouette Coefficient: %0.3f\" % silhouette_score(X_scaled, pred_labels))"
      ]
    },
    {
      "cell_type": "markdown",
      "metadata": {
        "id": "tLRYS7FpT_zK"
      },
      "source": [
        "Since our Silhouette coefficient is close to 1, we got a model with good grouping."
      ]
    },
    {
      "cell_type": "markdown",
      "metadata": {
        "id": "MiAoITg3T_zK"
      },
      "source": [
        "## Conclusions"
      ]
    },
    {
      "cell_type": "markdown",
      "metadata": {
        "id": "wudRUqk8T_zK"
      },
      "source": [
        "* For the kmeans, we found throuhg optuna minimizing the inertia, that best model should has the parameters 'n_clusters': 10, 'max_iter': 496, 'batch_size': 661. The area under roc curve has a value of 0.86.  \n",
        "\n",
        "* Using a dbscan model we got a Silhouette Coefficient of 0.860."
      ]
    }
  ],
  "metadata": {
    "colab": {
      "provenance": []
    },
    "kernelspec": {
      "display_name": "Python 3 (ipykernel)",
      "language": "python",
      "name": "python3"
    },
    "language_info": {
      "codemirror_mode": {
        "name": "ipython",
        "version": 3
      },
      "file_extension": ".py",
      "mimetype": "text/x-python",
      "name": "python",
      "nbconvert_exporter": "python",
      "pygments_lexer": "ipython3",
      "version": "3.10.9"
    }
  },
  "nbformat": 4,
  "nbformat_minor": 0
}
