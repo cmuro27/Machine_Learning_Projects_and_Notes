{
 "cells": [
  {
   "cell_type": "code",
   "execution_count": 5,
   "id": "b884c808",
   "metadata": {},
   "outputs": [],
   "source": [
    "import warnings\n",
    "warnings.filterwarnings(\"ignore\")"
   ]
  },
  {
   "cell_type": "markdown",
   "id": "f4480180-96a0-4ac7-bed6-eddf9e14434d",
   "metadata": {},
   "source": [
    "# Hugging face"
   ]
  },
  {
   "cell_type": "markdown",
   "id": "b2538704-8e88-4299-8342-c1e529b4f339",
   "metadata": {},
   "source": [
    "### Getting started with hugging face"
   ]
  },
  {
   "cell_type": "markdown",
   "id": "f791879b-369e-495c-8f34-0473e2aef3bf",
   "metadata": {},
   "source": [
    "![image](image.png)\n"
   ]
  },
  {
   "cell_type": "markdown",
   "id": "b038308a-5409-4362-8278-f047f9745af9",
   "metadata": {},
   "source": [
    "**Pipelines**  \n",
    "1. Preprocessing your inputs  \n",
    "2. Running the model  \n",
    "3. Post processing the outputs  \n",
    "Context + Questions -> Pipeline -> Answers\n",
    "  \n",
    "Once transformers are fine-tuned therefore we can use the pipeline.  \n",
    "Inside the pipeline:  \n",
    "Tokenizer -> Trainer -> Tokenizer -> Human readable output.  "
   ]
  },
  {
   "cell_type": "markdown",
   "id": "00a1bc93-e140-42e2-bd8e-b52c366c23d9",
   "metadata": {},
   "source": [
    "**Checkpoints**:  They are those which are actually referred as transformers.  \n",
    "Huge number of model checkpoints that we can unse in our pipelines.  \n",
    "So whenever you train finetune or pretrain your transformer then you stores your model. So when we stores  \n",
    "those model then that is known as checkpoint.  \n",
    "We have to select only those checkpoints which are suitable for our final downstream task.  \n",
    "\n",
    "There are two ways to refer your checkpoint name: username/checkpoint   "
   ]
  },
  {
   "cell_type": "code",
   "execution_count": 1,
   "id": "bb1e108c-602b-4090-8418-f41e8e00afea",
   "metadata": {
    "executionCancelledAt": null,
    "executionTime": 3869,
    "lastExecutedAt": 1731384348728,
    "lastExecutedByKernel": "04285e87-5f02-406e-b579-36017226d26f",
    "lastScheduledRunId": null,
    "lastSuccessfullyExecutedCode": "!pip install huggingface_hub",
    "outputsMetadata": {
     "0": {
      "height": 563,
      "type": "stream"
     }
    }
   },
   "outputs": [
    {
     "name": "stdout",
     "output_type": "stream",
     "text": [
      "Defaulting to user installation because normal site-packages is not writeable\n",
      "Requirement already satisfied: huggingface_hub in /usr/local/lib/python3.8/dist-packages (0.11.0)\n",
      "Requirement already satisfied: filelock in /usr/local/lib/python3.8/dist-packages (from huggingface_hub) (3.8.0)\n",
      "Requirement already satisfied: requests in /usr/local/lib/python3.8/dist-packages (from huggingface_hub) (2.31.0)\n",
      "Requirement already satisfied: tqdm in /usr/local/lib/python3.8/dist-packages (from huggingface_hub) (4.64.0)\n",
      "Requirement already satisfied: pyyaml>=5.1 in /usr/local/lib/python3.8/dist-packages (from huggingface_hub) (6.0.1)\n",
      "Requirement already satisfied: typing-extensions>=3.7.4.3 in /usr/local/lib/python3.8/dist-packages (from huggingface_hub) (4.9.0)\n",
      "Requirement already satisfied: packaging>=20.9 in /usr/local/lib/python3.8/dist-packages (from huggingface_hub) (23.2)\n",
      "Requirement already satisfied: charset-normalizer<4,>=2 in /usr/local/lib/python3.8/dist-packages (from requests->huggingface_hub) (2.0.12)\n",
      "Requirement already satisfied: idna<4,>=2.5 in /usr/lib/python3/dist-packages (from requests->huggingface_hub) (2.8)\n",
      "Requirement already satisfied: urllib3<3,>=1.21.1 in /usr/lib/python3/dist-packages (from requests->huggingface_hub) (1.25.8)\n",
      "Requirement already satisfied: certifi>=2017.4.17 in /usr/lib/python3/dist-packages (from requests->huggingface_hub) (2019.11.28)\n",
      "\n",
      "\u001b[1m[\u001b[0m\u001b[34;49mnotice\u001b[0m\u001b[1;39;49m]\u001b[0m\u001b[39;49m A new release of pip is available: \u001b[0m\u001b[31;49m24.2\u001b[0m\u001b[39;49m -> \u001b[0m\u001b[32;49m24.3.1\u001b[0m\n",
      "\u001b[1m[\u001b[0m\u001b[34;49mnotice\u001b[0m\u001b[1;39;49m]\u001b[0m\u001b[39;49m To update, run: \u001b[0m\u001b[32;49mpython3 -m pip install --upgrade pip\u001b[0m\n"
     ]
    }
   ],
   "source": [
    "!pip install huggingface_hub"
   ]
  },
  {
   "cell_type": "code",
   "execution_count": 3,
   "id": "59fe43b5-9591-427b-848d-c906146b7e6c",
   "metadata": {
    "executionCancelledAt": null,
    "executionTime": 61,
    "lastExecutedAt": 1731384443019,
    "lastExecutedByKernel": "04285e87-5f02-406e-b579-36017226d26f",
    "lastScheduledRunId": null,
    "lastSuccessfullyExecutedCode": "from huggingface_hub import HfApi, ModelFilter\n# Create the instance of the API\napi = HfApi()\n\n# Return the filtered list from the Hub\nmodels = api.list_models(\n    filter=ModelFilter(task=\"text-classification\"),\n    sort=\"downloads\",\n    direction=-1,\n  \tlimit=1\n)\n\n# Store as a list\nmodelList = list(models)\n\nprint(modelList[0].modelId)",
    "outputsMetadata": {
     "0": {
      "height": 38,
      "type": "stream"
     }
    }
   },
   "outputs": [
    {
     "name": "stdout",
     "output_type": "stream",
     "text": [
      "1231czx/llama3_it_ultra_list_and_bold500\n"
     ]
    }
   ],
   "source": [
    "from huggingface_hub import HfApi, ModelFilter\n",
    "# Create the instance of the API\n",
    "api = HfApi()\n",
    "\n",
    "# Return the filtered list from the Hub\n",
    "models = api.list_models(\n",
    "    filter=ModelFilter(task=\"text-classification\"),\n",
    "    sort=\"downloads\",\n",
    "    direction=-1,\n",
    "  \tlimit=1\n",
    ")\n",
    "\n",
    "# Store as a list\n",
    "modelList = list(models)\n",
    "\n",
    "print(modelList[0].modelId)"
   ]
  },
  {
   "cell_type": "markdown",
   "id": "23f049ce-0dc5-46e0-941d-edeb4e6df39a",
   "metadata": {},
   "source": [
    "### Inspecting datasets"
   ]
  },
  {
   "cell_type": "code",
   "execution_count": 3,
   "id": "f905363c-d86b-4ed9-a0a4-44691d7d7ead",
   "metadata": {
    "executionCancelledAt": null,
    "executionTime": null,
    "lastExecutedAt": null,
    "lastExecutedByKernel": null,
    "lastScheduledRunId": null,
    "lastSuccessfullyExecutedCode": null,
    "outputsMetadata": {
     "1": {
      "height": 80,
      "type": "stream"
     }
    }
   },
   "outputs": [
    {
     "name": "stderr",
     "output_type": "stream",
     "text": [
      "C:\\Users\\cmuro\\AppData\\Roaming\\Python\\Python312\\site-packages\\tqdm\\auto.py:21: TqdmWarning: IProgress not found. Please update jupyter and ipywidgets. See https://ipywidgets.readthedocs.io/en/stable/user_install.html\n",
      "  from .autonotebook import tqdm as notebook_tqdm\n",
      "C:\\Users\\cmuro\\AppData\\Roaming\\Python\\Python312\\site-packages\\huggingface_hub\\file_download.py:159: UserWarning: `huggingface_hub` cache-system uses symlinks by default to efficiently store duplicated files but your machine does not support them in C:\\Users\\cmuro\\.cache\\huggingface\\hub\\datasets--derenrich--wikidata-en-descriptions-small. Caching files will still work but in a degraded version that might require more space on your disk. This warning can be disabled by setting the `HF_HUB_DISABLE_SYMLINKS_WARNING` environment variable. For more details, see https://huggingface.co/docs/huggingface_hub/how-to-cache#limitations.\n",
      "To support symlinks on Windows, you either need to activate Developer Mode or to run Python as an administrator. In order to see activate developer mode, see this article: https://docs.microsoft.com/en-us/windows/apps/get-started/enable-your-device-for-development\n",
      "  warnings.warn(message)\n"
     ]
    },
    {
     "name": "stdout",
     "output_type": "stream",
     "text": [
      "{'output': Value(dtype='string', id=None), 'qid': Value(dtype='string', id=None), 'name': Value(dtype='string', id=None), 'input': Value(dtype='string', id=None), 'instruction': Value(dtype='string', id=None), 'text': Value(dtype='string', id=None)}\n"
     ]
    }
   ],
   "source": [
    "# Load the module\n",
    "from datasets import load_dataset_builder\n",
    "\n",
    "# Create the dataset builder\n",
    "reviews_builder = load_dataset_builder(\"derenrich/wikidata-en-descriptions-small\")\n",
    "\n",
    "# Print the features\n",
    "print(reviews_builder.info.features)"
   ]
  },
  {
   "cell_type": "code",
   "execution_count": 2,
   "id": "d280f779-064a-4ad7-9c4a-fe04e052793f",
   "metadata": {
    "executionCancelledAt": null,
    "executionTime": 6005,
    "lastExecutedAt": 1731891039695,
    "lastExecutedByKernel": "2615cb99-8a71-4fae-9755-f414e5201976",
    "lastScheduledRunId": null,
    "lastSuccessfullyExecutedCode": "!pip install transformers\n!pip install datasets",
    "outputsMetadata": {
     "0": {
      "height": 606,
      "type": "stream"
     }
    }
   },
   "outputs": [
    {
     "name": "stdout",
     "output_type": "stream",
     "text": [
      "Defaulting to user installation because normal site-packages is not writeable"
     ]
    },
    {
     "name": "stderr",
     "output_type": "stream",
     "text": [
      "\n",
      "[notice] A new release of pip is available: 24.2 -> 24.3.1\n",
      "[notice] To update, run: python.exe -m pip install --upgrade pip\n"
     ]
    },
    {
     "name": "stdout",
     "output_type": "stream",
     "text": [
      "\n",
      "Requirement already satisfied: transformers in c:\\users\\cmuro\\appdata\\roaming\\python\\python312\\site-packages (4.46.1)\n",
      "Requirement already satisfied: filelock in c:\\users\\cmuro\\appdata\\roaming\\python\\python312\\site-packages (from transformers) (3.16.0)\n",
      "Requirement already satisfied: huggingface-hub<1.0,>=0.23.2 in c:\\users\\cmuro\\appdata\\roaming\\python\\python312\\site-packages (from transformers) (0.24.7)\n",
      "Requirement already satisfied: numpy>=1.17 in c:\\users\\cmuro\\appdata\\roaming\\python\\python312\\site-packages (from transformers) (1.26.4)\n",
      "Requirement already satisfied: packaging>=20.0 in c:\\users\\cmuro\\appdata\\roaming\\python\\python312\\site-packages (from transformers) (24.1)\n",
      "Requirement already satisfied: pyyaml>=5.1 in c:\\users\\cmuro\\appdata\\roaming\\python\\python312\\site-packages (from transformers) (6.0.2)\n",
      "Requirement already satisfied: regex!=2019.12.17 in c:\\users\\cmuro\\appdata\\roaming\\python\\python312\\site-packages (from transformers) (2024.9.11)\n",
      "Requirement already satisfied: requests in c:\\users\\cmuro\\appdata\\roaming\\python\\python312\\site-packages (from transformers) (2.32.3)\n",
      "Requirement already satisfied: safetensors>=0.4.1 in c:\\users\\cmuro\\appdata\\roaming\\python\\python312\\site-packages (from transformers) (0.4.5)\n",
      "Requirement already satisfied: tokenizers<0.21,>=0.20 in c:\\users\\cmuro\\appdata\\roaming\\python\\python312\\site-packages (from transformers) (0.20.1)\n",
      "Requirement already satisfied: tqdm>=4.27 in c:\\users\\cmuro\\appdata\\roaming\\python\\python312\\site-packages (from transformers) (4.66.5)\n",
      "Requirement already satisfied: fsspec>=2023.5.0 in c:\\users\\cmuro\\appdata\\roaming\\python\\python312\\site-packages (from huggingface-hub<1.0,>=0.23.2->transformers) (2024.9.0)\n",
      "Requirement already satisfied: typing-extensions>=3.7.4.3 in c:\\users\\cmuro\\appdata\\roaming\\python\\python312\\site-packages (from huggingface-hub<1.0,>=0.23.2->transformers) (4.12.2)\n",
      "Requirement already satisfied: colorama in c:\\users\\cmuro\\appdata\\roaming\\python\\python312\\site-packages (from tqdm>=4.27->transformers) (0.4.6)\n",
      "Requirement already satisfied: charset-normalizer<4,>=2 in c:\\users\\cmuro\\appdata\\roaming\\python\\python312\\site-packages (from requests->transformers) (3.3.2)\n",
      "Requirement already satisfied: idna<4,>=2.5 in c:\\users\\cmuro\\appdata\\roaming\\python\\python312\\site-packages (from requests->transformers) (3.8)\n",
      "Requirement already satisfied: urllib3<3,>=1.21.1 in c:\\users\\cmuro\\appdata\\roaming\\python\\python312\\site-packages (from requests->transformers) (2.2.3)\n",
      "Requirement already satisfied: certifi>=2017.4.17 in c:\\users\\cmuro\\appdata\\roaming\\python\\python312\\site-packages (from requests->transformers) (2024.8.30)\n",
      "Defaulting to user installation because normal site-packages is not writeable\n",
      "Requirement already satisfied: datasets in c:\\users\\cmuro\\appdata\\roaming\\python\\python312\\site-packages (3.0.2)\n",
      "Requirement already satisfied: filelock in c:\\users\\cmuro\\appdata\\roaming\\python\\python312\\site-packages (from datasets) (3.16.0)\n",
      "Requirement already satisfied: numpy>=1.17 in c:\\users\\cmuro\\appdata\\roaming\\python\\python312\\site-packages (from datasets) (1.26.4)\n",
      "Requirement already satisfied: pyarrow>=15.0.0 in c:\\users\\cmuro\\appdata\\roaming\\python\\python312\\site-packages (from datasets) (18.0.0)\n",
      "Requirement already satisfied: dill<0.3.9,>=0.3.0 in c:\\users\\cmuro\\appdata\\roaming\\python\\python312\\site-packages (from datasets) (0.3.8)\n",
      "Requirement already satisfied: pandas in c:\\users\\cmuro\\appdata\\roaming\\python\\python312\\site-packages (from datasets) (2.2.2)\n",
      "Requirement already satisfied: requests>=2.32.2 in c:\\users\\cmuro\\appdata\\roaming\\python\\python312\\site-packages (from datasets) (2.32.3)\n",
      "Requirement already satisfied: tqdm>=4.66.3 in c:\\users\\cmuro\\appdata\\roaming\\python\\python312\\site-packages (from datasets) (4.66.5)\n",
      "Requirement already satisfied: xxhash in c:\\users\\cmuro\\appdata\\roaming\\python\\python312\\site-packages (from datasets) (3.5.0)\n",
      "Requirement already satisfied: multiprocess<0.70.17 in c:\\users\\cmuro\\appdata\\roaming\\python\\python312\\site-packages (from datasets) (0.70.16)\n",
      "Requirement already satisfied: fsspec<=2024.9.0,>=2023.1.0 in c:\\users\\cmuro\\appdata\\roaming\\python\\python312\\site-packages (from fsspec[http]<=2024.9.0,>=2023.1.0->datasets) (2024.9.0)\n",
      "Requirement already satisfied: aiohttp in c:\\users\\cmuro\\appdata\\roaming\\python\\python312\\site-packages (from datasets) (3.10.10)\n",
      "Requirement already satisfied: huggingface-hub>=0.23.0 in c:\\users\\cmuro\\appdata\\roaming\\python\\python312\\site-packages (from datasets) (0.24.7)\n",
      "Requirement already satisfied: packaging in c:\\users\\cmuro\\appdata\\roaming\\python\\python312\\site-packages (from datasets) (24.1)\n",
      "Requirement already satisfied: pyyaml>=5.1 in c:\\users\\cmuro\\appdata\\roaming\\python\\python312\\site-packages (from datasets) (6.0.2)\n",
      "Requirement already satisfied: aiohappyeyeballs>=2.3.0 in c:\\users\\cmuro\\appdata\\roaming\\python\\python312\\site-packages (from aiohttp->datasets) (2.4.3)\n",
      "Requirement already satisfied: aiosignal>=1.1.2 in c:\\users\\cmuro\\appdata\\roaming\\python\\python312\\site-packages (from aiohttp->datasets) (1.3.1)\n",
      "Requirement already satisfied: attrs>=17.3.0 in c:\\users\\cmuro\\appdata\\roaming\\python\\python312\\site-packages (from aiohttp->datasets) (24.2.0)\n",
      "Requirement already satisfied: frozenlist>=1.1.1 in c:\\users\\cmuro\\appdata\\roaming\\python\\python312\\site-packages (from aiohttp->datasets) (1.5.0)\n",
      "Requirement already satisfied: multidict<7.0,>=4.5 in c:\\users\\cmuro\\appdata\\roaming\\python\\python312\\site-packages (from aiohttp->datasets) (6.1.0)\n",
      "Requirement already satisfied: yarl<2.0,>=1.12.0 in c:\\users\\cmuro\\appdata\\roaming\\python\\python312\\site-packages (from aiohttp->datasets) (1.17.0)\n",
      "Requirement already satisfied: typing-extensions>=3.7.4.3 in c:\\users\\cmuro\\appdata\\roaming\\python\\python312\\site-packages (from huggingface-hub>=0.23.0->datasets) (4.12.2)\n",
      "Requirement already satisfied: charset-normalizer<4,>=2 in c:\\users\\cmuro\\appdata\\roaming\\python\\python312\\site-packages (from requests>=2.32.2->datasets) (3.3.2)\n",
      "Requirement already satisfied: idna<4,>=2.5 in c:\\users\\cmuro\\appdata\\roaming\\python\\python312\\site-packages (from requests>=2.32.2->datasets) (3.8)\n",
      "Requirement already satisfied: urllib3<3,>=1.21.1 in c:\\users\\cmuro\\appdata\\roaming\\python\\python312\\site-packages (from requests>=2.32.2->datasets) (2.2.3)\n",
      "Requirement already satisfied: certifi>=2017.4.17 in c:\\users\\cmuro\\appdata\\roaming\\python\\python312\\site-packages (from requests>=2.32.2->datasets) (2024.8.30)\n",
      "Requirement already satisfied: colorama in c:\\users\\cmuro\\appdata\\roaming\\python\\python312\\site-packages (from tqdm>=4.66.3->datasets) (0.4.6)\n",
      "Requirement already satisfied: python-dateutil>=2.8.2 in c:\\users\\cmuro\\appdata\\roaming\\python\\python312\\site-packages (from pandas->datasets) (2.9.0.post0)\n",
      "Requirement already satisfied: pytz>=2020.1 in c:\\users\\cmuro\\appdata\\roaming\\python\\python312\\site-packages (from pandas->datasets) (2024.2)\n",
      "Requirement already satisfied: tzdata>=2022.7 in c:\\users\\cmuro\\appdata\\roaming\\python\\python312\\site-packages (from pandas->datasets) (2024.1)\n",
      "Requirement already satisfied: six>=1.5 in c:\\users\\cmuro\\appdata\\roaming\\python\\python312\\site-packages (from python-dateutil>=2.8.2->pandas->datasets) (1.16.0)\n",
      "Requirement already satisfied: propcache>=0.2.0 in c:\\users\\cmuro\\appdata\\roaming\\python\\python312\\site-packages (from yarl<2.0,>=1.12.0->aiohttp->datasets) (0.2.0)\n"
     ]
    },
    {
     "name": "stderr",
     "output_type": "stream",
     "text": [
      "\n",
      "[notice] A new release of pip is available: 24.2 -> 24.3.1\n",
      "[notice] To update, run: python.exe -m pip install --upgrade pip\n"
     ]
    }
   ],
   "source": [
    "!pip install transformers\n",
    "!pip install datasets"
   ]
  },
  {
   "cell_type": "code",
   "execution_count": 5,
   "id": "936917c9-962f-4971-8883-ceedc2e466bb",
   "metadata": {
    "executionCancelledAt": null,
    "executionTime": 8490,
    "lastExecutedAt": 1731384755209,
    "lastExecutedByKernel": "04285e87-5f02-406e-b579-36017226d26f",
    "lastScheduledRunId": null,
    "lastSuccessfullyExecutedCode": "from transformers import AutoModel\nmodelId = \"distilbert-base-uncased-finetuned-sst-2-english\"\n\n# Instantiate the AutoModel class\nmodel = AutoModel.from_pretrained(modelId)\n\n# Save the model\nmodel.save_pretrained(save_directory=f\"models/{modelId}\")",
    "outputsMetadata": {
     "2": {
      "height": 206,
      "type": "stream"
     }
    }
   },
   "outputs": [
    {
     "data": {
      "application/json": {
       "ascii": false,
       "bar_format": null,
       "colour": null,
       "elapsed": 0.008105039596557617,
       "initial": 0,
       "n": 0,
       "ncols": null,
       "nrows": null,
       "postfix": null,
       "prefix": "Downloading",
       "rate": null,
       "total": 629,
       "unit": "B",
       "unit_divisor": 1000,
       "unit_scale": true
      },
      "application/vnd.jupyter.widget-view+json": {
       "model_id": "09c29481def04ed2854d80a816a45a15",
       "version_major": 2,
       "version_minor": 0
      },
      "text/plain": [
       "Downloading:   0%|          | 0.00/629 [00:00<?, ?B/s]"
      ]
     },
     "metadata": {},
     "output_type": "display_data"
    },
    {
     "data": {
      "application/json": {
       "ascii": false,
       "bar_format": null,
       "colour": null,
       "elapsed": 0.008507013320922852,
       "initial": 0,
       "n": 0,
       "ncols": null,
       "nrows": null,
       "postfix": null,
       "prefix": "Downloading",
       "rate": null,
       "total": 267844284,
       "unit": "B",
       "unit_divisor": 1000,
       "unit_scale": true
      },
      "application/vnd.jupyter.widget-view+json": {
       "model_id": "40d6198bfa01490481e065f4df33f03f",
       "version_major": 2,
       "version_minor": 0
      },
      "text/plain": [
       "Downloading:   0%|          | 0.00/268M [00:00<?, ?B/s]"
      ]
     },
     "metadata": {},
     "output_type": "display_data"
    },
    {
     "name": "stderr",
     "output_type": "stream",
     "text": [
      "Some weights of the model checkpoint at distilbert-base-uncased-finetuned-sst-2-english were not used when initializing DistilBertModel: ['pre_classifier.bias', 'pre_classifier.weight', 'classifier.weight', 'classifier.bias']\n",
      "- This IS expected if you are initializing DistilBertModel from the checkpoint of a model trained on another task or with another architecture (e.g. initializing a BertForSequenceClassification model from a BertForPreTraining model).\n",
      "- This IS NOT expected if you are initializing DistilBertModel from the checkpoint of a model that you expect to be exactly identical (initializing a BertForSequenceClassification model from a BertForSequenceClassification model).\n"
     ]
    }
   ],
   "source": [
    "from transformers import AutoModel\n",
    "modelId = \"distilbert-base-uncased-finetuned-sst-2-english\"\n",
    "\n",
    "# Instantiate the AutoModel class\n",
    "model = AutoModel.from_pretrained(modelId)\n",
    "\n",
    "# Save the model\n",
    "model.save_pretrained(save_directory=f\"models/{modelId}\")"
   ]
  },
  {
   "cell_type": "markdown",
   "id": "1b52eb37-0cd8-4c2d-9a36-8228af283d0a",
   "metadata": {},
   "source": [
    "Inspecting datasets\n",
    "\n",
    "The datasets on Hugging Face range in terms of size, information, and features. Therefore it's beneficial to inspect it before committing to loading a dataset into your environment.\n",
    "\n",
    "Let's inspect the \"derenrich/wikidata-en-descriptions-small\" dataset.\n",
    "\n",
    "Note: this exercise may take a minute due to the dataset size."
   ]
  },
  {
   "cell_type": "code",
   "execution_count": 4,
   "id": "70910008-0a3e-4320-8e08-fdf934a75c68",
   "metadata": {
    "executionCancelledAt": null,
    "executionTime": 4704,
    "lastExecutedAt": 1731891219905,
    "lastExecutedByKernel": "2615cb99-8a71-4fae-9755-f414e5201976",
    "lastScheduledRunId": null,
    "lastSuccessfullyExecutedCode": "# Load the module\nfrom datasets import load_dataset_builder\n\n# Create the dataset builder\nreviews_builder = load_dataset_builder(\"derenrich/wikidata-en-descriptions-small\")\n\n# Print the features\nprint(reviews_builder.info.features)"
   },
   "outputs": [
    {
     "data": {
      "application/json": {
       "ascii": false,
       "bar_format": null,
       "colour": null,
       "elapsed": 0.007775068283081055,
       "initial": 0,
       "n": 0,
       "ncols": null,
       "nrows": null,
       "postfix": null,
       "prefix": "Downloading readme",
       "rate": null,
       "total": 615,
       "unit": "B",
       "unit_divisor": 1000,
       "unit_scale": true
      },
      "application/vnd.jupyter.widget-view+json": {
       "model_id": "3668f2c83d1c400895cfab7bc384badb",
       "version_major": 2,
       "version_minor": 0
      },
      "text/plain": [
       "Downloading readme:   0%|          | 0.00/615 [00:00<?, ?B/s]"
      ]
     },
     "metadata": {},
     "output_type": "display_data"
    },
    {
     "name": "stdout",
     "output_type": "stream",
     "text": [
      "{'output': Value(dtype='string', id=None), 'qid': Value(dtype='string', id=None), 'name': Value(dtype='string', id=None), 'input': Value(dtype='string', id=None), 'instruction': Value(dtype='string', id=None), 'text': Value(dtype='string', id=None)}\n"
     ]
    }
   ],
   "source": [
    "# Load the module\n",
    "from datasets import load_dataset_builder\n",
    "\n",
    "# Create the dataset builder\n",
    "reviews_builder = load_dataset_builder(\"derenrich/wikidata-en-descriptions-small\")\n",
    "\n",
    "# Print the features\n",
    "print(reviews_builder.info.features)"
   ]
  },
  {
   "cell_type": "markdown",
   "id": "a4f423d6-eeaf-4e82-b49d-1b289179362f",
   "metadata": {},
   "source": [
    "Loading datasets\n",
    "\n",
    "Hugging Face built the dataset package for interacting with datasets. There are a lot of convenient functions, including load_dataset_builder which we just used. After inspecting a dataset to ensure its the right one for your project, it's time to load the dataset! For this, we can leverage input parameters for load_dataset to specify which parts of a dataset to load, i.e. the \"train\" dataset for English wikipedia articles.\n",
    "\n",
    "The load_dataset module from the datasets package is already loaded for you. Note: the load_dataset function was modified for the purpose of this exercise."
   ]
  },
  {
   "cell_type": "code",
   "execution_count": 6,
   "id": "abe66110-0116-40f2-9678-e00a7a18947f",
   "metadata": {
    "executionCancelledAt": null,
    "executionTime": null,
    "lastExecutedAt": null,
    "lastExecutedByKernel": null,
    "lastScheduledRunId": null,
    "lastSuccessfullyExecutedCode": null,
    "outputsMetadata": {
     "0": {
      "height": 101,
      "type": "stream"
     }
    }
   },
   "outputs": [
    {
     "name": "stderr",
     "output_type": "stream",
     "text": [
      "Downloading data:  49%|████▉     | 20/41 [04:03<04:15, 12.16s/files]\n"
     ]
    },
    {
     "ename": "KeyboardInterrupt",
     "evalue": "",
     "output_type": "error",
     "traceback": [
      "\u001b[1;31m---------------------------------------------------------------------------\u001b[0m",
      "\u001b[1;31mKeyboardInterrupt\u001b[0m                         Traceback (most recent call last)",
      "Cell \u001b[1;32mIn[6], line 4\u001b[0m\n\u001b[0;32m      1\u001b[0m \u001b[38;5;66;03m# Load the train portion of the dataset\u001b[39;00m\n\u001b[0;32m      2\u001b[0m \u001b[38;5;66;03m# Load the module\u001b[39;00m\n\u001b[0;32m      3\u001b[0m \u001b[38;5;28;01mfrom\u001b[39;00m \u001b[38;5;21;01mdatasets\u001b[39;00m \u001b[38;5;28;01mimport\u001b[39;00m load_dataset\n\u001b[1;32m----> 4\u001b[0m wikipedia \u001b[38;5;241m=\u001b[39m \u001b[43mload_dataset\u001b[49m\u001b[43m(\u001b[49m\u001b[38;5;124;43m\"\u001b[39;49m\u001b[38;5;124;43mwikimedia/wikipedia\u001b[39;49m\u001b[38;5;124;43m\"\u001b[39;49m\u001b[43m,\u001b[49m\u001b[43m \u001b[49m\u001b[38;5;124;43m\"\u001b[39;49m\u001b[38;5;124;43m20231101.en\u001b[39;49m\u001b[38;5;124;43m\"\u001b[39;49m\u001b[43m,\u001b[49m\u001b[43m \u001b[49m\u001b[43msplit\u001b[49m\u001b[38;5;241;43m=\u001b[39;49m\u001b[38;5;124;43m\"\u001b[39;49m\u001b[38;5;124;43mtrain\u001b[39;49m\u001b[38;5;124;43m\"\u001b[39;49m\u001b[43m)\u001b[49m\n\u001b[0;32m      6\u001b[0m \u001b[38;5;28mprint\u001b[39m(\u001b[38;5;124mf\u001b[39m\u001b[38;5;124m\"\u001b[39m\u001b[38;5;124mThe length of the dataset is \u001b[39m\u001b[38;5;132;01m{\u001b[39;00m\u001b[38;5;28mlen\u001b[39m(wikipedia)\u001b[38;5;132;01m}\u001b[39;00m\u001b[38;5;124m\"\u001b[39m)\n",
      "File \u001b[1;32m~\\AppData\\Roaming\\Python\\Python312\\site-packages\\datasets\\load.py:2154\u001b[0m, in \u001b[0;36mload_dataset\u001b[1;34m(path, name, data_dir, data_files, split, cache_dir, features, download_config, download_mode, verification_mode, keep_in_memory, save_infos, revision, token, streaming, num_proc, storage_options, trust_remote_code, **config_kwargs)\u001b[0m\n\u001b[0;32m   2151\u001b[0m     \u001b[38;5;28;01mreturn\u001b[39;00m builder_instance\u001b[38;5;241m.\u001b[39mas_streaming_dataset(split\u001b[38;5;241m=\u001b[39msplit)\n\u001b[0;32m   2153\u001b[0m \u001b[38;5;66;03m# Download and prepare data\u001b[39;00m\n\u001b[1;32m-> 2154\u001b[0m \u001b[43mbuilder_instance\u001b[49m\u001b[38;5;241;43m.\u001b[39;49m\u001b[43mdownload_and_prepare\u001b[49m\u001b[43m(\u001b[49m\n\u001b[0;32m   2155\u001b[0m \u001b[43m    \u001b[49m\u001b[43mdownload_config\u001b[49m\u001b[38;5;241;43m=\u001b[39;49m\u001b[43mdownload_config\u001b[49m\u001b[43m,\u001b[49m\n\u001b[0;32m   2156\u001b[0m \u001b[43m    \u001b[49m\u001b[43mdownload_mode\u001b[49m\u001b[38;5;241;43m=\u001b[39;49m\u001b[43mdownload_mode\u001b[49m\u001b[43m,\u001b[49m\n\u001b[0;32m   2157\u001b[0m \u001b[43m    \u001b[49m\u001b[43mverification_mode\u001b[49m\u001b[38;5;241;43m=\u001b[39;49m\u001b[43mverification_mode\u001b[49m\u001b[43m,\u001b[49m\n\u001b[0;32m   2158\u001b[0m \u001b[43m    \u001b[49m\u001b[43mnum_proc\u001b[49m\u001b[38;5;241;43m=\u001b[39;49m\u001b[43mnum_proc\u001b[49m\u001b[43m,\u001b[49m\n\u001b[0;32m   2159\u001b[0m \u001b[43m    \u001b[49m\u001b[43mstorage_options\u001b[49m\u001b[38;5;241;43m=\u001b[39;49m\u001b[43mstorage_options\u001b[49m\u001b[43m,\u001b[49m\n\u001b[0;32m   2160\u001b[0m \u001b[43m\u001b[49m\u001b[43m)\u001b[49m\n\u001b[0;32m   2162\u001b[0m \u001b[38;5;66;03m# Build dataset for splits\u001b[39;00m\n\u001b[0;32m   2163\u001b[0m keep_in_memory \u001b[38;5;241m=\u001b[39m (\n\u001b[0;32m   2164\u001b[0m     keep_in_memory \u001b[38;5;28;01mif\u001b[39;00m keep_in_memory \u001b[38;5;129;01mis\u001b[39;00m \u001b[38;5;129;01mnot\u001b[39;00m \u001b[38;5;28;01mNone\u001b[39;00m \u001b[38;5;28;01melse\u001b[39;00m is_small_dataset(builder_instance\u001b[38;5;241m.\u001b[39minfo\u001b[38;5;241m.\u001b[39mdataset_size)\n\u001b[0;32m   2165\u001b[0m )\n",
      "File \u001b[1;32m~\\AppData\\Roaming\\Python\\Python312\\site-packages\\datasets\\builder.py:924\u001b[0m, in \u001b[0;36mDatasetBuilder.download_and_prepare\u001b[1;34m(self, output_dir, download_config, download_mode, verification_mode, dl_manager, base_path, file_format, max_shard_size, num_proc, storage_options, **download_and_prepare_kwargs)\u001b[0m\n\u001b[0;32m    922\u001b[0m \u001b[38;5;28;01mif\u001b[39;00m num_proc \u001b[38;5;129;01mis\u001b[39;00m \u001b[38;5;129;01mnot\u001b[39;00m \u001b[38;5;28;01mNone\u001b[39;00m:\n\u001b[0;32m    923\u001b[0m     prepare_split_kwargs[\u001b[38;5;124m\"\u001b[39m\u001b[38;5;124mnum_proc\u001b[39m\u001b[38;5;124m\"\u001b[39m] \u001b[38;5;241m=\u001b[39m num_proc\n\u001b[1;32m--> 924\u001b[0m \u001b[38;5;28;43mself\u001b[39;49m\u001b[38;5;241;43m.\u001b[39;49m\u001b[43m_download_and_prepare\u001b[49m\u001b[43m(\u001b[49m\n\u001b[0;32m    925\u001b[0m \u001b[43m    \u001b[49m\u001b[43mdl_manager\u001b[49m\u001b[38;5;241;43m=\u001b[39;49m\u001b[43mdl_manager\u001b[49m\u001b[43m,\u001b[49m\n\u001b[0;32m    926\u001b[0m \u001b[43m    \u001b[49m\u001b[43mverification_mode\u001b[49m\u001b[38;5;241;43m=\u001b[39;49m\u001b[43mverification_mode\u001b[49m\u001b[43m,\u001b[49m\n\u001b[0;32m    927\u001b[0m \u001b[43m    \u001b[49m\u001b[38;5;241;43m*\u001b[39;49m\u001b[38;5;241;43m*\u001b[39;49m\u001b[43mprepare_split_kwargs\u001b[49m\u001b[43m,\u001b[49m\n\u001b[0;32m    928\u001b[0m \u001b[43m    \u001b[49m\u001b[38;5;241;43m*\u001b[39;49m\u001b[38;5;241;43m*\u001b[39;49m\u001b[43mdownload_and_prepare_kwargs\u001b[49m\u001b[43m,\u001b[49m\n\u001b[0;32m    929\u001b[0m \u001b[43m\u001b[49m\u001b[43m)\u001b[49m\n\u001b[0;32m    930\u001b[0m \u001b[38;5;66;03m# Sync info\u001b[39;00m\n\u001b[0;32m    931\u001b[0m \u001b[38;5;28mself\u001b[39m\u001b[38;5;241m.\u001b[39minfo\u001b[38;5;241m.\u001b[39mdataset_size \u001b[38;5;241m=\u001b[39m \u001b[38;5;28msum\u001b[39m(split\u001b[38;5;241m.\u001b[39mnum_bytes \u001b[38;5;28;01mfor\u001b[39;00m split \u001b[38;5;129;01min\u001b[39;00m \u001b[38;5;28mself\u001b[39m\u001b[38;5;241m.\u001b[39minfo\u001b[38;5;241m.\u001b[39msplits\u001b[38;5;241m.\u001b[39mvalues())\n",
      "File \u001b[1;32m~\\AppData\\Roaming\\Python\\Python312\\site-packages\\datasets\\builder.py:977\u001b[0m, in \u001b[0;36mDatasetBuilder._download_and_prepare\u001b[1;34m(self, dl_manager, verification_mode, **prepare_split_kwargs)\u001b[0m\n\u001b[0;32m    975\u001b[0m split_dict \u001b[38;5;241m=\u001b[39m SplitDict(dataset_name\u001b[38;5;241m=\u001b[39m\u001b[38;5;28mself\u001b[39m\u001b[38;5;241m.\u001b[39mdataset_name)\n\u001b[0;32m    976\u001b[0m split_generators_kwargs \u001b[38;5;241m=\u001b[39m \u001b[38;5;28mself\u001b[39m\u001b[38;5;241m.\u001b[39m_make_split_generators_kwargs(prepare_split_kwargs)\n\u001b[1;32m--> 977\u001b[0m split_generators \u001b[38;5;241m=\u001b[39m \u001b[38;5;28;43mself\u001b[39;49m\u001b[38;5;241;43m.\u001b[39;49m\u001b[43m_split_generators\u001b[49m\u001b[43m(\u001b[49m\u001b[43mdl_manager\u001b[49m\u001b[43m,\u001b[49m\u001b[43m \u001b[49m\u001b[38;5;241;43m*\u001b[39;49m\u001b[38;5;241;43m*\u001b[39;49m\u001b[43msplit_generators_kwargs\u001b[49m\u001b[43m)\u001b[49m\n\u001b[0;32m    979\u001b[0m \u001b[38;5;66;03m# Checksums verification\u001b[39;00m\n\u001b[0;32m    980\u001b[0m \u001b[38;5;28;01mif\u001b[39;00m verification_mode \u001b[38;5;241m==\u001b[39m VerificationMode\u001b[38;5;241m.\u001b[39mALL_CHECKS \u001b[38;5;129;01mand\u001b[39;00m dl_manager\u001b[38;5;241m.\u001b[39mrecord_checksums:\n",
      "File \u001b[1;32m~\\AppData\\Roaming\\Python\\Python312\\site-packages\\datasets\\packaged_modules\\parquet\\parquet.py:47\u001b[0m, in \u001b[0;36mParquet._split_generators\u001b[1;34m(self, dl_manager)\u001b[0m\n\u001b[0;32m     45\u001b[0m     \u001b[38;5;28;01mraise\u001b[39;00m \u001b[38;5;167;01mValueError\u001b[39;00m(\u001b[38;5;124mf\u001b[39m\u001b[38;5;124m\"\u001b[39m\u001b[38;5;124mAt least one data file must be specified, but got data_files=\u001b[39m\u001b[38;5;132;01m{\u001b[39;00m\u001b[38;5;28mself\u001b[39m\u001b[38;5;241m.\u001b[39mconfig\u001b[38;5;241m.\u001b[39mdata_files\u001b[38;5;132;01m}\u001b[39;00m\u001b[38;5;124m\"\u001b[39m)\n\u001b[0;32m     46\u001b[0m dl_manager\u001b[38;5;241m.\u001b[39mdownload_config\u001b[38;5;241m.\u001b[39mextract_on_the_fly \u001b[38;5;241m=\u001b[39m \u001b[38;5;28;01mTrue\u001b[39;00m\n\u001b[1;32m---> 47\u001b[0m data_files \u001b[38;5;241m=\u001b[39m \u001b[43mdl_manager\u001b[49m\u001b[38;5;241;43m.\u001b[39;49m\u001b[43mdownload_and_extract\u001b[49m\u001b[43m(\u001b[49m\u001b[38;5;28;43mself\u001b[39;49m\u001b[38;5;241;43m.\u001b[39;49m\u001b[43mconfig\u001b[49m\u001b[38;5;241;43m.\u001b[39;49m\u001b[43mdata_files\u001b[49m\u001b[43m)\u001b[49m\n\u001b[0;32m     48\u001b[0m splits \u001b[38;5;241m=\u001b[39m []\n\u001b[0;32m     49\u001b[0m \u001b[38;5;28;01mfor\u001b[39;00m split_name, files \u001b[38;5;129;01min\u001b[39;00m data_files\u001b[38;5;241m.\u001b[39mitems():\n",
      "File \u001b[1;32m~\\AppData\\Roaming\\Python\\Python312\\site-packages\\datasets\\download\\download_manager.py:326\u001b[0m, in \u001b[0;36mDownloadManager.download_and_extract\u001b[1;34m(self, url_or_urls)\u001b[0m\n\u001b[0;32m    310\u001b[0m \u001b[38;5;28;01mdef\u001b[39;00m \u001b[38;5;21mdownload_and_extract\u001b[39m(\u001b[38;5;28mself\u001b[39m, url_or_urls):\n\u001b[0;32m    311\u001b[0m \u001b[38;5;250m    \u001b[39m\u001b[38;5;124;03m\"\"\"Download and extract given `url_or_urls`.\u001b[39;00m\n\u001b[0;32m    312\u001b[0m \n\u001b[0;32m    313\u001b[0m \u001b[38;5;124;03m    Is roughly equivalent to:\u001b[39;00m\n\u001b[1;32m   (...)\u001b[0m\n\u001b[0;32m    324\u001b[0m \u001b[38;5;124;03m        extracted_path(s): `str`, extracted paths of given URL(s).\u001b[39;00m\n\u001b[0;32m    325\u001b[0m \u001b[38;5;124;03m    \"\"\"\u001b[39;00m\n\u001b[1;32m--> 326\u001b[0m     \u001b[38;5;28;01mreturn\u001b[39;00m \u001b[38;5;28mself\u001b[39m\u001b[38;5;241m.\u001b[39mextract(\u001b[38;5;28;43mself\u001b[39;49m\u001b[38;5;241;43m.\u001b[39;49m\u001b[43mdownload\u001b[49m\u001b[43m(\u001b[49m\u001b[43murl_or_urls\u001b[49m\u001b[43m)\u001b[49m)\n",
      "File \u001b[1;32m~\\AppData\\Roaming\\Python\\Python312\\site-packages\\datasets\\download\\download_manager.py:159\u001b[0m, in \u001b[0;36mDownloadManager.download\u001b[1;34m(self, url_or_urls)\u001b[0m\n\u001b[0;32m    157\u001b[0m start_time \u001b[38;5;241m=\u001b[39m datetime\u001b[38;5;241m.\u001b[39mnow()\n\u001b[0;32m    158\u001b[0m \u001b[38;5;28;01mwith\u001b[39;00m stack_multiprocessing_download_progress_bars():\n\u001b[1;32m--> 159\u001b[0m     downloaded_path_or_paths \u001b[38;5;241m=\u001b[39m \u001b[43mmap_nested\u001b[49m\u001b[43m(\u001b[49m\n\u001b[0;32m    160\u001b[0m \u001b[43m        \u001b[49m\u001b[43mdownload_func\u001b[49m\u001b[43m,\u001b[49m\n\u001b[0;32m    161\u001b[0m \u001b[43m        \u001b[49m\u001b[43murl_or_urls\u001b[49m\u001b[43m,\u001b[49m\n\u001b[0;32m    162\u001b[0m \u001b[43m        \u001b[49m\u001b[43mmap_tuple\u001b[49m\u001b[38;5;241;43m=\u001b[39;49m\u001b[38;5;28;43;01mTrue\u001b[39;49;00m\u001b[43m,\u001b[49m\n\u001b[0;32m    163\u001b[0m \u001b[43m        \u001b[49m\u001b[43mnum_proc\u001b[49m\u001b[38;5;241;43m=\u001b[39;49m\u001b[43mdownload_config\u001b[49m\u001b[38;5;241;43m.\u001b[39;49m\u001b[43mnum_proc\u001b[49m\u001b[43m,\u001b[49m\n\u001b[0;32m    164\u001b[0m \u001b[43m        \u001b[49m\u001b[43mdesc\u001b[49m\u001b[38;5;241;43m=\u001b[39;49m\u001b[38;5;124;43m\"\u001b[39;49m\u001b[38;5;124;43mDownloading data files\u001b[39;49m\u001b[38;5;124;43m\"\u001b[39;49m\u001b[43m,\u001b[49m\n\u001b[0;32m    165\u001b[0m \u001b[43m        \u001b[49m\u001b[43mbatched\u001b[49m\u001b[38;5;241;43m=\u001b[39;49m\u001b[38;5;28;43;01mTrue\u001b[39;49;00m\u001b[43m,\u001b[49m\n\u001b[0;32m    166\u001b[0m \u001b[43m        \u001b[49m\u001b[43mbatch_size\u001b[49m\u001b[38;5;241;43m=\u001b[39;49m\u001b[38;5;241;43m-\u001b[39;49m\u001b[38;5;241;43m1\u001b[39;49m\u001b[43m,\u001b[49m\n\u001b[0;32m    167\u001b[0m \u001b[43m    \u001b[49m\u001b[43m)\u001b[49m\n\u001b[0;32m    168\u001b[0m duration \u001b[38;5;241m=\u001b[39m datetime\u001b[38;5;241m.\u001b[39mnow() \u001b[38;5;241m-\u001b[39m start_time\n\u001b[0;32m    169\u001b[0m logger\u001b[38;5;241m.\u001b[39minfo(\u001b[38;5;124mf\u001b[39m\u001b[38;5;124m\"\u001b[39m\u001b[38;5;124mDownloading took \u001b[39m\u001b[38;5;132;01m{\u001b[39;00mduration\u001b[38;5;241m.\u001b[39mtotal_seconds()\u001b[38;5;250m \u001b[39m\u001b[38;5;241m/\u001b[39m\u001b[38;5;241m/\u001b[39m\u001b[38;5;250m \u001b[39m\u001b[38;5;241m60\u001b[39m\u001b[38;5;132;01m}\u001b[39;00m\u001b[38;5;124m min\u001b[39m\u001b[38;5;124m\"\u001b[39m)\n",
      "File \u001b[1;32m~\\AppData\\Roaming\\Python\\Python312\\site-packages\\datasets\\utils\\py_utils.py:495\u001b[0m, in \u001b[0;36mmap_nested\u001b[1;34m(function, data_struct, dict_only, map_list, map_tuple, map_numpy, num_proc, parallel_min_length, batched, batch_size, types, disable_tqdm, desc)\u001b[0m\n\u001b[0;32m    492\u001b[0m     num_proc \u001b[38;5;241m=\u001b[39m \u001b[38;5;241m1\u001b[39m\n\u001b[0;32m    493\u001b[0m \u001b[38;5;28;01mif\u001b[39;00m \u001b[38;5;28many\u001b[39m(\u001b[38;5;28misinstance\u001b[39m(v, types) \u001b[38;5;129;01mand\u001b[39;00m \u001b[38;5;28mlen\u001b[39m(v) \u001b[38;5;241m>\u001b[39m \u001b[38;5;28mlen\u001b[39m(iterable) \u001b[38;5;28;01mfor\u001b[39;00m v \u001b[38;5;129;01min\u001b[39;00m iterable):\n\u001b[0;32m    494\u001b[0m     mapped \u001b[38;5;241m=\u001b[39m [\n\u001b[1;32m--> 495\u001b[0m         \u001b[43mmap_nested\u001b[49m\u001b[43m(\u001b[49m\n\u001b[0;32m    496\u001b[0m \u001b[43m            \u001b[49m\u001b[43mfunction\u001b[49m\u001b[38;5;241;43m=\u001b[39;49m\u001b[43mfunction\u001b[49m\u001b[43m,\u001b[49m\n\u001b[0;32m    497\u001b[0m \u001b[43m            \u001b[49m\u001b[43mdata_struct\u001b[49m\u001b[38;5;241;43m=\u001b[39;49m\u001b[43mobj\u001b[49m\u001b[43m,\u001b[49m\n\u001b[0;32m    498\u001b[0m \u001b[43m            \u001b[49m\u001b[43mnum_proc\u001b[49m\u001b[38;5;241;43m=\u001b[39;49m\u001b[43mnum_proc\u001b[49m\u001b[43m,\u001b[49m\n\u001b[0;32m    499\u001b[0m \u001b[43m            \u001b[49m\u001b[43mparallel_min_length\u001b[49m\u001b[38;5;241;43m=\u001b[39;49m\u001b[43mparallel_min_length\u001b[49m\u001b[43m,\u001b[49m\n\u001b[0;32m    500\u001b[0m \u001b[43m            \u001b[49m\u001b[43mbatched\u001b[49m\u001b[38;5;241;43m=\u001b[39;49m\u001b[43mbatched\u001b[49m\u001b[43m,\u001b[49m\n\u001b[0;32m    501\u001b[0m \u001b[43m            \u001b[49m\u001b[43mbatch_size\u001b[49m\u001b[38;5;241;43m=\u001b[39;49m\u001b[43mbatch_size\u001b[49m\u001b[43m,\u001b[49m\n\u001b[0;32m    502\u001b[0m \u001b[43m            \u001b[49m\u001b[43mtypes\u001b[49m\u001b[38;5;241;43m=\u001b[39;49m\u001b[43mtypes\u001b[49m\u001b[43m,\u001b[49m\n\u001b[0;32m    503\u001b[0m \u001b[43m        \u001b[49m\u001b[43m)\u001b[49m\n\u001b[0;32m    504\u001b[0m         \u001b[38;5;28;01mfor\u001b[39;00m obj \u001b[38;5;129;01min\u001b[39;00m iterable\n\u001b[0;32m    505\u001b[0m     ]\n\u001b[0;32m    506\u001b[0m \u001b[38;5;28;01melif\u001b[39;00m num_proc \u001b[38;5;241m!=\u001b[39m \u001b[38;5;241m-\u001b[39m\u001b[38;5;241m1\u001b[39m \u001b[38;5;129;01mand\u001b[39;00m num_proc \u001b[38;5;241m<\u001b[39m\u001b[38;5;241m=\u001b[39m \u001b[38;5;241m1\u001b[39m \u001b[38;5;129;01mor\u001b[39;00m \u001b[38;5;28mlen\u001b[39m(iterable) \u001b[38;5;241m<\u001b[39m parallel_min_length:\n\u001b[0;32m    507\u001b[0m     \u001b[38;5;28;01mif\u001b[39;00m batched:\n",
      "File \u001b[1;32m~\\AppData\\Roaming\\Python\\Python312\\site-packages\\datasets\\utils\\py_utils.py:512\u001b[0m, in \u001b[0;36mmap_nested\u001b[1;34m(function, data_struct, dict_only, map_list, map_tuple, map_numpy, num_proc, parallel_min_length, batched, batch_size, types, disable_tqdm, desc)\u001b[0m\n\u001b[0;32m    509\u001b[0m         batch_size \u001b[38;5;241m=\u001b[39m \u001b[38;5;28mmax\u001b[39m(\u001b[38;5;28mlen\u001b[39m(iterable) \u001b[38;5;241m/\u001b[39m\u001b[38;5;241m/\u001b[39m num_proc \u001b[38;5;241m+\u001b[39m \u001b[38;5;28mint\u001b[39m(\u001b[38;5;28mlen\u001b[39m(iterable) \u001b[38;5;241m%\u001b[39m num_proc \u001b[38;5;241m>\u001b[39m \u001b[38;5;241m0\u001b[39m), \u001b[38;5;241m1\u001b[39m)\n\u001b[0;32m    510\u001b[0m     iterable \u001b[38;5;241m=\u001b[39m \u001b[38;5;28mlist\u001b[39m(iter_batched(iterable, batch_size))\n\u001b[0;32m    511\u001b[0m mapped \u001b[38;5;241m=\u001b[39m [\n\u001b[1;32m--> 512\u001b[0m     \u001b[43m_single_map_nested\u001b[49m\u001b[43m(\u001b[49m\u001b[43m(\u001b[49m\u001b[43mfunction\u001b[49m\u001b[43m,\u001b[49m\u001b[43m \u001b[49m\u001b[43mobj\u001b[49m\u001b[43m,\u001b[49m\u001b[43m \u001b[49m\u001b[43mbatched\u001b[49m\u001b[43m,\u001b[49m\u001b[43m \u001b[49m\u001b[43mbatch_size\u001b[49m\u001b[43m,\u001b[49m\u001b[43m \u001b[49m\u001b[43mtypes\u001b[49m\u001b[43m,\u001b[49m\u001b[43m \u001b[49m\u001b[38;5;28;43;01mNone\u001b[39;49;00m\u001b[43m,\u001b[49m\u001b[43m \u001b[49m\u001b[38;5;28;43;01mTrue\u001b[39;49;00m\u001b[43m,\u001b[49m\u001b[43m \u001b[49m\u001b[38;5;28;43;01mNone\u001b[39;49;00m\u001b[43m)\u001b[49m\u001b[43m)\u001b[49m\n\u001b[0;32m    513\u001b[0m     \u001b[38;5;28;01mfor\u001b[39;00m obj \u001b[38;5;129;01min\u001b[39;00m hf_tqdm(iterable, disable\u001b[38;5;241m=\u001b[39mdisable_tqdm, desc\u001b[38;5;241m=\u001b[39mdesc)\n\u001b[0;32m    514\u001b[0m ]\n\u001b[0;32m    515\u001b[0m \u001b[38;5;28;01mif\u001b[39;00m batched:\n\u001b[0;32m    516\u001b[0m     mapped \u001b[38;5;241m=\u001b[39m [mapped_item \u001b[38;5;28;01mfor\u001b[39;00m mapped_batch \u001b[38;5;129;01min\u001b[39;00m mapped \u001b[38;5;28;01mfor\u001b[39;00m mapped_item \u001b[38;5;129;01min\u001b[39;00m mapped_batch]\n",
      "File \u001b[1;32m~\\AppData\\Roaming\\Python\\Python312\\site-packages\\datasets\\utils\\py_utils.py:380\u001b[0m, in \u001b[0;36m_single_map_nested\u001b[1;34m(args)\u001b[0m\n\u001b[0;32m    373\u001b[0m         \u001b[38;5;28;01mreturn\u001b[39;00m function(data_struct)\n\u001b[0;32m    374\u001b[0m \u001b[38;5;28;01mif\u001b[39;00m (\n\u001b[0;32m    375\u001b[0m     batched\n\u001b[0;32m    376\u001b[0m     \u001b[38;5;129;01mand\u001b[39;00m \u001b[38;5;129;01mnot\u001b[39;00m \u001b[38;5;28misinstance\u001b[39m(data_struct, \u001b[38;5;28mdict\u001b[39m)\n\u001b[0;32m    377\u001b[0m     \u001b[38;5;129;01mand\u001b[39;00m \u001b[38;5;28misinstance\u001b[39m(data_struct, types)\n\u001b[0;32m    378\u001b[0m     \u001b[38;5;129;01mand\u001b[39;00m \u001b[38;5;28mall\u001b[39m(\u001b[38;5;129;01mnot\u001b[39;00m \u001b[38;5;28misinstance\u001b[39m(v, (\u001b[38;5;28mdict\u001b[39m, types)) \u001b[38;5;28;01mfor\u001b[39;00m v \u001b[38;5;129;01min\u001b[39;00m data_struct)\n\u001b[0;32m    379\u001b[0m ):\n\u001b[1;32m--> 380\u001b[0m     \u001b[38;5;28;01mreturn\u001b[39;00m [mapped_item \u001b[38;5;28;01mfor\u001b[39;00m batch \u001b[38;5;129;01min\u001b[39;00m iter_batched(data_struct, batch_size) \u001b[38;5;28;01mfor\u001b[39;00m mapped_item \u001b[38;5;129;01min\u001b[39;00m \u001b[43mfunction\u001b[49m\u001b[43m(\u001b[49m\u001b[43mbatch\u001b[49m\u001b[43m)\u001b[49m]\n\u001b[0;32m    382\u001b[0m \u001b[38;5;66;03m# Reduce logging to keep things readable in multiprocessing with tqdm\u001b[39;00m\n\u001b[0;32m    383\u001b[0m \u001b[38;5;28;01mif\u001b[39;00m rank \u001b[38;5;129;01mis\u001b[39;00m \u001b[38;5;129;01mnot\u001b[39;00m \u001b[38;5;28;01mNone\u001b[39;00m \u001b[38;5;129;01mand\u001b[39;00m logging\u001b[38;5;241m.\u001b[39mget_verbosity() \u001b[38;5;241m<\u001b[39m logging\u001b[38;5;241m.\u001b[39mWARNING:\n",
      "File \u001b[1;32m~\\AppData\\Roaming\\Python\\Python312\\site-packages\\datasets\\download\\download_manager.py:206\u001b[0m, in \u001b[0;36mDownloadManager._download_batched\u001b[1;34m(self, url_or_filenames, download_config)\u001b[0m\n\u001b[0;32m    201\u001b[0m         \u001b[38;5;28;01mpass\u001b[39;00m\n\u001b[0;32m    202\u001b[0m     max_workers \u001b[38;5;241m=\u001b[39m (\n\u001b[0;32m    203\u001b[0m         config\u001b[38;5;241m.\u001b[39mHF_DATASETS_MULTITHREADING_MAX_WORKERS \u001b[38;5;28;01mif\u001b[39;00m size \u001b[38;5;241m<\u001b[39m (\u001b[38;5;241m20\u001b[39m \u001b[38;5;241m<<\u001b[39m \u001b[38;5;241m20\u001b[39m) \u001b[38;5;28;01melse\u001b[39;00m \u001b[38;5;241m1\u001b[39m\n\u001b[0;32m    204\u001b[0m     )  \u001b[38;5;66;03m# enable multithreading if files are small\u001b[39;00m\n\u001b[1;32m--> 206\u001b[0m     \u001b[38;5;28;01mreturn\u001b[39;00m \u001b[43mthread_map\u001b[49m\u001b[43m(\u001b[49m\n\u001b[0;32m    207\u001b[0m \u001b[43m        \u001b[49m\u001b[43mdownload_func\u001b[49m\u001b[43m,\u001b[49m\n\u001b[0;32m    208\u001b[0m \u001b[43m        \u001b[49m\u001b[43murl_or_filenames\u001b[49m\u001b[43m,\u001b[49m\n\u001b[0;32m    209\u001b[0m \u001b[43m        \u001b[49m\u001b[43mdesc\u001b[49m\u001b[38;5;241;43m=\u001b[39;49m\u001b[43mdownload_config\u001b[49m\u001b[38;5;241;43m.\u001b[39;49m\u001b[43mdownload_desc\u001b[49m\u001b[43m \u001b[49m\u001b[38;5;129;43;01mor\u001b[39;49;00m\u001b[43m \u001b[49m\u001b[38;5;124;43m\"\u001b[39;49m\u001b[38;5;124;43mDownloading\u001b[39;49m\u001b[38;5;124;43m\"\u001b[39;49m\u001b[43m,\u001b[49m\n\u001b[0;32m    210\u001b[0m \u001b[43m        \u001b[49m\u001b[43munit\u001b[49m\u001b[38;5;241;43m=\u001b[39;49m\u001b[38;5;124;43m\"\u001b[39;49m\u001b[38;5;124;43mfiles\u001b[39;49m\u001b[38;5;124;43m\"\u001b[39;49m\u001b[43m,\u001b[49m\n\u001b[0;32m    211\u001b[0m \u001b[43m        \u001b[49m\u001b[43mposition\u001b[49m\u001b[38;5;241;43m=\u001b[39;49m\u001b[43mmultiprocessing\u001b[49m\u001b[38;5;241;43m.\u001b[39;49m\u001b[43mcurrent_process\u001b[49m\u001b[43m(\u001b[49m\u001b[43m)\u001b[49m\u001b[38;5;241;43m.\u001b[39;49m\u001b[43m_identity\u001b[49m\u001b[43m[\u001b[49m\u001b[38;5;241;43m-\u001b[39;49m\u001b[38;5;241;43m1\u001b[39;49m\u001b[43m]\u001b[49m\u001b[43m  \u001b[49m\u001b[38;5;66;43;03m# contains the ranks of subprocesses\u001b[39;49;00m\n\u001b[0;32m    212\u001b[0m \u001b[43m        \u001b[49m\u001b[38;5;28;43;01mif\u001b[39;49;00m\u001b[43m \u001b[49m\u001b[43mos\u001b[49m\u001b[38;5;241;43m.\u001b[39;49m\u001b[43menviron\u001b[49m\u001b[38;5;241;43m.\u001b[39;49m\u001b[43mget\u001b[49m\u001b[43m(\u001b[49m\u001b[38;5;124;43m\"\u001b[39;49m\u001b[38;5;124;43mHF_DATASETS_STACK_MULTIPROCESSING_DOWNLOAD_PROGRESS_BARS\u001b[39;49m\u001b[38;5;124;43m\"\u001b[39;49m\u001b[43m)\u001b[49m\u001b[43m \u001b[49m\u001b[38;5;241;43m==\u001b[39;49m\u001b[43m \u001b[49m\u001b[38;5;124;43m\"\u001b[39;49m\u001b[38;5;124;43m1\u001b[39;49m\u001b[38;5;124;43m\"\u001b[39;49m\n\u001b[0;32m    213\u001b[0m \u001b[43m        \u001b[49m\u001b[38;5;129;43;01mand\u001b[39;49;00m\u001b[43m \u001b[49m\u001b[43mmultiprocessing\u001b[49m\u001b[38;5;241;43m.\u001b[39;49m\u001b[43mcurrent_process\u001b[49m\u001b[43m(\u001b[49m\u001b[43m)\u001b[49m\u001b[38;5;241;43m.\u001b[39;49m\u001b[43m_identity\u001b[49m\n\u001b[0;32m    214\u001b[0m \u001b[43m        \u001b[49m\u001b[38;5;28;43;01melse\u001b[39;49;00m\u001b[43m \u001b[49m\u001b[38;5;28;43;01mNone\u001b[39;49;00m\u001b[43m,\u001b[49m\n\u001b[0;32m    215\u001b[0m \u001b[43m        \u001b[49m\u001b[43mmax_workers\u001b[49m\u001b[38;5;241;43m=\u001b[39;49m\u001b[43mmax_workers\u001b[49m\u001b[43m,\u001b[49m\n\u001b[0;32m    216\u001b[0m \u001b[43m        \u001b[49m\u001b[43mtqdm_class\u001b[49m\u001b[38;5;241;43m=\u001b[39;49m\u001b[43mtqdm\u001b[49m\u001b[43m,\u001b[49m\n\u001b[0;32m    217\u001b[0m \u001b[43m    \u001b[49m\u001b[43m)\u001b[49m\n\u001b[0;32m    218\u001b[0m \u001b[38;5;28;01melse\u001b[39;00m:\n\u001b[0;32m    219\u001b[0m     \u001b[38;5;28;01mreturn\u001b[39;00m [\n\u001b[0;32m    220\u001b[0m         \u001b[38;5;28mself\u001b[39m\u001b[38;5;241m.\u001b[39m_download_single(url_or_filename, download_config\u001b[38;5;241m=\u001b[39mdownload_config)\n\u001b[0;32m    221\u001b[0m         \u001b[38;5;28;01mfor\u001b[39;00m url_or_filename \u001b[38;5;129;01min\u001b[39;00m url_or_filenames\n\u001b[0;32m    222\u001b[0m     ]\n",
      "File \u001b[1;32m~\\AppData\\Roaming\\Python\\Python312\\site-packages\\tqdm\\contrib\\concurrent.py:69\u001b[0m, in \u001b[0;36mthread_map\u001b[1;34m(fn, *iterables, **tqdm_kwargs)\u001b[0m\n\u001b[0;32m     55\u001b[0m \u001b[38;5;250m\u001b[39m\u001b[38;5;124;03m\"\"\"\u001b[39;00m\n\u001b[0;32m     56\u001b[0m \u001b[38;5;124;03mEquivalent of `list(map(fn, *iterables))`\u001b[39;00m\n\u001b[0;32m     57\u001b[0m \u001b[38;5;124;03mdriven by `concurrent.futures.ThreadPoolExecutor`.\u001b[39;00m\n\u001b[1;32m   (...)\u001b[0m\n\u001b[0;32m     66\u001b[0m \u001b[38;5;124;03m    [default: max(32, cpu_count() + 4)].\u001b[39;00m\n\u001b[0;32m     67\u001b[0m \u001b[38;5;124;03m\"\"\"\u001b[39;00m\n\u001b[0;32m     68\u001b[0m \u001b[38;5;28;01mfrom\u001b[39;00m \u001b[38;5;21;01mconcurrent\u001b[39;00m\u001b[38;5;21;01m.\u001b[39;00m\u001b[38;5;21;01mfutures\u001b[39;00m \u001b[38;5;28;01mimport\u001b[39;00m ThreadPoolExecutor\n\u001b[1;32m---> 69\u001b[0m \u001b[38;5;28;01mreturn\u001b[39;00m \u001b[43m_executor_map\u001b[49m\u001b[43m(\u001b[49m\u001b[43mThreadPoolExecutor\u001b[49m\u001b[43m,\u001b[49m\u001b[43m \u001b[49m\u001b[43mfn\u001b[49m\u001b[43m,\u001b[49m\u001b[43m \u001b[49m\u001b[38;5;241;43m*\u001b[39;49m\u001b[43miterables\u001b[49m\u001b[43m,\u001b[49m\u001b[43m \u001b[49m\u001b[38;5;241;43m*\u001b[39;49m\u001b[38;5;241;43m*\u001b[39;49m\u001b[43mtqdm_kwargs\u001b[49m\u001b[43m)\u001b[49m\n",
      "File \u001b[1;32m~\\AppData\\Roaming\\Python\\Python312\\site-packages\\tqdm\\contrib\\concurrent.py:51\u001b[0m, in \u001b[0;36m_executor_map\u001b[1;34m(PoolExecutor, fn, *iterables, **tqdm_kwargs)\u001b[0m\n\u001b[0;32m     47\u001b[0m \u001b[38;5;28;01mwith\u001b[39;00m ensure_lock(tqdm_class, lock_name\u001b[38;5;241m=\u001b[39mlock_name) \u001b[38;5;28;01mas\u001b[39;00m lk:\n\u001b[0;32m     48\u001b[0m     \u001b[38;5;66;03m# share lock in case workers are already using `tqdm`\u001b[39;00m\n\u001b[0;32m     49\u001b[0m     \u001b[38;5;28;01mwith\u001b[39;00m PoolExecutor(max_workers\u001b[38;5;241m=\u001b[39mmax_workers, initializer\u001b[38;5;241m=\u001b[39mtqdm_class\u001b[38;5;241m.\u001b[39mset_lock,\n\u001b[0;32m     50\u001b[0m                       initargs\u001b[38;5;241m=\u001b[39m(lk,)) \u001b[38;5;28;01mas\u001b[39;00m ex:\n\u001b[1;32m---> 51\u001b[0m         \u001b[38;5;28;01mreturn\u001b[39;00m \u001b[38;5;28;43mlist\u001b[39;49m\u001b[43m(\u001b[49m\u001b[43mtqdm_class\u001b[49m\u001b[43m(\u001b[49m\u001b[43mex\u001b[49m\u001b[38;5;241;43m.\u001b[39;49m\u001b[43mmap\u001b[49m\u001b[43m(\u001b[49m\u001b[43mfn\u001b[49m\u001b[43m,\u001b[49m\u001b[43m \u001b[49m\u001b[38;5;241;43m*\u001b[39;49m\u001b[43miterables\u001b[49m\u001b[43m,\u001b[49m\u001b[43m \u001b[49m\u001b[43mchunksize\u001b[49m\u001b[38;5;241;43m=\u001b[39;49m\u001b[43mchunksize\u001b[49m\u001b[43m)\u001b[49m\u001b[43m,\u001b[49m\u001b[43m \u001b[49m\u001b[38;5;241;43m*\u001b[39;49m\u001b[38;5;241;43m*\u001b[39;49m\u001b[43mkwargs\u001b[49m\u001b[43m)\u001b[49m\u001b[43m)\u001b[49m\n",
      "File \u001b[1;32m~\\AppData\\Roaming\\Python\\Python312\\site-packages\\tqdm\\std.py:1181\u001b[0m, in \u001b[0;36mtqdm.__iter__\u001b[1;34m(self)\u001b[0m\n\u001b[0;32m   1178\u001b[0m time \u001b[38;5;241m=\u001b[39m \u001b[38;5;28mself\u001b[39m\u001b[38;5;241m.\u001b[39m_time\n\u001b[0;32m   1180\u001b[0m \u001b[38;5;28;01mtry\u001b[39;00m:\n\u001b[1;32m-> 1181\u001b[0m \u001b[43m    \u001b[49m\u001b[38;5;28;43;01mfor\u001b[39;49;00m\u001b[43m \u001b[49m\u001b[43mobj\u001b[49m\u001b[43m \u001b[49m\u001b[38;5;129;43;01min\u001b[39;49;00m\u001b[43m \u001b[49m\u001b[43miterable\u001b[49m\u001b[43m:\u001b[49m\n\u001b[0;32m   1182\u001b[0m \u001b[43m        \u001b[49m\u001b[38;5;28;43;01myield\u001b[39;49;00m\u001b[43m \u001b[49m\u001b[43mobj\u001b[49m\n\u001b[0;32m   1183\u001b[0m \u001b[43m        \u001b[49m\u001b[38;5;66;43;03m# Update and possibly print the progressbar.\u001b[39;49;00m\n\u001b[0;32m   1184\u001b[0m \u001b[43m        \u001b[49m\u001b[38;5;66;43;03m# Note: does not call self.update(1) for speed optimisation.\u001b[39;49;00m\n",
      "File \u001b[1;32mc:\\Program Files\\Python312\\Lib\\concurrent\\futures\\_base.py:619\u001b[0m, in \u001b[0;36mExecutor.map.<locals>.result_iterator\u001b[1;34m()\u001b[0m\n\u001b[0;32m    616\u001b[0m \u001b[38;5;28;01mwhile\u001b[39;00m fs:\n\u001b[0;32m    617\u001b[0m     \u001b[38;5;66;03m# Careful not to keep a reference to the popped future\u001b[39;00m\n\u001b[0;32m    618\u001b[0m     \u001b[38;5;28;01mif\u001b[39;00m timeout \u001b[38;5;129;01mis\u001b[39;00m \u001b[38;5;28;01mNone\u001b[39;00m:\n\u001b[1;32m--> 619\u001b[0m         \u001b[38;5;28;01myield\u001b[39;00m \u001b[43m_result_or_cancel\u001b[49m\u001b[43m(\u001b[49m\u001b[43mfs\u001b[49m\u001b[38;5;241;43m.\u001b[39;49m\u001b[43mpop\u001b[49m\u001b[43m(\u001b[49m\u001b[43m)\u001b[49m\u001b[43m)\u001b[49m\n\u001b[0;32m    620\u001b[0m     \u001b[38;5;28;01melse\u001b[39;00m:\n\u001b[0;32m    621\u001b[0m         \u001b[38;5;28;01myield\u001b[39;00m _result_or_cancel(fs\u001b[38;5;241m.\u001b[39mpop(), end_time \u001b[38;5;241m-\u001b[39m time\u001b[38;5;241m.\u001b[39mmonotonic())\n",
      "File \u001b[1;32mc:\\Program Files\\Python312\\Lib\\concurrent\\futures\\_base.py:317\u001b[0m, in \u001b[0;36m_result_or_cancel\u001b[1;34m(***failed resolving arguments***)\u001b[0m\n\u001b[0;32m    315\u001b[0m \u001b[38;5;28;01mtry\u001b[39;00m:\n\u001b[0;32m    316\u001b[0m     \u001b[38;5;28;01mtry\u001b[39;00m:\n\u001b[1;32m--> 317\u001b[0m         \u001b[38;5;28;01mreturn\u001b[39;00m \u001b[43mfut\u001b[49m\u001b[38;5;241;43m.\u001b[39;49m\u001b[43mresult\u001b[49m\u001b[43m(\u001b[49m\u001b[43mtimeout\u001b[49m\u001b[43m)\u001b[49m\n\u001b[0;32m    318\u001b[0m     \u001b[38;5;28;01mfinally\u001b[39;00m:\n\u001b[0;32m    319\u001b[0m         fut\u001b[38;5;241m.\u001b[39mcancel()\n",
      "File \u001b[1;32mc:\\Program Files\\Python312\\Lib\\concurrent\\futures\\_base.py:451\u001b[0m, in \u001b[0;36mFuture.result\u001b[1;34m(self, timeout)\u001b[0m\n\u001b[0;32m    448\u001b[0m \u001b[38;5;28;01melif\u001b[39;00m \u001b[38;5;28mself\u001b[39m\u001b[38;5;241m.\u001b[39m_state \u001b[38;5;241m==\u001b[39m FINISHED:\n\u001b[0;32m    449\u001b[0m     \u001b[38;5;28;01mreturn\u001b[39;00m \u001b[38;5;28mself\u001b[39m\u001b[38;5;241m.\u001b[39m__get_result()\n\u001b[1;32m--> 451\u001b[0m \u001b[38;5;28;43mself\u001b[39;49m\u001b[38;5;241;43m.\u001b[39;49m\u001b[43m_condition\u001b[49m\u001b[38;5;241;43m.\u001b[39;49m\u001b[43mwait\u001b[49m\u001b[43m(\u001b[49m\u001b[43mtimeout\u001b[49m\u001b[43m)\u001b[49m\n\u001b[0;32m    453\u001b[0m \u001b[38;5;28;01mif\u001b[39;00m \u001b[38;5;28mself\u001b[39m\u001b[38;5;241m.\u001b[39m_state \u001b[38;5;129;01min\u001b[39;00m [CANCELLED, CANCELLED_AND_NOTIFIED]:\n\u001b[0;32m    454\u001b[0m     \u001b[38;5;28;01mraise\u001b[39;00m CancelledError()\n",
      "File \u001b[1;32mc:\\Program Files\\Python312\\Lib\\threading.py:355\u001b[0m, in \u001b[0;36mCondition.wait\u001b[1;34m(self, timeout)\u001b[0m\n\u001b[0;32m    353\u001b[0m \u001b[38;5;28;01mtry\u001b[39;00m:    \u001b[38;5;66;03m# restore state no matter what (e.g., KeyboardInterrupt)\u001b[39;00m\n\u001b[0;32m    354\u001b[0m     \u001b[38;5;28;01mif\u001b[39;00m timeout \u001b[38;5;129;01mis\u001b[39;00m \u001b[38;5;28;01mNone\u001b[39;00m:\n\u001b[1;32m--> 355\u001b[0m         \u001b[43mwaiter\u001b[49m\u001b[38;5;241;43m.\u001b[39;49m\u001b[43macquire\u001b[49m\u001b[43m(\u001b[49m\u001b[43m)\u001b[49m\n\u001b[0;32m    356\u001b[0m         gotit \u001b[38;5;241m=\u001b[39m \u001b[38;5;28;01mTrue\u001b[39;00m\n\u001b[0;32m    357\u001b[0m     \u001b[38;5;28;01melse\u001b[39;00m:\n",
      "\u001b[1;31mKeyboardInterrupt\u001b[0m: "
     ]
    }
   ],
   "source": [
    "# Load the train portion of the dataset\n",
    "# Load the module\n",
    "from datasets import load_dataset\n",
    "wikipedia = load_dataset(\"wikimedia/wikipedia\", \"20231101.en\", split=\"train\")\n",
    "\n",
    "print(f\"The length of the dataset is {len(wikipedia)}\")"
   ]
  },
  {
   "cell_type": "markdown",
   "id": "8d99e21c-ead9-441e-a8db-422843edd9d1",
   "metadata": {},
   "source": [
    "Manipulating datasets\n",
    "\n",
    "There will likely be many occasions when you will need to manipulate a dataset before using it within a ML task. Two common manipulations are filtering and selecting (or slicing). Given the size of these datasets, Hugging Face leverages arrow file types.\n",
    "\n",
    "This means performing manipulations are slightly different than what you might be used to. Fortunately, there's already methods to help with this!\n",
    "\n",
    "The dataset is already loaded for you under wikipedia."
   ]
  },
  {
   "cell_type": "code",
   "execution_count": null,
   "id": "10afc19e-3140-48b2-92de-01c619364310",
   "metadata": {
    "executionCancelledAt": null,
    "executionTime": 64,
    "lastExecutedAt": 1731891322500,
    "lastExecutedByKernel": "2615cb99-8a71-4fae-9755-f414e5201976",
    "lastScheduledRunId": null,
    "lastSuccessfullyExecutedCode": "# Filter the documents\nfiltered = wikipedia.filter(lambda row: \"football\" in row[\"text\"])\n\n# Create a sample dataset\nexample = filtered.select(range(1))\n\nprint(example[0][\"text\"])"
   },
   "outputs": [
    {
     "ename": "NameError",
     "evalue": "name 'wikipedia' is not defined",
     "output_type": "error",
     "traceback": [
      "\u001b[0;31m---------------------------------------------------------------------------\u001b[0m",
      "\u001b[0;31mNameError\u001b[0m                                 Traceback (most recent call last)",
      "Cell \u001b[0;32mIn[6], line 2\u001b[0m\n\u001b[1;32m      1\u001b[0m \u001b[38;5;66;03m# Filter the documents\u001b[39;00m\n\u001b[0;32m----> 2\u001b[0m filtered \u001b[38;5;241m=\u001b[39m \u001b[43mwikipedia\u001b[49m\u001b[38;5;241m.\u001b[39mfilter(\u001b[38;5;28;01mlambda\u001b[39;00m row: \u001b[38;5;124m\"\u001b[39m\u001b[38;5;124mfootball\u001b[39m\u001b[38;5;124m\"\u001b[39m \u001b[38;5;129;01min\u001b[39;00m row[\u001b[38;5;124m\"\u001b[39m\u001b[38;5;124mtext\u001b[39m\u001b[38;5;124m\"\u001b[39m])\n\u001b[1;32m      4\u001b[0m \u001b[38;5;66;03m# Create a sample dataset\u001b[39;00m\n\u001b[1;32m      5\u001b[0m example \u001b[38;5;241m=\u001b[39m filtered\u001b[38;5;241m.\u001b[39mselect(\u001b[38;5;28mrange\u001b[39m(\u001b[38;5;241m1\u001b[39m))\n",
      "\u001b[0;31mNameError\u001b[0m: name 'wikipedia' is not defined"
     ]
    }
   ],
   "source": [
    "# Filter the documents\n",
    "filtered = wikipedia.filter(lambda row: \"football\" in row[\"text\"])\n",
    "\n",
    "# Create a sample dataset\n",
    "example = filtered.select(range(1))\n",
    "\n",
    "print(example[0][\"text\"])"
   ]
  },
  {
   "cell_type": "markdown",
   "id": "b3400368",
   "metadata": {},
   "source": [
    "## Transformers hugging face"
   ]
  },
  {
   "attachments": {
    "image.png": {
     "image/png": "[encoded data removed]"
    }
   },
   "cell_type": "markdown",
   "id": "0adc6c31",
   "metadata": {},
   "source": [
    "![image.png](attachment:image.png)"
   ]
  },
  {
   "attachments": {
    "image.png": {
     "image/png": "[encoded data removed]"
    }
   },
   "cell_type": "markdown",
   "id": "c49348e7",
   "metadata": {},
   "source": [
    "![image.png](attachment:image.png)"
   ]
  },
  {
   "cell_type": "code",
   "execution_count": null,
   "id": "81ecf7c4",
   "metadata": {},
   "outputs": [],
   "source": []
  },
  {
   "cell_type": "markdown",
   "id": "e0636ff3",
   "metadata": {},
   "source": []
  },
  {
   "cell_type": "code",
   "execution_count": null,
   "id": "46768438",
   "metadata": {},
   "outputs": [],
   "source": []
  },
  {
   "cell_type": "markdown",
   "id": "a8ef8db1-e174-44f7-bf5e-e92907615d48",
   "metadata": {},
   "source": [
    "# OpenAI API"
   ]
  },
  {
   "cell_type": "code",
   "execution_count": null,
   "id": "87f7a7d6-cc52-48d4-b7cf-5ac069a2b2ec",
   "metadata": {
    "executionCancelledAt": null,
    "executionTime": 50,
    "lastExecutedAt": 1730999623288,
    "lastExecutedByKernel": "f9a13dd5-1c80-4f1b-b08a-e7908ea0d764",
    "lastScheduledRunId": null,
    "lastSuccessfullyExecutedCode": "import OpenAI\nclient = OpenAI(api_key=\"<OPENAI_API_TOKEN>\")\n\nresponse = client.chat.completions.create(\n    model=\"gpt-4o-mini\",\n    # Write your prompt\n    messages=[{\"role\": \"user\", \"content\": \"Simply and concisely, explain why learning about the OpenAI API is important for developers.\"}],\n    max_tokens=200\n)\n\nprint(response.choices[0].message.content)"
   },
   "outputs": [
    {
     "ename": "ModuleNotFoundError",
     "evalue": "No module named 'OpenAI'",
     "output_type": "error",
     "traceback": [
      "\u001b[0;31m---------------------------------------------------------------------------\u001b[0m",
      "\u001b[0;31mModuleNotFoundError\u001b[0m                       Traceback (most recent call last)",
      "Cell \u001b[0;32mIn[2], line 1\u001b[0m\n\u001b[0;32m----> 1\u001b[0m \u001b[38;5;28;01mimport\u001b[39;00m \u001b[38;5;21;01mOpenAI\u001b[39;00m\n\u001b[1;32m      2\u001b[0m client \u001b[38;5;241m=\u001b[39m OpenAI(api_key\u001b[38;5;241m=\u001b[39m\u001b[38;5;124m\"\u001b[39m\u001b[38;5;124m<OPENAI_API_TOKEN>\u001b[39m\u001b[38;5;124m\"\u001b[39m)\n\u001b[1;32m      4\u001b[0m response \u001b[38;5;241m=\u001b[39m client\u001b[38;5;241m.\u001b[39mchat\u001b[38;5;241m.\u001b[39mcompletions\u001b[38;5;241m.\u001b[39mcreate(\n\u001b[1;32m      5\u001b[0m     model\u001b[38;5;241m=\u001b[39m\u001b[38;5;124m\"\u001b[39m\u001b[38;5;124mgpt-4o-mini\u001b[39m\u001b[38;5;124m\"\u001b[39m,\n\u001b[1;32m      6\u001b[0m     \u001b[38;5;66;03m# Write your prompt\u001b[39;00m\n\u001b[1;32m      7\u001b[0m     messages\u001b[38;5;241m=\u001b[39m[{\u001b[38;5;124m\"\u001b[39m\u001b[38;5;124mrole\u001b[39m\u001b[38;5;124m\"\u001b[39m: \u001b[38;5;124m\"\u001b[39m\u001b[38;5;124muser\u001b[39m\u001b[38;5;124m\"\u001b[39m, \u001b[38;5;124m\"\u001b[39m\u001b[38;5;124mcontent\u001b[39m\u001b[38;5;124m\"\u001b[39m: \u001b[38;5;124m\"\u001b[39m\u001b[38;5;124mSimply and concisely, explain why learning about the OpenAI API is important for developers.\u001b[39m\u001b[38;5;124m\"\u001b[39m}],\n\u001b[1;32m      8\u001b[0m     max_tokens\u001b[38;5;241m=\u001b[39m\u001b[38;5;241m200\u001b[39m\n\u001b[1;32m      9\u001b[0m )\n",
      "\u001b[0;31mModuleNotFoundError\u001b[0m: No module named 'OpenAI'"
     ]
    }
   ],
   "source": [
    "import OpenAI\n",
    "client = OpenAI(api_key=\"<OPENAI_API_TOKEN>\")\n",
    "\n",
    "response = client.chat.completions.create(\n",
    "    model=\"gpt-4o-mini\",\n",
    "    # Write your prompt\n",
    "    messages=[{\"role\": \"user\", \"content\": \"Simply and concisely, explain why learning about the OpenAI API is important for developers.\"}],\n",
    "    max_tokens=200\n",
    ")\n",
    "\n",
    "print(response.choices[0].message.content)"
   ]
  },
  {
   "cell_type": "markdown",
   "id": "c8f1f4bc-99ca-4216-9033-4b4cb5bbcf64",
   "metadata": {},
   "source": [
    "OpenAI has different access points for users called endpoints."
   ]
  },
  {
   "cell_type": "markdown",
   "id": "869df45b-13fb-43ab-ab51-fecca29ed812",
   "metadata": {},
   "source": [
    "Endpoints - They are API access point designed for specific interactions.  \n",
    "Users make requests for different services to different API endpoints.\n",
    "End points may also requiere authentication before accesing services.\n",
    "API authentication is usually in the form."
   ]
  },
  {
   "cell_type": "markdown",
   "id": "df26202b-01b4-47e0-9955-d094efac9d98",
   "metadata": {},
   "source": [
    "It is important to note that many APIs, have costs associated with using their services.  \n",
    "For OpenAi, it depends on the:  \n",
    "* Model\n",
    "* Larger outputs + inputs = Greater Cost  "
   ]
  },
  {
   "cell_type": "markdown",
   "id": "d6d1b387-8eea-478c-b51a-d961be4fce85",
   "metadata": {},
   "source": [
    "In Python we use the openai library.  "
   ]
  },
  {
   "cell_type": "code",
   "execution_count": null,
   "id": "8330a93e-89d8-406d-ad77-a52242b87700",
   "metadata": {},
   "outputs": [],
   "source": [
    "from openai import OpenAI\n",
    "client = OpenAI(api_key=\"ENTER YOUR KEY HERE\")\n",
    "\n",
    "# Creating a request to the chats completions  \n",
    "response = client.chat.completions.create(model = 'gpt-4o-mini',\n",
    "                                       messages=[{\"role\":\"user\",\"content\":\"What is the OpenAI API?\"}])\n",
    "print(response.choices[0].message.content)"
   ]
  },
  {
   "cell_type": "code",
   "execution_count": 0,
   "id": "a91e0a65-ad1a-44e3-a14f-3d21a63d695e",
   "metadata": {
    "executionCancelledAt": null,
    "executionTime": 1612,
    "lastExecutedAt": 1731013695261,
    "lastExecutedByKernel": "b0efaa2d-92c5-47e0-a362-986b4bd266b4",
    "lastScheduledRunId": null,
    "lastSuccessfullyExecutedCode": ""
   },
   "outputs": [],
   "source": [
    "client = OpenAI(api_key=\"<OPENAI_API_TOKEN>\")\n",
    "\n",
    "prompt=\"\"\"Replace car with plane and adjust phrase:\n",
    "A car is a vehicle that is typically powered by an internal combustion engine or an electric motor. It has four wheels, and is designed to carry passengers and/or cargo on roads or highways. Cars have become a ubiquitous part of modern society, and are used for a wide variety of purposes, such as commuting, travel, and transportation of goods. Cars are often associated with freedom, independence, and mobility.\"\"\"\n",
    "\n",
    "# Create a request to the Chat Completions endpoint\n",
    "response = client.chat.completions.create(\n",
    "  model='gpt-4o-mini',\n",
    "  messages=[{\"role\":\"user\",\"content\":prompt}],\n",
    "  max_tokens=100\n",
    ")\n",
    "\n",
    "# Extract and print the response text\n",
    "print(response.choices[0].message.content)"
   ]
  },
  {
   "cell_type": "code",
   "execution_count": null,
   "id": "446d760f-f5a8-47ea-b42d-6276b0ac5ef8",
   "metadata": {},
   "outputs": [],
   "source": [
    "client = OpenAI(api_key=\"<OPENAI_API_TOKEN>\")\n",
    "\n",
    "prompt=\"\"\"Summarize the following text into two concise bullet points:\n",
    "Investment refers to the act of committing money or capital to an enterprise with the expectation of obtaining an added income or profit in return. There are a variety of investment options available, including stocks, bonds, mutual funds, real estate, precious metals, and currencies. Making an investment decision requires careful analysis, assessment of risk, and evaluation of potential rewards. Good investments have the ability to produce high returns over the long term while minimizing risk. Diversification of investment portfolios reduces risk exposure. Investment can be a valuable tool for building wealth, generating income, and achieving financial security. It is important to be diligent and informed when investing to avoid losses.\"\"\"\n",
    "\n",
    "# Create a request to the Chat Completions endpoint\n",
    "response = client.chat.completions.create(\n",
    "  model=\"gpt-4o-mini\",\n",
    "  max_tokens=400,\n",
    "  messages=[{\"role\":\"user\",\"content\":prompt}],\n",
    "  temperature=0\n",
    ")\n",
    "\n",
    "print(response.choices[0].message.content)"
   ]
  },
  {
   "cell_type": "code",
   "execution_count": null,
   "id": "c9c6d56d-212f-4bea-945d-53b3dec95c1e",
   "metadata": {},
   "outputs": [],
   "source": [
    "client = OpenAI(api_key=\"<OPENAI_API_TOKEN>\")\n",
    "\n",
    "prompt = \"\"\" Create an slogan for a new restaurante \"\"\"\n",
    "\n",
    "\n",
    "# Create a request to the Chat Completions endpoint\n",
    "response = client.chat.completions.create(\n",
    "  model=\"gpt-4o-mini\",\n",
    "  messages = [{'role':\"user\",\"content\":prompt}],\n",
    "  max_tokens=100\n",
    ")\n",
    "\n",
    "print(response.choices[0].message.content)"
   ]
  },
  {
   "cell_type": "code",
   "execution_count": null,
   "id": "0ac71e65-e879-42f8-98a0-94b92dbdc11a",
   "metadata": {},
   "outputs": [],
   "source": [
    "client = OpenAI(api_key=\"<OPENAI_API_TOKEN>\")\n",
    "\n",
    "# Define a multi-line prompt to classify sentiment\n",
    "prompt = \"\"\" \n",
    " Classify the sentiment of the following statements as either negative, positive, or neutral:\n",
    "\n",
    "    * Unbelievably good!\n",
    "    * Shoes fell apart on the second use.\n",
    "    * The shoes look nice, but they aren't very comfortable.\n",
    "    * Can't wait to show them off!\n",
    " \"\"\"\n",
    "\n",
    "# Create a request to the Chat Completions endpoint\n",
    "response = client.chat.completions.create(\n",
    "  model=\"gpt-4o-mini\",\n",
    "  messages=[{\"role\":\"user\",\"content\":prompt}],\n",
    "  max_tokens=100\n",
    ")\n",
    "\n",
    "print(response.choices[0].message.content)"
   ]
  },
  {
   "cell_type": "markdown",
   "id": "6aa40a50-8493-4180-852a-95d69f9ec7ea",
   "metadata": {},
   "source": [
    "### Sentiment analysis and classification  "
   ]
  },
  {
   "cell_type": "code",
   "execution_count": null,
   "id": "76f46137-8aa6-4055-bf2a-4905b9506b6c",
   "metadata": {},
   "outputs": [],
   "source": [
    "client = OpenAI(api_key=\"<OPENAI_API_TOKEN>\")\n",
    "\n",
    "# Define a prompt for the categorization\n",
    "prompt = \"Categorize the following companies: Apple, Microsoft, Saudi Aramco, Alphabet, Amazon, Berkshire Hathaway, NVIDIA, Meta, Tesla, LVMH\"\n",
    "\n",
    "# Create a request to the Chat Completions endpoint\n",
    "response = client.chat.completions.create(\n",
    "  model=\"gpt-4o-mini\",\n",
    "  messages=[{\"role\":\"user\",\"content\":prompt}],\n",
    "  max_tokens=100,\n",
    "  temperature=0.5\n",
    ")\n",
    "\n",
    "print(response.choices[0].message.content)"
   ]
  },
  {
   "cell_type": "markdown",
   "id": "b6394def-b719-4247-adf3-836c91387945",
   "metadata": {},
   "source": [
    "### Chat completions with chatgpt"
   ]
  },
  {
   "cell_type": "markdown",
   "id": "3f03a5d9-f815-44a0-8266-20cd6393437f",
   "metadata": {},
   "source": [
    "**System** : Controls assistanst behavior, it allows us to specify a message to control the behavior of the assitant. For e.g. for assitant chatbot, we could provide a system message that the assitant is a polite and helpful customer service asistant."
   ]
  },
  {
   "cell_type": "code",
   "execution_count": null,
   "id": "d1d7d27a-1e5e-4d0f-a442-93b10ea82d84",
   "metadata": {},
   "outputs": [],
   "source": [
    "client = OpenAI(api_key=\"<OPENAI_API_TOKEN>\")\n",
    "\n",
    "# Create a request to the Chat Completions endpoint\n",
    "response = client.chat.completions.create(\n",
    "  model=\"gpt-4o-mini\",\n",
    "  max_tokens=150,\n",
    "  messages=[\n",
    "    {\"role\": \"system\",\n",
    "     \"content\": \"You are a helpful data science tutor.\"},\n",
    "    {\"role\":\"user\",\n",
    "    \"content\":\"What is the difference between a for loop and a while loop?\"}\n",
    "  ]\n",
    ")\n",
    "\n",
    "# Extract and print the assistant's text response\n",
    "print(response.choices[0].message.content)"
   ]
  },
  {
   "cell_type": "code",
   "execution_count": null,
   "id": "ab7718b6-9d3e-4920-b3c7-e71efe7d0292",
   "metadata": {},
   "outputs": [],
   "source": [
    "client = OpenAI(api_key=\"<OPENAI_API_TOKEN>\")\n",
    "\n",
    "instruction = \"\"\"Explain what this Python code does in one sentence:\n",
    "import numpy as np\n",
    "\n",
    "heights_dict = {\"Mark\": 1.76, \"Steve\": 1.88, \"Adnan\": 1.73}\n",
    "heights = heights_dict.values()\n",
    "print(np.mean(heights))\n",
    "\"\"\"\n",
    "\n",
    "# Create a request to the Chat Completions endpoint\n",
    "response = client.chat.completions.create(\n",
    "  model=\"gpt-4o-mini\",\n",
    "  messages=[{\"role\":\"user\",\"content\":instruction}],\n",
    "  max_tokens=100\n",
    ")\n",
    "\n",
    "print(response.choices[0].message.content)"
   ]
  },
  {
   "cell_type": "markdown",
   "id": "d99c0d71-c0e6-4b68-a93e-ed5a0510cc3c",
   "metadata": {},
   "source": [
    "### Multi-turn chat completions with GPT"
   ]
  },
  {
   "cell_type": "markdown",
   "id": "0fa7cdec-23ac-4d3a-8806-273d6c57fe30",
   "metadata": {},
   "source": [
    "In-context learning\n",
    "\n",
    "For more complex use cases, the models lack the understanding or context of the problem to provide a suitable response from a prompt. In these cases, you need to provide examples to the model for it to learn from, so-called in-context learning.\n",
    "\n",
    "In this exercise, you'll improve on a Python programming tutor built on the OpenAI API by providing an example that the model can learn from.\n",
    "\n",
    "Here is an example of a user and assistant message you can use, but feel free to try out your own:\n",
    "\n",
    "    User → Explain what the min() Python function does.\n",
    "    Assistant → The min() function returns the smallest item from an iterable.\n"
   ]
  },
  {
   "cell_type": "code",
   "execution_count": null,
   "id": "da7ad8ae-117b-4a57-97fd-4c3f92463f9f",
   "metadata": {},
   "outputs": [],
   "source": [
    "client = OpenAI(api_key=\"<OPENAI_API_TOKEN>\")\n",
    "\n",
    "response = client.chat.completions.create(\n",
    "   model=\"gpt-4o-mini\",\n",
    "   # Add a user and assistant message for in-context learning\n",
    "   messages=[\n",
    "     {\"role\": \"system\", \"content\": \"You are a helpful Python programming tutor.\"},\n",
    "     {\"role\": \"user\", \"content\": \"Explain what the type() function does.\"},\n",
    "    {\"role\":\"assistant\",\"content\":\"The min() function returns the smallest item from an iterable.\"}\n",
    "   ]\n",
    ")\n",
    "\n",
    "print(response.choices[0].message.content)"
   ]
  },
  {
   "cell_type": "code",
   "execution_count": null,
   "id": "94cd03d9-e5b1-4264-a261-3793ea8fe84d",
   "metadata": {},
   "outputs": [],
   "source": [
    "client = OpenAI(api_key=\"<OPENAI_API_TOKEN>\")\n",
    "\n",
    "messages = [{\"role\": \"system\", \"content\": \"You are a helpful math tutor.\"}]\n",
    "user_msgs = [\"Explain what pi is.\", \"Summarize this in two bullet points.\"]\n",
    "\n",
    "for q in user_msgs:\n",
    "    print(\"User: \", q)\n",
    "    \n",
    "    # Create a dictionary for the user message from q and append to messages\n",
    "    user_dict = {\"role\": \"user\", \"content\": q}\n",
    "    messages.append(user_dict)\n",
    "    \n",
    "    # Create the API request\n",
    "    response = client.chat.completions.create(\n",
    "        model=\"gpt-4o-mini\",\n",
    "        messages=messages,\n",
    "        max_tokens=100\n",
    "    )\n",
    "    \n",
    "    # Convert the assistant's message to a dict and append to messages\n",
    "    assistant_dict = {\"role\": \"assistant\", \"content\": response.choices[0].message.content}\n",
    "    messages.append(assistant_dict)\n",
    "    print(\"Assistant: \", response.choices[0].message.content, \"\\n\")"
   ]
  },
  {
   "cell_type": "markdown",
   "id": "f76a6f58-a199-4bfb-b700-ff6e739be4d6",
   "metadata": {},
   "source": [
    "### Text moderation"
   ]
  },
  {
   "cell_type": "code",
   "execution_count": null,
   "id": "3c3256a1-991f-4f8d-94cb-a929687ac91b",
   "metadata": {},
   "outputs": [],
   "source": [
    "# Interpreting the resuls\n",
    "print(response.model_dump())\n",
    "print(response.results[0].category_scores)"
   ]
  },
  {
   "cell_type": "markdown",
   "id": "9e2a980c-9054-49d5-9c01-c737db3cdb68",
   "metadata": {},
   "source": [
    "Larger numbers -> greater certainty of violation"
   ]
  },
  {
   "cell_type": "code",
   "execution_count": null,
   "id": "29a6b86c-b666-4edf-bfea-5b116b2c7c11",
   "metadata": {},
   "outputs": [],
   "source": [
    "client = OpenAI(api_key=\"<OPENAI_API_TOKEN>\")\n",
    "\n",
    "# Create a request to the Moderation endpoint\n",
    "response = client.moderations.create(model=\"text-moderation-latest\",\n",
    "input = \"My favorite book is To Kill a Mockingbird.\")\n",
    "\n",
    "# Print the category scores\n",
    "print(response.results[0].category_scores)"
   ]
  },
  {
   "cell_type": "markdown",
   "id": "994a3796-697b-4e2e-a9f2-d0e4c729dcc0",
   "metadata": {},
   "source": [
    "### Speech-to-Text Transcription with Whisper"
   ]
  },
  {
   "cell_type": "code",
   "execution_count": null,
   "id": "bda4173b-78b4-4b36-93c3-83118388f764",
   "metadata": {},
   "outputs": [],
   "source": [
    "client = OpenAI(api_key=\"<OPENAI_API_TOKEN>\")\n",
    "\n",
    "# Open the openai-audio.mp3 file\n",
    "audio_file = open(\"openai-audio.mp3\", \"rb\")\n",
    "\n",
    "# Create a transcript from the audio file\n",
    "response = client.audio.transcriptions.create(model=\"whisper-1\", file=audio_file)\n",
    "\n",
    "# Extract and print the transcript text\n",
    "print(response.text)"
   ]
  },
  {
   "cell_type": "code",
   "execution_count": null,
   "id": "957fd0f9-c593-4f45-950a-79cd29d16d34",
   "metadata": {},
   "outputs": [],
   "source": [
    "client = OpenAI(api_key=\"<OPENAI_API_TOKEN>\")\n",
    "\n",
    "# Open the audio.m4a file\n",
    "audio_file= open(\"audio.m4a\",\"rb\")\n",
    "\n",
    "# Create a transcript from the audio file\n",
    "response = client.audio.transcriptions.create(model='whisper-1',file=audio_file)\n",
    "\n",
    "print(response.text)"
   ]
  },
  {
   "cell_type": "markdown",
   "id": "0e3542f2-29a4-44b4-ba4d-b7219f3dede3",
   "metadata": {},
   "source": [
    "![image](image.png)\n"
   ]
  },
  {
   "cell_type": "markdown",
   "id": "4406ff36-51a7-4f11-8415-074404761917",
   "metadata": {},
   "source": [
    "![image](image.png)\n"
   ]
  },
  {
   "cell_type": "markdown",
   "id": "a5fc2b39-fba3-4634-8758-44beaa8006ba",
   "metadata": {},
   "source": [
    "![image](image.png)\n"
   ]
  },
  {
   "cell_type": "markdown",
   "id": "b9bc684d-64cd-4f2b-9809-2adba797dc88",
   "metadata": {},
   "source": [
    "![image](image.png)\n"
   ]
  },
  {
   "cell_type": "code",
   "execution_count": null,
   "id": "9c0a4a45-2be1-437a-a6da-88c497ae486b",
   "metadata": {},
   "outputs": [],
   "source": [
    "client = OpenAI(api_key=\"<OPENAI_API_TOKEN>\")\n",
    "\n",
    "# Open the audio.m4a file\n",
    "audio_file = open(\"audio.m4a\", \"rb\")\n",
    "\n",
    "# Create a translation from the audio file\n",
    "response = client.audio.translations.create(model=\"whisper-1\", file=audio_file)\n",
    "\n",
    "# Extract and print the translated text\n",
    "print(response.text)"
   ]
  },
  {
   "cell_type": "markdown",
   "id": "967a7982-c5f3-40a9-b685-072795bff72c",
   "metadata": {},
   "source": [
    "![image](image.png)\n"
   ]
  },
  {
   "cell_type": "code",
   "execution_count": null,
   "id": "33705b95-8485-4146-af6c-b44a16d072cb",
   "metadata": {},
   "outputs": [],
   "source": [
    "client = OpenAI(api_key=\"<OPENAI_API_TOKEN>\")\n",
    "\n",
    "# Open the audio.wav file\n",
    "audio_file = open(\"audio.wav\",\"rb\")\n",
    "\n",
    "# Write an appropriate prompt to help the model\n",
    "prompt = \"The audio is about to a recent World Bank report\"\n",
    "\n",
    "# Create a translation from the audio file\n",
    "response = client.audio.translations.create(model=\"whisper-1\",\n",
    "file=audio_file,prompt=prompt)\n",
    "\n",
    "print(response.text)"
   ]
  },
  {
   "cell_type": "markdown",
   "id": "c4cba1c6-602a-4e7a-bed4-5c9e5a4c512f",
   "metadata": {},
   "source": [
    "### Combining models"
   ]
  },
  {
   "cell_type": "markdown",
   "id": "8e0c08a0-6b97-47eb-8efb-a33b89e7e8d3",
   "metadata": {},
   "source": [
    "![image](image.png)\n"
   ]
  },
  {
   "cell_type": "markdown",
   "id": "dc7caa0e-b7d2-4f70-924d-714b3122d5a3",
   "metadata": {},
   "source": [
    "![image](image.png)\n"
   ]
  },
  {
   "cell_type": "markdown",
   "id": "3e525f29-38b0-4026-ae17-a2d2f698969a",
   "metadata": {},
   "source": [
    "![image](image.png)\n"
   ]
  },
  {
   "cell_type": "code",
   "execution_count": null,
   "id": "5f021b7e-753d-4dc3-b861-735527c2037d",
   "metadata": {},
   "outputs": [],
   "source": [
    "client = OpenAI(api_key=\"<OPENAI_API_TOKEN>\")\n",
    "\n",
    "# Open the audio.wav file\n",
    "audio_file = open(\"audio.wav\", \"rb\")\n",
    "\n",
    "# Create a transcription request using audio_file\n",
    "audio_response = client.audio.transcriptions.create(model=\"whisper-1\",file=audio_file)\n",
    "\n",
    "# Create a request to the API to identify the language spoken\n",
    "chat_response = client.chat.completions.create(model=\"gpt-4o-mini\",messages=[{\"role\":\"user\",\"content\":audio_response.text}])\n",
    "print(chat_response)"
   ]
  },
  {
   "cell_type": "markdown",
   "id": "2b411536-a85e-4910-9435-6afd5e32ae6d",
   "metadata": {},
   "source": [
    "![image](image.png)\n"
   ]
  },
  {
   "cell_type": "code",
   "execution_count": null,
   "id": "f0ad7a49-746c-4a4f-9fc0-435ea0f6fc1a",
   "metadata": {},
   "outputs": [],
   "source": [
    "client = OpenAI(api_key=\"<OPENAI_API_TOKEN>\")\n",
    "\n",
    "# Open the datacamp-q2-roadmap.mp3 file\n",
    "audio_file = open(\"datacamp-q2-roadmap.mp3\",\"rb\")\n",
    "\n",
    "# Create a transcription request using audio_file\n",
    "audio_response = client.audio.transcriptions.create(model=\"whisper-1\",\n",
    "file=audio_file)\n",
    "\n",
    "transcript = audio_response.text\n",
    "\n",
    "prompt = \"Summarize into concise bullet points the following: \" + transcript \n",
    "\n",
    "# Create a request to the API to summarize the transcript into bullet points\n",
    "chat_response = client.chat.completions.create(model=\"gpt-4o-mini\",\n",
    "messages = [{\"role\":\"user\",\"content\":prompt}])\n",
    "print(chat_response.choices[0].message.content)"
   ]
  },
  {
   "cell_type": "markdown",
   "id": "31723830-cc79-47a9-975e-afb70fea2ead",
   "metadata": {},
   "source": []
  },
  {
   "cell_type": "code",
   "execution_count": null,
   "id": "262b5aef-1eda-47e7-a4e9-1a14ec52a5a3",
   "metadata": {},
   "outputs": [],
   "source": []
  },
  {
   "cell_type": "markdown",
   "id": "29c1f9f6-e81b-4ac5-814e-e0da865ebc84",
   "metadata": {},
   "source": [
    "# Reshaping data with pandas\n"
   ]
  },
  {
   "cell_type": "markdown",
   "id": "c35c8bb4-0393-4154-bae5-b6b45b5eed9b",
   "metadata": {},
   "source": [
    "This notes were taken from the excellent course \"Reshaping data with pandas\" in DataCamp.  \n",
    "It includes from the concepts of wide and large formats of dataframes and how convert from one to another with distinc functions of pandas. It also covers how to manipulate json documents to convert them in dataframes.  \n",
    "\n",
    "Excepting for the json files, the datasets are in the file \"fifa_players.xlsx\" (which is here in the same repository of my github), in the different 17 sheets. The data for the exercises are no avaliable to download so I had to compile it by hand in spreadsheets."
   ]
  },
  {
   "cell_type": "markdown",
   "id": "759fa080-eed7-426f-a1a1-278546b023e6",
   "metadata": {},
   "source": [
    "## Wide and large formats\n",
    "Shape refers to the way in which data is organized in rows and columns.  \n",
    "A dataset is commonly organized in rows and columns.  \n",
    "\n",
    "The wide format has no repeated records, but this could lead to missing values. This format is preferred to do simple statistics, such as calculating the mean, or imputing missing values.  \n",
    "\n",
    "The long format is usually seen as the standard for a tidy dataset. There are multiple rows, for one for each feature.  \n",
    "\n",
    "In a broad sense, reshaping data is transforming a data structure to adjust it for our analysis. This could involve something as simple as transposing the data so columns become rows and rows become columns.  \n",
    "\n",
    "We define reshaping data as converting data from wide to long format an viceversa.  \n",
    "\n",
    "To transform from wide to long format we use the pandas methods .melt() and .wide_to_long()  \n",
    "\n",
    "To transform from long to wide format we use the pandas methods .pivot() and .pivot_table()"
   ]
  },
  {
   "cell_type": "code",
   "execution_count": 1,
   "id": "d0eb4f16-5a99-460d-a5ba-706b7ef0bbe7",
   "metadata": {
    "executionTime": 88,
    "id": "bA5ajAmk7XH6",
    "lastSuccessfullyExecutedCode": "import pandas as pd\nfifa_players=pd.DataFrame({\"name\":[\"Lionel Messi\",\"Cristiano Ronald\",\"Neymar da Silva\",\"Jan Oblak\",\"Eden Hazard\"],\"age\":[32,34,27,26,28],\"height\":[170,187,175,188,175],\"weight\":[72,83,68,87,74],\"nationality\":[\"Argentina\",\"Portugal\",\"Brazil\",\"Slovenia\",\"Belgium\"],\"club\":[\"FC Barcelona\",\"Juventus\",\"Paris Saint-Germain\",\"Atlético Madrid\",\"Real Madrid\"]})"
   },
   "outputs": [],
   "source": [
    "import pandas as pd\n",
    "fifa_players=pd.DataFrame({\"name\":[\"Lionel Messi\",\"Cristiano Ronald\",\"Neymar da Silva\",\"Jan Oblak\",\"Eden Hazard\"],\"age\":[32,34,27,26,28],\"height\":[170,187,175,188,175],\"weight\":[72,83,68,87,74],\"nationality\":[\"Argentina\",\"Portugal\",\"Brazil\",\"Slovenia\",\"Belgium\"],\"club\":[\"FC Barcelona\",\"Juventus\",\"Paris Saint-Germain\",\"Atlético Madrid\",\"Real Madrid\"]})"
   ]
  },
  {
   "cell_type": "markdown",
   "id": "48d78fb0-2322-46f0-8ca4-dce5c951adc2",
   "metadata": {},
   "source": [
    "Explore your dataset and reshape it using basic steps, such as setting different indices, filtering columns and flipping the DataFrame."
   ]
  },
  {
   "cell_type": "code",
   "execution_count": 2,
   "id": "e976b63e-1152-4b62-a16c-d98df05b4cbc",
   "metadata": {
    "executionTime": 119,
    "lastSuccessfullyExecutedCode": "print(fifa_players)",
    "outputsMetadata": {
     "0": {
      "height": 143,
      "type": "stream"
     }
    }
   },
   "outputs": [
    {
     "name": "stdout",
     "output_type": "stream",
     "text": [
      "               name  age  height  weight nationality                 club\n",
      "0      Lionel Messi   32     170      72   Argentina         FC Barcelona\n",
      "1  Cristiano Ronald   34     187      83    Portugal             Juventus\n",
      "2   Neymar da Silva   27     175      68      Brazil  Paris Saint-Germain\n",
      "3         Jan Oblak   26     188      87    Slovenia      Atlético Madrid\n",
      "4       Eden Hazard   28     175      74     Belgium          Real Madrid\n"
     ]
    }
   ],
   "source": [
    "print(fifa_players)"
   ]
  },
  {
   "cell_type": "code",
   "execution_count": 3,
   "id": "ec2fc814-6eee-47f1-8013-53c7abf30980",
   "metadata": {
    "executionTime": 114,
    "lastSuccessfullyExecutedCode": "# Set name as index\nfifa_transpose = fifa_players.set_index(\"name\")\n\n# Print fifa_transpose\nprint(fifa_transpose)",
    "outputsMetadata": {
     "0": {
      "height": 164,
      "type": "stream"
     }
    }
   },
   "outputs": [
    {
     "name": "stdout",
     "output_type": "stream",
     "text": [
      "                  age  height  weight nationality                 club\n",
      "name                                                                  \n",
      "Lionel Messi       32     170      72   Argentina         FC Barcelona\n",
      "Cristiano Ronald   34     187      83    Portugal             Juventus\n",
      "Neymar da Silva    27     175      68      Brazil  Paris Saint-Germain\n",
      "Jan Oblak          26     188      87    Slovenia      Atlético Madrid\n",
      "Eden Hazard        28     175      74     Belgium          Real Madrid\n"
     ]
    }
   ],
   "source": [
    "# Set name as index\n",
    "fifa_transpose = fifa_players.set_index(\"name\")\n",
    "\n",
    "# Print fifa_transpose\n",
    "print(fifa_transpose)"
   ]
  },
  {
   "cell_type": "code",
   "execution_count": 4,
   "id": "dd28bc89-9a48-4dcd-b98b-0a283fc53b78",
   "metadata": {
    "executionTime": 114,
    "lastSuccessfullyExecutedCode": "# Modify the DataFrame to keep only height and weight columns\nfifa_transpose = fifa_players.set_index('name')[['height','weight']]\n\n# Print fifa_transpose\nprint(fifa_transpose)",
    "outputsMetadata": {
     "0": {
      "height": 164,
      "type": "stream"
     }
    }
   },
   "outputs": [
    {
     "name": "stdout",
     "output_type": "stream",
     "text": [
      "                  height  weight\n",
      "name                            \n",
      "Lionel Messi         170      72\n",
      "Cristiano Ronald     187      83\n",
      "Neymar da Silva      175      68\n",
      "Jan Oblak            188      87\n",
      "Eden Hazard          175      74\n"
     ]
    }
   ],
   "source": [
    "# Modify the DataFrame to keep only height and weight columns\n",
    "fifa_transpose = fifa_players.set_index('name')[['height','weight']]\n",
    "\n",
    "# Print fifa_transpose\n",
    "print(fifa_transpose)"
   ]
  },
  {
   "cell_type": "code",
   "execution_count": 5,
   "id": "fb070e0c-6b7d-47e8-9184-562d0dfc3753",
   "metadata": {
    "executionTime": 72,
    "lastSuccessfullyExecutedCode": "# Change the DataFrame so rows become columns and vice versa\nfifa_transpose = fifa_players.set_index('name')[['height', 'weight']].transpose()\n\n# Print fifa_transpose\nprint(fifa_transpose)",
    "outputsMetadata": {
     "0": {
      "height": 80,
      "type": "stream"
     }
    }
   },
   "outputs": [
    {
     "name": "stdout",
     "output_type": "stream",
     "text": [
      "name    Lionel Messi  Cristiano Ronald  Neymar da Silva  Jan Oblak  Eden Hazard\n",
      "height           170               187              175        188          175\n",
      "weight            72                83               68         87           74\n"
     ]
    }
   ],
   "source": [
    "# Change the DataFrame so rows become columns and vice versa\n",
    "fifa_transpose = fifa_players.set_index('name')[['height', 'weight']].transpose()\n",
    "\n",
    "# Print fifa_transpose\n",
    "print(fifa_transpose)"
   ]
  },
  {
   "cell_type": "markdown",
   "id": "77179af9-8dba-4740-9008-03e1d27af39d",
   "metadata": {},
   "source": [
    "## Reshaping using the pivot method\n",
    "The long format is usually the most suitable to store and clean a dataset.  \n",
    "\n",
    "The pivot method allows us to reshape the data from a long to wide format. It takes three arguments  \n",
    "df.pivot(index=,columns=,values=)  \n",
    "By ommitting the values argument we extend the pivot method to all the column values.  \n",
    "\n",
    "Passing only index and columns arguments to the pivot method will work in most of the cases.  "
   ]
  },
  {
   "cell_type": "code",
   "execution_count": 22,
   "id": "c5458d7e-cd36-4b21-9659-46a9e26ea618",
   "metadata": {
    "executionTime": 134,
    "lastSuccessfullyExecutedCode": "import pandas as pd\nfifa_players=pd.DataFrame({\"name\":[\"L. Messi\",\"Cristiano Ronaldo\",\"L. Messi\",\"Cristiano Ronaldo\",\"L. Messi\",\"Cristiano Ronaldo\"],\"movement\":[\"shooting\",\"shooting\",\"passing\",\"passing\",\"dribbling\",\"dribbling\"],\"overall\":[93,92,92,82,96,89],\"attacking\":[70,89,92,83,88,84]})"
   },
   "outputs": [],
   "source": [
    "import pandas as pd\n",
    "fifa_players=pd.DataFrame({\"name\":[\"L. Messi\",\"Cristiano Ronaldo\",\"L. Messi\",\"Cristiano Ronaldo\",\"L. Messi\",\"Cristiano Ronaldo\"],\"movement\":[\"shooting\",\"shooting\",\"passing\",\"passing\",\"dribbling\",\"dribbling\"],\"overall\":[93,92,92,82,96,89],\"attacking\":[70,89,92,83,88,84]})"
   ]
  },
  {
   "cell_type": "code",
   "execution_count": 23,
   "id": "2731b936-4f0a-4c63-9fb7-87997a97e4ff",
   "metadata": {
    "executionTime": 72,
    "lastSuccessfullyExecutedCode": "print(fifa_players)",
    "outputsMetadata": {
     "0": {
      "height": 164,
      "type": "stream"
     }
    }
   },
   "outputs": [
    {
     "name": "stdout",
     "output_type": "stream",
     "text": [
      "                name   movement  overall  attacking\n",
      "0           L. Messi   shooting       93         70\n",
      "1  Cristiano Ronaldo   shooting       92         89\n",
      "2           L. Messi    passing       92         92\n",
      "3  Cristiano Ronaldo    passing       82         83\n",
      "4           L. Messi  dribbling       96         88\n",
      "5  Cristiano Ronaldo  dribbling       89         84\n"
     ]
    }
   ],
   "source": [
    "print(fifa_players)"
   ]
  },
  {
   "cell_type": "code",
   "execution_count": 7,
   "id": "2ae4ad25-e2e8-461c-85c9-fc9ae94de47e",
   "metadata": {
    "executionTime": 67,
    "lastSuccessfullyExecutedCode": "# Pivot fifa_players to get overall scores indexed by name and identified by movement\nfifa_overall = fifa_players.pivot(index=\"name\", columns=\"movement\", values=\"overall\")\n\n# Print fifa_overall\nprint(fifa_overall)",
    "outputsMetadata": {
     "0": {
      "height": 101,
      "type": "stream"
     }
    }
   },
   "outputs": [
    {
     "name": "stdout",
     "output_type": "stream",
     "text": [
      "movement           dribbling  passing  shooting\n",
      "name                                           \n",
      "Cristiano Ronaldo         89       82        92\n",
      "L. Messi                  96       92        93\n"
     ]
    }
   ],
   "source": [
    "# Pivot fifa_players to get overall scores indexed by name and identified by movement\n",
    "fifa_overall = fifa_players.pivot(index=\"name\", columns=\"movement\", values=\"overall\")\n",
    "\n",
    "# Print fifa_overall\n",
    "print(fifa_overall)"
   ]
  },
  {
   "cell_type": "code",
   "execution_count": 8,
   "id": "e909b9d6-ae9d-4f4c-8ded-3a3dbad482a7",
   "metadata": {
    "executionTime": 71,
    "lastSuccessfullyExecutedCode": "# Pivot fifa_players to get attacking scores indexed by name and identified by movement\nfifa_attacking = fifa_players.pivot(index=\"name\", columns=\"movement\", values=\"attacking\")\n\n# Print fifa_attacking\nprint(fifa_attacking)",
    "outputsMetadata": {
     "0": {
      "height": 101,
      "type": "stream"
     }
    }
   },
   "outputs": [
    {
     "name": "stdout",
     "output_type": "stream",
     "text": [
      "movement           dribbling  passing  shooting\n",
      "name                                           \n",
      "Cristiano Ronaldo         84       83        89\n",
      "L. Messi                  88       92        70\n"
     ]
    }
   ],
   "source": [
    "# Pivot fifa_players to get attacking scores indexed by name and identified by movement\n",
    "fifa_attacking = fifa_players.pivot(index=\"name\", columns=\"movement\", values=\"attacking\")\n",
    "\n",
    "# Print fifa_attacking\n",
    "print(fifa_attacking)"
   ]
  },
  {
   "cell_type": "code",
   "execution_count": 9,
   "id": "e7e8c856-1f41-418c-929d-0397bf7c9f68",
   "metadata": {
    "executionTime": 63,
    "lastSuccessfullyExecutedCode": "# Use the pivot method to get overall scores indexed by movement and identified by name\nfifa_names = fifa_players.pivot(index=\"movement\",columns=\"name\",values=\"overall\")\n\n# Print fifa_names\nprint(fifa_names)",
    "outputsMetadata": {
     "0": {
      "height": 122,
      "type": "stream"
     }
    }
   },
   "outputs": [
    {
     "name": "stdout",
     "output_type": "stream",
     "text": [
      "name       Cristiano Ronaldo  L. Messi\n",
      "movement                              \n",
      "dribbling                 89        96\n",
      "passing                   82        92\n",
      "shooting                  92        93\n"
     ]
    }
   ],
   "source": [
    "# Use the pivot method to get overall scores indexed by movement and identified by name\n",
    "fifa_names = fifa_players.pivot(index=\"movement\",columns=\"name\",values=\"overall\")\n",
    "\n",
    "# Print fifa_names\n",
    "print(fifa_names)"
   ]
  },
  {
   "cell_type": "code",
   "execution_count": 10,
   "id": "65c904ef-d337-4954-87fc-550798e7cd32",
   "metadata": {
    "executionTime": 175,
    "lastSuccessfullyExecutedCode": "# Pivot fifa_players to get overall and attacking scores indexed by name and identified by movement\nfifa_over_attack = fifa_players.pivot(index=\"name\", \n                                     columns=\"movement\", \n                                     values=[\"overall\", \"attacking\"])\n\n# Print fifa_over_attack\nprint(fifa_over_attack)",
    "outputsMetadata": {
     "0": {
      "height": 122,
      "type": "stream"
     }
    }
   },
   "outputs": [
    {
     "name": "stdout",
     "output_type": "stream",
     "text": [
      "                    overall                  attacking                 \n",
      "movement          dribbling passing shooting dribbling passing shooting\n",
      "name                                                                   \n",
      "Cristiano Ronaldo        89      82       92        84      83       89\n",
      "L. Messi                 96      92       93        88      92       70\n"
     ]
    }
   ],
   "source": [
    "# Pivot fifa_players to get overall and attacking scores indexed by name and identified by movement\n",
    "fifa_over_attack = fifa_players.pivot(index=\"name\", \n",
    "                                     columns=\"movement\", \n",
    "                                     values=[\"overall\", \"attacking\"])\n",
    "\n",
    "# Print fifa_over_attack\n",
    "print(fifa_over_attack)"
   ]
  },
  {
   "cell_type": "code",
   "execution_count": 11,
   "id": "b1f54a90-47a6-4e4f-8221-0cb9ace7bdb9",
   "metadata": {
    "executionTime": 149,
    "lastSuccessfullyExecutedCode": "# Use pivot method to get all the scores index by name and identified by movement\nfifa_all = fifa_players.pivot(index=\"name\",columns=\"movement\")\n\n# Print fifa_over_attack\nprint(fifa_all)",
    "outputsMetadata": {
     "0": {
      "height": 122,
      "type": "stream"
     }
    }
   },
   "outputs": [
    {
     "name": "stdout",
     "output_type": "stream",
     "text": [
      "                    overall                  attacking                 \n",
      "movement          dribbling passing shooting dribbling passing shooting\n",
      "name                                                                   \n",
      "Cristiano Ronaldo        89      82       92        84      83       89\n",
      "L. Messi                 96      92       93        88      92       70\n"
     ]
    }
   ],
   "source": [
    "# Use pivot method to get all the scores index by name and identified by movement\n",
    "fifa_all = fifa_players.pivot(index=\"name\",columns=\"movement\")\n",
    "\n",
    "# Print fifa_over_attack\n",
    "print(fifa_all)"
   ]
  },
  {
   "cell_type": "markdown",
   "id": "03c26d25-da02-4e90-a6cc-7347feceb58d",
   "metadata": {},
   "source": [
    "You suspect that there are different scores for the same index and column values. You remember that using the .pivot() method for all the columns does not work in that case. "
   ]
  },
  {
   "cell_type": "code",
   "execution_count": 12,
   "id": "219766d5-d539-41c1-b9be-459bfa85a2d2",
   "metadata": {
    "executionTime": 155,
    "lastSuccessfullyExecutedCode": "# Drop the fifth row to delete all repeated rows\nfifa_no_rep = fifa_players.drop(4, axis=0)\n\n# Pivot fifa players to get all scores by name and movement\nfifa_pivot = fifa_no_rep.pivot(index=\"name\",columns=\"movement\") \n\n# Print fifa_pivot\nprint(fifa_pivot)  ",
    "outputsMetadata": {
     "0": {
      "height": 122,
      "type": "stream"
     }
    }
   },
   "outputs": [
    {
     "name": "stdout",
     "output_type": "stream",
     "text": [
      "                    overall                  attacking                 \n",
      "movement          dribbling passing shooting dribbling passing shooting\n",
      "name                                                                   \n",
      "Cristiano Ronaldo      89.0    82.0     92.0      84.0    83.0     89.0\n",
      "L. Messi                NaN    92.0     93.0       NaN    92.0     70.0\n"
     ]
    }
   ],
   "source": [
    "# Drop the fifth row to delete all repeated rows\n",
    "fifa_no_rep = fifa_players.drop(4, axis=0)\n",
    "\n",
    "# Pivot fifa players to get all scores by name and movement\n",
    "fifa_pivot = fifa_no_rep.pivot(index=\"name\",columns=\"movement\") \n",
    "\n",
    "# Print fifa_pivot\n",
    "print(fifa_pivot)  "
   ]
  },
  {
   "cell_type": "markdown",
   "id": "a4b10347-2671-4090-9120-ac843467dc7f",
   "metadata": {},
   "source": [
    "## Pivot table\n",
    "Now we are going the use .pivot_table() method.  \n",
    "\n",
    "The simple pivot method has the limitation that the index/column pair must be unique. It can not aggregate values.  \n",
    "\n",
    "A pivot table is a data frame that contains statistics that summarizes the data of a larger data frame.  \n",
    "\n",
    "This method takes several arguments  \n",
    "df.pivot_table(index=,columns=,values=,aggfunc=\"\",margins=True/False)  \n",
    "Pivot tables can have multileves indexes.  \n",
    "\n",
    "Then, when:\n",
    "The dataframe have more than one value for each index/column pair  \n",
    "Do you need to have a multi-index in your resulting pivoted data frame  \n",
    "You need summary statistics for a large data frame  \n",
    "Use .pivot_table()!"
   ]
  },
  {
   "cell_type": "code",
   "execution_count": 13,
   "id": "62535b1d-acd4-4912-a888-a2e97441f642",
   "metadata": {
    "executionTime": 147,
    "lastSuccessfullyExecutedCode": "# Discard the fifth row to delete all repeated rows\nfifa_drop = fifa_players.drop(4,axis=0)\n\n# Use pivot method to get all scores by name and movement\nfifa_pivot = fifa_drop.pivot(index=\"name\",columns=\"movement\") \n\n# Print fifa_pivot\nprint(fifa_pivot)  \n\n# Use pivot table to get all scores by name and movement\nfifa_pivot_table = fifa_players.pivot_table(index=\"name\", \n                                     columns=\"movement\", \n                                     aggfunc=\"mean\")\n# Print fifa_pivot_table\nprint(fifa_pivot_table)"
   },
   "outputs": [
    {
     "name": "stdout",
     "output_type": "stream",
     "text": [
      "                    overall                  attacking                 \n",
      "movement          dribbling passing shooting dribbling passing shooting\n",
      "name                                                                   \n",
      "Cristiano Ronaldo      89.0    82.0     92.0      84.0    83.0     89.0\n",
      "L. Messi                NaN    92.0     93.0       NaN    92.0     70.0\n",
      "                  attacking                    overall                 \n",
      "movement          dribbling passing shooting dribbling passing shooting\n",
      "name                                                                   \n",
      "Cristiano Ronaldo        84      83       89        89      82       92\n",
      "L. Messi                 88      92       70        96      92       93\n"
     ]
    }
   ],
   "source": [
    "# Discard the fifth row to delete all repeated rows\n",
    "fifa_drop = fifa_players.drop(4,axis=0)\n",
    "\n",
    "# Use pivot method to get all scores by name and movement\n",
    "fifa_pivot = fifa_drop.pivot(index=\"name\",columns=\"movement\") \n",
    "\n",
    "# Print fifa_pivot\n",
    "print(fifa_pivot)  \n",
    "\n",
    "# Use pivot table to get all scores by name and movement\n",
    "fifa_pivot_table = fifa_players.pivot_table(index=\"name\", \n",
    "                                     columns=\"movement\", \n",
    "                                     aggfunc=\"mean\")\n",
    "# Print fifa_pivot_table\n",
    "print(fifa_pivot_table)"
   ]
  },
  {
   "cell_type": "markdown",
   "id": "ce9db3d5-226e-4c9c-9cc6-7abb931c47c6",
   "metadata": {},
   "source": [
    "Now, it's time to continue working on the fifa_players exploration. Your next task is to examine the characteristics of players belonging to different teams.\n",
    "\n",
    "Particularly, you are interested in players from two big rival teams: Barcelona and Real Madrid.\n",
    "\n",
    "You decide that .pivot_table() is the best tool to get your results since it's an easy way to generate a report. Also, it allows you to define aggregation functions and work with multiple indices."
   ]
  },
  {
   "cell_type": "code",
   "execution_count": 14,
   "id": "4337cd2d-b33c-4f24-9c74-0098c6b99909",
   "metadata": {
    "executionTime": 0,
    "lastSuccessfullyExecutedCode": "import pandas as pd\nimport openpyxl\nfifa_players=pd.read_excel(\"fifa_players.xlsx\")"
   },
   "outputs": [],
   "source": [
    "import pandas as pd\n",
    "import openpyxl\n",
    "fifa_players=pd.read_excel(\"fifa_players.xlsx\")"
   ]
  },
  {
   "cell_type": "code",
   "execution_count": 15,
   "id": "d2bd342b-edfd-4000-9a9e-372633cd3ef3",
   "metadata": {
    "executionTime": 151,
    "lastSuccessfullyExecutedCode": "# Use pivot table to display mean age of players by club and nationality \nmean_age_fifa = fifa_players.pivot_table(index=\"nationality\", \n                                  columns=['club'], \n                                  values='age', \n                                  aggfunc='mean')\n\n# Print mean_age_fifa\nprint(mean_age_fifa)"
   },
   "outputs": [
    {
     "name": "stdout",
     "output_type": "stream",
     "text": [
      "club         FC Barcelona\n",
      "nationality              \n",
      "Brazil          24.222222\n",
      "Croatia         32.000000\n",
      "France          24.875000\n",
      "Germany         28.000000\n",
      "Uruguay         26.000000\n"
     ]
    }
   ],
   "source": [
    "# Use pivot table to display mean age of players by club and nationality \n",
    "mean_age_fifa = fifa_players.pivot_table(index=\"nationality\", \n",
    "                                  columns=['club'], \n",
    "                                  values='age', \n",
    "                                  aggfunc='mean')\n",
    "\n",
    "# Print mean_age_fifa\n",
    "print(mean_age_fifa)"
   ]
  },
  {
   "cell_type": "code",
   "execution_count": 16,
   "id": "651ee2a8-b2a8-49d8-8234-e62d4d3d1d32",
   "metadata": {
    "executionTime": 146,
    "lastSuccessfullyExecutedCode": "# Use pivot table to display max height of any player by club and nationality\ntall_players_fifa = fifa_players.pivot_table(index=\"nationality\", \n                                     columns=\"club\", \n                                      values=\"height\", \n                                      aggfunc=\"max\")\n\n# Print tall_players_fifa\nprint(tall_players_fifa)"
   },
   "outputs": [
    {
     "name": "stdout",
     "output_type": "stream",
     "text": [
      "club         FC Barcelona\n",
      "nationality              \n",
      "Brazil                190\n",
      "Croatia               184\n",
      "France                191\n",
      "Germany               187\n",
      "Uruguay               182\n"
     ]
    }
   ],
   "source": [
    "# Use pivot table to display max height of any player by club and nationality\n",
    "tall_players_fifa = fifa_players.pivot_table(index=\"nationality\", \n",
    "                                     columns=\"club\", \n",
    "                                      values=\"height\", \n",
    "                                      aggfunc=\"max\")\n",
    "\n",
    "# Print tall_players_fifa\n",
    "print(tall_players_fifa)"
   ]
  },
  {
   "cell_type": "code",
   "execution_count": 17,
   "id": "0e580e1f-ed5f-4f90-8393-d449b5eed82f",
   "metadata": {
    "executionTime": 151,
    "lastSuccessfullyExecutedCode": "# Use pivot table to show the count of players by club and nationality and the total count\nplayers_country = fifa_players.pivot_table(index=\"nationality\", \n                                    columns=\"club\", \n                                    values=\"name\", \n                                    aggfunc=\"count\", \n                                    margins=True)\n\n# Print players_country\nprint(players_country)"
   },
   "outputs": [
    {
     "name": "stdout",
     "output_type": "stream",
     "text": [
      "club         FC Barcelona  All\n",
      "nationality                   \n",
      "Brazil                  9    9\n",
      "Croatia                 2    2\n",
      "France                  8    8\n",
      "Germany                 2    2\n",
      "Uruguay                 2    2\n",
      "All                    23   23\n"
     ]
    }
   ],
   "source": [
    "# Use pivot table to show the count of players by club and nationality and the total count\n",
    "players_country = fifa_players.pivot_table(index=\"nationality\", \n",
    "                                    columns=\"club\", \n",
    "                                    values=\"name\", \n",
    "                                    aggfunc=\"count\", \n",
    "                                    margins=True)\n",
    "\n",
    "# Print players_country\n",
    "print(players_country)"
   ]
  },
  {
   "cell_type": "markdown",
   "id": "ea46a4a2-a7e9-4b05-b1bc-d8143f0c71d2",
   "metadata": {},
   "source": [
    "You will continue your exploration of characteristics of players in fifa_players belonging to two teams: FC Barcelona and Real Madrid. As your last task, you are interested in exploring the maximum height and weight separated by teams and nationality. You will also compare two years, 2000 and 2010.\n",
    "\n",
    "You have two columns that you want to set as an index, so you will need to use pivot_table().\n",
    "\n",
    "The fifa_players dataset is available for you. It contains data about the club, nationality, height, weight, and year of the players playing for each team."
   ]
  },
  {
   "cell_type": "code",
   "execution_count": 22,
   "id": "2b76b8b8-d432-46db-8b05-d0eab9619699",
   "metadata": {
    "executionTime": 132,
    "lastSuccessfullyExecutedCode": "import pandas as pd\nfifa_players=pd.read_excel(\"fifa_players.xlsx\",'Sheet2')\nprint(fifa_players)"
   },
   "outputs": [
    {
     "name": "stdout",
     "output_type": "stream",
     "text": [
      "           club nationality  year  height  weight\n",
      "0  FC Barcelona     Germany  2000     187      85\n",
      "1  FC Barcelona     Germany  2010     189      87\n",
      "2   Real Madrid     Croatia  2000     172      66\n",
      "3   Real Madrid     Croatia  2010     173      68\n",
      "4   Real Madrid     Germany  2000     183      76\n",
      "5   Real Madrid     Germany  2010     185      77\n",
      "6  FC Barcelona     Croatia  2000     184      78\n",
      "7  FC Barcelona     Croatia  2010     185      76\n"
     ]
    }
   ],
   "source": [
    "import pandas as pd\n",
    "fifa_players=pd.read_excel(\"fifa_players.xlsx\",'Sheet2')\n",
    "print(fifa_players)"
   ]
  },
  {
   "cell_type": "code",
   "execution_count": 23,
   "id": "590c441f-f533-46e8-a894-bcffb33c5f78",
   "metadata": {
    "executionTime": 140,
    "lastSuccessfullyExecutedCode": "# Define a pivot table to get the characteristic by nationality and club\nfifa_mean = fifa_players.pivot_table(index=[\"nationality\",\"club\"],columns=\"year\")\n\n# Print fifa_mean\nprint(fifa_mean)"
   },
   "outputs": [
    {
     "name": "stdout",
     "output_type": "stream",
     "text": [
      "                         height      weight     \n",
      "year                       2000 2010   2000 2010\n",
      "nationality club                                \n",
      "Croatia     FC Barcelona    184  185     78   76\n",
      "            Real Madrid     172  173     66   68\n",
      "Germany     FC Barcelona    187  189     85   87\n",
      "            Real Madrid     183  185     76   77\n"
     ]
    }
   ],
   "source": [
    "# Define a pivot table to get the characteristic by nationality and club\n",
    "fifa_mean = fifa_players.pivot_table(index=[\"nationality\",\"club\"],columns=\"year\")\n",
    "\n",
    "# Print fifa_mean\n",
    "print(fifa_mean)"
   ]
  },
  {
   "cell_type": "code",
   "execution_count": 24,
   "id": "fe7aa4a9-aa86-4e20-86dc-fcd13cb59451",
   "metadata": {
    "executionTime": 160,
    "lastSuccessfullyExecutedCode": "# Set the appropriate argument to show the maximum values\nfifa_mean = fifa_players.pivot_table(index=['nationality', 'club'], \n                                     columns='year', \n                                     aggfunc=\"max\")\n\n# Print fifa_mean\nprint(fifa_mean)"
   },
   "outputs": [
    {
     "name": "stdout",
     "output_type": "stream",
     "text": [
      "                         height      weight     \n",
      "year                       2000 2010   2000 2010\n",
      "nationality club                                \n",
      "Croatia     FC Barcelona    184  185     78   76\n",
      "            Real Madrid     172  173     66   68\n",
      "Germany     FC Barcelona    187  189     85   87\n",
      "            Real Madrid     183  185     76   77\n"
     ]
    }
   ],
   "source": [
    "# Set the appropriate argument to show the maximum values\n",
    "fifa_mean = fifa_players.pivot_table(index=['nationality', 'club'], \n",
    "                                     columns='year', \n",
    "                                     aggfunc=\"max\")\n",
    "\n",
    "# Print fifa_mean\n",
    "print(fifa_mean)"
   ]
  },
  {
   "cell_type": "code",
   "execution_count": 25,
   "id": "2320a0a4-e7d2-4329-8898-5a4e96e61174",
   "metadata": {
    "executionTime": 154,
    "lastSuccessfullyExecutedCode": "# Set the argument to get the maximum for each row and column\nfifa_mean = fifa_players.pivot_table(index=['nationality', 'club'], \n                                     columns='year', \n                                     aggfunc='max', \n                                     margins=True)\n\n# Print fifa_mean\nprint(fifa_mean)"
   },
   "outputs": [
    {
     "name": "stdout",
     "output_type": "stream",
     "text": [
      "                         height           weight         \n",
      "year                       2000 2010  All   2000 2010 All\n",
      "nationality club                                         \n",
      "Croatia     FC Barcelona    184  185  185     78   76  78\n",
      "            Real Madrid     172  173  173     66   68  68\n",
      "Germany     FC Barcelona    187  189  189     85   87  87\n",
      "            Real Madrid     183  185  185     76   77  77\n",
      "All                         187  189  189     85   87  87\n"
     ]
    }
   ],
   "source": [
    "# Set the argument to get the maximum for each row and column\n",
    "fifa_mean = fifa_players.pivot_table(index=['nationality', 'club'], \n",
    "                                     columns='year', \n",
    "                                     aggfunc='max', \n",
    "                                     margins=True)\n",
    "\n",
    "# Print fifa_mean\n",
    "print(fifa_mean)"
   ]
  },
  {
   "cell_type": "markdown",
   "id": "68e008ae-4911-444c-b02a-386fcfbcbb09",
   "metadata": {},
   "source": [
    "## Reshaping with melt\n",
    "We want to perform from wide to long.    \n",
    "For some tasks to perform analytics or plot graphs we need the data in the long format.  \n",
    "\n",
    "Pandas provides the melt function with the arguments  \n",
    "df.melt(id_vars=[\"\",\"\"],value_vars=,var_name=\"var_we_analyze\",value_name=)  \n",
    "In var_name the columns which we want to melt.    "
   ]
  },
  {
   "cell_type": "code",
   "execution_count": 27,
   "id": "bb2c3607-05cf-433d-a287-ba92b32f889b",
   "metadata": {
    "executionTime": 146,
    "lastSuccessfullyExecutedCode": "import pandas as pd\nbooks_gothic=pd.read_excel(\"fifa_players.xlsx\",\"Sheet3\")"
   },
   "outputs": [],
   "source": [
    "import pandas as pd\n",
    "books_gothic=pd.read_excel(\"fifa_players.xlsx\",\"Sheet3\")"
   ]
  },
  {
   "cell_type": "code",
   "execution_count": 28,
   "id": "f54742aa-f100-4b21-91e4-08304ccfdd2d",
   "metadata": {
    "executionTime": 148,
    "lastSuccessfullyExecutedCode": "# Melt books_gothic using the title column as identifier \ngothic_melted = books_gothic.melt(id_vars=\"title\")\n\n# Print gothic_melted\nprint(gothic_melted)"
   },
   "outputs": [
    {
     "name": "stdout",
     "output_type": "stream",
     "text": [
      "                         title      variable              value\n",
      "0            Wuthering Heights       authors       Emily Bronte\n",
      "1                Frankeinstein       authors       Mary Shelley\n",
      "2   The Picture of Dorian Gray       authors        Oscar Wilde\n",
      "3            Wuthering Heights     num_pages                322\n",
      "4                Frankeinstein     num_pages                189\n",
      "5   The Picture of Dorian Gray     num_pages                187\n",
      "6            Wuthering Heights  rating_count       rating_count\n",
      "7                Frankeinstein  rating_count               2452\n",
      "8   The Picture of Dorian Gray  rating_count               3342\n",
      "9            Wuthering Heights        rating               3.85\n",
      "10               Frankeinstein        rating               4.31\n",
      "11  The Picture of Dorian Gray        rating               4.15\n",
      "12           Wuthering Heights     publisher      Penguin Books\n",
      "13               Frankeinstein     publisher  Kaplan Publishing\n",
      "14  The Picture of Dorian Gray     publisher            Pearson\n"
     ]
    }
   ],
   "source": [
    "# Melt books_gothic using the title column as identifier \n",
    "gothic_melted = books_gothic.melt(id_vars=\"title\")\n",
    "\n",
    "# Print gothic_melted\n",
    "print(gothic_melted)"
   ]
  },
  {
   "cell_type": "code",
   "execution_count": 29,
   "id": "52c75cc5-57b7-4d1f-93a8-94b33f63d789",
   "metadata": {
    "executionTime": 157,
    "lastSuccessfullyExecutedCode": "# Melt books_gothic using the title, authors, and publisher columns as identifier\ngothic_melted_new = books_gothic.melt(id_vars=['title','authors','publisher'])\n\n# Print gothic_melted_new\nprint(gothic_melted_new)"
   },
   "outputs": [
    {
     "name": "stdout",
     "output_type": "stream",
     "text": [
      "                        title       authors  ...      variable         value\n",
      "0           Wuthering Heights  Emily Bronte  ...     num_pages           322\n",
      "1               Frankeinstein  Mary Shelley  ...     num_pages           189\n",
      "2  The Picture of Dorian Gray   Oscar Wilde  ...     num_pages           187\n",
      "3           Wuthering Heights  Emily Bronte  ...  rating_count  rating_count\n",
      "4               Frankeinstein  Mary Shelley  ...  rating_count          2452\n",
      "5  The Picture of Dorian Gray   Oscar Wilde  ...  rating_count          3342\n",
      "6           Wuthering Heights  Emily Bronte  ...        rating          3.85\n",
      "7               Frankeinstein  Mary Shelley  ...        rating          4.31\n",
      "8  The Picture of Dorian Gray   Oscar Wilde  ...        rating          4.15\n",
      "\n",
      "[9 rows x 5 columns]\n"
     ]
    }
   ],
   "source": [
    "# Melt books_gothic using the title, authors, and publisher columns as identifier\n",
    "gothic_melted_new = books_gothic.melt(id_vars=['title','authors','publisher'])\n",
    "\n",
    "# Print gothic_melted_new\n",
    "print(gothic_melted_new)"
   ]
  },
  {
   "cell_type": "markdown",
   "id": "86a846fa-77eb-444f-9156-ccd24f056b15",
   "metadata": {},
   "source": [
    "Your first exploration of the books_gothic dataset was successful. Now, your next task is to perform a more detailed analysis. You need to reshape your DataFrame again. This time, you don't want to use all of your variables.\n",
    "\n",
    "To that aim, you will melt your DataFrame, taking several approaches using different columns as identifiers and value variables.\n",
    "\n",
    "The same books_gothic dataset you used before is available for you. It contains data about the title, author, number_pages, rating, rating_count, and publisher of each book. Make sure to examine it in the console!"
   ]
  },
  {
   "cell_type": "code",
   "execution_count": 30,
   "id": "8d75378a-6e20-4238-9099-39714f55e417",
   "metadata": {
    "executionTime": 169,
    "lastSuccessfullyExecutedCode": "# Melt publisher column using title and authors as identifiers\npublisher_melted = books_gothic.melt(id_vars=[\"title\",\"authors\"], \n                                     value_vars=\"publisher\")\n\n# Print publisher_melted\nprint(publisher_melted)"
   },
   "outputs": [
    {
     "name": "stdout",
     "output_type": "stream",
     "text": [
      "                        title       authors   variable              value\n",
      "0           Wuthering Heights  Emily Bronte  publisher      Penguin Books\n",
      "1               Frankeinstein  Mary Shelley  publisher  Kaplan Publishing\n",
      "2  The Picture of Dorian Gray   Oscar Wilde  publisher            Pearson\n"
     ]
    }
   ],
   "source": [
    "# Melt publisher column using title and authors as identifiers\n",
    "publisher_melted = books_gothic.melt(id_vars=[\"title\",\"authors\"], \n",
    "                                     value_vars=\"publisher\")\n",
    "\n",
    "# Print publisher_melted\n",
    "print(publisher_melted)"
   ]
  },
  {
   "cell_type": "code",
   "execution_count": 31,
   "id": "2eed7b66-22cc-488d-8124-85e929a26c09",
   "metadata": {
    "executionTime": 163,
    "lastSuccessfullyExecutedCode": "# Melt rating and rating_count columns using the title as identifier\nrating_melted = books_gothic.melt(id_vars=\"title\", \n                                  value_vars=[\"rating\",\"rating_count\"])\n\n# Print rating_melted\nprint(rating_melted)"
   },
   "outputs": [
    {
     "name": "stdout",
     "output_type": "stream",
     "text": [
      "                        title      variable         value\n",
      "0           Wuthering Heights        rating          3.85\n",
      "1               Frankeinstein        rating          4.31\n",
      "2  The Picture of Dorian Gray        rating          4.15\n",
      "3           Wuthering Heights  rating_count  rating_count\n",
      "4               Frankeinstein  rating_count          2452\n",
      "5  The Picture of Dorian Gray  rating_count          3342\n"
     ]
    }
   ],
   "source": [
    "# Melt rating and rating_count columns using the title as identifier\n",
    "rating_melted = books_gothic.melt(id_vars=\"title\", \n",
    "                                  value_vars=[\"rating\",\"rating_count\"])\n",
    "\n",
    "# Print rating_melted\n",
    "print(rating_melted)"
   ]
  },
  {
   "cell_type": "code",
   "execution_count": 32,
   "id": "b23b3bb7-297f-459b-839b-04f20bcd0054",
   "metadata": {
    "executionTime": 174,
    "lastSuccessfullyExecutedCode": "# Melt rating and rating_count columns using title and authors as identifier\nbooks_melted = books_gothic.melt(id_vars=[\"title\",\"authors\"], \n                                 value_vars=[\"rating\",'rating_count'])\n\n# Print books_melted\nprint(books_melted)"
   },
   "outputs": [
    {
     "name": "stdout",
     "output_type": "stream",
     "text": [
      "                        title       authors      variable         value\n",
      "0           Wuthering Heights  Emily Bronte        rating          3.85\n",
      "1               Frankeinstein  Mary Shelley        rating          4.31\n",
      "2  The Picture of Dorian Gray   Oscar Wilde        rating          4.15\n",
      "3           Wuthering Heights  Emily Bronte  rating_count  rating_count\n",
      "4               Frankeinstein  Mary Shelley  rating_count          2452\n",
      "5  The Picture of Dorian Gray   Oscar Wilde  rating_count          3342\n"
     ]
    }
   ],
   "source": [
    "# Melt rating and rating_count columns using title and authors as identifier\n",
    "books_melted = books_gothic.melt(id_vars=[\"title\",\"authors\"], \n",
    "                                 value_vars=[\"rating\",'rating_count'])\n",
    "\n",
    "# Print books_melted\n",
    "print(books_melted)"
   ]
  },
  {
   "cell_type": "markdown",
   "id": "e7b55460-48b1-498e-baf9-22c0d255e7a4",
   "metadata": {},
   "source": [
    "You are satisfied with the way you reshaped the books_gothic DataFrame, however, you would like to finish your work by naming the newly-created columns. This will help you clarify what the variables and values are.\n",
    "\n",
    "You remember that .melt() allows you to do that. In order to achieve your goal, you will reshape your DataFrame in three steps."
   ]
  },
  {
   "cell_type": "code",
   "execution_count": 33,
   "id": "fad85b11-f57c-44f8-8e93-60f094fe57ea",
   "metadata": {
    "executionTime": 172,
    "lastSuccessfullyExecutedCode": "# Melt the rating and rating_count using title, authors and publisher as identifiers\nbooks_ratings = books_gothic.melt(id_vars=['title','authors','publisher'], \n                                  value_vars=[\"rating\",\"rating_count\"])\n\n# Print books_ratings\nprint(books_ratings)"
   },
   "outputs": [
    {
     "name": "stdout",
     "output_type": "stream",
     "text": [
      "                        title       authors  ...      variable         value\n",
      "0           Wuthering Heights  Emily Bronte  ...        rating          3.85\n",
      "1               Frankeinstein  Mary Shelley  ...        rating          4.31\n",
      "2  The Picture of Dorian Gray   Oscar Wilde  ...        rating          4.15\n",
      "3           Wuthering Heights  Emily Bronte  ...  rating_count  rating_count\n",
      "4               Frankeinstein  Mary Shelley  ...  rating_count          2452\n",
      "5  The Picture of Dorian Gray   Oscar Wilde  ...  rating_count          3342\n",
      "\n",
      "[6 rows x 5 columns]\n"
     ]
    }
   ],
   "source": [
    "# Melt the rating and rating_count using title, authors and publisher as identifiers\n",
    "books_ratings = books_gothic.melt(id_vars=['title','authors','publisher'], \n",
    "                                  value_vars=[\"rating\",\"rating_count\"])\n",
    "\n",
    "# Print books_ratings\n",
    "print(books_ratings)"
   ]
  },
  {
   "cell_type": "code",
   "execution_count": 34,
   "id": "03beed88-4488-4def-b68e-d3cc02f36e9a",
   "metadata": {
    "executionTime": 192,
    "lastSuccessfullyExecutedCode": "# Assign the name number to the new column containing the values\nbooks_ratings = books_gothic.melt(id_vars=['title', 'authors', 'publisher'], \n                                  value_vars=['rating', 'rating_count'], \n                                  var_name='feature', \n                                  value_name=\"number\")\n\n# Print books_ratings\nprint(books_ratings)"
   },
   "outputs": [
    {
     "name": "stdout",
     "output_type": "stream",
     "text": [
      "                        title       authors  ...       feature        number\n",
      "0           Wuthering Heights  Emily Bronte  ...        rating          3.85\n",
      "1               Frankeinstein  Mary Shelley  ...        rating          4.31\n",
      "2  The Picture of Dorian Gray   Oscar Wilde  ...        rating          4.15\n",
      "3           Wuthering Heights  Emily Bronte  ...  rating_count  rating_count\n",
      "4               Frankeinstein  Mary Shelley  ...  rating_count          2452\n",
      "5  The Picture of Dorian Gray   Oscar Wilde  ...  rating_count          3342\n",
      "\n",
      "[6 rows x 5 columns]\n"
     ]
    }
   ],
   "source": [
    "# Assign the name number to the new column containing the values\n",
    "books_ratings = books_gothic.melt(id_vars=['title', 'authors', 'publisher'], \n",
    "                                  value_vars=['rating', 'rating_count'], \n",
    "                                  var_name='feature', \n",
    "                                  value_name=\"number\")\n",
    "\n",
    "# Print books_ratings\n",
    "print(books_ratings)"
   ]
  },
  {
   "cell_type": "markdown",
   "id": "ebf7ccc1-a28c-4117-8f18-c531fbdf7d66",
   "metadata": {},
   "source": [
    "## Wide to long function  \n",
    "We can also use the wide_to_long() function.  \n",
    " \n",
    "The format of this panda funtion is  \n",
    "pd.wide_to_long(df,stubnames=[\"\",\"\"],i=,j=,sep='_',suffix='\\w+').  \n",
    "\n",
    "i is the index, and j tells pandas how we want to name the column that contains the suffix or the end of the wide columns. The suffix is needed when the name of the columns ends in a word.  "
   ]
  },
  {
   "cell_type": "code",
   "execution_count": 2,
   "id": "45589738-9145-4193-a43a-1a0347af76a3",
   "metadata": {
    "executionTime": 188,
    "lastSuccessfullyExecutedCode": "import pandas as pd\ngolden_age=pd.read_excel(\"fifa_players.xlsx\",\"Sheet4\")"
   },
   "outputs": [],
   "source": [
    "import pandas as pd\n",
    "golden_age=pd.read_excel(\"fifa_players.xlsx\",\"Sheet4\")"
   ]
  },
  {
   "cell_type": "code",
   "execution_count": 4,
   "id": "8a79f241-ef3d-4711-bcd5-6b85981e9cb3",
   "metadata": {
    "executionTime": 185,
    "lastSuccessfullyExecutedCode": "# Reshape wide to long using title as index and version as new name, and extracting isbn prefix \nisbn_long = pd.wide_to_long(golden_age, \n                    stubnames=\"isbn\", \n                    i=\"title\", \n                    j=\"version\")\n\n# Print isbn_long\nprint(isbn_long)"
   },
   "outputs": [
    {
     "name": "stdout",
     "output_type": "stream",
     "text": [
      "                                       authors  ...           isbn\n",
      "title             version                       ...               \n",
      "The Great Gatsby  13       F. Scott Fitzgerald  ...   978060098919\n",
      "The Short Stories 13          Ernest Hemingway  ...  9780684837864\n",
      "To the Lighthouse 13            Virginia Woolf  ...  9780156030472\n",
      "The Great Gatsby  10       F. Scott Fitzgerald  ...     1572702567\n",
      "The Short Stories 10          Ernest Hemingway  ...      684837862\n",
      "To the Lighthouse 10            Virginia Woolf  ...      156030470\n",
      "\n",
      "[6 rows x 4 columns]\n"
     ]
    }
   ],
   "source": [
    "# Reshape wide to long using title as index and version as new name, and extracting isbn prefix \n",
    "isbn_long = pd.wide_to_long(golden_age, \n",
    "                    stubnames=\"isbn\", \n",
    "                    i=\"title\", \n",
    "                    j=\"version\")\n",
    "\n",
    "# Print isbn_long\n",
    "print(isbn_long)"
   ]
  },
  {
   "cell_type": "code",
   "execution_count": 5,
   "id": "64280652-8e71-4391-b0cb-0c16736addb9",
   "metadata": {
    "executionTime": 171,
    "lastSuccessfullyExecutedCode": "# Reshape wide to long using title and authors as index and version as new name, and prefix as wide column prefix\nprefix_long = pd.wide_to_long(golden_age, \n                      stubnames=\"prefix\", \n                      i=[\"title\", \"authors\"], \n                      j=\"version\")\n\n# Print prefix_long\nprint(prefix_long)"
   },
   "outputs": [
    {
     "name": "stdout",
     "output_type": "stream",
     "text": [
      "                                                      isbn13  ...  prefix\n",
      "title             authors             version                 ...        \n",
      "The Great Gatsby  F. Scott Fitzgerald 13        978060098919  ...     978\n",
      "                                      10        978060098919  ...       1\n",
      "The Short Stories Ernest Hemingway    13       9780684837864  ...     978\n",
      "                                      10       9780684837864  ...       0\n",
      "To the Lighthouse Virginia Woolf      13       9780156030472  ...     978\n",
      "                                      10       9780156030472  ...       0\n",
      "\n",
      "[6 rows x 3 columns]\n"
     ]
    }
   ],
   "source": [
    "# Reshape wide to long using title and authors as index and version as new name, and prefix as wide column prefix\n",
    "prefix_long = pd.wide_to_long(golden_age, \n",
    "                      stubnames=\"prefix\", \n",
    "                      i=[\"title\", \"authors\"], \n",
    "                      j=\"version\")\n",
    "\n",
    "# Print prefix_long\n",
    "print(prefix_long)"
   ]
  },
  {
   "cell_type": "code",
   "execution_count": 6,
   "id": "903d5383-eeee-443d-baa1-19941f8f4deb",
   "metadata": {
    "executionTime": 142,
    "lastSuccessfullyExecutedCode": "# Reshape wide to long using title and authors as index and version as new name, and prefix and isbn as wide column prefixes\nall_long = pd.wide_to_long(golden_age, \n                   stubnames=[\"isbn\",\"prefix\"], \n                   i=[\"title\",\"authors\"], \n                   j=\"version\")\n\n# Print all_long\nprint(all_long)"
   },
   "outputs": [
    {
     "name": "stdout",
     "output_type": "stream",
     "text": [
      "                                                        isbn  prefix\n",
      "title             authors             version                       \n",
      "The Great Gatsby  F. Scott Fitzgerald 13        978060098919     978\n",
      "                                      10          1572702567       1\n",
      "The Short Stories Ernest Hemingway    13       9780684837864     978\n",
      "                                      10           684837862       0\n",
      "To the Lighthouse Virginia Woolf      13       9780156030472     978\n",
      "                                      10           156030470       0\n"
     ]
    }
   ],
   "source": [
    "# Reshape wide to long using title and authors as index and version as new name, and prefix and isbn as wide column prefixes\n",
    "all_long = pd.wide_to_long(golden_age, \n",
    "                   stubnames=[\"isbn\",\"prefix\"], \n",
    "                   i=[\"title\",\"authors\"], \n",
    "                   j=\"version\")\n",
    "\n",
    "# Print all_long\n",
    "print(all_long)"
   ]
  },
  {
   "cell_type": "markdown",
   "id": "5887ac39-d13a-49c7-83ae-64aafa112062",
   "metadata": {},
   "source": [
    "You explored the dataset books_brown and it needs reshaping. Again, you identified several columns to use as unique IDs and realized something different about the columns to group. Their name starts with a prefix, but this time, you identified a suffix and a separation element.\n",
    "\n",
    "The books_brown dataset is available for you. It contains the title, author, and data about language_code, language_name, publisher_code, and publisher_name of each book. "
   ]
  },
  {
   "cell_type": "code",
   "execution_count": 8,
   "id": "398b7f62-1773-4138-a06a-3f3e91a72b8f",
   "metadata": {
    "executionTime": 181,
    "lastSuccessfullyExecutedCode": "import pandas as pd\nbooks_brown=pd.read_excel(\"fifa_players.xlsx\",\"Sheet5\")"
   },
   "outputs": [],
   "source": [
    "import pandas as pd\n",
    "books_brown=pd.read_excel(\"fifa_players.xlsx\",\"Sheet5\")"
   ]
  },
  {
   "cell_type": "code",
   "execution_count": 10,
   "id": "21399725-4e71-4085-9e65-e768627ed65e",
   "metadata": {
    "executionTime": 149,
    "lastSuccessfullyExecutedCode": "print(books_brown.head())"
   },
   "outputs": [
    {
     "name": "stdout",
     "output_type": "stream",
     "text": [
      "                  title     author  ...  publisher_code publisher_name\n",
      "0     The Da Vinci Code  Dan Brown  ...              12   Random House\n",
      "1       Angels & Demons  Dan Brown  ...              34   Pocket Books\n",
      "2  La fortaleza digital  Dan Brown  ...              43        Umbriel\n",
      "\n",
      "[3 rows x 6 columns]\n"
     ]
    }
   ],
   "source": [
    "print(books_brown.head())"
   ]
  },
  {
   "cell_type": "code",
   "execution_count": 9,
   "id": "3cce15db-cf35-4ddf-92e2-65bf0254b638",
   "metadata": {
    "executionTime": 193,
    "lastSuccessfullyExecutedCode": "# Reshape using author and title as index, code as new name and getting the prefix language and publisher\nthe_code_long = pd.wide_to_long(books_brown, \n                                stubnames=[\"language\",\"publisher\"], \n                                j=\"code\", \n                                i=[\"author\",\"title\"])\n\n# Print the_code_long\nprint(the_code_long)"
   },
   "outputs": [
    {
     "name": "stdout",
     "output_type": "stream",
     "text": [
      "Empty DataFrame\n",
      "Columns: [language_code, publisher_name, language_name, publisher_code, language, publisher]\n",
      "Index: []\n"
     ]
    }
   ],
   "source": [
    "# Reshape using author and title as index, code as new name and getting the prefix language and publisher\n",
    "the_code_long = pd.wide_to_long(books_brown, \n",
    "                                stubnames=[\"language\",\"publisher\"], \n",
    "                                j=\"code\", \n",
    "                                i=[\"author\",\"title\"])\n",
    "\n",
    "# Print the_code_long\n",
    "print(the_code_long)"
   ]
  },
  {
   "cell_type": "code",
   "execution_count": 11,
   "id": "c6faf1ce-06ea-4d6c-be65-1f15ace64f0b",
   "metadata": {
    "executionTime": 240,
    "lastSuccessfullyExecutedCode": "# Specify underscore as the character that separates the variable names\nthe_code_long = pd.wide_to_long(books_brown, \n                                stubnames=['language', 'publisher'], \n                                i=['author', 'title'], \n                                j='code',sep=\"_\")\n\n# Print the_code_long\nprint(the_code_long)"
   },
   "outputs": [
    {
     "name": "stdout",
     "output_type": "stream",
     "text": [
      "Empty DataFrame\n",
      "Columns: [language_code, publisher_name, language_name, publisher_code, language, publisher]\n",
      "Index: []\n"
     ]
    }
   ],
   "source": [
    "# Specify underscore as the character that separates the variable names\n",
    "the_code_long = pd.wide_to_long(books_brown, \n",
    "                                stubnames=['language', 'publisher'], \n",
    "                                i=['author', 'title'], \n",
    "                                j='code',sep=\"_\")\n",
    "\n",
    "# Print the_code_long\n",
    "print(the_code_long)"
   ]
  },
  {
   "cell_type": "code",
   "execution_count": 12,
   "id": "4ddb7b32-5f44-4692-9b5b-c3fa34137c7f",
   "metadata": {
    "executionTime": 209,
    "lastSuccessfullyExecutedCode": "# Specify that wide columns have a suffix containing words\nthe_code_long = pd.wide_to_long(books_brown, \n                                stubnames=['language', 'publisher'], \n                                i=['author', 'title'], \n                                j='code', \n                                sep='_', \n                                suffix='\\w+')\n\n# Print the_code_long\nprint(the_code_long)"
   },
   "outputs": [
    {
     "name": "stdout",
     "output_type": "stream",
     "text": [
      "                                    language     publisher\n",
      "author    title                code                       \n",
      "Dan Brown The Da Vinci Code    code        0            12\n",
      "                               name  english  Random House\n",
      "          Angels & Demons      code        0            34\n",
      "                               name  english  Pocket Books\n",
      "          La fortaleza digital code       84            43\n",
      "                               name  spanish       Umbriel\n"
     ]
    }
   ],
   "source": [
    "# Specify that wide columns have a suffix containing words\n",
    "the_code_long = pd.wide_to_long(books_brown, \n",
    "                                stubnames=['language', 'publisher'], \n",
    "                                i=['author', 'title'], \n",
    "                                j='code', \n",
    "                                sep='_', \n",
    "                                suffix='\\w+')\n",
    "\n",
    "# Print the_code_long\n",
    "print(the_code_long)"
   ]
  },
  {
   "cell_type": "markdown",
   "id": "035c60f0-209e-42a5-aaae-d44335c7f238",
   "metadata": {},
   "source": [
    "You would like to do an analysis for fun. You will analyze another book dataset, this time with the Hunger Games series.\n",
    "\n",
    "You explored the dataset books_hunger before reshaping it, but something was not right. The index of the DataFrame contains the title of the books. You know that you cannot reshape it in this format. If you do, you will lose valuable data, the title, so you'll need to make some changes before transforming the DataFrame.\n",
    "\n",
    "The books_hunger dataset is available for you. It contains the title, and data about language, publication date, publication number, and page number of each book."
   ]
  },
  {
   "cell_type": "code",
   "execution_count": 1,
   "id": "2a237a90-3ccc-46b0-b8be-395df87008ba",
   "metadata": {
    "executionTime": 162,
    "lastSuccessfullyExecutedCode": "import pandas as pd\nbooks_hunger=pd.read_excel(\"fifa_players.xlsx\",\"Sheet6\")"
   },
   "outputs": [],
   "source": [
    "import pandas as pd\n",
    "books_hunger=pd.read_excel(\"fifa_players.xlsx\",\"Sheet6\")"
   ]
  },
  {
   "cell_type": "code",
   "execution_count": 2,
   "id": "f0ce1261-0010-4668-a0e0-467157d38601",
   "metadata": {
    "executionTime": 230,
    "lastSuccessfullyExecutedCode": "# Modify books_hunger by resetting the index without dropping it\nbooks_hunger.reset_index(drop=False, inplace=True)\n\n# Reshape using title and language as index, feature as new name, publication and page as prefix separated by space and ending in a word\npublication_features = pd.wide_to_long(books_hunger, \n                                       stubnames=[\"publication\",\"page\"], \n                                       i=[\"title\",\"language\"], \n                                       j=\"feature\", \n                                       sep=\" \", \n                                       suffix='\\w+')\n\n# Print publication_features\nprint(publication_features)"
   },
   "outputs": [
    {
     "name": "stdout",
     "output_type": "stream",
     "text": [
      "                                         index          publication   page\n",
      "title                  language feature                                   \n",
      "Los Juegos del Hambre  Spanish  date         0            5/25/2010    NaN\n",
      "                                number       0                    2  374.0\n",
      "Catching Fire          English  date         1            5/25/2012    NaN\n",
      "                                number       1                    6  391.0\n",
      "Il canto della rivolta Italian  date         2  2015-08-06 00:00:00    NaN\n",
      "                                number       2                    4  390.0\n"
     ]
    }
   ],
   "source": [
    "# Modify books_hunger by resetting the index without dropping it\n",
    "books_hunger.reset_index(drop=False, inplace=True)\n",
    "\n",
    "# Reshape using title and language as index, feature as new name, publication and page as prefix separated by space and ending in a word\n",
    "publication_features = pd.wide_to_long(books_hunger, \n",
    "                                       stubnames=[\"publication\",\"page\"], \n",
    "                                       i=[\"title\",\"language\"], \n",
    "                                       j=\"feature\", \n",
    "                                       sep=\" \", \n",
    "                                       suffix='\\w+')\n",
    "\n",
    "# Print publication_features\n",
    "print(publication_features)"
   ]
  },
  {
   "cell_type": "markdown",
   "id": "5f5c4ab2-d90d-4a12-b141-92e18b57d1ff",
   "metadata": {},
   "source": [
    "## Working with string columns\n",
    "We are going to learn methods to reshape string columns.  \n",
    "In pandas, we acces to the methods for strings through the str attribute.  \n",
    "To split a column:  \n",
    "df.str.split(\"separator\")  \n",
    "\n",
    "We could also access one of the resulting elements. We use the get method from the str attributte\n",
    ".str.get(). We can use the expand argument with expand=True to create return a new data frame wit two columns, one for each split element.   \n",
    "\n",
    "This allows to assign the split elements to columns in the original dataframe  \n",
    "df[['newcol1','newcol2']]=df['col'].str.split(\"sep\",expand=True)  \n",
    "This is useful because we can drop the original column, and after that transform the new dataframe  \n",
    "df.drop('col',axis=1,inplace=True)  \n",
    "pd.wide_to_long(df,stubnames=['',''],i=['newcol1','newcol2'],j=)\n"
   ]
  },
  {
   "cell_type": "code",
   "execution_count": 15,
   "id": "6f3e39dd-2a90-48bb-bf26-57e26d5f0bce",
   "metadata": {
    "executionTime": 218,
    "lastSuccessfullyExecutedCode": "import pandas as pd\nbooks_dys=pd.read_excel(\"fifa_players.xlsx\",\"Sheet7\")\nauthor_list=['Ray Bradbury', 'George Orwell', 'Aldous Huxley']"
   },
   "outputs": [],
   "source": [
    "import pandas as pd\n",
    "books_dys=pd.read_excel(\"fifa_players.xlsx\",\"Sheet7\")\n",
    "author_list=['Ray Bradbury', 'George Orwell', 'Aldous Huxley']"
   ]
  },
  {
   "cell_type": "code",
   "execution_count": 16,
   "id": "05a33756-0926-471e-b8ee-32031c12019b",
   "metadata": {
    "executionTime": 0,
    "lastSuccessfullyExecutedCode": "books_dys=books_dys.set_index(\"title\")"
   },
   "outputs": [],
   "source": [
    "books_dys=books_dys.set_index(\"title\")"
   ]
  },
  {
   "cell_type": "code",
   "execution_count": 17,
   "id": "a12afaf4-06b5-4ce7-9623-86a5c7080adf",
   "metadata": {
    "executionTime": 333,
    "lastSuccessfullyExecutedCode": "books_dys"
   },
   "outputs": [
    {
     "data": {
      "application/com.datacamp.data-table.v1+json": {
       "table": {
        "data": [
         {
          "average_rating": 4.1,
          "num_pages": 186,
          "ratings_count": 23244,
          "title": "Fahrenheit 451-1953",
          "year": 1953
         },
         {
          "average_rating": 4.31,
          "num_pages": 268,
          "ratings_count": 14353,
          "title": "1984-1949",
          "year": 1949
         },
         {
          "average_rating": 4.3,
          "num_pages": 123,
          "ratings_count": 23535,
          "title": "Brave New World-1932",
          "year": 1932
         }
        ],
        "schema": {
         "fields": [
          {
           "name": "title",
           "type": "string"
          },
          {
           "name": "year",
           "type": "integer"
          },
          {
           "name": "num_pages",
           "type": "integer"
          },
          {
           "name": "average_rating",
           "type": "number"
          },
          {
           "name": "ratings_count",
           "type": "integer"
          }
         ],
         "pandas_version": "1.4.0",
         "primaryKey": [
          "title"
         ]
        }
       },
       "total_rows": 3,
       "truncation_type": null
      },
      "text/html": [
       "<div>\n",
       "<style scoped>\n",
       "    .dataframe tbody tr th:only-of-type {\n",
       "        vertical-align: middle;\n",
       "    }\n",
       "\n",
       "    .dataframe tbody tr th {\n",
       "        vertical-align: top;\n",
       "    }\n",
       "\n",
       "    .dataframe thead th {\n",
       "        text-align: right;\n",
       "    }\n",
       "</style>\n",
       "<table border=\"1\" class=\"dataframe\">\n",
       "  <thead>\n",
       "    <tr style=\"text-align: right;\">\n",
       "      <th></th>\n",
       "      <th>year</th>\n",
       "      <th>num_pages</th>\n",
       "      <th>average_rating</th>\n",
       "      <th>ratings_count</th>\n",
       "    </tr>\n",
       "    <tr>\n",
       "      <th>title</th>\n",
       "      <th></th>\n",
       "      <th></th>\n",
       "      <th></th>\n",
       "      <th></th>\n",
       "    </tr>\n",
       "  </thead>\n",
       "  <tbody>\n",
       "    <tr>\n",
       "      <th>Fahrenheit 451-1953</th>\n",
       "      <td>1953</td>\n",
       "      <td>186</td>\n",
       "      <td>4.10</td>\n",
       "      <td>23244</td>\n",
       "    </tr>\n",
       "    <tr>\n",
       "      <th>1984-1949</th>\n",
       "      <td>1949</td>\n",
       "      <td>268</td>\n",
       "      <td>4.31</td>\n",
       "      <td>14353</td>\n",
       "    </tr>\n",
       "    <tr>\n",
       "      <th>Brave New World-1932</th>\n",
       "      <td>1932</td>\n",
       "      <td>123</td>\n",
       "      <td>4.30</td>\n",
       "      <td>23535</td>\n",
       "    </tr>\n",
       "  </tbody>\n",
       "</table>\n",
       "</div>"
      ],
      "text/plain": [
       "                      year  num_pages  average_rating  ratings_count\n",
       "title                                                               \n",
       "Fahrenheit 451-1953   1953        186            4.10          23244\n",
       "1984-1949             1949        268            4.31          14353\n",
       "Brave New World-1932  1932        123            4.30          23535"
      ]
     },
     "execution_count": 17,
     "metadata": {},
     "output_type": "execute_result"
    }
   ],
   "source": [
    "books_dys"
   ]
  },
  {
   "cell_type": "markdown",
   "id": "81bb40f3-ded3-466a-bc35-9b30e2d0dbc4",
   "metadata": {},
   "source": [
    "You plan to work on a dataset about dystopian fiction books.\n",
    "\n",
    "But first, you need to do some string manipulations. You realize that the DataFrame index contains data about the title and the release year. You can't find a column with the author of the book, so you decide to pre-define a list of the writers. Then, you want to delete the year and replace it with the author.\n",
    "\n",
    "You decide that splitting the index and then concatenating it with the list is the best way to do it.\n",
    "\n",
    "The books_dys dataset and author_list are available "
   ]
  },
  {
   "cell_type": "code",
   "execution_count": 14,
   "id": "e8e6b055-ffb4-4943-8944-e5a7b16037ce",
   "metadata": {
    "executionTime": 231,
    "lastSuccessfullyExecutedCode": "# Split the index of books_dys by the hyphen \nbooks_dys.index = books_dys.index.str.split(\"-\")\n\n# Print books_dys\nprint(books_dys)"
   },
   "outputs": [
    {
     "name": "stdout",
     "output_type": "stream",
     "text": [
      "       year  num_pages  average_rating  ratings_count\n",
      "title                                                \n",
      "NaN    1953        186            4.10          23244\n",
      "NaN    1949        268            4.31          14353\n",
      "NaN    1932        123            4.30          23535\n"
     ]
    }
   ],
   "source": [
    "# Split the index of books_dys by the hyphen \n",
    "books_dys.index = books_dys.index.str.split(\"-\")\n",
    "\n",
    "# Print books_dys\n",
    "print(books_dys)"
   ]
  },
  {
   "cell_type": "code",
   "execution_count": 20,
   "id": "f178b1c0-e412-47a6-a919-f1b1262f277d",
   "metadata": {
    "executionTime": 275,
    "lastSuccessfullyExecutedCode": "# Now that you've split the index, get the first element and assign it to the index of books_dys.\n# Get the first element after splitting the index of books_dys\nbooks_dys=pd.read_excel(\"fifa_players.xlsx\",\"Sheet7\")\nauthor_list=['Ray Bradbury', 'George Orwell', 'Aldous Huxley']\nbooks_dys=books_dys.set_index(\"title\")\n###\n###\n# Split by the hyphen the index of books_dys\nbooks_dys.index = books_dys.index.str.split('-').str.get(0)\n\n# Concatenate the index with the list author_list separated by a hyphen\nbooks_dys.index = books_dys.index.str.cat(author_list, sep=\"-\")\n\n# Print books_dys\nprint(books_dys)"
   },
   "outputs": [
    {
     "name": "stdout",
     "output_type": "stream",
     "text": [
      "                               year  num_pages  average_rating  ratings_count\n",
      "title                                                                        \n",
      "Fahrenheit 451-Ray Bradbury    1953        186            4.10          23244\n",
      "1984-George Orwell             1949        268            4.31          14353\n",
      "Brave New World-Aldous Huxley  1932        123            4.30          23535\n"
     ]
    }
   ],
   "source": [
    "# Now that you've split the index, get the first element and assign it to the index of books_dys.\n",
    "# Get the first element after splitting the index of books_dys\n",
    "books_dys=pd.read_excel(\"fifa_players.xlsx\",\"Sheet7\")\n",
    "author_list=['Ray Bradbury', 'George Orwell', 'Aldous Huxley']\n",
    "books_dys=books_dys.set_index(\"title\")\n",
    "###\n",
    "###\n",
    "# Split by the hyphen the index of books_dys\n",
    "books_dys.index = books_dys.index.str.split('-').str.get(0)\n",
    "\n",
    "# Concatenate the index with the list author_list separated by a hyphen\n",
    "books_dys.index = books_dys.index.str.cat(author_list, sep=\"-\")\n",
    "\n",
    "# Print books_dys\n",
    "print(books_dys)"
   ]
  },
  {
   "cell_type": "markdown",
   "id": "7441c451-1fae-4ed7-8088-c7c55ffe9bd7",
   "metadata": {},
   "source": [
    "For your next task, you need to get an appropriate dataset containing ratings for all the Harry Potter books. You gathered data from Goodreads as well as from Amazon.\n",
    "\n",
    "You realized that you need a long format, but the dataset hp_books is in a wide format. You want to melt the data, but first, you need to manipulate some of the string columns.\n",
    "\n",
    "The full title is divided into two columns. The authors column contains info about the writer and the illustrator.\n",
    "\n",
    "Ratings for the Harry Potter books are in the DataFrame hp_books"
   ]
  },
  {
   "cell_type": "code",
   "execution_count": 2,
   "id": "21a50029-5d92-447d-87c0-4e4d734412ea",
   "metadata": {
    "executionTime": 212,
    "lastSuccessfullyExecutedCode": "import pandas as pd\nhp_books=pd.read_excel(\"fifa_players.xlsx\",\"Sheet8\")\nprint(hp_books)"
   },
   "outputs": [
    {
     "name": "stdout",
     "output_type": "stream",
     "text": [
      "          title                  subtitle  ... goodreads  amazon\n",
      "0  Harry Potter     the Half-Blood Prince  ...      4.57    4.52\n",
      "1  Harry Potter  the Order of the Phoenix  ...      4.49    4.44\n",
      "2  Harry Potter    the Chamber of Secrets  ...      4.42    4.37\n",
      "3  Harry Potter  the Prisiones of Azkaban  ...      4.56    4.51\n",
      "4  Harry Potter       The Deathly Hallows  ...      4.42    4.37\n",
      "5  Harry Potter      the Sorcerer's Stone  ...      4.47    4.42\n",
      "6  Harry Potter        the Goblet of Fire  ...      4.56    4.51\n",
      "\n",
      "[7 rows x 5 columns]\n"
     ]
    }
   ],
   "source": [
    "import pandas as pd\n",
    "hp_books=pd.read_excel(\"fifa_players.xlsx\",\"Sheet8\")\n",
    "print(hp_books)"
   ]
  },
  {
   "cell_type": "code",
   "execution_count": 3,
   "id": "bd11386a-5ef8-48cd-badb-2300b67f0bbc",
   "metadata": {
    "executionTime": 264,
    "lastSuccessfullyExecutedCode": "# Concatenate the title and subtitle separated by \"and\" surrounded by spaces\nhp_books['full_title'] = hp_books['title'].str.cat(hp_books['subtitle'], sep =\" and \") \n\n# Split the authors into writer and illustrator columns\nhp_books[['writer', 'illustrator']] = hp_books['authors'].str.split('/', expand=True)\n\n# Melt goodreads and amazon columns into a single column\nhp_melt = hp_books.melt(id_vars=['full_title',\"writer\"], \n                        var_name=\"source\", \n                        value_vars=[\"goodreads\",\"amazon\"], \n                        value_name=\"rating\")\n\n# Print hp_melt\nprint(hp_melt)"
   },
   "outputs": [
    {
     "name": "stdout",
     "output_type": "stream",
     "text": [
      "                                   full_title        writer     source  rating\n",
      "0      Harry Potter and the Half-Blood Prince  J.K. Rowling  goodreads    4.57\n",
      "1   Harry Potter and the Order of the Phoenix  J.K. Rowling  goodreads    4.49\n",
      "2     Harry Potter and the Chamber of Secrets  J.K. Rowling  goodreads    4.42\n",
      "3   Harry Potter and the Prisiones of Azkaban  J.K. Rowling  goodreads    4.56\n",
      "4        Harry Potter and The Deathly Hallows  J.K. Rowling  goodreads    4.42\n",
      "5       Harry Potter and the Sorcerer's Stone  J.K. Rowling  goodreads    4.47\n",
      "6         Harry Potter and the Goblet of Fire  J.K. Rowling  goodreads    4.56\n",
      "7      Harry Potter and the Half-Blood Prince  J.K. Rowling     amazon    4.52\n",
      "8   Harry Potter and the Order of the Phoenix  J.K. Rowling     amazon    4.44\n",
      "9     Harry Potter and the Chamber of Secrets  J.K. Rowling     amazon    4.37\n",
      "10  Harry Potter and the Prisiones of Azkaban  J.K. Rowling     amazon    4.51\n",
      "11       Harry Potter and The Deathly Hallows  J.K. Rowling     amazon    4.37\n",
      "12      Harry Potter and the Sorcerer's Stone  J.K. Rowling     amazon    4.42\n",
      "13        Harry Potter and the Goblet of Fire  J.K. Rowling     amazon    4.51\n"
     ]
    }
   ],
   "source": [
    "# Concatenate the title and subtitle separated by \"and\" surrounded by spaces\n",
    "hp_books['full_title'] = hp_books['title'].str.cat(hp_books['subtitle'], sep =\" and \") \n",
    "\n",
    "# Split the authors into writer and illustrator columns\n",
    "hp_books[['writer', 'illustrator']] = hp_books['authors'].str.split('/', expand=True)\n",
    "\n",
    "# Melt goodreads and amazon columns into a single column\n",
    "hp_melt = hp_books.melt(id_vars=['full_title',\"writer\"], \n",
    "                        var_name=\"source\", \n",
    "                        value_vars=[\"goodreads\",\"amazon\"], \n",
    "                        value_name=\"rating\")\n",
    "\n",
    "# Print hp_melt\n",
    "print(hp_melt)"
   ]
  },
  {
   "cell_type": "markdown",
   "id": "f95ddef8-2b45-4d34-acfe-443f948332b5",
   "metadata": {},
   "source": [
    "Analyze data about Arthur Conan Doyle's books.\n",
    "\n",
    "You realize your dataset, books_sh, needs reshaping. You notice there are columns that can be grouped using a prefix. You identify the columns to use as unique IDs. However, some of these columns contain strings. They need some manipulation before applying a wide to long transformation. You decide some of the strings need splitting to make the DataFrame cleaner.\n",
    "\n",
    "The books_sh dataset is available for you. It contains the title, and data about version, number_pages, and number_ratings of each book."
   ]
  },
  {
   "cell_type": "code",
   "execution_count": 4,
   "id": "4a75000f-d2a3-429b-8ea2-795bbad6ea36",
   "metadata": {
    "executionTime": 175,
    "lastSuccessfullyExecutedCode": "import pandas as pd\nbooks_sh=pd.read_excel(\"fifa_players.xlsx\",\"Sheet9\")"
   },
   "outputs": [],
   "source": [
    "import pandas as pd\n",
    "books_sh=pd.read_excel(\"fifa_players.xlsx\",\"Sheet9\")"
   ]
  },
  {
   "cell_type": "code",
   "execution_count": 5,
   "id": "c0334528-35a4-4516-9843-f14efce3cb05",
   "metadata": {
    "executionTime": 242,
    "lastSuccessfullyExecutedCode": "# Split main_title by a colon and assign it to two columns named title and subtitle \nbooks_sh[['title', 'subtitle']] = books_sh['main_title'].str.split(':', expand=True)\n\n# Split version by a space and assign the second element to the column named volume\nbooks_sh['volume'] = books_sh['version'].str.split(' ').str.get(1)\n\n# Drop the main_title and version columns modifying books_sh\nbooks_sh.drop([\"main_title\", \"version\"], axis=1, inplace=True)\n\n# Print books_sh\nprint(books_sh)"
   },
   "outputs": [
    {
     "name": "stdout",
     "output_type": "stream",
     "text": [
      "   number_pages  number_ratings  ...              subtitle volume\n",
      "0          1059           24087  ...   The Complete Novels      I\n",
      "1           709           26794  ...   The Complete Novels     II\n",
      "2           334            2184  ...               Memoirs      I\n",
      "3           238            1884  ...               Memoirs     II\n",
      "\n",
      "[4 rows x 5 columns]\n"
     ]
    }
   ],
   "source": [
    "# Split main_title by a colon and assign it to two columns named title and subtitle \n",
    "books_sh[['title', 'subtitle']] = books_sh['main_title'].str.split(':', expand=True)\n",
    "\n",
    "# Split version by a space and assign the second element to the column named volume\n",
    "books_sh['volume'] = books_sh['version'].str.split(' ').str.get(1)\n",
    "\n",
    "# Drop the main_title and version columns modifying books_sh\n",
    "books_sh.drop([\"main_title\", \"version\"], axis=1, inplace=True)\n",
    "\n",
    "# Print books_sh\n",
    "print(books_sh)"
   ]
  },
  {
   "cell_type": "markdown",
   "id": "6f3ce75f-1390-4bf2-a91f-e7c2d61ab113",
   "metadata": {},
   "source": [
    "## Stacking dataframes\n",
    "Pandas has methods designed to work with multi-level indexes dataframes.  \n",
    "A multiindex allows to store and manipulate multidimensional data in simple dataframes.  \n",
    "\n",
    "There are several ways to create a multi-level index.  \n",
    "The simplest one is with the .set_index(['',''],inplace=True)  \n",
    "\n",
    "Another option is to use the method from_arrays().  \n",
    "We define a list of lists  \n",
    "new_array=[[],[]]  \n",
    "where each element represent one index. Then  \n",
    "df.index=pd.MultiIndex.from_arrays(new_array,names=['',''])  \n",
    "\n",
    "We could also define a DataFrame with multi-level indexes on the rows and the columns. The process is very similar.  \n",
    "index=pd.MultiIndex.from_array([[],[]],names=)  \n",
    "columns=pd.MultiIndex.from_array([[],[]],names=)  \n",
    "\n",
    "new_df=pd.DataFrame(data,index=index,columns=columns)  \n",
    "\n",
    "The .stack() method will reshape the dataframe with a multi-level index by converting into a a stacked form. In other words, stacking means rearringing the innermost column index to become the innermost row index. It has the argument level= . If we don't set the level argument stack will move the last level by default.   "
   ]
  },
  {
   "cell_type": "markdown",
   "id": "fa7ee0b3-03d4-4333-b208-8f939038ed84",
   "metadata": {},
   "source": [
    "Stack the calls!\n",
    "First, you explored the dataset churn and realized some information is missing. The dataset contains data about the total number of calls and the minutes spent on the phone by different customers. However, the state and city they live in are not listed.\n",
    "\n",
    "You predefined an array with that data. You'd like to add it as an index in your DataFrame.\n",
    "\n",
    "The DataFrame churn is available for you. It contains data about area code, total_day_calls and total_day_minutes."
   ]
  },
  {
   "cell_type": "code",
   "execution_count": 1,
   "id": "11a632ad-0134-46b3-a262-648521acb5d9",
   "metadata": {
    "executionTime": 0,
    "lastSuccessfullyExecutedCode": "import pandas as pd\nchurn=pd.DataFrame({\"Area code\":[408,408,415,510],\"total_day_calls\":[116,109,84,67],\"total_day_minutes\":[204,287,84,50]})\nnew_index = [['California', 'California', 'New York', 'Ohio'], \n             ['Los Angeles', 'San Francisco', 'New York', 'Cleveland']]"
   },
   "outputs": [],
   "source": [
    "import pandas as pd\n",
    "churn=pd.DataFrame({\"Area code\":[408,408,415,510],\"total_day_calls\":[116,109,84,67],\"total_day_minutes\":[204,287,84,50]})\n",
    "new_index = [['California', 'California', 'New York', 'Ohio'], \n",
    "             ['Los Angeles', 'San Francisco', 'New York', 'Cleveland']]"
   ]
  },
  {
   "cell_type": "code",
   "execution_count": 10,
   "id": "ab53188d-13c3-48f2-81a5-f37a41fd08d0",
   "metadata": {
    "executionTime": 274,
    "lastSuccessfullyExecutedCode": "churn"
   },
   "outputs": [
    {
     "data": {
      "application/com.datacamp.data-table.v1+json": {
       "table": {
        "data": [
         {
          "Area code": 408,
          "index": 0,
          "total_day_calls": 116,
          "total_day_minutes": 204
         },
         {
          "Area code": 408,
          "index": 1,
          "total_day_calls": 109,
          "total_day_minutes": 287
         },
         {
          "Area code": 415,
          "index": 2,
          "total_day_calls": 84,
          "total_day_minutes": 84
         },
         {
          "Area code": 510,
          "index": 3,
          "total_day_calls": 67,
          "total_day_minutes": 50
         }
        ],
        "schema": {
         "fields": [
          {
           "name": "index",
           "type": "integer"
          },
          {
           "name": "Area code",
           "type": "integer"
          },
          {
           "name": "total_day_calls",
           "type": "integer"
          },
          {
           "name": "total_day_minutes",
           "type": "integer"
          }
         ],
         "pandas_version": "1.4.0",
         "primaryKey": [
          "index"
         ]
        }
       },
       "total_rows": 4,
       "truncation_type": null
      },
      "text/html": [
       "<div>\n",
       "<style scoped>\n",
       "    .dataframe tbody tr th:only-of-type {\n",
       "        vertical-align: middle;\n",
       "    }\n",
       "\n",
       "    .dataframe tbody tr th {\n",
       "        vertical-align: top;\n",
       "    }\n",
       "\n",
       "    .dataframe thead th {\n",
       "        text-align: right;\n",
       "    }\n",
       "</style>\n",
       "<table border=\"1\" class=\"dataframe\">\n",
       "  <thead>\n",
       "    <tr style=\"text-align: right;\">\n",
       "      <th></th>\n",
       "      <th>Area code</th>\n",
       "      <th>total_day_calls</th>\n",
       "      <th>total_day_minutes</th>\n",
       "    </tr>\n",
       "  </thead>\n",
       "  <tbody>\n",
       "    <tr>\n",
       "      <th>0</th>\n",
       "      <td>408</td>\n",
       "      <td>116</td>\n",
       "      <td>204</td>\n",
       "    </tr>\n",
       "    <tr>\n",
       "      <th>1</th>\n",
       "      <td>408</td>\n",
       "      <td>109</td>\n",
       "      <td>287</td>\n",
       "    </tr>\n",
       "    <tr>\n",
       "      <th>2</th>\n",
       "      <td>415</td>\n",
       "      <td>84</td>\n",
       "      <td>84</td>\n",
       "    </tr>\n",
       "    <tr>\n",
       "      <th>3</th>\n",
       "      <td>510</td>\n",
       "      <td>67</td>\n",
       "      <td>50</td>\n",
       "    </tr>\n",
       "  </tbody>\n",
       "</table>\n",
       "</div>"
      ],
      "text/plain": [
       "   Area code  total_day_calls  total_day_minutes\n",
       "0        408              116                204\n",
       "1        408              109                287\n",
       "2        415               84                 84\n",
       "3        510               67                 50"
      ]
     },
     "execution_count": 10,
     "metadata": {},
     "output_type": "execute_result"
    }
   ],
   "source": [
    "churn"
   ]
  },
  {
   "cell_type": "code",
   "execution_count": 6,
   "id": "6c8e99ea-508f-4e5e-9668-7cb648b8a017",
   "metadata": {
    "executionTime": 378,
    "lastSuccessfullyExecutedCode": "# Predefined list to use as index\nnew_index = [['California', 'California', 'New York', 'Ohio'], \n             ['Los Angeles', 'San Francisco', 'New York', 'Cleveland']]\n\n# Create a multi-level index using predefined new_index\nchurn_new = pd.MultiIndex.from_arrays(new_index, names=[\"state\", \"city\"])\n\n# Print churn_new\nprint(churn_new)"
   },
   "outputs": [
    {
     "name": "stdout",
     "output_type": "stream",
     "text": [
      "MultiIndex([('California',   'Los Angeles'),\n",
      "            ('California', 'San Francisco'),\n",
      "            (  'New York',      'New York'),\n",
      "            (      'Ohio',     'Cleveland')],\n",
      "           names=['state', 'city'])\n"
     ]
    }
   ],
   "source": [
    "# Predefined list to use as index\n",
    "new_index = [['California', 'California', 'New York', 'Ohio'], \n",
    "             ['Los Angeles', 'San Francisco', 'New York', 'Cleveland']]\n",
    "\n",
    "# Create a multi-level index using predefined new_index\n",
    "churn_new = pd.MultiIndex.from_arrays(new_index, names=[\"state\", \"city\"])\n",
    "\n",
    "# Print churn_new\n",
    "print(churn_new)"
   ]
  },
  {
   "cell_type": "code",
   "execution_count": 3,
   "id": "6cd6d8fb-59cd-4d7f-9ec6-f608e6be07e9",
   "metadata": {
    "executionTime": 203,
    "lastSuccessfullyExecutedCode": "# Create a multi-level index using predefined new_index\nchurn_new = pd.MultiIndex.from_arrays(new_index, names=['state', 'city'])\n\n# Assign the new index to the churn index\nchurn.index = churn_new\n\n# Reshape by stacking churn DataFrame\nchurn_stack = churn.stack()\n\n# Print churn_stack\nprint(churn_stack)"
   },
   "outputs": [
    {
     "name": "stdout",
     "output_type": "stream",
     "text": [
      "state       city                            \n",
      "California  Los Angeles    Area code            408\n",
      "                           total_day_calls      116\n",
      "                           total_day_minutes    204\n",
      "            San Francisco  Area code            408\n",
      "                           total_day_calls      109\n",
      "                           total_day_minutes    287\n",
      "New York    New York       Area code            415\n",
      "                           total_day_calls       84\n",
      "                           total_day_minutes     84\n",
      "Ohio        Cleveland      Area code            510\n",
      "                           total_day_calls       67\n",
      "                           total_day_minutes     50\n",
      "dtype: int64\n"
     ]
    }
   ],
   "source": [
    "# Create a multi-level index using predefined new_index\n",
    "churn_new = pd.MultiIndex.from_arrays(new_index, names=['state', 'city'])\n",
    "\n",
    "# Assign the new index to the churn index\n",
    "churn.index = churn_new\n",
    "\n",
    "# Reshape by stacking churn DataFrame\n",
    "churn_stack = churn.stack()\n",
    "\n",
    "# Print churn_stack\n",
    "print(churn_stack)"
   ]
  },
  {
   "cell_type": "markdown",
   "id": "90de86c2-d070-4070-b5c6-155de8c47cf6",
   "metadata": {},
   "source": [
    "You are making progress in your customer's project. Now, you need to analyze a new dataset to find differences in the messages and gigabytes (GB) of data the customers use during the daytime and nighttime.\n",
    "\n",
    "To that aim, you will reshape your dataset churn using different levels. The advantage of your new dataset is that the column indices have names. "
   ]
  },
  {
   "cell_type": "code",
   "execution_count": 6,
   "id": "1ad3fc96-bd4e-475d-8e36-b636417e3416",
   "metadata": {
    "executionTime": 151,
    "lastSuccessfullyExecutedCode": "import pandas as pd\nchurn=pd.read_excel(\"fifa_players.xlsx\",\"Sheet11\")"
   },
   "outputs": [],
   "source": [
    "import pandas as pd\n",
    "churn=pd.read_excel(\"fifa_players.xlsx\",\"Sheet11\")"
   ]
  },
  {
   "cell_type": "code",
   "execution_count": 38,
   "id": "c5403675-07fe-475c-bd79-381580f71e32",
   "metadata": {
    "executionTime": 176,
    "lastSuccessfullyExecutedCode": "print(churn)"
   },
   "outputs": [
    {
     "name": "stdout",
     "output_type": "stream",
     "text": [
      "     time        feature       state           city  value\n",
      "0     day  text messages  California    Los Angeles     20\n",
      "1     day  text messages  California  San Francisco     40\n",
      "2     day  text messages    New York       New York     50\n",
      "3     day  text messages        Ohio      Cleveland    100\n",
      "4     day       total GB  California    Los Angeles      5\n",
      "5     day       total GB  California  San Francisco      5\n",
      "6     day       total GB    New York       New York      2\n",
      "7     day       total GB        Ohio      Cleveland      3\n",
      "8   night  text messages  California    Los Angeles     30\n",
      "9   night  text messages  California  San Francisco    100\n",
      "10  night  text messages    New York       New York     20\n",
      "11  night  text messages        Ohio      Cleveland     40\n",
      "12  night       total GB  California    Los Angeles     10\n",
      "13  night       total GB  California  San Francisco      5\n",
      "14  night       total GB    New York       New York      9\n",
      "15  night       total GB        Ohio      Cleveland      6\n"
     ]
    }
   ],
   "source": [
    "print(churn)"
   ]
  },
  {
   "cell_type": "code",
   "execution_count": 7,
   "id": "ed189617-ee47-4908-a865-901165687ad3",
   "metadata": {
    "executionTime": 351,
    "lastSuccessfullyExecutedCode": "churn1=churn.pivot_table(index=[\"state\",\"city\"],columns=[\"time\",\"feature\"])\nprint(churn1)"
   },
   "outputs": [
    {
     "name": "stdout",
     "output_type": "stream",
     "text": [
      "                                 value                                \n",
      "time                               day                  night         \n",
      "feature                  text messages total GB text messages total GB\n",
      "state      city                                                       \n",
      "California Los Angeles              20        5            30       10\n",
      "           San Francisco            40        5           100        5\n",
      "New York   New York                 50        2            20        9\n",
      "Ohio       Cleveland               100        3            40        6\n"
     ]
    }
   ],
   "source": [
    "churn1=churn.pivot_table(index=[\"state\",\"city\"],columns=[\"time\",\"feature\"])\n",
    "print(churn1)"
   ]
  },
  {
   "cell_type": "code",
   "execution_count": 46,
   "id": "07cfefdc-7e9f-4ce5-badf-8d94a11dcf70",
   "metadata": {
    "executionTime": 208,
    "lastSuccessfullyExecutedCode": "# Stack churn by the time column level\nchurn_time = churn1.stack(level=\"time\")\n\n# Print churn_time\nprint(churn_time)"
   },
   "outputs": [
    {
     "name": "stdout",
     "output_type": "stream",
     "text": [
      "                                       value         \n",
      "feature                        text messages total GB\n",
      "state      city          time                        \n",
      "California Los Angeles   day              20        5\n",
      "                         night            30       10\n",
      "           San Francisco day              40        5\n",
      "                         night           100        5\n",
      "New York   New York      day              50        2\n",
      "                         night            20        9\n",
      "Ohio       Cleveland     day             100        3\n",
      "                         night            40        6\n"
     ]
    }
   ],
   "source": [
    "# Stack churn by the time column level\n",
    "churn_time = churn1.stack(level=\"time\")\n",
    "\n",
    "# Print churn_time\n",
    "print(churn_time)"
   ]
  },
  {
   "cell_type": "code",
   "execution_count": 48,
   "id": "dc044193-1d6f-463f-b88b-ca770b82a237",
   "metadata": {
    "executionTime": 200,
    "lastSuccessfullyExecutedCode": "# Stack churn by the feature column level\nchurn_feature = churn1.stack(level=2)\n\n# Print churn_feature\nprint(churn_feature)"
   },
   "outputs": [
    {
     "name": "stdout",
     "output_type": "stream",
     "text": [
      "                                       value      \n",
      "time                                     day night\n",
      "state      city          feature                  \n",
      "California Los Angeles   text messages    20    30\n",
      "                         total GB          5    10\n",
      "           San Francisco text messages    40   100\n",
      "                         total GB          5     5\n",
      "New York   New York      text messages    50    20\n",
      "                         total GB          2     9\n",
      "Ohio       Cleveland     text messages   100    40\n",
      "                         total GB          3     6\n"
     ]
    }
   ],
   "source": [
    "# Stack churn by the feature column level\n",
    "churn_feature = churn1.stack(level=2)\n",
    "\n",
    "# Print churn_feature\n",
    "print(churn_feature)"
   ]
  },
  {
   "cell_type": "markdown",
   "id": "28e22118-5301-453b-b0de-810d15d4f271",
   "metadata": {},
   "source": [
    "## Unstacking DataFrames\n",
    "Can we reshape a stacked DataFrame back into unstacked form?  \n",
    "Pandas provides with the df.unstack() method which performs the inverse operation of stacking.  \n",
    "Then unstacking means rearranging the innermost row index to become the innermost column index.  \n",
    "We can set the level= argument. If we don't specify it unstack() moves the last column level by default.   "
   ]
  },
  {
   "cell_type": "markdown",
   "id": "bceaa4ec-8b29-45ae-929b-6cde38a0f9cd",
   "metadata": {},
   "source": [
    "International caller\n",
    "\n",
    "You have a new task. You will analyze the pattern of customers on international and domestic calls.\n",
    "\n",
    "You explore the churn dataset, which contains a multi-level row index. Again, you will reshape the data, as you expect it will help you to do further analysis.\n",
    "\n",
    "The DataFrame churn is available for you. It contains data about minutes, calls, and charge for different times of the day, types of calls, and exited status."
   ]
  },
  {
   "cell_type": "code",
   "execution_count": 11,
   "id": "2e64deb1-c2c6-459d-92bd-8b9bc71b3964",
   "metadata": {
    "executionTime": 211,
    "lastSuccessfullyExecutedCode": "import pandas as pd\nchurn=pd.read_excel(\"fifa_players.xlsx\",\"Sheet12\")"
   },
   "outputs": [],
   "source": [
    "import pandas as pd\n",
    "churn=pd.read_excel(\"fifa_players.xlsx\",\"Sheet12\")"
   ]
  },
  {
   "cell_type": "code",
   "execution_count": 12,
   "id": "4646c4fa-9865-4fbb-b161-8bbf62504a71",
   "metadata": {
    "executionTime": 218,
    "lastSuccessfullyExecutedCode": "churn2=churn.pivot_table(index=['time','type','exited'])\nprint(churn2)"
   },
   "outputs": [
    {
     "name": "stdout",
     "output_type": "stream",
     "text": [
      "                              calls  charge  minutes\n",
      "time  type          exited                          \n",
      "day   International churn        97   31.37    184.5\n",
      "      National      churn       137   21.95    129.1\n",
      "eve   International no churn    117   20.28    119.3\n",
      "      National      no churn     88   23.31    137.1\n",
      "night International churn        67   56.59    332.9\n",
      "      National      no churn    103   18.77    110.4\n"
     ]
    }
   ],
   "source": [
    "churn2=churn.pivot_table(index=['time','type','exited'])\n",
    "print(churn2)"
   ]
  },
  {
   "cell_type": "code",
   "execution_count": 13,
   "id": "587265e1-cbbd-4a60-87a3-80bfb79e70bb",
   "metadata": {
    "executionTime": 269,
    "lastSuccessfullyExecutedCode": "# Reshape the churn2 DataFrame by unstacking\nchurn_unstack = churn.unstack()\n\n# Print churn_unstack\nprint(churn_unstack)"
   },
   "outputs": [
    {
     "name": "stdout",
     "output_type": "stream",
     "text": [
      "time     0              day\n",
      "         1              day\n",
      "         2            night\n",
      "         3            night\n",
      "         4              eve\n",
      "         5              eve\n",
      "type     0    International\n",
      "         1         National\n",
      "         2    International\n",
      "         3         National\n",
      "         4    International\n",
      "         5         National\n",
      "exited   0            churn\n",
      "         1            churn\n",
      "         2            churn\n",
      "         3         no churn\n",
      "         4         no churn\n",
      "         5         no churn\n",
      "minutes  0            184.5\n",
      "         1            129.1\n",
      "         2            332.9\n",
      "         3            110.4\n",
      "         4            119.3\n",
      "         5            137.1\n",
      "calls    0               97\n",
      "         1              137\n",
      "         2               67\n",
      "         3              103\n",
      "         4              117\n",
      "         5               88\n",
      "charge   0            31.37\n",
      "         1            21.95\n",
      "         2            56.59\n",
      "         3            18.77\n",
      "         4            20.28\n",
      "         5            23.31\n",
      "dtype: object\n"
     ]
    }
   ],
   "source": [
    "# Reshape the churn2 DataFrame by unstacking\n",
    "churn_unstack = churn.unstack()\n",
    "\n",
    "# Print churn_unstack\n",
    "print(churn_unstack)"
   ]
  },
  {
   "cell_type": "code",
   "execution_count": 14,
   "id": "6c5aca33-cd86-4132-81d2-12fe804ed5af",
   "metadata": {
    "executionTime": 224,
    "lastSuccessfullyExecutedCode": "# Reshape churn2 by unstacking the first row level\nchurn_first = churn2.unstack(level=0)\n\n# Print churn_zero\nprint(churn_first)"
   },
   "outputs": [
    {
     "name": "stdout",
     "output_type": "stream",
     "text": [
      "                        calls               charge  ...        minutes              \n",
      "time                      day    eve  night    day  ...  night     day    eve  night\n",
      "type          exited                                ...                             \n",
      "International churn      97.0    NaN   67.0  31.37  ...  56.59   184.5    NaN  332.9\n",
      "              no churn    NaN  117.0    NaN    NaN  ...    NaN     NaN  119.3    NaN\n",
      "National      churn     137.0    NaN    NaN  21.95  ...    NaN   129.1    NaN    NaN\n",
      "              no churn    NaN   88.0  103.0    NaN  ...  18.77     NaN  137.1  110.4\n",
      "\n",
      "[4 rows x 9 columns]\n"
     ]
    }
   ],
   "source": [
    "# Reshape churn2 by unstacking the first row level\n",
    "churn_first = churn2.unstack(level=0)\n",
    "\n",
    "# Print churn_zero\n",
    "print(churn_first)"
   ]
  },
  {
   "cell_type": "code",
   "execution_count": 15,
   "id": "fdfc59e7-990c-4657-a6fa-37635f7dce3f",
   "metadata": {
    "executionTime": 309,
    "lastSuccessfullyExecutedCode": "# Reshape churn2 by unstacking the second row level\nchurn_second = churn2.unstack(level=1)\n\n# Print churn_second\nprint(churn_second)"
   },
   "outputs": [
    {
     "name": "stdout",
     "output_type": "stream",
     "text": [
      "                       calls           ...       minutes         \n",
      "type           International National  ... International National\n",
      "time  exited                           ...                       \n",
      "day   churn             97.0    137.0  ...         184.5    129.1\n",
      "eve   no churn         117.0     88.0  ...         119.3    137.1\n",
      "night churn             67.0      NaN  ...         332.9      NaN\n",
      "      no churn           NaN    103.0  ...           NaN    110.4\n",
      "\n",
      "[4 rows x 6 columns]\n"
     ]
    }
   ],
   "source": [
    "# Reshape churn2 by unstacking the second row level\n",
    "churn_second = churn2.unstack(level=1)\n",
    "\n",
    "# Print churn_second\n",
    "print(churn_second)"
   ]
  },
  {
   "cell_type": "markdown",
   "id": "9d7e7c23-66cd-406e-a6e0-f02e86da4e41",
   "metadata": {},
   "source": [
    "You discover some patterns when you reshaped the DataFrame. Now, you want to unstack the DataFrame again. This time you will choose which level to unstack and reorganize your indices. "
   ]
  },
  {
   "cell_type": "code",
   "execution_count": 17,
   "id": "3e6b5d5d-9ab6-44b2-b441-843c55f17632",
   "metadata": {
    "executionTime": 276,
    "lastSuccessfullyExecutedCode": "# Sort the index in descending order\nchurn_time = churn2.unstack(level='time').sort_index(ascending=False)\n\n# Print churn_time\nprint(churn_time)"
   },
   "outputs": [
    {
     "name": "stdout",
     "output_type": "stream",
     "text": [
      "                        calls               charge  ...        minutes              \n",
      "time                      day    eve  night    day  ...  night     day    eve  night\n",
      "type          exited                                ...                             \n",
      "National      no churn    NaN   88.0  103.0    NaN  ...  18.77     NaN  137.1  110.4\n",
      "              churn     137.0    NaN    NaN  21.95  ...    NaN   129.1    NaN    NaN\n",
      "International no churn    NaN  117.0    NaN    NaN  ...    NaN     NaN  119.3    NaN\n",
      "              churn      97.0    NaN   67.0  31.37  ...  56.59   184.5    NaN  332.9\n",
      "\n",
      "[4 rows x 9 columns]\n"
     ]
    }
   ],
   "source": [
    "# Sort the index in descending order\n",
    "churn_time = churn2.unstack(level='time').sort_index(ascending=False)\n",
    "\n",
    "# Print churn_time\n",
    "print(churn_time)"
   ]
  },
  {
   "cell_type": "markdown",
   "id": "fffa760a-310f-48c2-94bd-13cc1cbccd44",
   "metadata": {},
   "source": [
    "Organizing your voicemail\n",
    "\n",
    "You will perform one final task before moving to a new project. You will reshape the DataFrame churn again. This time, you'll reorganize a row index as a column index. After that, you will move a column index to a row index. To do this, you will first unstack the DataFrame, and then stack it."
   ]
  },
  {
   "cell_type": "code",
   "execution_count": 18,
   "id": "d138c907-d147-45c3-af4f-11f56f5988cf",
   "metadata": {
    "executionTime": 340,
    "lastSuccessfullyExecutedCode": "# Unstack churn by type level\nchurn_type = churn2.unstack(level=\"type\")\n\n# Stack the resulting DataFrame using the first column level\nchurn_final = churn_type.stack(level=0)\n\n# Print churn_type\nprint(churn_final)"
   },
   "outputs": [
    {
     "name": "stdout",
     "output_type": "stream",
     "text": [
      "type                    International  National\n",
      "time  exited                                   \n",
      "day   churn    calls            97.00    137.00\n",
      "               charge           31.37     21.95\n",
      "               minutes         184.50    129.10\n",
      "eve   no churn calls           117.00     88.00\n",
      "               charge           20.28     23.31\n",
      "               minutes         119.30    137.10\n",
      "night churn    calls            67.00       NaN\n",
      "               charge           56.59       NaN\n",
      "               minutes         332.90       NaN\n",
      "      no churn calls              NaN    103.00\n",
      "               charge             NaN     18.77\n",
      "               minutes            NaN    110.40\n"
     ]
    }
   ],
   "source": [
    "# Unstack churn by type level\n",
    "churn_type = churn2.unstack(level=\"type\")\n",
    "\n",
    "# Stack the resulting DataFrame using the first column level\n",
    "churn_final = churn_type.stack(level=0)\n",
    "\n",
    "# Print churn_type\n",
    "print(churn_final)"
   ]
  },
  {
   "cell_type": "markdown",
   "id": "5c62c8dd-1b1c-49d0-b65d-faafb31a75fc",
   "metadata": {},
   "source": [
    "## Working with multiple levels  \n",
    "Stack and unstack multiple levels at the same time.  \n",
    "\n",
    "The swaplevel() method can swithc the order of two levels within the same axis.  \n",
    "This means that we can swap the order of two row levels or two column levels. It has the axis= argument.  \n",
    "\n",
    "Unstacking several levels at the same time we just pass a list of the index numbers to the level argument. We can also use the level names."
   ]
  },
  {
   "cell_type": "markdown",
   "id": "a4ae288a-e267-4ca1-88a0-baed3b31eb54",
   "metadata": {},
   "source": [
    "Swap your SIM card\n",
    "Now it's time to go a step further and analyze the data to discover if a customer's cell phone plan is related to the customer leaving.\n",
    "\n",
    "You explore the churn dataset and notice that the row levels are not well organized. First, you want to rearrange your row indicesso it's easier to reshape your DataFrame. "
   ]
  },
  {
   "cell_type": "code",
   "execution_count": 1,
   "id": "b70c1557-8e39-44e7-a7e4-9a7e37d213bb",
   "metadata": {
    "executionTime": 265,
    "lastSuccessfullyExecutedCode": "import pandas as pd\nchurn=pd.read_excel(\"fifa_players.xlsx\",\"Sheet13\")"
   },
   "outputs": [],
   "source": [
    "import pandas as pd\n",
    "churn=pd.read_excel(\"fifa_players.xlsx\",\"Sheet13\")"
   ]
  },
  {
   "cell_type": "code",
   "execution_count": 2,
   "id": "d2de6ab6-15c4-41d1-a1ee-f697509a7567",
   "metadata": {
    "executionTime": 275,
    "lastSuccessfullyExecutedCode": "print(churn)"
   },
   "outputs": [
    {
     "name": "stdout",
     "output_type": "stream",
     "text": [
      "    year    exited       state         city       plan  value\n",
      "0   2019     churn  California  Los Angeles    minutes      0\n",
      "1   2019     churn  California  Los Angeles  voicemail      1\n",
      "2   2019     churn  California  Los Angeles       data      2\n",
      "3   2020     churn  California  Los Angeles    minutes      1\n",
      "4   2020     churn  California  Los Angeles  voicemail      1\n",
      "5   2020     churn  California  Los Angeles       data      5\n",
      "6   2019  no_churn  California  Los Angeles    minutes      0\n",
      "7   2019  no_churn  California  Los Angeles  voicemail      1\n",
      "8   2019  no_churn  California  Los Angeles       data      3\n",
      "9   2020  no_churn  California  Los Angeles    minutes      1\n",
      "10  2020  no_churn  California  Los Angeles  voicemail      0\n",
      "11  2020  no_churn  California  Los Angeles       data      2\n",
      "12  2019     churn    New York     New York    minutes      1\n",
      "13  2019     churn    New York     New York  voicemail      0\n",
      "14  2019     churn    New York     New York       data      5\n",
      "15  2020     churn    New York     New York    minutes      0\n",
      "16  2020     churn    New York     New York  voicemail      1\n",
      "17  2020     churn    New York     New York       data      2\n",
      "18  2019  no_churn    New York     New York    minutes      1\n",
      "19  2019  no_churn    New York     New York  voicemail      0\n",
      "20  2019  no_churn    New York     New York       data      4\n",
      "21  2020  no_churn    New York     New York    minutes      1\n",
      "22  2020  no_churn    New York     New York  voicemail      0\n",
      "23  2020  no_churn    New York     New York       data      6\n"
     ]
    }
   ],
   "source": [
    "print(churn)"
   ]
  },
  {
   "cell_type": "code",
   "execution_count": 3,
   "id": "c330bca5-c0d6-4c43-9181-3e3e7b35e2a9",
   "metadata": {
    "executionTime": 245,
    "lastSuccessfullyExecutedCode": "churn1=churn.pivot_table(index=[\"exited\",\"state\",\"city\"],columns=[\"year\",\"plan\"])"
   },
   "outputs": [],
   "source": [
    "churn1=churn.pivot_table(index=[\"exited\",\"state\",\"city\"],columns=[\"year\",\"plan\"])"
   ]
  },
  {
   "cell_type": "code",
   "execution_count": 5,
   "id": "211606f1-a465-4a6e-866f-e80cd685afbe",
   "metadata": {
    "executionTime": 328,
    "lastSuccessfullyExecutedCode": "print(churn1)"
   },
   "outputs": [
    {
     "name": "stdout",
     "output_type": "stream",
     "text": [
      "                                value                                         \n",
      "year                             2019                   2020                  \n",
      "plan                             data minutes voicemail data minutes voicemail\n",
      "exited   state      city                                                      \n",
      "churn    California Los Angeles     2       0         1    5       1         1\n",
      "         New York   New York        5       1         0    2       0         1\n",
      "no_churn California Los Angeles     3       0         1    2       1         0\n",
      "         New York   New York        4       1         0    6       1         0\n"
     ]
    }
   ],
   "source": [
    "print(churn1)"
   ]
  },
  {
   "cell_type": "code",
   "execution_count": 7,
   "id": "ed73d2b2-90a1-4d6b-8f47-3efd45c7a8db",
   "metadata": {
    "executionTime": 267,
    "lastSuccessfullyExecutedCode": "# Switch the first and third row index levels in churn\nchurn_swap = churn1.swaplevel(0, 2)\n\nprint(churn_swap)\n\n# Reshape by unstacking the last row level \nchurn_unstack = churn_swap.unstack()\n\n# Print churn_unstack\nprint(churn_unstack)"
   },
   "outputs": [
    {
     "name": "stdout",
     "output_type": "stream",
     "text": [
      "                                value                                         \n",
      "year                             2019                   2020                  \n",
      "plan                             data minutes voicemail data minutes voicemail\n",
      "city        state      exited                                                 \n",
      "Los Angeles California churn        2       0         1    5       1         1\n",
      "New York    New York   churn        5       1         0    2       0         1\n",
      "Los Angeles California no_churn     3       0         1    2       1         0\n",
      "New York    New York   no_churn     4       1         0    6       1         0\n",
      "                       value                   ...                            \n",
      "year                    2019                   ...     2020                   \n",
      "plan                    data          minutes  ...  minutes voicemail         \n",
      "exited                 churn no_churn   churn  ... no_churn     churn no_churn\n",
      "city        state                              ...                            \n",
      "Los Angeles California     2        3       0  ...        1         1        0\n",
      "New York    New York       5        4       1  ...        1         1        0\n",
      "\n",
      "[2 rows x 12 columns]\n"
     ]
    }
   ],
   "source": [
    "# Switch the first and third row index levels in churn\n",
    "churn_swap = churn1.swaplevel(0, 2)\n",
    "\n",
    "print(churn_swap)\n",
    "\n",
    "# Reshape by unstacking the last row level \n",
    "churn_unstack = churn_swap.unstack()\n",
    "\n",
    "# Print churn_unstack\n",
    "print(churn_unstack)"
   ]
  },
  {
   "cell_type": "code",
   "execution_count": 11,
   "id": "d4c5cb54-f649-4b6f-8bdf-0b6e6a62706b",
   "metadata": {
    "executionTime": 228,
    "lastSuccessfullyExecutedCode": "# Unstack the first and second row level of churn\nchurn_unstack = churn1.unstack(level=[0, 1])\nprint(churn_unstack)"
   },
   "outputs": [
    {
     "name": "stdout",
     "output_type": "stream",
     "text": [
      "                 value                      ...                              \n",
      "year              2019                      ...      2020                    \n",
      "plan              data                      ... voicemail                    \n",
      "exited           churn            no_churn  ...     churn   no_churn         \n",
      "state       California New York California  ...  New York California New York\n",
      "city                                        ...                              \n",
      "Los Angeles        2.0      NaN        3.0  ...       NaN        0.0      NaN\n",
      "New York           NaN      5.0        NaN  ...       1.0        NaN      0.0\n",
      "\n",
      "[2 rows x 24 columns]\n"
     ]
    }
   ],
   "source": [
    "# Unstack the first and second row level of churn\n",
    "churn_unstack = churn1.unstack(level=[0, 1])\n",
    "print(churn_unstack)"
   ]
  },
  {
   "cell_type": "code",
   "execution_count": 12,
   "id": "3cc24bfd-0026-4456-ad9c-d411ef386dd4",
   "metadata": {
    "executionTime": 230,
    "lastSuccessfullyExecutedCode": "# Unstack the first and second row level of churn\nchurn_unstack = churn1.unstack(level=[0, 1])\n\n# Stack the resulting DataFrame using plan and year\nchurn_py = churn_unstack.stack(['plan', 'year'])\n\n# Switch the first and second column levels\nchurn_switch = churn_py.swaplevel(0,1,axis=1)\n\n# Print churn_switch\nprint(churn_switch)"
   },
   "outputs": [
    {
     "name": "stdout",
     "output_type": "stream",
     "text": [
      "exited                          churn            no_churn         \n",
      "                                value               value         \n",
      "state                      California New York California New York\n",
      "city        plan      year                                        \n",
      "Los Angeles data      2019        2.0      NaN        3.0      NaN\n",
      "                      2020        5.0      NaN        2.0      NaN\n",
      "            minutes   2019        0.0      NaN        0.0      NaN\n",
      "                      2020        1.0      NaN        1.0      NaN\n",
      "            voicemail 2019        1.0      NaN        1.0      NaN\n",
      "                      2020        1.0      NaN        0.0      NaN\n",
      "New York    data      2019        NaN      5.0        NaN      4.0\n",
      "                      2020        NaN      2.0        NaN      6.0\n",
      "            minutes   2019        NaN      1.0        NaN      1.0\n",
      "                      2020        NaN      0.0        NaN      1.0\n",
      "            voicemail 2019        NaN      0.0        NaN      0.0\n",
      "                      2020        NaN      1.0        NaN      0.0\n"
     ]
    }
   ],
   "source": [
    "# Unstack the first and second row level of churn\n",
    "churn_unstack = churn1.unstack(level=[0, 1])\n",
    "\n",
    "# Stack the resulting DataFrame using plan and year\n",
    "churn_py = churn_unstack.stack(['plan', 'year'])\n",
    "\n",
    "# Switch the first and second column levels\n",
    "churn_switch = churn_py.swaplevel(0,1,axis=1)\n",
    "\n",
    "# Print churn_switch\n",
    "print(churn_switch)"
   ]
  },
  {
   "cell_type": "markdown",
   "id": "5f4e8973-9f76-4260-91ab-6c568946e2b9",
   "metadata": {},
   "source": [
    "## Handling missing data\n",
    "* Stack all column levels or unstack one row index level or choosing which levels stack or unstack.  \n",
    "\n",
    "Those operations can lead to nan values. Fortunatly, the unstack method has the argument fill_value=, which allows us to fill those values with any value.  \n",
    "In the case of the stack method, we use the argument dropna=True/False and put .fillna(0), i.e.\n",
    "df.stack(dropna=False).fillna(0)"
   ]
  },
  {
   "cell_type": "code",
   "execution_count": 13,
   "id": "a4f13c89-56b8-426e-b28e-6d85737c6fe4",
   "metadata": {
    "executionTime": 303,
    "lastSuccessfullyExecutedCode": "#Let us import the dataset and then pivot in the way is presented in the exercise\nimport pandas as pd\nchurn=pd.read_excel(\"fifa_players.xlsx\",\"Sheet14\")\nprint(churn)"
   },
   "outputs": [
    {
     "name": "stdout",
     "output_type": "stream",
     "text": [
      "    total_day_calls  churn  ...  international_plan voice_mail_plan\n",
      "0           100.000  False  ...                  No             Yes\n",
      "1           115.000  False  ...                  No             Yes\n",
      "2            71.000  False  ...                 Yes             Yes\n",
      "3           120.000  False  ...                 Yes             Yes\n",
      "4           106.818  False  ...                  No              No\n",
      "5            90.900  False  ...                  No              No\n",
      "6            78.000  False  ...                 Yes              No\n",
      "7           109.000  False  ...                 Yes              No\n",
      "8             0.000   True  ...                  No             Yes\n",
      "9             0.000   True  ...                  No             Yes\n",
      "10            0.000   True  ...                 Yes             Yes\n",
      "11            0.000   True  ...                 Yes             Yes\n",
      "12          100.000   True  ...                  No              No\n",
      "13           95.000   True  ...                  No              No\n",
      "14           69.000   True  ...                 Yes              No\n",
      "15           87.000   True  ...                 Yes              No\n",
      "\n",
      "[16 rows x 6 columns]\n"
     ]
    }
   ],
   "source": [
    "#Let us import the dataset and then pivot in the way is presented in the exercise\n",
    "import pandas as pd\n",
    "churn=pd.read_excel(\"fifa_players.xlsx\",\"Sheet14\")\n",
    "print(churn)"
   ]
  },
  {
   "cell_type": "code",
   "execution_count": 18,
   "id": "1e4165fa-e03f-4ac9-b3b5-704ca3f7fabf",
   "metadata": {
    "executionTime": 359,
    "lastSuccessfullyExecutedCode": "churn1=churn.pivot_table(index=[\"state\",\"international_plan\",\"voice_mail_plan\"],columns=[\"churn\"])\nprint(churn1)"
   },
   "outputs": [
    {
     "name": "stdout",
     "output_type": "stream",
     "text": [
      "                                         total_day_calls  ... total_night_calls\n",
      "churn                                              False  ...              True\n",
      "state international_plan voice_mail_plan                  ...                  \n",
      "LA    No                 No                      106.818  ...             119.0\n",
      "                         Yes                     100.000  ...               0.0\n",
      "      Yes                No                       78.000  ...             104.0\n",
      "                         Yes                      71.000  ...               0.0\n",
      "NY    No                 No                       90.900  ...             101.5\n",
      "                         Yes                     115.000  ...               0.0\n",
      "      Yes                No                      109.000  ...             113.0\n",
      "                         Yes                     120.000  ...               0.0\n",
      "\n",
      "[8 rows x 4 columns]\n"
     ]
    }
   ],
   "source": [
    "churn1=churn.pivot_table(index=[\"state\",\"international_plan\",\"voice_mail_plan\"],columns=[\"churn\"])\n",
    "print(churn1)"
   ]
  },
  {
   "cell_type": "code",
   "execution_count": 23,
   "id": "9c551b50-9b43-4577-a4b0-088e675f0ebc",
   "metadata": {
    "executionTime": 293,
    "lastSuccessfullyExecutedCode": "# Unstack churn level and fill missing values with zero\nchurn2 = churn1.stack(level=\"churn\")\nprint(churn2)"
   },
   "outputs": [
    {
     "name": "stdout",
     "output_type": "stream",
     "text": [
      "                                                total_day_calls  total_night_calls\n",
      "state international_plan voice_mail_plan churn                                    \n",
      "LA    No                 No              False          106.818             96.909\n",
      "                                         True           100.000            119.000\n",
      "                         Yes             False          100.000             84.250\n",
      "                                         True             0.000              0.000\n",
      "      Yes                No              False           78.000             90.000\n",
      "                                         True            69.000            104.000\n",
      "                         Yes             False           71.000            101.000\n",
      "                                         True             0.000              0.000\n",
      "NY    No                 No              False           90.900            100.800\n",
      "                                         True            95.000            101.500\n",
      "                         Yes             False          115.000            121.000\n",
      "                                         True             0.000              0.000\n",
      "      Yes                No              False          109.000             99.000\n",
      "                                         True            87.000            113.000\n",
      "                         Yes             False          120.000             78.000\n",
      "                                         True             0.000              0.000\n"
     ]
    }
   ],
   "source": [
    "# Unstack churn level and fill missing values with zero\n",
    "churn2 = churn1.stack(level=\"churn\")\n",
    "print(churn2)"
   ]
  },
  {
   "cell_type": "markdown",
   "id": "ecdb7cdc-4401-47bd-8f0c-47ea8f9da202",
   "metadata": {},
   "source": [
    "It's almost time to go home, but first, you need to finish your last task. You have a small dataset containing the total number of calls made by customers.\n",
    "\n",
    "To perform your analysis, you need to reshape your churn data by stacking different levels. You know this process will generate missing data. You want to check if it is worth keeping the rows that contain all missing values, or if it's better to drop that information. "
   ]
  },
  {
   "cell_type": "code",
   "execution_count": 6,
   "id": "13baaa6d-edb2-42f7-a014-fb835e9b5d26",
   "metadata": {
    "executionTime": 295,
    "lastSuccessfullyExecutedCode": "import pandas as pd\nchurn=pd.read_excel(\"fifa_players.xlsx\",\"Sheet15\")\nprint(churn)"
   },
   "outputs": [
    {
     "name": "stdout",
     "output_type": "stream",
     "text": [
      "                type          scope    LA  NY  CA\n",
      "0    total_day_calls  international  23.0   8   8\n",
      "1  total_night_calls  international  30.0  34  34\n",
      "2  total_night_calls       national   NaN  24  24\n"
     ]
    }
   ],
   "source": [
    "import pandas as pd\n",
    "churn=pd.read_excel(\"fifa_players.xlsx\",\"Sheet15\")\n",
    "print(churn)"
   ]
  },
  {
   "cell_type": "code",
   "execution_count": 7,
   "id": "12ebf76b-7975-4762-bef9-20b54e39381c",
   "metadata": {
    "executionTime": 250,
    "lastSuccessfullyExecutedCode": "churn1=churn.pivot_table(columns=[\"type\",\"scope\"])\nprint(churn1)"
   },
   "outputs": [
    {
     "name": "stdout",
     "output_type": "stream",
     "text": [
      "type  total_day_calls total_night_calls         \n",
      "scope   international     international national\n",
      "CA                8.0              34.0     24.0\n",
      "LA               23.0              30.0      NaN\n",
      "NY                8.0              34.0     24.0\n"
     ]
    }
   ],
   "source": [
    "churn1=churn.pivot_table(columns=[\"type\",\"scope\"])\n",
    "print(churn1)"
   ]
  },
  {
   "cell_type": "code",
   "execution_count": 8,
   "id": "46586b93-4d03-4de8-9652-b6058f9e9cfe",
   "metadata": {
    "executionTime": 344,
    "lastSuccessfullyExecutedCode": "# Stack the level type from churn\nchurn_stack = churn1.stack(level=\"type\")\n\n# Fill the resulting missing values with zero \nchurn_fill = churn_stack.fillna(0)\n\n# Print churn_fill\nprint(churn_fill)"
   },
   "outputs": [
    {
     "name": "stdout",
     "output_type": "stream",
     "text": [
      "scope                 international  national\n",
      "   type                                      \n",
      "CA total_day_calls              8.0       0.0\n",
      "   total_night_calls           34.0      24.0\n",
      "LA total_day_calls             23.0       0.0\n",
      "   total_night_calls           30.0       0.0\n",
      "NY total_day_calls              8.0       0.0\n",
      "   total_night_calls           34.0      24.0\n"
     ]
    }
   ],
   "source": [
    "# Stack the level type from churn\n",
    "churn_stack = churn1.stack(level=\"type\")\n",
    "\n",
    "# Fill the resulting missing values with zero \n",
    "churn_fill = churn_stack.fillna(0)\n",
    "\n",
    "# Print churn_fill\n",
    "print(churn_fill)"
   ]
  },
  {
   "cell_type": "markdown",
   "id": "b05af804-1772-447c-81b0-5545fa81375c",
   "metadata": {},
   "source": [
    "## Reshaping and combinig data\n",
    "Statistical functions: .sum(), .mean(), .median(), .diff()  "
   ]
  },
  {
   "cell_type": "code",
   "execution_count": 1,
   "id": "1c26b043-39f7-4bff-b2c7-eeb277aabd0c",
   "metadata": {
    "executionTime": 450,
    "lastSuccessfullyExecutedCode": "import pandas as pd\nobesity=pd.read_excel(\"fifa_players.xlsx\",\"Sheet16\")\nprint(obesity)"
   },
   "outputs": [
    {
     "name": "stdout",
     "output_type": "stream",
     "text": [
      "      country biological_sex  year  perc_obesity\n",
      "0   Argentina           Male  2005          21.5\n",
      "1   Argentina         Female  2005          24.2\n",
      "2   Argentina           Male  2015          26.8\n",
      "3   Argentina         Female  2015          28.5\n",
      "4       Japan           Male  2005           2.5\n",
      "5       Japan         Female  2005           2.6\n",
      "6       Japan           Male  2015           4.6\n",
      "7       Japan         Female  2015           3.6\n",
      "8      Norway           Male  2005          17.6\n",
      "9      Norway         Female  2005          18.6\n",
      "10     Norway           Male  2015          23.0\n",
      "11     Norway         Female  2015          22.2\n"
     ]
    }
   ],
   "source": [
    "import pandas as pd\n",
    "obesity=pd.read_excel(\"fifa_players.xlsx\",\"Sheet16\")\n",
    "print(obesity)"
   ]
  },
  {
   "cell_type": "code",
   "execution_count": 2,
   "id": "0f5ee476-dafe-46be-8202-c1674ab1d35c",
   "metadata": {
    "executionTime": 291,
    "lastSuccessfullyExecutedCode": "obesity=obesity.pivot_table(index=[\"country\",\"biological_sex\",\"year\"])\nprint(obesity)"
   },
   "outputs": [
    {
     "name": "stdout",
     "output_type": "stream",
     "text": [
      "                               perc_obesity\n",
      "country   biological_sex year              \n",
      "Argentina Female         2005          24.2\n",
      "                         2015          28.5\n",
      "          Male           2005          21.5\n",
      "                         2015          26.8\n",
      "Japan     Female         2005           2.6\n",
      "                         2015           3.6\n",
      "          Male           2005           2.5\n",
      "                         2015           4.6\n",
      "Norway    Female         2005          18.6\n",
      "                         2015          22.2\n",
      "          Male           2005          17.6\n",
      "                         2015          23.0\n"
     ]
    }
   ],
   "source": [
    "obesity=obesity.pivot_table(index=[\"country\",\"biological_sex\",\"year\"])\n",
    "print(obesity)"
   ]
  },
  {
   "cell_type": "code",
   "execution_count": 8,
   "id": "6d7e8088-425c-4c92-9c51-3fc06da174b2",
   "metadata": {
    "executionTime": 277,
    "lastSuccessfullyExecutedCode": "# Unstack the first level and calculate the mean of the columns\nobesity_general = obesity.unstack(level=0).mean(axis=1)\n\n# Print obesity_general\nprint(obesity_general)"
   },
   "outputs": [
    {
     "name": "stdout",
     "output_type": "stream",
     "text": [
      "biological_sex  year\n",
      "Female          2005    15.133333\n",
      "                2015    18.100000\n",
      "Male            2005    13.866667\n",
      "                2015    18.133333\n",
      "dtype: float64\n"
     ]
    }
   ],
   "source": [
    "# Unstack the first level and calculate the mean of the columns\n",
    "obesity_general = obesity.unstack(level=0).mean(axis=1)\n",
    "\n",
    "# Print obesity_general\n",
    "print(obesity_general)"
   ]
  },
  {
   "cell_type": "code",
   "execution_count": 9,
   "id": "5faac11d-0738-40ec-b9a4-a2e43922476d",
   "metadata": {
    "executionTime": 334,
    "lastSuccessfullyExecutedCode": "# Unstack the second level and calculate the mean of the columns\nobesity_mean = obesity.unstack(level=1).mean(axis=1)\n\n# Print obesity_mean\nprint(obesity_mean)"
   },
   "outputs": [
    {
     "name": "stdout",
     "output_type": "stream",
     "text": [
      "country    year\n",
      "Argentina  2005    22.85\n",
      "           2015    27.65\n",
      "Japan      2005     2.55\n",
      "           2015     4.10\n",
      "Norway     2005    18.10\n",
      "           2015    22.60\n",
      "dtype: float64\n"
     ]
    }
   ],
   "source": [
    "# Unstack the second level and calculate the mean of the columns\n",
    "obesity_mean = obesity.unstack(level=1).mean(axis=1)\n",
    "\n",
    "# Print obesity_mean\n",
    "print(obesity_mean)"
   ]
  },
  {
   "cell_type": "code",
   "execution_count": 10,
   "id": "2ed59c7b-8164-4544-a26f-6830e17e629a",
   "metadata": {
    "executionTime": 255,
    "lastSuccessfullyExecutedCode": "# Unstack the third level and calculate the difference between columns\nobesity_variation = obesity.unstack(level=2).diff(axis=1)\n\n# Print obesity_variation\nprint(obesity_variation)"
   },
   "outputs": [
    {
     "name": "stdout",
     "output_type": "stream",
     "text": [
      "                         perc_obesity     \n",
      "year                             2005 2015\n",
      "country   biological_sex                  \n",
      "Argentina Female                  NaN  4.3\n",
      "          Male                    NaN  5.3\n",
      "Japan     Female                  NaN  1.0\n",
      "          Male                    NaN  2.1\n",
      "Norway    Female                  NaN  3.6\n",
      "          Male                    NaN  5.4\n"
     ]
    }
   ],
   "source": [
    "# Unstack the third level and calculate the difference between columns\n",
    "obesity_variation = obesity.unstack(level=2).diff(axis=1)\n",
    "\n",
    "# Print obesity_variation\n",
    "print(obesity_variation)"
   ]
  },
  {
   "cell_type": "markdown",
   "id": "f855b003-a27d-4a55-8bd6-d018253a2b7d",
   "metadata": {},
   "source": [
    "#Stack the first level, get sum, and unstack the second level  \n",
    "\n",
    "obesity_sum = obesity.stack(level=0).sum(axis=1).unstack(level=1)\n",
    "\n",
    "#Print obesity_max  \n",
    "\n",
    "print(obesity_sum)"
   ]
  },
  {
   "cell_type": "markdown",
   "id": "e5854acf-de07-482c-91b6-24d14a4e23da",
   "metadata": {},
   "source": [
    "#Stack country level, group by country and get the mean  \n",
    "\n",
    "obesity_mean = obesity.stack(level=\"country\").groupby(\"country\").mean()\n",
    "\n",
    "#Print obesity_mean  \n",
    "\n",
    "print(obesity_mean)"
   ]
  },
  {
   "cell_type": "markdown",
   "id": "efe932d3-9e75-47b5-8542-866d325e091d",
   "metadata": {},
   "source": [
    "#Stack country level, group by country and get the median  \n",
    "\n",
    "obesity_median = obesity.stack(\"country\").groupby(\"country\").median()\n",
    "\n",
    "#Print obesity_median  \n",
    "\n",
    "print(obesity_median)"
   ]
  },
  {
   "cell_type": "markdown",
   "id": "d3519a8c-e1ca-4c04-a813-e514e73a27d0",
   "metadata": {},
   "source": [
    "## Transforming a list-like column  \n",
    "We could have columns that contain values in a list. This kind of columns are called list like column. It's hard to work when it is in the same cell. The best approach is to transform each list like column into a separate row. \n",
    "\n",
    "Pandas provide the .explode() method that can help us with this operation.  "
   ]
  },
  {
   "cell_type": "code",
   "execution_count": 46,
   "id": "58abd67d-86c4-4808-8729-f407ee9f7493",
   "metadata": {
    "executionTime": 236,
    "lastSuccessfullyExecutedCode": "import pandas as pd\nobesity=pd.read_excel(\"fifa_players.xlsx\",\"Sheet17\")\nprint(obesity)"
   },
   "outputs": [
    {
     "name": "stdout",
     "output_type": "stream",
     "text": [
      "     country  perc_obesity        bounds\n",
      "0  Argentina          21.5  [15.4, 31.5]\n",
      "1    Germany          22.3  [16.2, 32.4]\n",
      "2      Japan           2.5    [1.1, 3.5]\n",
      "3     Norway          23.0  [13.1, 33.0]\n"
     ]
    }
   ],
   "source": [
    "import pandas as pd\n",
    "obesity=pd.read_excel(\"fifa_players.xlsx\",\"Sheet17\")\n",
    "print(obesity)\n",
    "\n",
    "#Unfortunately the column bounds has the type strings, then before processing\n",
    "#we need to convert it to a column with list of floats. We use the library ast"
   ]
  },
  {
   "cell_type": "code",
   "execution_count": 47,
   "id": "cc65e753-7552-424c-aeb9-c257258d2eba",
   "metadata": {
    "executionTime": 340,
    "lastSuccessfullyExecutedCode": "import ast\n# Crea una nueva columna con una lista de números flotantes usando la función map()\nobesity[\"lista\"] = obesity[\"bounds\"].map(lambda x: ast.literal_eval(x))\n\n# Imprime el dataframe\nobesity=obesity.drop(\"bounds\",axis=1).rename(columns={\"lista\":\"bounds\"})\nprint(obesity)"
   },
   "outputs": [
    {
     "name": "stdout",
     "output_type": "stream",
     "text": [
      "     country  perc_obesity        bounds\n",
      "0  Argentina          21.5  [15.4, 31.5]\n",
      "1    Germany          22.3  [16.2, 32.4]\n",
      "2      Japan           2.5    [1.1, 3.5]\n",
      "3     Norway          23.0  [13.1, 33.0]\n"
     ]
    }
   ],
   "source": [
    "import ast\n",
    "# Crea una nueva columna con una lista de números flotantes usando la función map()\n",
    "obesity[\"lista\"] = obesity[\"bounds\"].map(lambda x: ast.literal_eval(x))\n",
    "\n",
    "# Imprime el dataframe\n",
    "obesity=obesity.drop(\"bounds\",axis=1).rename(columns={\"lista\":\"bounds\"})\n",
    "print(obesity)"
   ]
  },
  {
   "cell_type": "markdown",
   "id": "081e8263-d061-42b3-b704-969d0dc08c72",
   "metadata": {},
   "source": [
    "You will analyze the mean obesity percentage in different countries, but this time, the obesity DataFrame has a new column named bounds. It contains the minimum and maximum values you can find in different parts of the same country.\n",
    "\n",
    "You notice that these values are given in a list, so you decide that you need to transform that column. You would like to have each element in a new row. "
   ]
  },
  {
   "cell_type": "code",
   "execution_count": 48,
   "id": "5e0d453d-e2b4-495a-bf88-d590d87d9d4f",
   "metadata": {
    "executionTime": 300,
    "lastSuccessfullyExecutedCode": "# Explode the values of bounds to a separate row\nobesity_bounds = obesity['bounds'].explode()\n\nprint(obesity_bounds)"
   },
   "outputs": [
    {
     "name": "stdout",
     "output_type": "stream",
     "text": [
      "0    15.4\n",
      "0    31.5\n",
      "1    16.2\n",
      "1    32.4\n",
      "2     1.1\n",
      "2     3.5\n",
      "3    13.1\n",
      "3    33.0\n",
      "Name: bounds, dtype: object\n"
     ]
    }
   ],
   "source": [
    "# Explode the values of bounds to a separate row\n",
    "obesity_bounds = obesity['bounds'].explode()\n",
    "\n",
    "print(obesity_bounds)"
   ]
  },
  {
   "cell_type": "code",
   "execution_count": 49,
   "id": "7460499c-91e4-419a-888b-af56f999c8db",
   "metadata": {
    "executionTime": 215,
    "lastSuccessfullyExecutedCode": "# Merge obesity_bounds with country and perc_obesity columns of obesity using the indexes\nobesity_final = obesity[[\"country\", \"perc_obesity\"]].merge(obesity_bounds, \n                                        right_index=True, \n                                        left_index=True)\n\n# Print obesity_final\nprint(obesity_final)"
   },
   "outputs": [
    {
     "name": "stdout",
     "output_type": "stream",
     "text": [
      "     country  perc_obesity bounds\n",
      "0  Argentina          21.5   15.4\n",
      "0  Argentina          21.5   31.5\n",
      "1    Germany          22.3   16.2\n",
      "1    Germany          22.3   32.4\n",
      "2      Japan           2.5    1.1\n",
      "2      Japan           2.5    3.5\n",
      "3     Norway          23.0   13.1\n",
      "3     Norway          23.0   33.0\n"
     ]
    }
   ],
   "source": [
    "# Merge obesity_bounds with country and perc_obesity columns of obesity using the indexes\n",
    "obesity_final = obesity[[\"country\", \"perc_obesity\"]].merge(obesity_bounds, \n",
    "                                        right_index=True, \n",
    "                                        left_index=True)\n",
    "\n",
    "# Print obesity_final\n",
    "print(obesity_final)"
   ]
  },
  {
   "cell_type": "markdown",
   "id": "343a89ec-4942-49b4-a2f4-919effb7b017",
   "metadata": {},
   "source": [
    "You were able to transform the list-like column successfully, but you are not satisfied with the steps you had to take. You want to find an easier way to get the same reshaped DataFrame.\n",
    "\n",
    "You remembered what you learned about exploding list-like columns, and you will apply a new strategy. "
   ]
  },
  {
   "cell_type": "code",
   "execution_count": 50,
   "id": "07be8e2c-6763-485f-a949-d86433a72312",
   "metadata": {
    "executionTime": 228,
    "lastSuccessfullyExecutedCode": "# Transform the list-like column named bounds  \nobesity_explode = obesity.explode(\"bounds\")\n\n# Modify obesity_explode by resetting the index \nobesity_explode.reset_index(drop=True, inplace=True)\n\n# Print obesity_explode\nprint(obesity_explode)"
   },
   "outputs": [
    {
     "name": "stdout",
     "output_type": "stream",
     "text": [
      "     country  perc_obesity bounds\n",
      "0  Argentina          21.5   15.4\n",
      "1  Argentina          21.5   31.5\n",
      "2    Germany          22.3   16.2\n",
      "3    Germany          22.3   32.4\n",
      "4      Japan           2.5    1.1\n",
      "5      Japan           2.5    3.5\n",
      "6     Norway          23.0   13.1\n",
      "7     Norway          23.0   33.0\n"
     ]
    }
   ],
   "source": [
    "# Transform the list-like column named bounds  \n",
    "obesity_explode = obesity.explode(\"bounds\")\n",
    "\n",
    "# Modify obesity_explode by resetting the index \n",
    "obesity_explode.reset_index(drop=True, inplace=True)\n",
    "\n",
    "# Print obesity_explode\n",
    "print(obesity_explode)"
   ]
  },
  {
   "cell_type": "markdown",
   "id": "024c4171-f1a5-4cca-84fb-ac7a9e6d8b66",
   "metadata": {},
   "source": [
    "The good old split\n",
    "\n",
    "You have to do one last task for the obesity project. Your colleague gave you a new dataset to analyze with which you will perform the same analysis as before.\n",
    "\n",
    "After inspecting the dataset obesity, you realize that you have the same columns as before, but the bounds column is not a list. This time, the column contains two values separated with a hyphen in the form of string. "
   ]
  },
  {
   "cell_type": "markdown",
   "id": "15811e75-65c8-4b6e-ade9-b2a54a47f84e",
   "metadata": {},
   "source": [
    "#Split the columns bounds using a hyphen as delimiter  \n",
    "obesity_split = obesity[\"bounds\"].str.split(\"-\")\n",
    "\n",
    "#Print obesity_split  \n",
    "print(obesity_split)"
   ]
  },
  {
   "cell_type": "markdown",
   "id": "f50f3edf-4213-476e-95c6-685d8d1159a0",
   "metadata": {},
   "source": [
    "#Transform the column bounds in the obesity DataFrame  \n",
    "obesity_split = obesity.assign(bounds=obesity['bounds'].str.split('-')).explode(\"bounds\")\n",
    "\n",
    "#Print obesity_split  \n",
    "print(obesity_split)"
   ]
  },
  {
   "cell_type": "markdown",
   "id": "e8aa5708-d99c-4ff7-841a-c8060d8ac252",
   "metadata": {},
   "source": [
    "## Reading nested data into dataframe\n",
    "JSON format. JSON stands for JavaScript Object Notation. It is a data interchange format.  \n",
    "Some JSONs can be nested;like a dictionary within a dictionary.  \n",
    "\n",
    "We use the json_normalize() function in pandas. It has the parameter sep=\"\".  \n",
    "\n",
    "In the case of nested dictionarys inside the json document, we can use the record_path= parameter. It tells pandas what key path leads to each individual observation in JSON.  \n",
    "\n",
    "We can add a third parameter, the meta= parameter. It tells pandas what data we want to include from the rest of the JSON.  "
   ]
  },
  {
   "cell_type": "markdown",
   "id": "a1c248d0-ec96-47fa-baa1-57e3249c925d",
   "metadata": {},
   "source": [
    "You are curious about a movies dataset you've had on your computer for some time now that contains data about different movies. You would like to analyze that data, but you realize it's in a nested JSON format.\n",
    "\n",
    "To read it into a DataFrame, you will need to use the function you have just learned. After that, you will reshape the resulting DataFrame to make it easier to work with. "
   ]
  },
  {
   "cell_type": "code",
   "execution_count": 8,
   "id": "f9f7b1ff-348e-4a42-9ce4-beab3d1cf843",
   "metadata": {
    "executionTime": 436,
    "lastSuccessfullyExecutedCode": "import json\nimport pandas as pd"
   },
   "outputs": [],
   "source": [
    "import json\n",
    "import pandas as pd"
   ]
  },
  {
   "cell_type": "code",
   "execution_count": 12,
   "id": "ff699486-6431-4749-9b98-b978815ce14a",
   "metadata": {
    "executionTime": 0,
    "lastSuccessfullyExecutedCode": "# Load JSON: json_data\nwith open(\"movies.json\") as json_file:\n    movies=json.load(json_file)"
   },
   "outputs": [],
   "source": [
    "# Load JSON: json_data\n",
    "with open(\"movies.json\") as json_file:\n",
    "    movies=json.load(json_file)"
   ]
  },
  {
   "cell_type": "code",
   "execution_count": 13,
   "id": "da244786-107a-4a77-af8e-cf506d8bae7a",
   "metadata": {
    "executionTime": 413,
    "lastSuccessfullyExecutedCode": "print(movies)"
   },
   "outputs": [
    {
     "name": "stdout",
     "output_type": "stream",
     "text": [
      "[{'director': 'Woody Allen', 'producer': 'Letty Aronson', 'features': {'title': 'Magic in the Moonlight', 'year': 2014}}, {'director': 'Niki Caro', 'producer': 'Jason Reed', 'features': {'title': 'Mulan', 'year': 2020}}]\n"
     ]
    }
   ],
   "source": [
    "print(movies)"
   ]
  },
  {
   "cell_type": "code",
   "execution_count": 14,
   "id": "ec000d06-0133-4e77-a121-f2c7f66f9105",
   "metadata": {
    "executionTime": 706,
    "lastSuccessfullyExecutedCode": "from pandas import json_normalize\n# Normalize movies and separate the new columns with an underscore \nmovies_norm = json_normalize(movies,sep=\"_\")\n\n# Reshape using director and producer as index, create movies from column starting from features\nmovies_long = pd.wide_to_long(movies_norm, stubnames=\"features\", \n                      i=[\"director\",\"producer\"], j=\"movies\", \n                      sep=\"_\", suffix=\"\\w+\")\n\n# Print movies_long\nprint(movies_long)"
   },
   "outputs": [
    {
     "name": "stdout",
     "output_type": "stream",
     "text": [
      "                                                features\n",
      "director    producer      movies                        \n",
      "Woody Allen Letty Aronson title   Magic in the Moonlight\n",
      "                          year                      2014\n",
      "Niki Caro   Jason Reed    title                    Mulan\n",
      "                          year                      2020\n"
     ]
    }
   ],
   "source": [
    "from pandas import json_normalize\n",
    "# Normalize movies and separate the new columns with an underscore \n",
    "movies_norm = json_normalize(movies,sep=\"_\")\n",
    "\n",
    "# Reshape using director and producer as index, create movies from column starting from features\n",
    "movies_long = pd.wide_to_long(movies_norm, stubnames=\"features\", \n",
    "                      i=[\"director\",\"producer\"], j=\"movies\", \n",
    "                      sep=\"_\", suffix=\"\\w+\")\n",
    "\n",
    "# Print movies_long\n",
    "print(movies_long)"
   ]
  },
  {
   "cell_type": "code",
   "execution_count": 20,
   "id": "c233a052-c917-4bfd-9a68-d8f641d45abf",
   "metadata": {
    "executionTime": 393,
    "lastSuccessfullyExecutedCode": "#Load JSON data\nimport json\nimport pandas as pd\nwith open(\"movies2.json\") as json_file:\n    movies2=json.load(json_file)"
   },
   "outputs": [],
   "source": [
    "#Load JSON data\n",
    "import json\n",
    "import pandas as pd\n",
    "with open(\"movies2.json\") as json_file:\n",
    "    movies2=json.load(json_file)"
   ]
  },
  {
   "cell_type": "code",
   "execution_count": 21,
   "id": "a49f6acb-aaba-42a9-99fb-45df5aa463fb",
   "metadata": {
    "executionTime": 352,
    "lastSuccessfullyExecutedCode": "print(movies2)"
   },
   "outputs": [
    {
     "name": "stdout",
     "output_type": "stream",
     "text": [
      "[{'director': 'Woody Allen', 'producer': 'Letty Aronson', 'features': [{'title': 'Magic in the Moonlight', 'year': 2014}, {'title': 'Vicky Cristina Barcelona', 'year': 2008}, {'title': 'Midnight in Paris', 'year': 2011}]}, {'director': 'Niki Caro', 'producer': 'Jason Reed', 'features': [{'title': 'Mulan', 'year': 2020}]}]\n"
     ]
    }
   ],
   "source": [
    "print(movies2)"
   ]
  },
  {
   "cell_type": "code",
   "execution_count": 22,
   "id": "847f9d34-c9cc-4ff4-ad74-4cec2a3432e1",
   "metadata": {
    "executionTime": 307,
    "lastSuccessfullyExecutedCode": "# Normalize the JSON contained in movies\nnormalize_movies = json_normalize(movies2)\n\n# Print normalize_movies\nprint(normalize_movies)"
   },
   "outputs": [
    {
     "name": "stdout",
     "output_type": "stream",
     "text": [
      "      director  ...                                           features\n",
      "0  Woody Allen  ...  [{'title': 'Magic in the Moonlight', 'year': 2...\n",
      "1    Niki Caro  ...                 [{'title': 'Mulan', 'year': 2020}]\n",
      "\n",
      "[2 rows x 3 columns]\n"
     ]
    }
   ],
   "source": [
    "# Normalize the JSON contained in movies\n",
    "normalize_movies = json_normalize(movies2)\n",
    "\n",
    "# Print normalize_movies\n",
    "print(normalize_movies)"
   ]
  },
  {
   "cell_type": "code",
   "execution_count": 23,
   "id": "e7fcae47-ec9d-4865-b0e5-e3cfd5c55f73",
   "metadata": {
    "executionTime": 583,
    "lastSuccessfullyExecutedCode": "# Specify the features column as the list of records \nnormalize_movies = json_normalize(movies2, \n                                  record_path=\"features\")\n\n# Print normalize_movies\nprint(normalize_movies)"
   },
   "outputs": [
    {
     "name": "stdout",
     "output_type": "stream",
     "text": [
      "                      title  year\n",
      "0    Magic in the Moonlight  2014\n",
      "1  Vicky Cristina Barcelona  2008\n",
      "2         Midnight in Paris  2011\n",
      "3                     Mulan  2020\n"
     ]
    }
   ],
   "source": [
    "# Specify the features column as the list of records \n",
    "normalize_movies = json_normalize(movies2, \n",
    "                                  record_path=\"features\")\n",
    "\n",
    "# Print normalize_movies\n",
    "print(normalize_movies)"
   ]
  },
  {
   "cell_type": "code",
   "execution_count": 24,
   "id": "cf8eca46-259a-4ac5-a34d-d9ed58206557",
   "metadata": {
    "executionTime": 306,
    "lastSuccessfullyExecutedCode": "# Specify director and producer to use as metadata for each record \nnormalize_movies = json_normalize(movies2, \n                                  record_path='features', \n                                  meta=[\"director\",\"producer\"])\n\n# Print normalize_movies\nprint(normalize_movies)"
   },
   "outputs": [
    {
     "name": "stdout",
     "output_type": "stream",
     "text": [
      "                      title  year     director       producer\n",
      "0    Magic in the Moonlight  2014  Woody Allen  Letty Aronson\n",
      "1  Vicky Cristina Barcelona  2008  Woody Allen  Letty Aronson\n",
      "2         Midnight in Paris  2011  Woody Allen  Letty Aronson\n",
      "3                     Mulan  2020    Niki Caro     Jason Reed\n"
     ]
    }
   ],
   "source": [
    "# Specify director and producer to use as metadata for each record \n",
    "normalize_movies = json_normalize(movies2, \n",
    "                                  record_path='features', \n",
    "                                  meta=[\"director\",\"producer\"])\n",
    "\n",
    "# Print normalize_movies\n",
    "print(normalize_movies)"
   ]
  },
  {
   "cell_type": "markdown",
   "id": "99b2ebfe-1029-4910-b323-7a82695ad35e",
   "metadata": {},
   "source": [
    "## Dealing with nested data columns  \n",
    "Suppose we have  \n",
    "writers=[\"\",\"\"]  \n",
    "books=[\"{:,:}\",\"{:,:}\"]  \n",
    "\n",
    "We can convert it to a dataframe with  \n",
    "collection=pd.DataFrame(dict(writers=writers,books=books)).  \n",
    "\n",
    "The book columns will contain nested data.  \n",
    "In order to handle that, let's import the json module. Now, we will load the JSON string contained in books into a dictionary.   \n",
    "\n",
    "import json  \n",
    "book=collection[\"books\"].apply(json.loads).apply(pd.Series)  \n",
    "\n",
    "It creates one column per key. The we concatenate back  \n",
    "\n",
    "collection=collection.drop(columns=\"books\")\n",
    "pd.concat([collection,books],axis=1)  \n",
    "\n",
    "Another approach  \n",
    "\n",
    "import json  \n",
    "books=collection[\"books\"].apply(json.loads).to_list()  \n",
    "books_dump=json.dumps(books)  \n",
    "new_books=pd.read_json(books_dump)  \n",
    "\n",
    "Then we can concat this dataframe  \n",
    "pd.concat([collection[\"writers\"],new_books],axis=1)"
   ]
  },
  {
   "cell_type": "markdown",
   "id": "5ac3ddff-91da-42a5-ac75-c6d2ec81ddc3",
   "metadata": {},
   "source": [
    " A client has provided data about birds he wants to classify.\n",
    "\n",
    "You examine the data and realize that it's in a bad format - the list of birds is in one file, and the characteristics of the birds are in another.\n",
    "\n",
    "You manage to read the bird names into a list called names. You read the bird facts into another list called bird_facts, but this list contains dictionaries in string format.\n",
    "\n",
    "To have a usable DataFrame, you will need to perform several operations."
   ]
  },
  {
   "cell_type": "code",
   "execution_count": 13,
   "id": "ddb4a56d-fa79-429e-ba98-5c4da2f5aeb2",
   "metadata": {
    "executionTime": 0,
    "lastSuccessfullyExecutedCode": "import pandas as pd\nimport json\nnames=['Killdeer', 'Chipping Sparrow', 'Cedar Waxwing']\nbird_facts=['{\"Size\" : \"Large\", \"Color\": \"Golden brown\", \"Behavior\": \"Runs swiftly along ground\", \"Habitat\": \"Rocky areas\"}','{\"Size\":\"Small\", \"Color\": \"Gray-white\", \"Behavior\": \"Often in flocks\", \"Habitat\": \"Open woodlands\"}','{\"Size\":\"Small\", \"Color\": \"Gray-brown\", \"Behavior\": \"Catch insects over open water\", \"Habitat\": \"Parks\"}']"
   },
   "outputs": [],
   "source": [
    "import pandas as pd\n",
    "import json\n",
    "names=['Killdeer', 'Chipping Sparrow', 'Cedar Waxwing']\n",
    "bird_facts=['{\"Size\" : \"Large\", \"Color\": \"Golden brown\", \"Behavior\": \"Runs swiftly along ground\", \"Habitat\": \"Rocky areas\"}','{\"Size\":\"Small\", \"Color\": \"Gray-white\", \"Behavior\": \"Often in flocks\", \"Habitat\": \"Open woodlands\"}','{\"Size\":\"Small\", \"Color\": \"Gray-brown\", \"Behavior\": \"Catch insects over open water\", \"Habitat\": \"Parks\"}']"
   ]
  },
  {
   "cell_type": "code",
   "execution_count": 14,
   "id": "cb443819-8efc-4a18-af91-20f7572611d3",
   "metadata": {
    "executionTime": 395,
    "lastSuccessfullyExecutedCode": "# Define birds reading names and bird_facts lists into names and bird_facts columns \nbirds = pd.DataFrame(dict(names=names,bird_facts=bird_facts))\n\n# Print birds\nprint(birds)"
   },
   "outputs": [
    {
     "name": "stdout",
     "output_type": "stream",
     "text": [
      "              names                                         bird_facts\n",
      "0          Killdeer  {\"Size\" : \"Large\", \"Color\": \"Golden brown\", \"B...\n",
      "1  Chipping Sparrow  {\"Size\":\"Small\", \"Color\": \"Gray-white\", \"Behav...\n",
      "2     Cedar Waxwing  {\"Size\":\"Small\", \"Color\": \"Gray-brown\", \"Behav...\n"
     ]
    }
   ],
   "source": [
    "# Define birds reading names and bird_facts lists into names and bird_facts columns \n",
    "birds = pd.DataFrame(dict(names=names,bird_facts=bird_facts))\n",
    "\n",
    "# Print birds\n",
    "print(birds)"
   ]
  },
  {
   "cell_type": "code",
   "execution_count": 15,
   "id": "6ea3cee5-6846-4fb8-a9d2-a0b3f716a136",
   "metadata": {
    "executionTime": 446,
    "lastSuccessfullyExecutedCode": "# Define birds reading names and bird_facts lists into names and bird_facts columns\nbirds = pd.DataFrame(dict(names=names, bird_facts=bird_facts))\n\n# Apply to bird_facts column the function loads from json module\ndata_split = birds['bird_facts'].apply(json.loads).apply(pd.Series)\n\nprint(data_split)"
   },
   "outputs": [
    {
     "name": "stdout",
     "output_type": "stream",
     "text": [
      "    Size         Color                       Behavior         Habitat\n",
      "0  Large  Golden brown      Runs swiftly along ground     Rocky areas\n",
      "1  Small    Gray-white                Often in flocks  Open woodlands\n",
      "2  Small    Gray-brown  Catch insects over open water           Parks\n"
     ]
    }
   ],
   "source": [
    "# Define birds reading names and bird_facts lists into names and bird_facts columns\n",
    "birds = pd.DataFrame(dict(names=names, bird_facts=bird_facts))\n",
    "\n",
    "# Apply to bird_facts column the function loads from json module\n",
    "data_split = birds['bird_facts'].apply(json.loads).apply(pd.Series)\n",
    "\n",
    "print(data_split)"
   ]
  },
  {
   "cell_type": "code",
   "execution_count": 16,
   "id": "80a5bf4f-ae38-441a-9762-0298ff68ae23",
   "metadata": {
    "executionTime": 817,
    "lastSuccessfullyExecutedCode": "# Define birds reading names and bird_facts lists into names and bird_facts columns\nbirds = pd.DataFrame(dict(names=names, bird_facts=bird_facts))\n\n# Apply to bird_facts column the function loads from json module\ndata_split = birds['bird_facts'].apply(json.loads).apply(pd.Series)\n\n# Remove the bird_facts column from birds\nbirds = birds.drop(columns='bird_facts')\n\n# Concatenate the columns of birds and data_split\nbirds = pd.concat([birds,data_split], axis=1)\n\n# Print birds\nprint(birds)"
   },
   "outputs": [
    {
     "name": "stdout",
     "output_type": "stream",
     "text": [
      "              names   Size  ...                       Behavior         Habitat\n",
      "0          Killdeer  Large  ...      Runs swiftly along ground     Rocky areas\n",
      "1  Chipping Sparrow  Small  ...                Often in flocks  Open woodlands\n",
      "2     Cedar Waxwing  Small  ...  Catch insects over open water           Parks\n",
      "\n",
      "[3 rows x 5 columns]\n"
     ]
    }
   ],
   "source": [
    "# Define birds reading names and bird_facts lists into names and bird_facts columns\n",
    "birds = pd.DataFrame(dict(names=names, bird_facts=bird_facts))\n",
    "\n",
    "# Apply to bird_facts column the function loads from json module\n",
    "data_split = birds['bird_facts'].apply(json.loads).apply(pd.Series)\n",
    "\n",
    "# Remove the bird_facts column from birds\n",
    "birds = birds.drop(columns='bird_facts')\n",
    "\n",
    "# Concatenate the columns of birds and data_split\n",
    "birds = pd.concat([birds,data_split], axis=1)\n",
    "\n",
    "# Print birds\n",
    "print(birds)"
   ]
  },
  {
   "cell_type": "markdown",
   "id": "116ea6eb-044b-4256-84a4-8394936f0367",
   "metadata": {},
   "source": [
    "You want to read the birds data into a DataFrame like you did in the previous exercise, but this time, you would like to try a different approach.\n",
    "\n",
    "You would like to have a code that you can reuse in this situations, so you want to establish the fastest strategy to convert it into a usable DataFrame. You think that working with the json format could speed up the process."
   ]
  },
  {
   "cell_type": "code",
   "execution_count": 17,
   "id": "0c7f19cc-3f62-4e2b-8f8c-dff01072c5b9",
   "metadata": {
    "executionTime": 576,
    "lastSuccessfullyExecutedCode": "# Define birds reading names and bird_facts lists into names and bird_facts columns\nbirds = pd.DataFrame(dict(names=names, bird_facts=bird_facts))\n\n# Apply json.loads to the bird_facts column and transform it to a list \nbirds_facts = birds['bird_facts'].apply(json.loads).to_list()\n\n# Convert birds_fact into a JSON \nbirds_dump = json.dumps(birds_facts)\n\n# Read the JSON birds_dump into a DataFrame\nbirds_df = pd.read_json(birds_dump)\n\n# Concatenate the 'names' column of birds with birds_df \nbirds_final = pd.concat([birds[\"names\"], birds_df], axis=1)\n\n# Print birds_final\nprint(birds_final)"
   },
   "outputs": [
    {
     "name": "stdout",
     "output_type": "stream",
     "text": [
      "              names   Size  ...                       Behavior         Habitat\n",
      "0          Killdeer  Large  ...      Runs swiftly along ground     Rocky areas\n",
      "1  Chipping Sparrow  Small  ...                Often in flocks  Open woodlands\n",
      "2     Cedar Waxwing  Small  ...  Catch insects over open water           Parks\n",
      "\n",
      "[3 rows x 5 columns]\n"
     ]
    }
   ],
   "source": [
    "# Define birds reading names and bird_facts lists into names and bird_facts columns\n",
    "birds = pd.DataFrame(dict(names=names, bird_facts=bird_facts))\n",
    "\n",
    "# Apply json.loads to the bird_facts column and transform it to a list \n",
    "birds_facts = birds['bird_facts'].apply(json.loads).to_list()\n",
    "\n",
    "# Convert birds_fact into a JSON \n",
    "birds_dump = json.dumps(birds_facts)\n",
    "\n",
    "# Read the JSON birds_dump into a DataFrame\n",
    "birds_df = pd.read_json(birds_dump)\n",
    "\n",
    "# Concatenate the 'names' column of birds with birds_df \n",
    "birds_final = pd.concat([birds[\"names\"], birds_df], axis=1)\n",
    "\n",
    "# Print birds_final\n",
    "print(birds_final)"
   ]
  }
 ],
 "metadata": {
  "colab": {
   "name": "Welcome to DataCamp Workspaces.ipynb",
   "provenance": []
  },
  "kernelspec": {
   "display_name": "Python 3",
   "language": "python",
   "name": "python3"
  },
  "language_info": {
   "codemirror_mode": {
    "name": "ipython",
    "version": 3
   },
   "file_extension": ".py",
   "mimetype": "text/x-python",
   "name": "python",
   "nbconvert_exporter": "python",
   "pygments_lexer": "ipython3",
   "version": "3.12.6"
  }
 },
 "nbformat": 4,
 "nbformat_minor": 5
}
