{
 "cells": [
  {
   "attachments": {},
   "cell_type": "markdown",
   "metadata": {},
   "source": [
    "# Car price prediction project by Machine Learning\n",
    "### César Muro Cabral\n"
   ]
  },
  {
   "attachments": {},
   "cell_type": "markdown",
   "metadata": {},
   "source": [
    "### Business understanding"
   ]
  },
  {
   "attachments": {},
   "cell_type": "markdown",
   "metadata": {},
   "source": [
    "In this project, we predict the car price given a cars dataset with features including make, model, year, engine, and other properties to predict its price. This dataset was obtained from Kaggle.  \n",
    "  \n",
    "The characteristics of cars are the *features*, and the price is the *target variable*.  \n",
    "\n",
    "We perform linear regression, first by normal equation and then using scikit-learn with regularization.\n",
    "\n",
    "We load the following modules"
   ]
  },
  {
   "cell_type": "code",
   "execution_count": 9,
   "metadata": {},
   "outputs": [],
   "source": [
    "import pandas as pd\n",
    "import matplotlib.pyplot as plt\n",
    "import seaborn as sns\n",
    "import numpy as np"
   ]
  },
  {
   "attachments": {},
   "cell_type": "markdown",
   "metadata": {},
   "source": [
    "### Data understanding\n",
    "  \n",
    "We import the data from my github and store it in a dataframe"
   ]
  },
  {
   "cell_type": "code",
   "execution_count": 10,
   "metadata": {},
   "outputs": [
    {
     "name": "stdout",
     "output_type": "stream",
     "text": [
      "  Make       Model  Year             Engine Fuel Type  Engine HP  \\\n",
      "0  BMW  1 Series M  2011  premium unleaded (required)      335.0   \n",
      "1  BMW    1 Series  2011  premium unleaded (required)      300.0   \n",
      "2  BMW    1 Series  2011  premium unleaded (required)      300.0   \n",
      "3  BMW    1 Series  2011  premium unleaded (required)      230.0   \n",
      "4  BMW    1 Series  2011  premium unleaded (required)      230.0   \n",
      "\n",
      "   Engine Cylinders Transmission Type     Driven_Wheels  Number of Doors  \\\n",
      "0               6.0            MANUAL  rear wheel drive              2.0   \n",
      "1               6.0            MANUAL  rear wheel drive              2.0   \n",
      "2               6.0            MANUAL  rear wheel drive              2.0   \n",
      "3               6.0            MANUAL  rear wheel drive              2.0   \n",
      "4               6.0            MANUAL  rear wheel drive              2.0   \n",
      "\n",
      "                         Market Category Vehicle Size Vehicle Style  \\\n",
      "0  Factory Tuner,Luxury,High-Performance      Compact         Coupe   \n",
      "1                     Luxury,Performance      Compact   Convertible   \n",
      "2                Luxury,High-Performance      Compact         Coupe   \n",
      "3                     Luxury,Performance      Compact         Coupe   \n",
      "4                                 Luxury      Compact   Convertible   \n",
      "\n",
      "   highway MPG  city mpg  Popularity   MSRP  \n",
      "0           26        19        3916  46135  \n",
      "1           28        19        3916  40650  \n",
      "2           28        20        3916  36350  \n",
      "3           28        18        3916  29450  \n",
      "4           28        18        3916  34500  \n"
     ]
    }
   ],
   "source": [
    "url=\"https://raw.githubusercontent.com/cmuro27/Data_Analysis_Projects_and_Notes/main/datasets/car_sales.csv\"\n",
    "df=pd.read_csv(url)\n",
    "print(df.head())"
   ]
  },
  {
   "attachments": {},
   "cell_type": "markdown",
   "metadata": {},
   "source": [
    "### Data preparation and Modellation"
   ]
  },
  {
   "attachments": {},
   "cell_type": "markdown",
   "metadata": {},
   "source": [
    "Now, we perform an exploratory data analysis to learn  \n",
    "* The distribution of the target variable  \n",
    "* The features in this dataset  \n",
    "* The distribution of values in these features  \n",
    "* The quality of data  \n",
    "* The number of missing values"
   ]
  },
  {
   "cell_type": "code",
   "execution_count": 4,
   "metadata": {},
   "outputs": [
    {
     "name": "stdout",
     "output_type": "stream",
     "text": [
      "<class 'pandas.core.frame.DataFrame'>\n",
      "RangeIndex: 11914 entries, 0 to 11913\n",
      "Data columns (total 16 columns):\n",
      " #   Column             Non-Null Count  Dtype  \n",
      "---  ------             --------------  -----  \n",
      " 0   Make               11914 non-null  object \n",
      " 1   Model              11914 non-null  object \n",
      " 2   Year               11914 non-null  int64  \n",
      " 3   Engine Fuel Type   11911 non-null  object \n",
      " 4   Engine HP          11845 non-null  float64\n",
      " 5   Engine Cylinders   11884 non-null  float64\n",
      " 6   Transmission Type  11914 non-null  object \n",
      " 7   Driven_Wheels      11914 non-null  object \n",
      " 8   Number of Doors    11908 non-null  float64\n",
      " 9   Market Category    8172 non-null   object \n",
      " 10  Vehicle Size       11914 non-null  object \n",
      " 11  Vehicle Style      11914 non-null  object \n",
      " 12  highway MPG        11914 non-null  int64  \n",
      " 13  city mpg           11914 non-null  int64  \n",
      " 14  Popularity         11914 non-null  int64  \n",
      " 15  MSRP               11914 non-null  int64  \n",
      "dtypes: float64(3), int64(5), object(8)\n",
      "memory usage: 1.5+ MB\n",
      "None\n"
     ]
    }
   ],
   "source": [
    "print(df.info())"
   ]
  },
  {
   "attachments": {},
   "cell_type": "markdown",
   "metadata": {},
   "source": [
    "We can already see that there are some inconsistencies in this dataset: the column names sometimes have spaces, and\n",
    "sometimes have underscores (_). The same is true for feature values: sometimes they’re capitalized, and sometimes they are short strings with spaces. This is inconvenient and confusing, but we can solve this by normalizing them — replacing all spaces with underscores and lowercase all  letters:"
   ]
  },
  {
   "cell_type": "code",
   "execution_count": 11,
   "metadata": {},
   "outputs": [],
   "source": [
    "df.columns=df.columns.str.lower().str.replace(' ','_')\n",
    "string_columns=list(df.dtypes[df.dtypes==\"object\"].index)\n",
    "\n",
    "for col in string_columns:\n",
    "    df[col]=df[col].str.lower().str.replace(' ','_')"
   ]
  },
  {
   "cell_type": "code",
   "execution_count": 19,
   "metadata": {},
   "outputs": [
    {
     "data": {
      "text/html": [
       "<div>\n",
       "<style scoped>\n",
       "    .dataframe tbody tr th:only-of-type {\n",
       "        vertical-align: middle;\n",
       "    }\n",
       "\n",
       "    .dataframe tbody tr th {\n",
       "        vertical-align: top;\n",
       "    }\n",
       "\n",
       "    .dataframe thead th {\n",
       "        text-align: right;\n",
       "    }\n",
       "</style>\n",
       "<table border=\"1\" class=\"dataframe\">\n",
       "  <thead>\n",
       "    <tr style=\"text-align: right;\">\n",
       "      <th></th>\n",
       "      <th>make</th>\n",
       "      <th>model</th>\n",
       "      <th>year</th>\n",
       "      <th>engine_fuel_type</th>\n",
       "      <th>engine_hp</th>\n",
       "      <th>engine_cylinders</th>\n",
       "      <th>transmission_type</th>\n",
       "      <th>driven_wheels</th>\n",
       "      <th>number_of_doors</th>\n",
       "      <th>market_category</th>\n",
       "      <th>vehicle_size</th>\n",
       "      <th>vehicle_style</th>\n",
       "      <th>highway_mpg</th>\n",
       "      <th>city_mpg</th>\n",
       "      <th>popularity</th>\n",
       "      <th>msrp</th>\n",
       "    </tr>\n",
       "  </thead>\n",
       "  <tbody>\n",
       "    <tr>\n",
       "      <th>0</th>\n",
       "      <td>bmw</td>\n",
       "      <td>1_series_m</td>\n",
       "      <td>2011</td>\n",
       "      <td>premium_unleaded_(required)</td>\n",
       "      <td>335.0</td>\n",
       "      <td>6.0</td>\n",
       "      <td>manual</td>\n",
       "      <td>rear_wheel_drive</td>\n",
       "      <td>2.0</td>\n",
       "      <td>factory_tuner,luxury,high-performance</td>\n",
       "      <td>compact</td>\n",
       "      <td>coupe</td>\n",
       "      <td>26</td>\n",
       "      <td>19</td>\n",
       "      <td>3916</td>\n",
       "      <td>46135</td>\n",
       "    </tr>\n",
       "    <tr>\n",
       "      <th>1</th>\n",
       "      <td>bmw</td>\n",
       "      <td>1_series</td>\n",
       "      <td>2011</td>\n",
       "      <td>premium_unleaded_(required)</td>\n",
       "      <td>300.0</td>\n",
       "      <td>6.0</td>\n",
       "      <td>manual</td>\n",
       "      <td>rear_wheel_drive</td>\n",
       "      <td>2.0</td>\n",
       "      <td>luxury,performance</td>\n",
       "      <td>compact</td>\n",
       "      <td>convertible</td>\n",
       "      <td>28</td>\n",
       "      <td>19</td>\n",
       "      <td>3916</td>\n",
       "      <td>40650</td>\n",
       "    </tr>\n",
       "    <tr>\n",
       "      <th>2</th>\n",
       "      <td>bmw</td>\n",
       "      <td>1_series</td>\n",
       "      <td>2011</td>\n",
       "      <td>premium_unleaded_(required)</td>\n",
       "      <td>300.0</td>\n",
       "      <td>6.0</td>\n",
       "      <td>manual</td>\n",
       "      <td>rear_wheel_drive</td>\n",
       "      <td>2.0</td>\n",
       "      <td>luxury,high-performance</td>\n",
       "      <td>compact</td>\n",
       "      <td>coupe</td>\n",
       "      <td>28</td>\n",
       "      <td>20</td>\n",
       "      <td>3916</td>\n",
       "      <td>36350</td>\n",
       "    </tr>\n",
       "    <tr>\n",
       "      <th>3</th>\n",
       "      <td>bmw</td>\n",
       "      <td>1_series</td>\n",
       "      <td>2011</td>\n",
       "      <td>premium_unleaded_(required)</td>\n",
       "      <td>230.0</td>\n",
       "      <td>6.0</td>\n",
       "      <td>manual</td>\n",
       "      <td>rear_wheel_drive</td>\n",
       "      <td>2.0</td>\n",
       "      <td>luxury,performance</td>\n",
       "      <td>compact</td>\n",
       "      <td>coupe</td>\n",
       "      <td>28</td>\n",
       "      <td>18</td>\n",
       "      <td>3916</td>\n",
       "      <td>29450</td>\n",
       "    </tr>\n",
       "    <tr>\n",
       "      <th>4</th>\n",
       "      <td>bmw</td>\n",
       "      <td>1_series</td>\n",
       "      <td>2011</td>\n",
       "      <td>premium_unleaded_(required)</td>\n",
       "      <td>230.0</td>\n",
       "      <td>6.0</td>\n",
       "      <td>manual</td>\n",
       "      <td>rear_wheel_drive</td>\n",
       "      <td>2.0</td>\n",
       "      <td>luxury</td>\n",
       "      <td>compact</td>\n",
       "      <td>convertible</td>\n",
       "      <td>28</td>\n",
       "      <td>18</td>\n",
       "      <td>3916</td>\n",
       "      <td>34500</td>\n",
       "    </tr>\n",
       "  </tbody>\n",
       "</table>\n",
       "</div>"
      ],
      "text/plain": [
       "  make       model  year             engine_fuel_type  engine_hp  \\\n",
       "0  bmw  1_series_m  2011  premium_unleaded_(required)      335.0   \n",
       "1  bmw    1_series  2011  premium_unleaded_(required)      300.0   \n",
       "2  bmw    1_series  2011  premium_unleaded_(required)      300.0   \n",
       "3  bmw    1_series  2011  premium_unleaded_(required)      230.0   \n",
       "4  bmw    1_series  2011  premium_unleaded_(required)      230.0   \n",
       "\n",
       "   engine_cylinders transmission_type     driven_wheels  number_of_doors  \\\n",
       "0               6.0            manual  rear_wheel_drive              2.0   \n",
       "1               6.0            manual  rear_wheel_drive              2.0   \n",
       "2               6.0            manual  rear_wheel_drive              2.0   \n",
       "3               6.0            manual  rear_wheel_drive              2.0   \n",
       "4               6.0            manual  rear_wheel_drive              2.0   \n",
       "\n",
       "                         market_category vehicle_size vehicle_style  \\\n",
       "0  factory_tuner,luxury,high-performance      compact         coupe   \n",
       "1                     luxury,performance      compact   convertible   \n",
       "2                luxury,high-performance      compact         coupe   \n",
       "3                     luxury,performance      compact         coupe   \n",
       "4                                 luxury      compact   convertible   \n",
       "\n",
       "   highway_mpg  city_mpg  popularity   msrp  \n",
       "0           26        19        3916  46135  \n",
       "1           28        19        3916  40650  \n",
       "2           28        20        3916  36350  \n",
       "3           28        18        3916  29450  \n",
       "4           28        18        3916  34500  "
      ]
     },
     "execution_count": 19,
     "metadata": {},
     "output_type": "execute_result"
    }
   ],
   "source": [
    "df.head()"
   ]
  },
  {
   "cell_type": "code",
   "execution_count": 12,
   "metadata": {},
   "outputs": [
    {
     "data": {
      "text/plain": [
       "automatic           8266\n",
       "manual              2935\n",
       "automated_manual     626\n",
       "direct_drive          68\n",
       "unknown               19\n",
       "Name: transmission_type, dtype: int64"
      ]
     },
     "execution_count": 12,
     "metadata": {},
     "output_type": "execute_result"
    }
   ],
   "source": [
    "df.transmission_type.value_counts()"
   ]
  },
  {
   "attachments": {},
   "cell_type": "markdown",
   "metadata": {},
   "source": [
    "For us, the most interesting column here is the last one: MSRP (manufacturer’s suggested retail price, or simply the price of a car). We will use this column for predicting the prices of a car.  Then, it’s our target variable, the $y$, which is the value that we want to learn to predict."
   ]
  },
  {
   "cell_type": "code",
   "execution_count": 13,
   "metadata": {},
   "outputs": [
    {
     "data": {
      "image/png": "[encoded data removed]",
      "text/plain": [
       "<Figure size 432x288 with 1 Axes>"
      ]
     },
     "metadata": {
      "needs_background": "light"
     },
     "output_type": "display_data"
    }
   ],
   "source": [
    "sns.histplot(x=\"msrp\",data=df)\n",
    "plt.show()"
   ]
  },
  {
   "attachments": {},
   "cell_type": "markdown",
   "metadata": {},
   "source": [
    "It has a very long tail. The long tail makes it quite difficult for us to see the distribution, but it has an even stronger effect on a model: such distribution can greatly confuse the model, so it won’t learn well enough. Let us cut part of this tail to get a better visualization."
   ]
  },
  {
   "cell_type": "code",
   "execution_count": 22,
   "metadata": {},
   "outputs": [
    {
     "data": {
      "text/plain": [
       "<AxesSubplot:xlabel='msrp', ylabel='Count'>"
      ]
     },
     "execution_count": 22,
     "metadata": {},
     "output_type": "execute_result"
    },
    {
     "data": {
      "image/png": "[encoded data removed]",
      "text/plain": [
       "<Figure size 432x288 with 1 Axes>"
      ]
     },
     "metadata": {
      "needs_background": "light"
     },
     "output_type": "display_data"
    }
   ],
   "source": [
    "sns.histplot(x=\"msrp\",data=df[df[\"msrp\"]<100000])"
   ]
  },
  {
   "cell_type": "code",
   "execution_count": 23,
   "metadata": {},
   "outputs": [
    {
     "data": {
      "text/plain": [
       "count    1.191400e+04\n",
       "mean     4.059474e+04\n",
       "std      6.010910e+04\n",
       "min      2.000000e+03\n",
       "25%      2.100000e+04\n",
       "50%      2.999500e+04\n",
       "75%      4.223125e+04\n",
       "max      2.065902e+06\n",
       "Name: msrp, dtype: float64"
      ]
     },
     "execution_count": 23,
     "metadata": {},
     "output_type": "execute_result"
    }
   ],
   "source": [
    "df.msrp.describe()"
   ]
  },
  {
   "cell_type": "code",
   "execution_count": 14,
   "metadata": {},
   "outputs": [
    {
     "data": {
      "image/png": "[encoded data removed]",
      "text/plain": [
       "<Figure size 432x288 with 1 Axes>"
      ]
     },
     "metadata": {
      "needs_background": "light"
     },
     "output_type": "display_data"
    }
   ],
   "source": [
    "log_price=np.log(df.msrp)\n",
    "sns.histplot(log_price)\n",
    "plt.show()"
   ]
  },
  {
   "attachments": {},
   "cell_type": "markdown",
   "metadata": {},
   "source": [
    "Now, we inspect the missing values of the dataframe"
   ]
  },
  {
   "cell_type": "code",
   "execution_count": 15,
   "metadata": {},
   "outputs": [
    {
     "data": {
      "text/plain": [
       "make                    0\n",
       "model                   0\n",
       "year                    0\n",
       "engine_fuel_type        3\n",
       "engine_hp              69\n",
       "engine_cylinders       30\n",
       "transmission_type       0\n",
       "driven_wheels           0\n",
       "number_of_doors         6\n",
       "market_category      3742\n",
       "vehicle_size            0\n",
       "vehicle_style           0\n",
       "highway_mpg             0\n",
       "city_mpg                0\n",
       "popularity              0\n",
       "msrp                    0\n",
       "dtype: int64"
      ]
     },
     "execution_count": 15,
     "metadata": {},
     "output_type": "execute_result"
    }
   ],
   "source": [
    "df.isnull().sum()"
   ]
  },
  {
   "attachments": {},
   "cell_type": "markdown",
   "metadata": {},
   "source": [
    "We see that the market_category has a large number of missing values. Afortunately, our target variable, msrp, does not have missing values."
   ]
  },
  {
   "attachments": {},
   "cell_type": "markdown",
   "metadata": {},
   "source": [
    "As we learned previously, it’s important to set up the validation framework as early as possible to make sure that the models we train are good and can generalize — that is, that the model can be applied to new, unseen data. To do that, we put aside some data and train the model only on one part. Then we use the held-out dataset — the one we didn’t use for training — to make sure that the predictions of the model make sense."
   ]
  },
  {
   "attachments": {},
   "cell_type": "markdown",
   "metadata": {},
   "source": [
    "We split our dataframe such that:  \n",
    "* $20 %$ of data goes to validation.\n",
    "* $20 %$ goes to test.\n",
    "* $60 %$ goes to training."
   ]
  },
  {
   "cell_type": "code",
   "execution_count": 64,
   "metadata": {},
   "outputs": [],
   "source": [
    "n=len(df) #Total number of rows\n",
    "n_val=int(0.2*n) #Number of rows to validation\n",
    "n_test=int(0.2*n) #Number of rows to test\n",
    "n_train=n-n_val-n_test #Number of rows to trains"
   ]
  },
  {
   "cell_type": "code",
   "execution_count": 65,
   "metadata": {},
   "outputs": [],
   "source": [
    "# We shuffle the dataframe\n",
    "np.random.seed(2)\n",
    "idx=np.arange(n)\n",
    "np.random.shuffle(idx)\n",
    "df_shuffled=df.iloc[idx] #Use an array with indices to get a shuffled dataframe"
   ]
  },
  {
   "cell_type": "code",
   "execution_count": 66,
   "metadata": {},
   "outputs": [],
   "source": [
    "#Then, we select the subsets\n",
    "df_train=df_shuffled.iloc[:n_train].copy()\n",
    "df_val=df_shuffled.iloc[n_train:n_train+n_val].copy()\n",
    "df_test=df_shuffled.iloc[n_train+n_val:].copy()"
   ]
  },
  {
   "attachments": {},
   "cell_type": "markdown",
   "metadata": {},
   "source": [
    "Now the DataFrame is split into three parts, and we can continue. Our initial analysis\n",
    "showed a long tail in the distribution of prices, and to remove its effect, we need to\n",
    "apply the log transformation. We can do that for each DataFrame separately: "
   ]
  },
  {
   "cell_type": "code",
   "execution_count": 67,
   "metadata": {},
   "outputs": [],
   "source": [
    "y_train=np.log1p(df_train.msrp.values)\n",
    "y_test=np.log1p(df_test.msrp.values)\n",
    "y_val=np.log1p(df_val.msrp.values)"
   ]
  },
  {
   "attachments": {},
   "cell_type": "markdown",
   "metadata": {},
   "source": [
    "## First machine learning model - Normal equation\n",
    "After performing the initial data analysis, we are ready to train a model. The problem we are solving is a regression problem: the goal is to predict a number — the price of a car. For this project we will use the simplest regression model: linear regression."
   ]
  },
  {
   "attachments": {},
   "cell_type": "markdown",
   "metadata": {},
   "source": [
    "Our model is $f_{\\vec{w},b}(x)=\\vec{w}\\cdot \\vec{x}+w_{0}$, but in matrix form it takes the form\n",
    "$$g(\\vec{x})=X\\vec{w},$$\n",
    "where $\\vec{w}=(w_{0},...,w_{n})$ with $w_{0}$ is the bias term of the equation, and $X$ is a matrix with rows with the vectors $\\vec{x}^{j}=(1,x^{1},x^{2},...,x^{n})$ with $j=1,2,...,m$ being $m$ the number of vectors. The lenght $n$ of the vector is the number of features.  "
   ]
  },
  {
   "cell_type": "code",
   "execution_count": 20,
   "metadata": {},
   "outputs": [],
   "source": [
    "def linear_regression(X,w):\n",
    "    return X.dot(w)"
   ]
  },
  {
   "attachments": {},
   "cell_type": "markdown",
   "metadata": {},
   "source": [
    "We learn the weights from data: we use the target variable y to find such w that combines the features of X in the best possible way. “Best possible” in the case of linear regression means that it minimizes the error between the predictions g(X) and the actual target y."
   ]
  },
  {
   "attachments": {},
   "cell_type": "markdown",
   "metadata": {},
   "source": [
    "In the normal equation approach, the weight vector can be computed with the following formula:\n",
    "$$w=(X^{T}X)^{-1}X^{T}y,$$\n",
    "where:  \n",
    "* $X^{T}$ is the transpose of X. In Numpy X.T\n",
    "* $X^{T}X$ is matrix multiplication. In Numpy X.T.dot(X)\n",
    "* $X^{-1}$ is the inverse of $X$. We can use np.linalg.inv function to calculate the inverse.   \n"
   ]
  },
  {
   "attachments": {},
   "cell_type": "markdown",
   "metadata": {},
   "source": [
    "To implement the normal equation, we need to do the following:  \n",
    "1 Create a function that takes in a matrix X with features and a vector y with the target.    \n",
    "2 Add a dummy column (the feature that is always set to 1) to the matrix X.    \n",
    "3 Train the model: compute the weights w by using the normal equation.  \n",
    "4 Split this w into the bias w0 and the rest of the weights, and return them.  "
   ]
  },
  {
   "attachments": {},
   "cell_type": "markdown",
   "metadata": {},
   "source": [
    "Let us define the machine learning model"
   ]
  },
  {
   "cell_type": "code",
   "execution_count": 68,
   "metadata": {},
   "outputs": [],
   "source": [
    "def train_linear_regression(X,y):\n",
    "    #We create and array with ones with the shape of X\n",
    "    ones=np.ones(X.shape[0])\n",
    "    #Stacks this as a column to X\n",
    "    X=np.column_stack([ones,X])\n",
    "    #The normal equation formula\n",
    "    w=np.linalg.inv(X.T.dot(X)).dot(X.T).dot(y)\n",
    "    #Splits the weight vector into the bias and the rest of the weight\n",
    "    return w[0],w[1:]"
   ]
  },
  {
   "attachments": {},
   "cell_type": "markdown",
   "metadata": {},
   "source": [
    "We will start with a very naive way of creating features: select a few numerical features, and form the matrix X from them. In the previous example, we used only three features. This time, we include a couple more features and use the following columns:  \n",
    "* engine_hp  \n",
    "* engine_cylinders  \n",
    "* highway_mpg  \n",
    "* city_mpg   \n",
    "* popularity  \n",
    "  \n",
    "We have 5 features.  "
   ]
  },
  {
   "attachments": {},
   "cell_type": "markdown",
   "metadata": {},
   "source": [
    "Let’s select the features from the data frame and write them to a new variable, df_num. As the linear regression model cannot deal with missing values automatically, we fill the missing values with zeros"
   ]
  },
  {
   "cell_type": "code",
   "execution_count": 70,
   "metadata": {},
   "outputs": [],
   "source": [
    "base=['engine_hp','engine_cylinders','highway_mpg','city_mpg','popularity']\n",
    "df_num=df_train[base]\n",
    "df_num=df_num.fillna(0)"
   ]
  },
  {
   "attachments": {},
   "cell_type": "markdown",
   "metadata": {},
   "source": [
    "Now we need to convert this DataFrame to a NumPy array. The easiest way to do it is to use its values property"
   ]
  },
  {
   "cell_type": "code",
   "execution_count": 71,
   "metadata": {},
   "outputs": [],
   "source": [
    "X_train=df_num.values #It is a matrix"
   ]
  },
  {
   "attachments": {},
   "cell_type": "markdown",
   "metadata": {},
   "source": [
    "Remember that previous we have defined out y_train array. Applying our model"
   ]
  },
  {
   "cell_type": "code",
   "execution_count": 72,
   "metadata": {},
   "outputs": [],
   "source": [
    "w_0, w = train_linear_regression(X_train,y_train)"
   ]
  },
  {
   "attachments": {},
   "cell_type": "markdown",
   "metadata": {},
   "source": [
    "Now we can apply it to the training data to see how well it predicts:"
   ]
  },
  {
   "cell_type": "code",
   "execution_count": 73,
   "metadata": {},
   "outputs": [],
   "source": [
    "y_pred=w_0+X_train.dot(w)"
   ]
  },
  {
   "attachments": {},
   "cell_type": "markdown",
   "metadata": {},
   "source": [
    "We can visualize how good our prediciton are by plotting histograms of the predicted and actual prices"
   ]
  },
  {
   "cell_type": "code",
   "execution_count": 74,
   "metadata": {},
   "outputs": [
    {
     "data": {
      "text/plain": [
       "<matplotlib.legend.Legend at 0x251e21cefd0>"
      ]
     },
     "execution_count": 74,
     "metadata": {},
     "output_type": "execute_result"
    },
    {
     "data": {
      "image/png": "[encoded data removed]",
      "text/plain": [
       "<Figure size 432x288 with 1 Axes>"
      ]
     },
     "metadata": {
      "needs_background": "light"
     },
     "output_type": "display_data"
    }
   ],
   "source": [
    "sns.histplot(y_pred,label=\"prediction\")\n",
    "sns.histplot(y_train,label=\"target\")\n",
    "plt.title(\"Predictions vs. actual distribution\")\n",
    "plt.legend()"
   ]
  },
  {
   "attachments": {},
   "cell_type": "markdown",
   "metadata": {},
   "source": [
    "We can see our model looks different from the actual values. Our model is quite basic and includes only five very simple features."
   ]
  },
  {
   "attachments": {},
   "cell_type": "markdown",
   "metadata": {},
   "source": [
    "To evaluate our model we use the metric root mean squared error- RMSE for short.  \n",
    "$$RMSE=\\sqrt{\\frac{1}{m}\\sum_{i=1}^{m}(g(x_{i})-y_{i})^{2}}$$"
   ]
  },
  {
   "attachments": {},
   "cell_type": "markdown",
   "metadata": {},
   "source": [
    "When using NumPy to implement RMSE, we can take advantage of vectorization: the process of applying the same operation to all elements of one or more NumPy arrays."
   ]
  },
  {
   "cell_type": "code",
   "execution_count": 30,
   "metadata": {},
   "outputs": [],
   "source": [
    "def rmse(y,y_pred):\n",
    "    mse=((y-y_pred)**2).mean()\n",
    "    return np.sqrt(mse)"
   ]
  },
  {
   "attachments": {},
   "cell_type": "markdown",
   "metadata": {},
   "source": [
    "Now we can use RMSE to evaluate the quality of the model:"
   ]
  },
  {
   "cell_type": "code",
   "execution_count": 31,
   "metadata": {},
   "outputs": [
    {
     "data": {
      "text/plain": [
       "0.7554192603920132"
      ]
     },
     "execution_count": 31,
     "metadata": {},
     "output_type": "execute_result"
    }
   ],
   "source": [
    "rmse(y_train,y_pred)"
   ]
  },
  {
   "attachments": {},
   "cell_type": "markdown",
   "metadata": {},
   "source": [
    "This number tells us that on average, the model’s predictions are off by 0.75. This result alone may not be very useful, but we can use it to compare this model with other models. If one model has a better (lower) RMSE than the other, it indicates that model is better. For that purpose, we set aside a validation dataset.   \n",
    "We have already split our data into multiple parts: df_train, df_val, and df_test. We have also created a matrix X_train from df_train and used X_train and y_train to train the model. Now we need to do the same steps to get X_val — a matrix with features computed from the validation dataset. Then we can apply the model to X_val to get predictions and compare them with y_val."
   ]
  },
  {
   "cell_type": "code",
   "execution_count": 53,
   "metadata": {},
   "outputs": [],
   "source": [
    "#Recall that we have defined the numerical features as base \n",
    "base=['engine_hp','engine_cylinders','highway_mpg','city_mpg','popularity']\n",
    "df_num=df_val[base]\n",
    "df_num=df_num.fillna(0)\n",
    "X_val=df_num.values\n"
   ]
  },
  {
   "cell_type": "code",
   "execution_count": 36,
   "metadata": {},
   "outputs": [
    {
     "data": {
      "text/plain": [
       "0.7616530991301594"
      ]
     },
     "execution_count": 36,
     "metadata": {},
     "output_type": "execute_result"
    }
   ],
   "source": [
    "#We apply the model to X_val an calculate the rmse  \n",
    "y_pred=w_0+X_val.dot(w)\n",
    "rmse(y_val,y_pred)"
   ]
  },
  {
   "attachments": {},
   "cell_type": "markdown",
   "metadata": {},
   "source": [
    "This value of 0.7616 is the number we should use for comparing models."
   ]
  },
  {
   "cell_type": "code",
   "execution_count": 37,
   "metadata": {},
   "outputs": [],
   "source": [
    "#Also recall the training function where we solve by normal equation\n",
    "def train_linear_regression(X,y):\n",
    "    #We create and array with ones with the shape of X\n",
    "    ones=np.ones(X.shape[0])\n",
    "    #Stacks this as a column to X\n",
    "    X=np.column_stack([ones,X])\n",
    "    #The normal equation formula\n",
    "    w=np.linalg.inv(X.T.dot(X)).dot(X.T).dot(y)\n",
    "    #Splits the weight vector into the bias and the rest of the weight\n",
    "    return w[0],w[1:]"
   ]
  },
  {
   "attachments": {},
   "cell_type": "markdown",
   "metadata": {},
   "source": [
    "### Simple feature engineering\n",
    "To improve oir model further, we can add more features to the model: we create others andd them to the existing features. As we know, this process is called *feature engineering*.  \n",
    "\n",
    "Because we have already set up the validation framework, we can easily verify wheter addind new features imporves the quality of the model. Our aim is to improve the RMSE calculated on the validation data.  \n",
    "\n",
    "Since the dataset was created in 2017, we can calculate the age by subtracting the year when the car was made    .\n"
   ]
  },
  {
   "cell_type": "code",
   "execution_count": 38,
   "metadata": {},
   "outputs": [],
   "source": [
    "df_train[\"age\"]=df_train.year.max()-df_train.year"
   ]
  },
  {
   "cell_type": "code",
   "execution_count": 75,
   "metadata": {},
   "outputs": [],
   "source": [
    "#We have also add this feature to the training and validation sets. We define the function\n",
    "#prepare_X\n",
    "def prepare_X(df):\n",
    "    df=df.copy()\n",
    "    features=base.copy()\n",
    "    df['age']=2017-df.year\n",
    "    features.append('age')\n",
    "\n",
    "\n",
    "    # The numerical values  \n",
    "    df_num=df[features]\n",
    "    #Fill with zeroes\n",
    "    df_num=df_num.fillna(0)\n",
    "    X= df_num.values\n",
    "    return X\n",
    "#Notice the side effect: the caller of the function may not \n",
    "#expect the function change the DataFrame."
   ]
  },
  {
   "attachments": {},
   "cell_type": "markdown",
   "metadata": {},
   "source": [
    "Let’s test if adding the feature “age” leads to any improvements:"
   ]
  },
  {
   "cell_type": "code",
   "execution_count": 76,
   "metadata": {},
   "outputs": [
    {
     "name": "stdout",
     "output_type": "stream",
     "text": [
      "The rmse validation is:  0.5172055461058324\n"
     ]
    }
   ],
   "source": [
    "X_train = prepare_X(df_train)\n",
    "w_0, w = train_linear_regression(X_train,y_train)\n",
    "X_val=prepare_X(df_val)\n",
    "y_pred=w_0+X_val.dot(w)\n",
    "print('The rmse validation is: ',rmse(y_val,y_pred))"
   ]
  },
  {
   "attachments": {},
   "cell_type": "markdown",
   "metadata": {},
   "source": [
    "The validation error is 0.517, which is a good improvement from 0.76 — the value we had in the baseline solution. Thus, we conclude that adding “age” is indeed helpful when making predictions.  \n",
    "  \n",
    "We can also look at the distribution of predicted values:"
   ]
  },
  {
   "cell_type": "code",
   "execution_count": 42,
   "metadata": {},
   "outputs": [
    {
     "data": {
      "text/plain": [
       "<matplotlib.legend.Legend at 0x251dbf4ebb0>"
      ]
     },
     "execution_count": 42,
     "metadata": {},
     "output_type": "execute_result"
    },
    {
     "data": {
      "image/png": "[encoded data removed]",
      "text/plain": [
       "<Figure size 432x288 with 1 Axes>"
      ]
     },
     "metadata": {
      "needs_background": "light"
     },
     "output_type": "display_data"
    }
   ],
   "source": [
    "sns.histplot(y_pred, label=\"predicted_values\")\n",
    "sns.histplot(y_val,label=\"target\")\n",
    "plt.legend()"
   ]
  },
  {
   "attachments": {},
   "cell_type": "markdown",
   "metadata": {},
   "source": [
    "### Handling categorical variables\n",
    "One of the columns we can use next is the number of doors. This variable\n",
    "appears to be numeric and can take three values: 2, 3, and 4 doors. Even though it’s tempting to put the variable to the model as is, it’s not really a numeric variable: we cannot say that by adding one more door, the price of a car grows (or drops) by a certain amount of money. Rather, the variable is categorical."
   ]
  },
  {
   "attachments": {},
   "cell_type": "markdown",
   "metadata": {},
   "source": [
    "*Categorical variables* describe characteristics of objects and can take one of a few possible values. The make of a car is a categorical variable; for example, it can be Toyota, BWM, Ford, or any other make. It’s easy to recognize a categorical variable by its values, which typically are strings and not numbers. That’s not always the case, however. The number of doors, for example, is categorical."
   ]
  },
  {
   "attachments": {},
   "cell_type": "markdown",
   "metadata": {},
   "source": [
    "We can use categorical variables in a machine learning model in multiple ways.\n",
    "One of the simplest ways is to encode such variables by a set of binary features, with a separate feature for each distinct value. This method is called *one-hot encoding*."
   ]
  },
  {
   "attachments": {},
   "cell_type": "markdown",
   "metadata": {},
   "source": [
    "Then, at the example of the number of doors, we create three binary features: num_doors_2, num_doors_3, num_doors_4. If the car has two doors, num_doors_2 will be set to 1, and the rest will be 0. "
   ]
  },
  {
   "cell_type": "code",
   "execution_count": 54,
   "metadata": {},
   "outputs": [
    {
     "data": {
      "text/plain": [
       "4.0    8353\n",
       "2.0    3160\n",
       "3.0     395\n",
       "Name: number_of_doors, dtype: int64"
      ]
     },
     "execution_count": 54,
     "metadata": {},
     "output_type": "execute_result"
    }
   ],
   "source": [
    "df.number_of_doors.value_counts()"
   ]
  },
  {
   "cell_type": "code",
   "execution_count": 51,
   "metadata": {},
   "outputs": [
    {
     "data": {
      "text/plain": [
       "compact    4764\n",
       "midsize    4373\n",
       "large      2777\n",
       "Name: vehicle_size, dtype: int64"
      ]
     },
     "execution_count": 51,
     "metadata": {},
     "output_type": "execute_result"
    }
   ],
   "source": [
    "df.vehicle_size.value_counts()"
   ]
  },
  {
   "cell_type": "code",
   "execution_count": 49,
   "metadata": {},
   "outputs": [
    {
     "data": {
      "text/plain": [
       "automatic           8266\n",
       "manual              2935\n",
       "automated_manual     626\n",
       "direct_drive          68\n",
       "unknown               19\n",
       "Name: transmission_type, dtype: int64"
      ]
     },
     "execution_count": 49,
     "metadata": {},
     "output_type": "execute_result"
    }
   ],
   "source": [
    "df.transmission_type.value_counts()"
   ]
  },
  {
   "attachments": {},
   "cell_type": "markdown",
   "metadata": {},
   "source": [
    "We encode three features: number_of_doors ,vehicle_size, transmission_type. "
   ]
  },
  {
   "cell_type": "code",
   "execution_count": 85,
   "metadata": {},
   "outputs": [],
   "source": [
    "#We follow the same process of defining a function to generate our\n",
    "# train, test, and validate sets using our selected features\n",
    "def prepare_X(df):\n",
    "    df=df.copy()\n",
    "    features=base.copy()\n",
    "    df['age']=2017-df.year\n",
    "    features.append('age')\n",
    "\n",
    "    for v in [2,3,4]:\n",
    "       feature = 'num_doors_%s' % v\n",
    "       df[feature]=(df['number_of_doors']==v).astype(int)\n",
    "       features.append(feature)\n",
    "\n",
    "    for v in ['compact','midsize','large']:\n",
    "       feature='is_size_%s' % v\n",
    "       df[feature]=(df['vehicle_size']==v).astype(int)\n",
    "       features.append(feature)\n",
    "\n",
    "    for v in ['automatic','manual','automated_manual','direct_drive']:\n",
    "        feature='is_transmission_%s' % v \n",
    "        df[feature]=(df['transmission_type']==v).astype(int)\n",
    "        features.append(feature)\n",
    "\n",
    "    df_num=df[features]\n",
    "    df_num=df_num.fillna(0)\n",
    "    X= df_num.values\n",
    "    return X\n",
    "\n",
    "    \n"
   ]
  },
  {
   "attachments": {},
   "cell_type": "markdown",
   "metadata": {},
   "source": [
    "Let's see the result of adding this features"
   ]
  },
  {
   "cell_type": "code",
   "execution_count": 86,
   "metadata": {},
   "outputs": [
    {
     "name": "stdout",
     "output_type": "stream",
     "text": [
      "validation:  82.51382247348684\n"
     ]
    }
   ],
   "source": [
    "X_train=prepare_X(df_train)\n",
    "w_0, w = train_linear_regression(X_train,y_train)\n",
    "X_val=prepare_X(df_val)\n",
    "y_pred= w_0 +X_val.dot(w)\n",
    "print('validation: ',rmse(y_val,y_pred))"
   ]
  },
  {
   "attachments": {},
   "cell_type": "markdown",
   "metadata": {},
   "source": [
    "The number we got is significantly worse than before. The reason of this behavior is numerical instability. Recall the formula of normal equation\n",
    "$$w=(X^{T}X)^{-1}X^{T}y.$$\n",
    "It contains the inverse matrix $(X^{T}X)^{-1}$. This inversion is an issue in our case. Sometimes when adding a new colum to $X$, we can accidentally add a column that is a combination of other columns. When this happens, $(X^{T}X)^{-1}$ becomes undetermine or singular which means that it has not inverse. Our code did not raise any exception because we don't typically have columns that are perfect linear combinations of other columns. "
   ]
  },
  {
   "attachments": {},
   "cell_type": "markdown",
   "metadata": {},
   "source": [
    "Notice that, if we keep only the feature transmission_type, we get again a low rmse"
   ]
  },
  {
   "cell_type": "code",
   "execution_count": 83,
   "metadata": {},
   "outputs": [],
   "source": [
    "#We follow the same process of defining a function to generate our\n",
    "# train, test, and validate sets using our selected features\n",
    "def prepare_X(df):\n",
    "    df=df.copy()\n",
    "    features=base.copy()\n",
    "    df['age']=2017-df.year\n",
    "    features.append('age')\n",
    "\n",
    "#    for v in [2,3,4]:\n",
    "#       feature = 'num_doors_%s' % v\n",
    "#       df[feature]=(df['number_of_doors']==v).astype(int)\n",
    "#        features.append(feature)\n",
    "\n",
    "#    for v in ['compact','midsize','large']:\n",
    "#       feature='is_size_%s' % v\n",
    "#       df[feature]=(df['vehicle_size']==v).astype(int)\n",
    "#       features.append(feature)\n",
    "\n",
    "    for v in ['automatic','manual','automated_manual','direct_drive']:\n",
    "        feature='is_transmission_%s' % v \n",
    "        df[feature]=(df['transmission_type']==v).astype(int)\n",
    "        features.append(feature)\n",
    "\n",
    "    df_num=df[features]\n",
    "    df_num=df_num.fillna(0)\n",
    "    X= df_num.values\n",
    "    return X\n"
   ]
  },
  {
   "cell_type": "code",
   "execution_count": 84,
   "metadata": {},
   "outputs": [
    {
     "name": "stdout",
     "output_type": "stream",
     "text": [
      "validation:  0.5087375348896964\n"
     ]
    }
   ],
   "source": [
    "X_train=prepare_X(df_train)\n",
    "w_0, w = train_linear_regression(X_train,y_train)\n",
    "X_val=prepare_X(df_val)\n",
    "y_pred= w_0 +X_val.dot(w)\n",
    "print('validation: ',rmse(y_val,y_pred))"
   ]
  }
 ],
 "metadata": {
  "kernelspec": {
   "display_name": "base",
   "language": "python",
   "name": "python3"
  },
  "language_info": {
   "codemirror_mode": {
    "name": "ipython",
    "version": 3
   },
   "file_extension": ".py",
   "mimetype": "text/x-python",
   "name": "python",
   "nbconvert_exporter": "python",
   "pygments_lexer": "ipython3",
   "version": "3.9.12"
  },
  "orig_nbformat": 4,
  "vscode": {
   "interpreter": {
    "hash": "0fb0711b8cdf2979cced48acbebbab02854345c5f50d6d8d9071345b4553c792"
   }
  }
 },
 "nbformat": 4,
 "nbformat_minor": 2
}
