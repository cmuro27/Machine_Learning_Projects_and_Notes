{
  "nbformat": 4,
  "nbformat_minor": 0,
  "metadata": {
    "colab": {
      "provenance": [],
      "authorship_tag": "ABX9TyPJ90y9Tnp5c6ofs8Pz365Z",
      "include_colab_link": true
    },
    "kernelspec": {
      "name": "python3",
      "display_name": "Python 3"
    },
    "language_info": {
      "name": "python"
    }
  },
  "cells": [
    {
      "cell_type": "markdown",
      "metadata": {
        "id": "view-in-github",
        "colab_type": "text"
      },
      "source": [
        "<a href=\"https://colab.research.google.com/github/cmuro27/Machine_Learning_Projects_and_Notes/blob/main/Project_ML_flight_price_prediction_XGB_Optuna.ipynb\" target=\"_parent\"><img src=\"https://colab.research.google.com/assets/colab-badge.svg\" alt=\"Open In Colab\"/></a>"
      ]
    },
    {
      "cell_type": "markdown",
      "source": [
        "# Machine Learning - Comparison of Hyperparameter Tuning between GridSearch and Optuna.\n",
        "### César Muro Cabral\n",
        "\n",
        "We evaluate the r2 of regressions using XGBoost. For the hyperparameter tuning we compare optuna and gridsearch. Optuna is a package which allows to find the parameters for the best model and it takes much less time than gridsearch.  \n",
        "  \n",
        "We show how optuna achieves a r2 score 0.98 on the test set in 7 minutes meanwhile gridsearch a score of 0.97 in 20 minutes.  "
      ],
      "metadata": {
        "id": "MJ8_9gUtq3SG"
      }
    },
    {
      "cell_type": "code",
      "execution_count": 2,
      "metadata": {
        "colab": {
          "base_uri": "https://localhost:8080/"
        },
        "id": "w0T9X6J-zAED",
        "outputId": "1a7d8149-f0e9-4ce8-a0b2-de28d7d637bd"
      },
      "outputs": [
        {
          "output_type": "stream",
          "name": "stdout",
          "text": [
            "Mounted at /content/drive\n"
          ]
        }
      ],
      "source": [
        "from google.colab import drive\n",
        "drive.mount('/content/drive')"
      ]
    },
    {
      "cell_type": "code",
      "source": [
        "import pandas as pd\n",
        "import seaborn as sns\n",
        "import numpy as np\n",
        "import matplotlib.pyplot as plt\n",
        "data = pd.read_csv(\"/content/drive/MyDrive/Physics/Books_articles_works/Programming/Individual_projects/Machine_learning_projects/flight-price-prediction/clean_Dataset.csv\")\n",
        "data.info()"
      ],
      "metadata": {
        "colab": {
          "base_uri": "https://localhost:8080/"
        },
        "id": "O2t2yCOdzvlQ",
        "outputId": "0ec1fd6d-fe76-4ee6-a7c9-aa12b16e170f"
      },
      "execution_count": 3,
      "outputs": [
        {
          "output_type": "stream",
          "name": "stdout",
          "text": [
            "<class 'pandas.core.frame.DataFrame'>\n",
            "RangeIndex: 300153 entries, 0 to 300152\n",
            "Data columns (total 12 columns):\n",
            " #   Column            Non-Null Count   Dtype  \n",
            "---  ------            --------------   -----  \n",
            " 0   Unnamed: 0        300153 non-null  int64  \n",
            " 1   airline           300153 non-null  object \n",
            " 2   flight            300153 non-null  object \n",
            " 3   source_city       300153 non-null  object \n",
            " 4   departure_time    300153 non-null  object \n",
            " 5   stops             300153 non-null  object \n",
            " 6   arrival_time      300153 non-null  object \n",
            " 7   destination_city  300153 non-null  object \n",
            " 8   class             300153 non-null  object \n",
            " 9   duration          300153 non-null  float64\n",
            " 10  days_left         300153 non-null  int64  \n",
            " 11  price             300153 non-null  int64  \n",
            "dtypes: float64(1), int64(3), object(8)\n",
            "memory usage: 27.5+ MB\n"
          ]
        }
      ]
    },
    {
      "cell_type": "code",
      "source": [
        "data = data.drop('Unnamed: 0',axis=1)\n",
        "data.head()"
      ],
      "metadata": {
        "colab": {
          "base_uri": "https://localhost:8080/",
          "height": 206
        },
        "id": "fZjaDUPg21wF",
        "outputId": "b04c66f6-7b84-4876-acf5-836a0d345343"
      },
      "execution_count": 4,
      "outputs": [
        {
          "output_type": "execute_result",
          "data": {
            "text/plain": [
              "    airline   flight source_city departure_time stops   arrival_time  \\\n",
              "0  SpiceJet  SG-8709       Delhi        Evening  zero          Night   \n",
              "1  SpiceJet  SG-8157       Delhi  Early_Morning  zero        Morning   \n",
              "2   AirAsia   I5-764       Delhi  Early_Morning  zero  Early_Morning   \n",
              "3   Vistara   UK-995       Delhi        Morning  zero      Afternoon   \n",
              "4   Vistara   UK-963       Delhi        Morning  zero        Morning   \n",
              "\n",
              "  destination_city    class  duration  days_left  price  \n",
              "0           Mumbai  Economy      2.17          1   5953  \n",
              "1           Mumbai  Economy      2.33          1   5953  \n",
              "2           Mumbai  Economy      2.17          1   5956  \n",
              "3           Mumbai  Economy      2.25          1   5955  \n",
              "4           Mumbai  Economy      2.33          1   5955  "
            ],
            "text/html": [
              "\n",
              "\n",
              "  <div id=\"df-46e0af48-d62f-47bb-9be2-3685ac151751\">\n",
              "    <div class=\"colab-df-container\">\n",
              "      <div>\n",
              "<style scoped>\n",
              "    .dataframe tbody tr th:only-of-type {\n",
              "        vertical-align: middle;\n",
              "    }\n",
              "\n",
              "    .dataframe tbody tr th {\n",
              "        vertical-align: top;\n",
              "    }\n",
              "\n",
              "    .dataframe thead th {\n",
              "        text-align: right;\n",
              "    }\n",
              "</style>\n",
              "<table border=\"1\" class=\"dataframe\">\n",
              "  <thead>\n",
              "    <tr style=\"text-align: right;\">\n",
              "      <th></th>\n",
              "      <th>airline</th>\n",
              "      <th>flight</th>\n",
              "      <th>source_city</th>\n",
              "      <th>departure_time</th>\n",
              "      <th>stops</th>\n",
              "      <th>arrival_time</th>\n",
              "      <th>destination_city</th>\n",
              "      <th>class</th>\n",
              "      <th>duration</th>\n",
              "      <th>days_left</th>\n",
              "      <th>price</th>\n",
              "    </tr>\n",
              "  </thead>\n",
              "  <tbody>\n",
              "    <tr>\n",
              "      <th>0</th>\n",
              "      <td>SpiceJet</td>\n",
              "      <td>SG-8709</td>\n",
              "      <td>Delhi</td>\n",
              "      <td>Evening</td>\n",
              "      <td>zero</td>\n",
              "      <td>Night</td>\n",
              "      <td>Mumbai</td>\n",
              "      <td>Economy</td>\n",
              "      <td>2.17</td>\n",
              "      <td>1</td>\n",
              "      <td>5953</td>\n",
              "    </tr>\n",
              "    <tr>\n",
              "      <th>1</th>\n",
              "      <td>SpiceJet</td>\n",
              "      <td>SG-8157</td>\n",
              "      <td>Delhi</td>\n",
              "      <td>Early_Morning</td>\n",
              "      <td>zero</td>\n",
              "      <td>Morning</td>\n",
              "      <td>Mumbai</td>\n",
              "      <td>Economy</td>\n",
              "      <td>2.33</td>\n",
              "      <td>1</td>\n",
              "      <td>5953</td>\n",
              "    </tr>\n",
              "    <tr>\n",
              "      <th>2</th>\n",
              "      <td>AirAsia</td>\n",
              "      <td>I5-764</td>\n",
              "      <td>Delhi</td>\n",
              "      <td>Early_Morning</td>\n",
              "      <td>zero</td>\n",
              "      <td>Early_Morning</td>\n",
              "      <td>Mumbai</td>\n",
              "      <td>Economy</td>\n",
              "      <td>2.17</td>\n",
              "      <td>1</td>\n",
              "      <td>5956</td>\n",
              "    </tr>\n",
              "    <tr>\n",
              "      <th>3</th>\n",
              "      <td>Vistara</td>\n",
              "      <td>UK-995</td>\n",
              "      <td>Delhi</td>\n",
              "      <td>Morning</td>\n",
              "      <td>zero</td>\n",
              "      <td>Afternoon</td>\n",
              "      <td>Mumbai</td>\n",
              "      <td>Economy</td>\n",
              "      <td>2.25</td>\n",
              "      <td>1</td>\n",
              "      <td>5955</td>\n",
              "    </tr>\n",
              "    <tr>\n",
              "      <th>4</th>\n",
              "      <td>Vistara</td>\n",
              "      <td>UK-963</td>\n",
              "      <td>Delhi</td>\n",
              "      <td>Morning</td>\n",
              "      <td>zero</td>\n",
              "      <td>Morning</td>\n",
              "      <td>Mumbai</td>\n",
              "      <td>Economy</td>\n",
              "      <td>2.33</td>\n",
              "      <td>1</td>\n",
              "      <td>5955</td>\n",
              "    </tr>\n",
              "  </tbody>\n",
              "</table>\n",
              "</div>\n",
              "      <button class=\"colab-df-convert\" onclick=\"convertToInteractive('df-46e0af48-d62f-47bb-9be2-3685ac151751')\"\n",
              "              title=\"Convert this dataframe to an interactive table.\"\n",
              "              style=\"display:none;\">\n",
              "\n",
              "  <svg xmlns=\"http://www.w3.org/2000/svg\" height=\"24px\"viewBox=\"0 0 24 24\"\n",
              "       width=\"24px\">\n",
              "    <path d=\"M0 0h24v24H0V0z\" fill=\"none\"/>\n",
              "    <path d=\"M18.56 5.44l.94 2.06.94-2.06 2.06-.94-2.06-.94-.94-2.06-.94 2.06-2.06.94zm-11 1L8.5 8.5l.94-2.06 2.06-.94-2.06-.94L8.5 2.5l-.94 2.06-2.06.94zm10 10l.94 2.06.94-2.06 2.06-.94-2.06-.94-.94-2.06-.94 2.06-2.06.94z\"/><path d=\"M17.41 7.96l-1.37-1.37c-.4-.4-.92-.59-1.43-.59-.52 0-1.04.2-1.43.59L10.3 9.45l-7.72 7.72c-.78.78-.78 2.05 0 2.83L4 21.41c.39.39.9.59 1.41.59.51 0 1.02-.2 1.41-.59l7.78-7.78 2.81-2.81c.8-.78.8-2.07 0-2.86zM5.41 20L4 18.59l7.72-7.72 1.47 1.35L5.41 20z\"/>\n",
              "  </svg>\n",
              "      </button>\n",
              "\n",
              "\n",
              "\n",
              "    <div id=\"df-0e781ca4-e101-4f98-93f4-48684c167345\">\n",
              "      <button class=\"colab-df-quickchart\" onclick=\"quickchart('df-0e781ca4-e101-4f98-93f4-48684c167345')\"\n",
              "              title=\"Suggest charts.\"\n",
              "              style=\"display:none;\">\n",
              "\n",
              "<svg xmlns=\"http://www.w3.org/2000/svg\" height=\"24px\"viewBox=\"0 0 24 24\"\n",
              "     width=\"24px\">\n",
              "    <g>\n",
              "        <path d=\"M19 3H5c-1.1 0-2 .9-2 2v14c0 1.1.9 2 2 2h14c1.1 0 2-.9 2-2V5c0-1.1-.9-2-2-2zM9 17H7v-7h2v7zm4 0h-2V7h2v10zm4 0h-2v-4h2v4z\"/>\n",
              "    </g>\n",
              "</svg>\n",
              "      </button>\n",
              "    </div>\n",
              "\n",
              "<style>\n",
              "  .colab-df-quickchart {\n",
              "    background-color: #E8F0FE;\n",
              "    border: none;\n",
              "    border-radius: 50%;\n",
              "    cursor: pointer;\n",
              "    display: none;\n",
              "    fill: #1967D2;\n",
              "    height: 32px;\n",
              "    padding: 0 0 0 0;\n",
              "    width: 32px;\n",
              "  }\n",
              "\n",
              "  .colab-df-quickchart:hover {\n",
              "    background-color: #E2EBFA;\n",
              "    box-shadow: 0px 1px 2px rgba(60, 64, 67, 0.3), 0px 1px 3px 1px rgba(60, 64, 67, 0.15);\n",
              "    fill: #174EA6;\n",
              "  }\n",
              "\n",
              "  [theme=dark] .colab-df-quickchart {\n",
              "    background-color: #3B4455;\n",
              "    fill: #D2E3FC;\n",
              "  }\n",
              "\n",
              "  [theme=dark] .colab-df-quickchart:hover {\n",
              "    background-color: #434B5C;\n",
              "    box-shadow: 0px 1px 3px 1px rgba(0, 0, 0, 0.15);\n",
              "    filter: drop-shadow(0px 1px 2px rgba(0, 0, 0, 0.3));\n",
              "    fill: #FFFFFF;\n",
              "  }\n",
              "</style>\n",
              "\n",
              "    <script>\n",
              "      async function quickchart(key) {\n",
              "        const containerElement = document.querySelector('#' + key);\n",
              "        const charts = await google.colab.kernel.invokeFunction(\n",
              "            'suggestCharts', [key], {});\n",
              "      }\n",
              "    </script>\n",
              "\n",
              "      <script>\n",
              "\n",
              "function displayQuickchartButton(domScope) {\n",
              "  let quickchartButtonEl =\n",
              "    domScope.querySelector('#df-0e781ca4-e101-4f98-93f4-48684c167345 button.colab-df-quickchart');\n",
              "  quickchartButtonEl.style.display =\n",
              "    google.colab.kernel.accessAllowed ? 'block' : 'none';\n",
              "}\n",
              "\n",
              "        displayQuickchartButton(document);\n",
              "      </script>\n",
              "      <style>\n",
              "    .colab-df-container {\n",
              "      display:flex;\n",
              "      flex-wrap:wrap;\n",
              "      gap: 12px;\n",
              "    }\n",
              "\n",
              "    .colab-df-convert {\n",
              "      background-color: #E8F0FE;\n",
              "      border: none;\n",
              "      border-radius: 50%;\n",
              "      cursor: pointer;\n",
              "      display: none;\n",
              "      fill: #1967D2;\n",
              "      height: 32px;\n",
              "      padding: 0 0 0 0;\n",
              "      width: 32px;\n",
              "    }\n",
              "\n",
              "    .colab-df-convert:hover {\n",
              "      background-color: #E2EBFA;\n",
              "      box-shadow: 0px 1px 2px rgba(60, 64, 67, 0.3), 0px 1px 3px 1px rgba(60, 64, 67, 0.15);\n",
              "      fill: #174EA6;\n",
              "    }\n",
              "\n",
              "    [theme=dark] .colab-df-convert {\n",
              "      background-color: #3B4455;\n",
              "      fill: #D2E3FC;\n",
              "    }\n",
              "\n",
              "    [theme=dark] .colab-df-convert:hover {\n",
              "      background-color: #434B5C;\n",
              "      box-shadow: 0px 1px 3px 1px rgba(0, 0, 0, 0.15);\n",
              "      filter: drop-shadow(0px 1px 2px rgba(0, 0, 0, 0.3));\n",
              "      fill: #FFFFFF;\n",
              "    }\n",
              "  </style>\n",
              "\n",
              "      <script>\n",
              "        const buttonEl =\n",
              "          document.querySelector('#df-46e0af48-d62f-47bb-9be2-3685ac151751 button.colab-df-convert');\n",
              "        buttonEl.style.display =\n",
              "          google.colab.kernel.accessAllowed ? 'block' : 'none';\n",
              "\n",
              "        async function convertToInteractive(key) {\n",
              "          const element = document.querySelector('#df-46e0af48-d62f-47bb-9be2-3685ac151751');\n",
              "          const dataTable =\n",
              "            await google.colab.kernel.invokeFunction('convertToInteractive',\n",
              "                                                     [key], {});\n",
              "          if (!dataTable) return;\n",
              "\n",
              "          const docLinkHtml = 'Like what you see? Visit the ' +\n",
              "            '<a target=\"_blank\" href=https://colab.research.google.com/notebooks/data_table.ipynb>data table notebook</a>'\n",
              "            + ' to learn more about interactive tables.';\n",
              "          element.innerHTML = '';\n",
              "          dataTable['output_type'] = 'display_data';\n",
              "          await google.colab.output.renderOutput(dataTable, element);\n",
              "          const docLink = document.createElement('div');\n",
              "          docLink.innerHTML = docLinkHtml;\n",
              "          element.appendChild(docLink);\n",
              "        }\n",
              "      </script>\n",
              "    </div>\n",
              "  </div>\n"
            ]
          },
          "metadata": {},
          "execution_count": 4
        }
      ]
    },
    {
      "cell_type": "code",
      "source": [
        "from sklearn.metrics import r2_score\n",
        "from sklearn.pipeline import Pipeline\n",
        "from sklearn.linear_model import Ridge\n",
        "import xgboost as xgb\n",
        "from sklearn.impute import SimpleImputer\n",
        "from sklearn.model_selection import GridSearchCV, train_test_split, KFold\n",
        "from sklearn.preprocessing import OneHotEncoder, StandardScaler\n",
        "from sklearn.compose import ColumnTransformer\n",
        "import numpy as np\n",
        "\n",
        "#Specify the independent variables and target variable from the dataframe\n",
        "X=data.loc[:,~data.columns.isin(['price'])]\n",
        "y=data['price']\n",
        "\n",
        "#Lists of the numeric and categorical features\n",
        "categorical_features = ['airline', 'flight', 'source_city', 'departure_time',\n",
        "        'stops', 'arrival_time', 'destination_city','class','days_left']\n",
        "\n",
        "\n",
        "# numerical features\n",
        "numeric_features= ['duration']\n",
        "\n",
        "#Pipeline for preprocessing the numeric data\n",
        "numerical_transformer =  Pipeline(steps=[('imp_num',\n",
        "                                          SimpleImputer(strategy='median')),\n",
        "                                         ('sc',StandardScaler())])\n",
        "\n",
        "# Pipeline for preprocessing the categorical data\n",
        "categorical_transformer=Pipeline(steps=[('imp_cat',\n",
        "                                         SimpleImputer(strategy='most_frequent')),\n",
        "                                        ('onehot',\n",
        "                                         OneHotEncoder(handle_unknown = 'ignore'))])\n",
        "\n",
        "# Preprocessor\n",
        "preprocessor = ColumnTransformer(transformers=[('num',numerical_transformer,\n",
        "                                                numeric_features),\n",
        "                                               ('cat', categorical_transformer,\n",
        "                                                categorical_features)])\n",
        "\n",
        "X_train, X_test, y_train, y_test = train_test_split(X,y,test_size=0.3,\n",
        "                                                    random_state=27)\n",
        "\n",
        "# Split the data in training and test sets.\n",
        "# Although we will perform GridSearh with cross-validation\n",
        "pipe_xgb=Pipeline(steps=[('preprocess', preprocessor),\n",
        "                     ('xgb',xgb.XGBRegressor(seed=123))])\n",
        "\n",
        "kf = KFold(n_splits=4, random_state=42, shuffle=True)\n",
        "\n",
        "# Defining the grid parameters\n",
        "gbm_param_grid={'xgb__learning_rate':[0.1,0.5,0.9],\n",
        "                'xgb__n_estimators':[150],\n",
        "                'xgb__subsample':[0.3,0.5,0.9],\n",
        "                'xgb__n_estimators':[50],\n",
        "                'xgb__max_depth': [2,5]}\n",
        "\n",
        "xgb_cv = GridSearchCV(estimator=pipe_xgb,\n",
        "                      param_grid=gbm_param_grid,\n",
        "                      scoring='r2',\n",
        "                      verbose=1,\n",
        "                      cv=kf)"
      ],
      "metadata": {
        "id": "8UXR6pHa0vph"
      },
      "execution_count": null,
      "outputs": []
    },
    {
      "cell_type": "code",
      "source": [
        "xgb_cv.fit(X_train,y_train)"
      ],
      "metadata": {
        "colab": {
          "base_uri": "https://localhost:8080/",
          "height": 268
        },
        "id": "Yax6SOGu3SaV",
        "outputId": "f93f5cc5-fd92-4a4d-d4af-ecaa7c74d60f"
      },
      "execution_count": null,
      "outputs": [
        {
          "metadata": {
            "tags": null
          },
          "name": "stdout",
          "output_type": "stream",
          "text": [
            "Fitting 4 folds for each of 18 candidates, totalling 72 fits\n"
          ]
        },
        {
          "output_type": "execute_result",
          "data": {
            "text/plain": [
              "GridSearchCV(cv=KFold(n_splits=4, random_state=42, shuffle=True),\n",
              "             estimator=Pipeline(steps=[('preprocess',\n",
              "                                        ColumnTransformer(transformers=[('num',\n",
              "                                                                         Pipeline(steps=[('imp_num',\n",
              "                                                                                          SimpleImputer(strategy='median')),\n",
              "                                                                                         ('sc',\n",
              "                                                                                          StandardScaler())]),\n",
              "                                                                         ['duration']),\n",
              "                                                                        ('cat',\n",
              "                                                                         Pipeline(steps=[('imp_cat',\n",
              "                                                                                          SimpleImputer(strategy='most_frequent')),\n",
              "                                                                                         ('onehot',\n",
              "                                                                                          OneHotEncoder(handle_u...\n",
              "                                                     max_delta_step=None,\n",
              "                                                     max_depth=None,\n",
              "                                                     max_leaves=None,\n",
              "                                                     min_child_weight=None,\n",
              "                                                     missing=nan,\n",
              "                                                     monotone_constraints=None,\n",
              "                                                     n_estimators=100,\n",
              "                                                     n_jobs=None,\n",
              "                                                     num_parallel_tree=None,\n",
              "                                                     predictor=None,\n",
              "                                                     random_state=None, ...))]),\n",
              "             param_grid={'xgb__learning_rate': [0.1, 0.5, 0.9],\n",
              "                         'xgb__max_depth': [2, 5], 'xgb__n_estimators': [50],\n",
              "                         'xgb__subsample': [0.3, 0.5, 0.9]},\n",
              "             scoring='r2', verbose=1)"
            ],
            "text/html": [
              "<style>#sk-container-id-1 {color: black;background-color: white;}#sk-container-id-1 pre{padding: 0;}#sk-container-id-1 div.sk-toggleable {background-color: white;}#sk-container-id-1 label.sk-toggleable__label {cursor: pointer;display: block;width: 100%;margin-bottom: 0;padding: 0.3em;box-sizing: border-box;text-align: center;}#sk-container-id-1 label.sk-toggleable__label-arrow:before {content: \"▸\";float: left;margin-right: 0.25em;color: #696969;}#sk-container-id-1 label.sk-toggleable__label-arrow:hover:before {color: black;}#sk-container-id-1 div.sk-estimator:hover label.sk-toggleable__label-arrow:before {color: black;}#sk-container-id-1 div.sk-toggleable__content {max-height: 0;max-width: 0;overflow: hidden;text-align: left;background-color: #f0f8ff;}#sk-container-id-1 div.sk-toggleable__content pre {margin: 0.2em;color: black;border-radius: 0.25em;background-color: #f0f8ff;}#sk-container-id-1 input.sk-toggleable__control:checked~div.sk-toggleable__content {max-height: 200px;max-width: 100%;overflow: auto;}#sk-container-id-1 input.sk-toggleable__control:checked~label.sk-toggleable__label-arrow:before {content: \"▾\";}#sk-container-id-1 div.sk-estimator input.sk-toggleable__control:checked~label.sk-toggleable__label {background-color: #d4ebff;}#sk-container-id-1 div.sk-label input.sk-toggleable__control:checked~label.sk-toggleable__label {background-color: #d4ebff;}#sk-container-id-1 input.sk-hidden--visually {border: 0;clip: rect(1px 1px 1px 1px);clip: rect(1px, 1px, 1px, 1px);height: 1px;margin: -1px;overflow: hidden;padding: 0;position: absolute;width: 1px;}#sk-container-id-1 div.sk-estimator {font-family: monospace;background-color: #f0f8ff;border: 1px dotted black;border-radius: 0.25em;box-sizing: border-box;margin-bottom: 0.5em;}#sk-container-id-1 div.sk-estimator:hover {background-color: #d4ebff;}#sk-container-id-1 div.sk-parallel-item::after {content: \"\";width: 100%;border-bottom: 1px solid gray;flex-grow: 1;}#sk-container-id-1 div.sk-label:hover label.sk-toggleable__label {background-color: #d4ebff;}#sk-container-id-1 div.sk-serial::before {content: \"\";position: absolute;border-left: 1px solid gray;box-sizing: border-box;top: 0;bottom: 0;left: 50%;z-index: 0;}#sk-container-id-1 div.sk-serial {display: flex;flex-direction: column;align-items: center;background-color: white;padding-right: 0.2em;padding-left: 0.2em;position: relative;}#sk-container-id-1 div.sk-item {position: relative;z-index: 1;}#sk-container-id-1 div.sk-parallel {display: flex;align-items: stretch;justify-content: center;background-color: white;position: relative;}#sk-container-id-1 div.sk-item::before, #sk-container-id-1 div.sk-parallel-item::before {content: \"\";position: absolute;border-left: 1px solid gray;box-sizing: border-box;top: 0;bottom: 0;left: 50%;z-index: -1;}#sk-container-id-1 div.sk-parallel-item {display: flex;flex-direction: column;z-index: 1;position: relative;background-color: white;}#sk-container-id-1 div.sk-parallel-item:first-child::after {align-self: flex-end;width: 50%;}#sk-container-id-1 div.sk-parallel-item:last-child::after {align-self: flex-start;width: 50%;}#sk-container-id-1 div.sk-parallel-item:only-child::after {width: 0;}#sk-container-id-1 div.sk-dashed-wrapped {border: 1px dashed gray;margin: 0 0.4em 0.5em 0.4em;box-sizing: border-box;padding-bottom: 0.4em;background-color: white;}#sk-container-id-1 div.sk-label label {font-family: monospace;font-weight: bold;display: inline-block;line-height: 1.2em;}#sk-container-id-1 div.sk-label-container {text-align: center;}#sk-container-id-1 div.sk-container {/* jupyter's `normalize.less` sets `[hidden] { display: none; }` but bootstrap.min.css set `[hidden] { display: none !important; }` so we also need the `!important` here to be able to override the default hidden behavior on the sphinx rendered scikit-learn.org. See: https://github.com/scikit-learn/scikit-learn/issues/21755 */display: inline-block !important;position: relative;}#sk-container-id-1 div.sk-text-repr-fallback {display: none;}</style><div id=\"sk-container-id-1\" class=\"sk-top-container\"><div class=\"sk-text-repr-fallback\"><pre>GridSearchCV(cv=KFold(n_splits=4, random_state=42, shuffle=True),\n",
              "             estimator=Pipeline(steps=[(&#x27;preprocess&#x27;,\n",
              "                                        ColumnTransformer(transformers=[(&#x27;num&#x27;,\n",
              "                                                                         Pipeline(steps=[(&#x27;imp_num&#x27;,\n",
              "                                                                                          SimpleImputer(strategy=&#x27;median&#x27;)),\n",
              "                                                                                         (&#x27;sc&#x27;,\n",
              "                                                                                          StandardScaler())]),\n",
              "                                                                         [&#x27;duration&#x27;]),\n",
              "                                                                        (&#x27;cat&#x27;,\n",
              "                                                                         Pipeline(steps=[(&#x27;imp_cat&#x27;,\n",
              "                                                                                          SimpleImputer(strategy=&#x27;most_frequent&#x27;)),\n",
              "                                                                                         (&#x27;onehot&#x27;,\n",
              "                                                                                          OneHotEncoder(handle_u...\n",
              "                                                     max_delta_step=None,\n",
              "                                                     max_depth=None,\n",
              "                                                     max_leaves=None,\n",
              "                                                     min_child_weight=None,\n",
              "                                                     missing=nan,\n",
              "                                                     monotone_constraints=None,\n",
              "                                                     n_estimators=100,\n",
              "                                                     n_jobs=None,\n",
              "                                                     num_parallel_tree=None,\n",
              "                                                     predictor=None,\n",
              "                                                     random_state=None, ...))]),\n",
              "             param_grid={&#x27;xgb__learning_rate&#x27;: [0.1, 0.5, 0.9],\n",
              "                         &#x27;xgb__max_depth&#x27;: [2, 5], &#x27;xgb__n_estimators&#x27;: [50],\n",
              "                         &#x27;xgb__subsample&#x27;: [0.3, 0.5, 0.9]},\n",
              "             scoring=&#x27;r2&#x27;, verbose=1)</pre><b>In a Jupyter environment, please rerun this cell to show the HTML representation or trust the notebook. <br />On GitHub, the HTML representation is unable to render, please try loading this page with nbviewer.org.</b></div><div class=\"sk-container\" hidden><div class=\"sk-item sk-dashed-wrapped\"><div class=\"sk-label-container\"><div class=\"sk-label sk-toggleable\"><input class=\"sk-toggleable__control sk-hidden--visually\" id=\"sk-estimator-id-1\" type=\"checkbox\" ><label for=\"sk-estimator-id-1\" class=\"sk-toggleable__label sk-toggleable__label-arrow\">GridSearchCV</label><div class=\"sk-toggleable__content\"><pre>GridSearchCV(cv=KFold(n_splits=4, random_state=42, shuffle=True),\n",
              "             estimator=Pipeline(steps=[(&#x27;preprocess&#x27;,\n",
              "                                        ColumnTransformer(transformers=[(&#x27;num&#x27;,\n",
              "                                                                         Pipeline(steps=[(&#x27;imp_num&#x27;,\n",
              "                                                                                          SimpleImputer(strategy=&#x27;median&#x27;)),\n",
              "                                                                                         (&#x27;sc&#x27;,\n",
              "                                                                                          StandardScaler())]),\n",
              "                                                                         [&#x27;duration&#x27;]),\n",
              "                                                                        (&#x27;cat&#x27;,\n",
              "                                                                         Pipeline(steps=[(&#x27;imp_cat&#x27;,\n",
              "                                                                                          SimpleImputer(strategy=&#x27;most_frequent&#x27;)),\n",
              "                                                                                         (&#x27;onehot&#x27;,\n",
              "                                                                                          OneHotEncoder(handle_u...\n",
              "                                                     max_delta_step=None,\n",
              "                                                     max_depth=None,\n",
              "                                                     max_leaves=None,\n",
              "                                                     min_child_weight=None,\n",
              "                                                     missing=nan,\n",
              "                                                     monotone_constraints=None,\n",
              "                                                     n_estimators=100,\n",
              "                                                     n_jobs=None,\n",
              "                                                     num_parallel_tree=None,\n",
              "                                                     predictor=None,\n",
              "                                                     random_state=None, ...))]),\n",
              "             param_grid={&#x27;xgb__learning_rate&#x27;: [0.1, 0.5, 0.9],\n",
              "                         &#x27;xgb__max_depth&#x27;: [2, 5], &#x27;xgb__n_estimators&#x27;: [50],\n",
              "                         &#x27;xgb__subsample&#x27;: [0.3, 0.5, 0.9]},\n",
              "             scoring=&#x27;r2&#x27;, verbose=1)</pre></div></div></div><div class=\"sk-parallel\"><div class=\"sk-parallel-item\"><div class=\"sk-item\"><div class=\"sk-label-container\"><div class=\"sk-label sk-toggleable\"><input class=\"sk-toggleable__control sk-hidden--visually\" id=\"sk-estimator-id-2\" type=\"checkbox\" ><label for=\"sk-estimator-id-2\" class=\"sk-toggleable__label sk-toggleable__label-arrow\">estimator: Pipeline</label><div class=\"sk-toggleable__content\"><pre>Pipeline(steps=[(&#x27;preprocess&#x27;,\n",
              "                 ColumnTransformer(transformers=[(&#x27;num&#x27;,\n",
              "                                                  Pipeline(steps=[(&#x27;imp_num&#x27;,\n",
              "                                                                   SimpleImputer(strategy=&#x27;median&#x27;)),\n",
              "                                                                  (&#x27;sc&#x27;,\n",
              "                                                                   StandardScaler())]),\n",
              "                                                  [&#x27;duration&#x27;]),\n",
              "                                                 (&#x27;cat&#x27;,\n",
              "                                                  Pipeline(steps=[(&#x27;imp_cat&#x27;,\n",
              "                                                                   SimpleImputer(strategy=&#x27;most_frequent&#x27;)),\n",
              "                                                                  (&#x27;onehot&#x27;,\n",
              "                                                                   OneHotEncoder(handle_unknown=&#x27;ignore&#x27;))]),\n",
              "                                                  [&#x27;airline&#x27;, &#x27;flight&#x27;,\n",
              "                                                   &#x27;source_city&#x27;,\n",
              "                                                   &#x27;departure_time&#x27;, &#x27;s...\n",
              "                              feature_types=None, gamma=None, gpu_id=None,\n",
              "                              grow_policy=None, importance_type=None,\n",
              "                              interaction_constraints=None, learning_rate=None,\n",
              "                              max_bin=None, max_cat_threshold=None,\n",
              "                              max_cat_to_onehot=None, max_delta_step=None,\n",
              "                              max_depth=None, max_leaves=None,\n",
              "                              min_child_weight=None, missing=nan,\n",
              "                              monotone_constraints=None, n_estimators=100,\n",
              "                              n_jobs=None, num_parallel_tree=None,\n",
              "                              predictor=None, random_state=None, ...))])</pre></div></div></div><div class=\"sk-serial\"><div class=\"sk-item\"><div class=\"sk-serial\"><div class=\"sk-item sk-dashed-wrapped\"><div class=\"sk-label-container\"><div class=\"sk-label sk-toggleable\"><input class=\"sk-toggleable__control sk-hidden--visually\" id=\"sk-estimator-id-3\" type=\"checkbox\" ><label for=\"sk-estimator-id-3\" class=\"sk-toggleable__label sk-toggleable__label-arrow\">preprocess: ColumnTransformer</label><div class=\"sk-toggleable__content\"><pre>ColumnTransformer(transformers=[(&#x27;num&#x27;,\n",
              "                                 Pipeline(steps=[(&#x27;imp_num&#x27;,\n",
              "                                                  SimpleImputer(strategy=&#x27;median&#x27;)),\n",
              "                                                 (&#x27;sc&#x27;, StandardScaler())]),\n",
              "                                 [&#x27;duration&#x27;]),\n",
              "                                (&#x27;cat&#x27;,\n",
              "                                 Pipeline(steps=[(&#x27;imp_cat&#x27;,\n",
              "                                                  SimpleImputer(strategy=&#x27;most_frequent&#x27;)),\n",
              "                                                 (&#x27;onehot&#x27;,\n",
              "                                                  OneHotEncoder(handle_unknown=&#x27;ignore&#x27;))]),\n",
              "                                 [&#x27;airline&#x27;, &#x27;flight&#x27;, &#x27;source_city&#x27;,\n",
              "                                  &#x27;departure_time&#x27;, &#x27;stops&#x27;, &#x27;arrival_time&#x27;,\n",
              "                                  &#x27;destination_city&#x27;, &#x27;class&#x27;, &#x27;days_left&#x27;])])</pre></div></div></div><div class=\"sk-parallel\"><div class=\"sk-parallel-item\"><div class=\"sk-item\"><div class=\"sk-label-container\"><div class=\"sk-label sk-toggleable\"><input class=\"sk-toggleable__control sk-hidden--visually\" id=\"sk-estimator-id-4\" type=\"checkbox\" ><label for=\"sk-estimator-id-4\" class=\"sk-toggleable__label sk-toggleable__label-arrow\">num</label><div class=\"sk-toggleable__content\"><pre>[&#x27;duration&#x27;]</pre></div></div></div><div class=\"sk-serial\"><div class=\"sk-item\"><div class=\"sk-serial\"><div class=\"sk-item\"><div class=\"sk-estimator sk-toggleable\"><input class=\"sk-toggleable__control sk-hidden--visually\" id=\"sk-estimator-id-5\" type=\"checkbox\" ><label for=\"sk-estimator-id-5\" class=\"sk-toggleable__label sk-toggleable__label-arrow\">SimpleImputer</label><div class=\"sk-toggleable__content\"><pre>SimpleImputer(strategy=&#x27;median&#x27;)</pre></div></div></div><div class=\"sk-item\"><div class=\"sk-estimator sk-toggleable\"><input class=\"sk-toggleable__control sk-hidden--visually\" id=\"sk-estimator-id-6\" type=\"checkbox\" ><label for=\"sk-estimator-id-6\" class=\"sk-toggleable__label sk-toggleable__label-arrow\">StandardScaler</label><div class=\"sk-toggleable__content\"><pre>StandardScaler()</pre></div></div></div></div></div></div></div></div><div class=\"sk-parallel-item\"><div class=\"sk-item\"><div class=\"sk-label-container\"><div class=\"sk-label sk-toggleable\"><input class=\"sk-toggleable__control sk-hidden--visually\" id=\"sk-estimator-id-7\" type=\"checkbox\" ><label for=\"sk-estimator-id-7\" class=\"sk-toggleable__label sk-toggleable__label-arrow\">cat</label><div class=\"sk-toggleable__content\"><pre>[&#x27;airline&#x27;, &#x27;flight&#x27;, &#x27;source_city&#x27;, &#x27;departure_time&#x27;, &#x27;stops&#x27;, &#x27;arrival_time&#x27;, &#x27;destination_city&#x27;, &#x27;class&#x27;, &#x27;days_left&#x27;]</pre></div></div></div><div class=\"sk-serial\"><div class=\"sk-item\"><div class=\"sk-serial\"><div class=\"sk-item\"><div class=\"sk-estimator sk-toggleable\"><input class=\"sk-toggleable__control sk-hidden--visually\" id=\"sk-estimator-id-8\" type=\"checkbox\" ><label for=\"sk-estimator-id-8\" class=\"sk-toggleable__label sk-toggleable__label-arrow\">SimpleImputer</label><div class=\"sk-toggleable__content\"><pre>SimpleImputer(strategy=&#x27;most_frequent&#x27;)</pre></div></div></div><div class=\"sk-item\"><div class=\"sk-estimator sk-toggleable\"><input class=\"sk-toggleable__control sk-hidden--visually\" id=\"sk-estimator-id-9\" type=\"checkbox\" ><label for=\"sk-estimator-id-9\" class=\"sk-toggleable__label sk-toggleable__label-arrow\">OneHotEncoder</label><div class=\"sk-toggleable__content\"><pre>OneHotEncoder(handle_unknown=&#x27;ignore&#x27;)</pre></div></div></div></div></div></div></div></div></div></div><div class=\"sk-item\"><div class=\"sk-estimator sk-toggleable\"><input class=\"sk-toggleable__control sk-hidden--visually\" id=\"sk-estimator-id-10\" type=\"checkbox\" ><label for=\"sk-estimator-id-10\" class=\"sk-toggleable__label sk-toggleable__label-arrow\">XGBRegressor</label><div class=\"sk-toggleable__content\"><pre>XGBRegressor(base_score=None, booster=None, callbacks=None,\n",
              "             colsample_bylevel=None, colsample_bynode=None,\n",
              "             colsample_bytree=None, early_stopping_rounds=None,\n",
              "             enable_categorical=False, eval_metric=None, feature_types=None,\n",
              "             gamma=None, gpu_id=None, grow_policy=None, importance_type=None,\n",
              "             interaction_constraints=None, learning_rate=None, max_bin=None,\n",
              "             max_cat_threshold=None, max_cat_to_onehot=None,\n",
              "             max_delta_step=None, max_depth=None, max_leaves=None,\n",
              "             min_child_weight=None, missing=nan, monotone_constraints=None,\n",
              "             n_estimators=100, n_jobs=None, num_parallel_tree=None,\n",
              "             predictor=None, random_state=None, ...)</pre></div></div></div></div></div></div></div></div></div></div></div></div>"
            ]
          },
          "metadata": {},
          "execution_count": 15
        }
      ]
    },
    {
      "cell_type": "code",
      "source": [
        "#Print the tuned parameters and score\n",
        "print('Tuned XGB regressor parameters: {}'.format(xgb_cv.best_params_))\n",
        "print(\"Tuned XGB regressor r2 score: {}\".format(xgb_cv.best_score_))"
      ],
      "metadata": {
        "colab": {
          "base_uri": "https://localhost:8080/"
        },
        "id": "wpKnmkbs4w91",
        "outputId": "456cb03e-443f-4e28-e00b-74c4f6ee60aa"
      },
      "execution_count": null,
      "outputs": [
        {
          "output_type": "stream",
          "name": "stdout",
          "text": [
            "Tuned XGB regressor parameters: {'xgb__learning_rate': 0.9, 'xgb__max_depth': 5, 'xgb__n_estimators': 50, 'xgb__subsample': 0.9}\n",
            "Tuned XGB regressor r2 score: 0.9742023198306706\n"
          ]
        }
      ]
    },
    {
      "cell_type": "code",
      "source": [
        "#Print the r2 score on the test set\n",
        "xgb_best = xgb_cv.best_estimator_\n",
        "print('The r2 score on the test set is: ',xgb_best.score(X_test,y_test))"
      ],
      "metadata": {
        "colab": {
          "base_uri": "https://localhost:8080/"
        },
        "id": "49uDWsBu40N1",
        "outputId": "34405ab2-7815-4377-ce3f-cee5295eaec9"
      },
      "execution_count": null,
      "outputs": [
        {
          "output_type": "stream",
          "name": "stdout",
          "text": [
            "The r2 score on the test set is:  0.9737203959516665\n"
          ]
        }
      ]
    },
    {
      "cell_type": "code",
      "source": [
        "!pip install optuna"
      ],
      "metadata": {
        "colab": {
          "base_uri": "https://localhost:8080/"
        },
        "id": "gyR_7_HmZIIv",
        "outputId": "5361b032-1c2a-4f8e-aca2-840061c26df1"
      },
      "execution_count": 1,
      "outputs": [
        {
          "output_type": "stream",
          "name": "stdout",
          "text": [
            "Collecting optuna\n",
            "  Downloading optuna-3.2.0-py3-none-any.whl (390 kB)\n",
            "\u001b[2K     \u001b[90m━━━━━━━━━━━━━━━━━━━━━━━━━━━━━━━━━━━━━━━\u001b[0m \u001b[32m390.6/390.6 kB\u001b[0m \u001b[31m9.4 MB/s\u001b[0m eta \u001b[36m0:00:00\u001b[0m\n",
            "\u001b[?25hCollecting alembic>=1.5.0 (from optuna)\n",
            "  Downloading alembic-1.11.1-py3-none-any.whl (224 kB)\n",
            "\u001b[2K     \u001b[90m━━━━━━━━━━━━━━━━━━━━━━━━━━━━━━━━━━━━━━\u001b[0m \u001b[32m224.5/224.5 kB\u001b[0m \u001b[31m27.3 MB/s\u001b[0m eta \u001b[36m0:00:00\u001b[0m\n",
            "\u001b[?25hCollecting cmaes>=0.9.1 (from optuna)\n",
            "  Downloading cmaes-0.9.1-py3-none-any.whl (21 kB)\n",
            "Collecting colorlog (from optuna)\n",
            "  Downloading colorlog-6.7.0-py2.py3-none-any.whl (11 kB)\n",
            "Requirement already satisfied: numpy in /usr/local/lib/python3.10/dist-packages (from optuna) (1.22.4)\n",
            "Requirement already satisfied: packaging>=20.0 in /usr/local/lib/python3.10/dist-packages (from optuna) (23.1)\n",
            "Requirement already satisfied: sqlalchemy>=1.3.0 in /usr/local/lib/python3.10/dist-packages (from optuna) (2.0.18)\n",
            "Requirement already satisfied: tqdm in /usr/local/lib/python3.10/dist-packages (from optuna) (4.65.0)\n",
            "Requirement already satisfied: PyYAML in /usr/local/lib/python3.10/dist-packages (from optuna) (6.0)\n",
            "Collecting Mako (from alembic>=1.5.0->optuna)\n",
            "  Downloading Mako-1.2.4-py3-none-any.whl (78 kB)\n",
            "\u001b[2K     \u001b[90m━━━━━━━━━━━━━━━━━━━━━━━━━━━━━━━━━━━━━━━━\u001b[0m \u001b[32m78.7/78.7 kB\u001b[0m \u001b[31m7.9 MB/s\u001b[0m eta \u001b[36m0:00:00\u001b[0m\n",
            "\u001b[?25hRequirement already satisfied: typing-extensions>=4 in /usr/local/lib/python3.10/dist-packages (from alembic>=1.5.0->optuna) (4.7.1)\n",
            "Requirement already satisfied: greenlet!=0.4.17 in /usr/local/lib/python3.10/dist-packages (from sqlalchemy>=1.3.0->optuna) (2.0.2)\n",
            "Requirement already satisfied: MarkupSafe>=0.9.2 in /usr/local/lib/python3.10/dist-packages (from Mako->alembic>=1.5.0->optuna) (2.1.3)\n",
            "Installing collected packages: Mako, colorlog, cmaes, alembic, optuna\n",
            "Successfully installed Mako-1.2.4 alembic-1.11.1 cmaes-0.9.1 colorlog-6.7.0 optuna-3.2.0\n"
          ]
        }
      ]
    },
    {
      "cell_type": "code",
      "source": [
        "import xgboost as xgb\n",
        "from sklearn.metrics import mean_squared_error, r2_score\n",
        "def objective(trial):\n",
        "    param = {\n",
        "        'max_depth': trial.suggest_int('max_depth', 1, 10),\n",
        "        'learning_rate': trial.suggest_float('learning_rate', 0.01, 1.0),\n",
        "        'n_estimators': trial.suggest_int('n_estimators', 50, 1000),\n",
        "        'min_child_weight': trial.suggest_int('min_child_weight', 1, 10),\n",
        "        'gamma': trial.suggest_float('gamma', 0.01, 1.0),\n",
        "        'subsample': trial.suggest_float('subsample', 0.01, 1.0),\n",
        "        'colsample_bytree': trial.suggest_float('colsample_bytree', 0.01, 1.0),\n",
        "        'reg_alpha': trial.suggest_float('reg_alpha', 0.01, 1.0),\n",
        "        'reg_lambda': trial.suggest_float('reg_lambda', 0.01, 1.0),\n",
        "        'random_state': trial.suggest_int('random_state', 1, 1000)\n",
        "    }\n",
        "    from sklearn.metrics import r2_score\n",
        "    from sklearn.pipeline import Pipeline\n",
        "    from sklearn.linear_model import Ridge\n",
        "    import xgboost as xgb\n",
        "    from sklearn.impute import SimpleImputer\n",
        "    from sklearn.model_selection import GridSearchCV, train_test_split, KFold\n",
        "    from sklearn.preprocessing import OneHotEncoder, StandardScaler\n",
        "    from sklearn.compose import ColumnTransformer\n",
        "    import numpy as np\n",
        "\n",
        "#Specify the independent variables and target variable from the dataframe\n",
        "    X=data.loc[:,~data.columns.isin(['price'])]\n",
        "    y=data['price']\n",
        "\n",
        "#Lists of the numeric and categorical features\n",
        "    categorical_features = ['airline', 'flight', 'source_city', 'departure_time',\n",
        "        'stops', 'arrival_time', 'destination_city','class','days_left']\n",
        "\n",
        "\n",
        "# numerical features\n",
        "    numeric_features= ['duration']\n",
        "\n",
        "#Pipeline for preprocessing the numeric data\n",
        "    numerical_transformer =  Pipeline(steps=[('imp_num',\n",
        "                                          SimpleImputer(strategy='median')),\n",
        "                                         ('sc',StandardScaler())])\n",
        "\n",
        "# Pipeline for preprocessing the categorical data\n",
        "    categorical_transformer=Pipeline(steps=[('imp_cat',\n",
        "                                         SimpleImputer(strategy='most_frequent')),\n",
        "                                        ('onehot',\n",
        "                                         OneHotEncoder(handle_unknown = 'ignore'))])\n",
        "\n",
        "# Preprocessor\n",
        "    preprocessor = ColumnTransformer(transformers=[('num',numerical_transformer,\n",
        "                                                numeric_features),\n",
        "                                               ('cat', categorical_transformer,\n",
        "                                                categorical_features)])\n",
        "\n",
        "    X_train, X_test, y_train, y_test = train_test_split(X,y,test_size=0.3,\n",
        "                                                    random_state=27)\n",
        "\n",
        "# Split the data in training and test sets.\n",
        "# Although we will perform GridSearh with cross-validation\n",
        "    pipe_xgb=Pipeline(steps=[('preprocess', preprocessor),\n",
        "                     ('xgb',xgb.XGBRegressor(**param,seed=123))])\n",
        "    pipe_xgb.fit(X_train, y_train)\n",
        "    y_pred = pipe_xgb.predict(X_test)\n",
        "    return r2_score(y_test, y_pred)\n",
        "\n",
        "\n"
      ],
      "metadata": {
        "id": "uoUWLrSgEyPs"
      },
      "execution_count": 5,
      "outputs": []
    },
    {
      "cell_type": "code",
      "source": [
        "import optuna\n",
        "study = optuna.create_study(direction='maximize', study_name='regression')\n",
        "study.optimize(objective, n_trials=4)"
      ],
      "metadata": {
        "colab": {
          "base_uri": "https://localhost:8080/"
        },
        "id": "H5mLyrjYajGN",
        "outputId": "9941e7f5-9c4c-4dc6-af30-98b42dcaac4a"
      },
      "execution_count": 6,
      "outputs": [
        {
          "output_type": "stream",
          "name": "stderr",
          "text": [
            "[I 2023-07-16 21:18:54,206] A new study created in memory with name: regression\n",
            "[I 2023-07-16 21:19:21,707] Trial 0 finished with value: 0.9659560570695426 and parameters: {'max_depth': 2, 'learning_rate': 0.6675822424218378, 'n_estimators': 365, 'min_child_weight': 3, 'gamma': 0.9450149030377069, 'subsample': 0.11695639558812533, 'colsample_bytree': 0.7385922350941926, 'reg_alpha': 0.6906082560230461, 'reg_lambda': 0.28357924690209596, 'random_state': 425}. Best is trial 0 with value: 0.9659560570695426.\n",
            "[I 2023-07-16 21:22:04,172] Trial 1 finished with value: 0.9869813388912807 and parameters: {'max_depth': 5, 'learning_rate': 0.8935411856709311, 'n_estimators': 921, 'min_child_weight': 9, 'gamma': 0.28949884141023713, 'subsample': 0.7870588986901805, 'colsample_bytree': 0.9131925556604538, 'reg_alpha': 0.17931551520285063, 'reg_lambda': 0.21906673644264937, 'random_state': 715}. Best is trial 1 with value: 0.9869813388912807.\n",
            "[I 2023-07-16 21:23:12,090] Trial 2 finished with value: 0.963052880088441 and parameters: {'max_depth': 9, 'learning_rate': 0.7744550805664515, 'n_estimators': 704, 'min_child_weight': 3, 'gamma': 0.19282638025783094, 'subsample': 0.6079232744634198, 'colsample_bytree': 0.02595806696397468, 'reg_alpha': 0.1229818758603359, 'reg_lambda': 0.735481867361978, 'random_state': 971}. Best is trial 1 with value: 0.9869813388912807.\n",
            "[I 2023-07-16 21:25:56,163] Trial 3 finished with value: 0.9877494317764761 and parameters: {'max_depth': 7, 'learning_rate': 0.8175001306595665, 'n_estimators': 860, 'min_child_weight': 3, 'gamma': 0.2413895584937705, 'subsample': 0.49232016984239596, 'colsample_bytree': 0.6645017605869546, 'reg_alpha': 0.04499593228587704, 'reg_lambda': 0.38807719841527816, 'random_state': 189}. Best is trial 3 with value: 0.9877494317764761.\n"
          ]
        }
      ]
    },
    {
      "cell_type": "code",
      "source": [
        "print(f\"The features for a XGB regressor to obtain the best model, with a r2 score of 0.98, are: {study.best_params}\")"
      ],
      "metadata": {
        "id": "erp1nkgrbD5F",
        "colab": {
          "base_uri": "https://localhost:8080/"
        },
        "outputId": "92f8bee7-0246-42a7-d6e8-94cd4d30456a"
      },
      "execution_count": 8,
      "outputs": [
        {
          "output_type": "stream",
          "name": "stdout",
          "text": [
            "The features for a XGB regressor to obtain the best model, with a r2 score of 0.98, are: {'max_depth': 7, 'learning_rate': 0.8175001306595665, 'n_estimators': 860, 'min_child_weight': 3, 'gamma': 0.2413895584937705, 'subsample': 0.49232016984239596, 'colsample_bytree': 0.6645017605869546, 'reg_alpha': 0.04499593228587704, 'reg_lambda': 0.38807719841527816, 'random_state': 189}\n"
          ]
        }
      ]
    }
  ]
}